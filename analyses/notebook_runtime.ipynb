{
 "cells": [
  {
   "cell_type": "code",
   "execution_count": null,
   "metadata": {},
   "outputs": [],
   "source": [
    "import pandas as pd\n",
    "import datetime\n",
    "import seaborn as sb\n",
    "import time\n",
    "#from ipywidgets import interact, fixed\n",
    "from libs.CovidTimeseriesModel import CovidTimeseriesModel \n",
    "from libs.CovidTimeseriesModelSIR import CovidTimeseriesModelSIR\n",
    "from libs.CovidDatasets import JHUDataset, CDSDataset\n",
    "pd.set_option('display.float_format', lambda x: '%.2f' % x)"
   ]
  },
  {
   "cell_type": "code",
   "execution_count": null,
   "metadata": {},
   "outputs": [],
   "source": [
    "%load_ext autoreload\n",
    "%autoreload 2"
   ]
  },
  {
   "cell_type": "code",
   "execution_count": null,
   "metadata": {},
   "outputs": [],
   "source": [
    "Dataset = CDSDataset()\n",
    "\n",
    "def model_state(country, state, interventions=None):\n",
    "   \n",
    "    ## Constants\n",
    "    start_time = time.time()\n",
    "    HOSPITALIZATION_RATE = .0727\n",
    "    HOSPITALIZED_CASES_REQUIRING_ICU_CARE = .1397\n",
    "    TOTAL_INFECTED_PERIOD = 12\n",
    "    MODEL_INTERVAL = 4\n",
    "    r0 = 2.4\n",
    "    POP = Dataset.get_population_by_country_state(country, state)\n",
    "    # Pack all of the assumptions and parameters into a dict that can be passed into the model\n",
    "    MODEL_PARAMETERS = {\n",
    "        # Pack the changeable model parameters\n",
    "        'timeseries': Dataset.get_timeseries_by_country_state(country, state, MODEL_INTERVAL),\n",
    "        'beds': Dataset.get_beds_by_country_state(country, state),\n",
    "        'population': POP,\n",
    "        'projection_iterations': 25, # Number of iterations into the future to project\n",
    "        'r0': r0,\n",
    "        'interventions': interventions,\n",
    "        'hospitalization_rate': HOSPITALIZATION_RATE,\n",
    "        'case_fatality_rate': .0109341104294479,\n",
    "        'hospitalized_cases_requiring_icu_care': HOSPITALIZED_CASES_REQUIRING_ICU_CARE,\n",
    "        # Assumes that anyone who needs ICU care and doesn't get it dies\n",
    "        'case_fatality_rate_hospitals_overwhelmed': HOSPITALIZATION_RATE * HOSPITALIZED_CASES_REQUIRING_ICU_CARE,\n",
    "        'hospital_capacity_change_daily_rate': 1.05,\n",
    "        'max_hospital_capacity_factor': 2.07,\n",
    "        'initial_hospital_bed_utilization': .6,\n",
    "        'model_interval': 4, # In days\n",
    "        'total_infected_period': 12, # In days\n",
    "        'rolling_intervals_for_current_infected': int(round(TOTAL_INFECTED_PERIOD / MODEL_INTERVAL, 0)),\n",
    "        'estimated_new_cases_per_death': 32,\n",
    "        'estimated_new_cases_per_confirmed': 20,\n",
    "\n",
    "        # For new model\n",
    "        'incubation_period': 5, # In days\n",
    "        'duration_mild_infections': 10, # In days\n",
    "        'icu_time_death': 7, #Time from ICU admission to death, In days\n",
    "        'hospital_time_recovery': 11, #Duration of hospitalization, In days\n",
    "        'use_harvard': False, #If True use the harvard parameters directly, if not calculate off the above\n",
    "    }\n",
    "    return CovidTimeseriesModelSIR().forecast_region(model_parameters=MODEL_PARAMETERS)\n",
    "\n",
    "r0 = 2.4\n",
    "\n",
    "INTERVENTIONS = [\n",
    "    None, \n",
    "    {\n",
    "        datetime.date(2020, 3, 23): 1.3,\n",
    "        datetime.date(2020, 4, 20): 1.1,\n",
    "        datetime.date(2020, 5, 22): 0.8,\n",
    "        datetime.date(2020, 6, 23): r0\n",
    "    },\n",
    "    {\n",
    "        datetime.date(2020, 3, 23): 1.7,\n",
    "        datetime.date(2020, 6, 23): r0\n",
    "    },\n",
    "    {\n",
    "        datetime.date(2020, 3, 23): 1.3,\n",
    "        datetime.date(2020, 3, 31): 0.3,\n",
    "        datetime.date(2020, 4, 28): 0.2,\n",
    "        datetime.date(2020, 5,  6): 0.1,\n",
    "        datetime.date(2020, 5, 10): 0.35,\n",
    "        datetime.date(2020, 5, 18): r0\n",
    "    }\n",
    "]"
   ]
  },
  {
   "cell_type": "code",
   "execution_count": null,
   "metadata": {},
   "outputs": [],
   "source": [
    "# Dataset.get_timeseries_by_country_state('USA', 'CA', 1)[['date','cases','deaths']]"
   ]
  },
  {
   "cell_type": "code",
   "execution_count": null,
   "metadata": {},
   "outputs": [],
   "source": [
    "model_state('USA', 'TX', INTERVENTIONS[0])"
   ]
  }
 ],
 "metadata": {
  "kernelspec": {
   "display_name": "Python 3",
   "language": "python",
   "name": "python3"
  },
  "language_info": {
   "codemirror_mode": {
    "name": "ipython",
    "version": 3
   },
   "file_extension": ".py",
   "mimetype": "text/x-python",
   "name": "python",
   "nbconvert_exporter": "python",
   "pygments_lexer": "ipython3",
   "version": "3.7.6"
  }
 },
 "nbformat": 4,
 "nbformat_minor": 4
}
