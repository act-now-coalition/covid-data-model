{
 "nbformat": 4,
 "nbformat_minor": 2,
 "metadata": {
  "language_info": {
   "name": "python",
   "codemirror_mode": {
    "name": "ipython",
    "version": 3
   },
   "version": "3.7.7-final"
  },
  "orig_nbformat": 2,
  "file_extension": ".py",
  "mimetype": "text/x-python",
  "name": "python",
  "npconvert_exporter": "python",
  "pygments_lexer": "ipython3",
  "version": 3,
  "kernelspec": {
   "name": "python37764bitcoviddatamodelvenv2698afe2787e4efdb8b8c4861ad9c05f",
   "display_name": "Python 3.7.7 64-bit ('covid-data-model': venv)"
  }
 },
 "cells": [
  {
   "cell_type": "code",
   "execution_count": 1,
   "metadata": {},
   "outputs": [],
   "source": [
    "import pandas as pd\n",
    "import numpy as np\n",
    "import requests\n",
    "import datetime\n",
    "import pprint\n",
    "from libs.us_state_abbrev import us_state_abbrev, us_fips\n",
    ""
   ]
  },
  {
   "cell_type": "code",
   "execution_count": 3,
   "metadata": {},
   "outputs": [],
   "source": [
    "from libs.build_dod_dataset import get_projections_df"
   ]
  },
  {
   "cell_type": "code",
   "execution_count": 4,
   "metadata": {},
   "outputs": [],
   "source": [
    "days_out = '2020-04-19 23:45:44.863057'"
   ]
  },
  {
   "cell_type": "code",
   "execution_count": 5,
   "metadata": {},
   "outputs": [],
   "source": [
    "import datetime"
   ]
  },
  {
   "cell_type": "code",
   "execution_count": 6,
   "metadata": {},
   "outputs": [],
   "source": [
    "today = datetime.datetime.now()\n",
    "do = today + datetime.timedelta(days=16)"
   ]
  },
  {
   "cell_type": "code",
   "execution_count": 8,
   "metadata": {},
   "outputs": [],
   "source": [
    "from libs.build_dod_dataset import get_hospitals_and_shortfalls, read_json_as_df, all_cols, get_county_projections"
   ]
  },
  {
   "cell_type": "code",
   "execution_count": 173,
   "metadata": {},
   "outputs": [
    {
     "output_type": "stream",
     "name": "stdout",
     "text": "1.35 s ± 110 ms per loop (mean ± std. dev. of 7 runs, 1 loop each)\n"
    }
   ],
   "source": [
    "%%timeit \n",
    "get_projections_df()"
   ]
  },
  {
   "cell_type": "code",
   "execution_count": 287,
   "metadata": {},
   "outputs": [
    {
     "output_type": "stream",
     "name": "stdout",
     "text": "562 ms ± 10.3 ms per loop (mean ± std. dev. of 7 runs, 1 loop each)\n"
    }
   ],
   "source": [
    "%%timeit\n",
    "get_projections_df()"
   ]
  },
  {
   "cell_type": "code",
   "execution_count": 186,
   "metadata": {},
   "outputs": [
    {
     "output_type": "stream",
     "name": "stdout",
     "text": "20.5 ms ± 385 µs per loop (mean ± std. dev. of 7 runs, 100 loops each)\n"
    }
   ],
   "source": [
    "%%timeit \n",
    "get_projections_df()"
   ]
  },
  {
   "cell_type": "code",
   "execution_count": 128,
   "metadata": {},
   "outputs": [
    {
     "output_type": "stream",
     "name": "stdout",
     "text": "722 ms ± 13.8 ms per loop (mean ± std. dev. of 7 runs, 1 loop each)\n"
    }
   ],
   "source": [
    "%%timeit \n",
    "get_projections_df()"
   ]
  },
  {
   "cell_type": "code",
   "execution_count": 129,
   "metadata": {},
   "outputs": [
    {
     "output_type": "stream",
     "name": "stdout",
     "text": "624 ms ± 28.5 ms per loop (mean ± std. dev. of 7 runs, 1 loop each)\n"
    }
   ],
   "source": [
    "%%timeit \n",
    "get_projections_df()"
   ]
  },
  {
   "cell_type": "code",
   "execution_count": 94,
   "metadata": {},
   "outputs": [
    {
     "output_type": "stream",
     "name": "stdout",
     "text": "5.92 ms ± 157 µs per loop (mean ± std. dev. of 7 runs, 100 loops each)\n"
    }
   ],
   "source": [
    "%%timeit\n",
    "l = read_json_as_df('results/test/AL.0.json')"
   ]
  },
  {
   "cell_type": "code",
   "execution_count": 96,
   "metadata": {},
   "outputs": [
    {
     "output_type": "error",
     "ename": "ValueError",
     "evalue": "Length mismatch: Expected axis has 3740 elements, new values have 20 elements",
     "traceback": [
      "\u001b[0;31m---------------------------------------------------------------------------\u001b[0m",
      "\u001b[0;31mValueError\u001b[0m                                Traceback (most recent call last)",
      "\u001b[0;32m<ipython-input-96-71cab5e06e70>\u001b[0m in \u001b[0;36m<module>\u001b[0;34m\u001b[0m\n\u001b[0;32m----> 1\u001b[0;31m \u001b[0mdf\u001b[0m \u001b[0;34m=\u001b[0m \u001b[0mread_json_as_df\u001b[0m\u001b[0;34m(\u001b[0m\u001b[0;34m'results/test/AL.0.json'\u001b[0m\u001b[0;34m)\u001b[0m\u001b[0;34m\u001b[0m\u001b[0;34m\u001b[0m\u001b[0m\n\u001b[0m\u001b[1;32m      2\u001b[0m \u001b[0mdf\u001b[0m\u001b[0;34m\u001b[0m\u001b[0;34m\u001b[0m\u001b[0m\n",
      "\u001b[0;32m~/projects/covidactnow/covid-data-model/libs/build_dod_dataset.py\u001b[0m in \u001b[0;36mread_json_as_df\u001b[0;34m(path)\u001b[0m\n\u001b[1;32m     77\u001b[0m \u001b[0;34m\u001b[0m\u001b[0m\n\u001b[1;32m     78\u001b[0m     \u001b[0;31m#    columns=all_cols, dtype='int8')\u001b[0m\u001b[0;34m\u001b[0m\u001b[0;34m\u001b[0m\u001b[0;34m\u001b[0m\u001b[0m\n\u001b[0;32m---> 79\u001b[0;31m     \u001b[0mdf\u001b[0m\u001b[0;34m.\u001b[0m\u001b[0mcolumns\u001b[0m \u001b[0;34m=\u001b[0m \u001b[0mall_cols\u001b[0m\u001b[0;34m\u001b[0m\u001b[0;34m\u001b[0m\u001b[0m\n\u001b[0m\u001b[1;32m     80\u001b[0m     \u001b[0mdf\u001b[0m\u001b[0;34m[\u001b[0m\u001b[0;34m'date'\u001b[0m\u001b[0;34m]\u001b[0m \u001b[0;34m=\u001b[0m \u001b[0mpd\u001b[0m\u001b[0;34m.\u001b[0m\u001b[0mto_datetime\u001b[0m\u001b[0;34m(\u001b[0m\u001b[0mdf\u001b[0m\u001b[0;34m.\u001b[0m\u001b[0mdate\u001b[0m\u001b[0;34m)\u001b[0m\u001b[0;34m\u001b[0m\u001b[0;34m\u001b[0m\u001b[0m\n\u001b[1;32m     81\u001b[0m     \u001b[0mdf\u001b[0m\u001b[0;34m[\u001b[0m\u001b[0;34m'all_hospitalized'\u001b[0m\u001b[0;34m]\u001b[0m \u001b[0;34m=\u001b[0m \u001b[0mdf\u001b[0m\u001b[0;34m[\u001b[0m\u001b[0;34m'all_hospitalized'\u001b[0m\u001b[0;34m]\u001b[0m\u001b[0;34m.\u001b[0m\u001b[0mastype\u001b[0m\u001b[0;34m(\u001b[0m\u001b[0;34m'int8'\u001b[0m\u001b[0;34m)\u001b[0m\u001b[0;34m\u001b[0m\u001b[0;34m\u001b[0m\u001b[0m\n",
      "\u001b[0;32m~/.pyenv/versions/covid-data-model/lib/python3.7/site-packages/pandas/core/generic.py\u001b[0m in \u001b[0;36m__setattr__\u001b[0;34m(self, name, value)\u001b[0m\n\u001b[1;32m   5285\u001b[0m         \u001b[0;32mtry\u001b[0m\u001b[0;34m:\u001b[0m\u001b[0;34m\u001b[0m\u001b[0;34m\u001b[0m\u001b[0m\n\u001b[1;32m   5286\u001b[0m             \u001b[0mobject\u001b[0m\u001b[0;34m.\u001b[0m\u001b[0m__getattribute__\u001b[0m\u001b[0;34m(\u001b[0m\u001b[0mself\u001b[0m\u001b[0;34m,\u001b[0m \u001b[0mname\u001b[0m\u001b[0;34m)\u001b[0m\u001b[0;34m\u001b[0m\u001b[0;34m\u001b[0m\u001b[0m\n\u001b[0;32m-> 5287\u001b[0;31m             \u001b[0;32mreturn\u001b[0m \u001b[0mobject\u001b[0m\u001b[0;34m.\u001b[0m\u001b[0m__setattr__\u001b[0m\u001b[0;34m(\u001b[0m\u001b[0mself\u001b[0m\u001b[0;34m,\u001b[0m \u001b[0mname\u001b[0m\u001b[0;34m,\u001b[0m \u001b[0mvalue\u001b[0m\u001b[0;34m)\u001b[0m\u001b[0;34m\u001b[0m\u001b[0;34m\u001b[0m\u001b[0m\n\u001b[0m\u001b[1;32m   5288\u001b[0m         \u001b[0;32mexcept\u001b[0m \u001b[0mAttributeError\u001b[0m\u001b[0;34m:\u001b[0m\u001b[0;34m\u001b[0m\u001b[0;34m\u001b[0m\u001b[0m\n\u001b[1;32m   5289\u001b[0m             \u001b[0;32mpass\u001b[0m\u001b[0;34m\u001b[0m\u001b[0;34m\u001b[0m\u001b[0m\n",
      "\u001b[0;32mpandas/_libs/properties.pyx\u001b[0m in \u001b[0;36mpandas._libs.properties.AxisProperty.__set__\u001b[0;34m()\u001b[0m\n",
      "\u001b[0;32m~/.pyenv/versions/covid-data-model/lib/python3.7/site-packages/pandas/core/generic.py\u001b[0m in \u001b[0;36m_set_axis\u001b[0;34m(self, axis, labels)\u001b[0m\n\u001b[1;32m    659\u001b[0m \u001b[0;34m\u001b[0m\u001b[0m\n\u001b[1;32m    660\u001b[0m     \u001b[0;32mdef\u001b[0m \u001b[0m_set_axis\u001b[0m\u001b[0;34m(\u001b[0m\u001b[0mself\u001b[0m\u001b[0;34m,\u001b[0m \u001b[0maxis\u001b[0m\u001b[0;34m,\u001b[0m \u001b[0mlabels\u001b[0m\u001b[0;34m)\u001b[0m \u001b[0;34m->\u001b[0m \u001b[0;32mNone\u001b[0m\u001b[0;34m:\u001b[0m\u001b[0;34m\u001b[0m\u001b[0;34m\u001b[0m\u001b[0m\n\u001b[0;32m--> 661\u001b[0;31m         \u001b[0mself\u001b[0m\u001b[0;34m.\u001b[0m\u001b[0m_data\u001b[0m\u001b[0;34m.\u001b[0m\u001b[0mset_axis\u001b[0m\u001b[0;34m(\u001b[0m\u001b[0maxis\u001b[0m\u001b[0;34m,\u001b[0m \u001b[0mlabels\u001b[0m\u001b[0;34m)\u001b[0m\u001b[0;34m\u001b[0m\u001b[0;34m\u001b[0m\u001b[0m\n\u001b[0m\u001b[1;32m    662\u001b[0m         \u001b[0mself\u001b[0m\u001b[0;34m.\u001b[0m\u001b[0m_clear_item_cache\u001b[0m\u001b[0;34m(\u001b[0m\u001b[0;34m)\u001b[0m\u001b[0;34m\u001b[0m\u001b[0;34m\u001b[0m\u001b[0m\n\u001b[1;32m    663\u001b[0m \u001b[0;34m\u001b[0m\u001b[0m\n",
      "\u001b[0;32m~/.pyenv/versions/covid-data-model/lib/python3.7/site-packages/pandas/core/internals/managers.py\u001b[0m in \u001b[0;36mset_axis\u001b[0;34m(self, axis, new_labels)\u001b[0m\n\u001b[1;32m    176\u001b[0m         \u001b[0;32mif\u001b[0m \u001b[0mnew_len\u001b[0m \u001b[0;34m!=\u001b[0m \u001b[0mold_len\u001b[0m\u001b[0;34m:\u001b[0m\u001b[0;34m\u001b[0m\u001b[0;34m\u001b[0m\u001b[0m\n\u001b[1;32m    177\u001b[0m             raise ValueError(\n\u001b[0;32m--> 178\u001b[0;31m                 \u001b[0;34mf\"Length mismatch: Expected axis has {old_len} elements, new \"\u001b[0m\u001b[0;34m\u001b[0m\u001b[0;34m\u001b[0m\u001b[0m\n\u001b[0m\u001b[1;32m    179\u001b[0m                 \u001b[0;34mf\"values have {new_len} elements\"\u001b[0m\u001b[0;34m\u001b[0m\u001b[0;34m\u001b[0m\u001b[0m\n\u001b[1;32m    180\u001b[0m             )\n",
      "\u001b[0;31mValueError\u001b[0m: Length mismatch: Expected axis has 3740 elements, new values have 20 elements"
     ]
    }
   ],
   "source": [
    "df = read_json_as_df('results/test/AL.0.json')\n",
    "df"
   ]
  },
  {
   "cell_type": "code",
   "execution_count": 133,
   "metadata": {},
   "outputs": [
    {
     "output_type": "stream",
     "name": "stderr",
     "text": "Did not match 46 codes to county data.\n['00066', '00072', '00078', '60000', '66000', '69000', '78000', '80008', '88888', '90001', '90002', '90004', '90005', '90006', '90008', '90009', '90010', '90012', '90013', '90015', '90016', '90017', '90019', '90021', '90023', '90024', '90025', '90027', '90029', '90030', '90031', '90032', '90033', '90034', '90035', '90036', '90038', '90040', '90044', '90046', '90047', '90050', '90051', '90053', '90054', '90055']\nModels missing for 1314 states\nDid not match 46 codes to county data.\n['00066', '00072', '00078', '60000', '66000', '69000', '78000', '80008', '88888', '90001', '90002', '90004', '90005', '90006', '90008', '90009', '90010', '90012', '90013', '90015', '90016', '90017', '90019', '90021', '90023', '90024', '90025', '90027', '90029', '90030', '90031', '90032', '90033', '90034', '90035', '90036', '90038', '90040', '90044', '90046', '90047', '90050', '90051', '90053', '90054', '90055']\nModels missing for 1314 states\nDid not match 46 codes to county data.\n['00066', '00072', '00078', '60000', '66000', '69000', '78000', '80008', '88888', '90001', '90002', '90004', '90005', '90006', '90008', '90009', '90010', '90012', '90013', '90015', '90016', '90017', '90019', '90021', '90023', '90024', '90025', '90027', '90029', '90030', '90031', '90032', '90033', '90034', '90035', '90036', '90038', '90040', '90044', '90046', '90047', '90050', '90051', '90053', '90054', '90055']\nModels missing for 1314 states\nDid not match 46 codes to county data.\n['00066', '00072', '00078', '60000', '66000', '69000', '78000', '80008', '88888', '90001', '90002', '90004', '90005', '90006', '90008', '90009', '90010', '90012', '90013', '90015', '90016', '90017', '90019', '90021', '90023', '90024', '90025', '90027', '90029', '90030', '90031', '90032', '90033', '90034', '90035', '90036', '90038', '90040', '90044', '90046', '90047', '90050', '90051', '90053', '90054', '90055']\nModels missing for 1314 states\nDid not match 46 codes to county data.\n['00066', '00072', '00078', '60000', '66000', '69000', '78000', '80008', '88888', '90001', '90002', '90004', '90005', '90006', '90008', '90009', '90010', '90012', '90013', '90015', '90016', '90017', '90019', '90021', '90023', '90024', '90025', '90027', '90029', '90030', '90031', '90032', '90033', '90034', '90035', '90036', '90038', '90040', '90044', '90046', '90047', '90050', '90051', '90053', '90054', '90055']\nModels missing for 1314 states\nDid not match 46 codes to county data.\n['00066', '00072', '00078', '60000', '66000', '69000', '78000', '80008', '88888', '90001', '90002', '90004', '90005', '90006', '90008', '90009', '90010', '90012', '90013', '90015', '90016', '90017', '90019', '90021', '90023', '90024', '90025', '90027', '90029', '90030', '90031', '90032', '90033', '90034', '90035', '90036', '90038', '90040', '90044', '90046', '90047', '90050', '90051', '90053', '90054', '90055']\nModels missing for 1314 states\nDid not match 46 codes to county data.\n['00066', '00072', '00078', '60000', '66000', '69000', '78000', '80008', '88888', '90001', '90002', '90004', '90005', '90006', '90008', '90009', '90010', '90012', '90013', '90015', '90016', '90017', '90019', '90021', '90023', '90024', '90025', '90027', '90029', '90030', '90031', '90032', '90033', '90034', '90035', '90036', '90038', '90040', '90044', '90046', '90047', '90050', '90051', '90053', '90054', '90055']\nModels missing for 1314 states\nDid not match 46 codes to county data.\n['00066', '00072', '00078', '60000', '66000', '69000', '78000', '80008', '88888', '90001', '90002', '90004', '90005', '90006', '90008', '90009', '90010', '90012', '90013', '90015', '90016', '90017', '90019', '90021', '90023', '90024', '90025', '90027', '90029', '90030', '90031', '90032', '90033', '90034', '90035', '90036', '90038', '90040', '90044', '90046', '90047', '90050', '90051', '90053', '90054', '90055']\nModels missing for 1314 states\n26.6 s ± 306 ms per loop (mean ± std. dev. of 7 runs, 1 loop each)\n"
    }
   ],
   "source": [
    "%%timeit\n",
    "get_county_projections()"
   ]
  },
  {
   "cell_type": "code",
   "execution_count": 163,
   "metadata": {},
   "outputs": [
    {
     "output_type": "stream",
     "name": "stdout",
     "text": "results/county/NY.36001.0.json\nresults/county/NY.36003.0.json\nresults/county/NY.36007.0.json\nresults/county/NY.36009.0.json\nresults/county/NY.36011.0.json\nresults/county/NY.36013.0.json\nresults/county/NY.36015.0.json\nresults/county/NY.36017.0.json\nresults/county/NY.36019.0.json\nresults/county/NY.36021.0.json\nresults/county/NY.36023.0.json\nresults/county/NY.36025.0.json\nresults/county/NY.36027.0.json\nresults/county/NY.36029.0.json\nresults/county/NY.36031.0.json\nresults/county/NY.36033.0.json\nresults/county/NY.36035.0.json\nresults/county/NY.36037.0.json\nresults/county/NY.36043.0.json\nresults/county/NY.36045.0.json\nresults/county/NY.36049.0.json\nresults/county/NY.36051.0.json\nresults/county/NY.36053.0.json\nresults/county/NY.36055.0.json\nresults/county/NY.36057.0.json\nresults/county/NY.36059.0.json\nresults/county/NY.36061.0.json\nresults/county/NY.36063.0.json\nresults/county/NY.36065.0.json\nresults/county/NY.36067.0.json\nresults/county/NY.36069.0.json\nresults/county/NY.36071.0.json\nresults/county/NY.36073.0.json\nresults/county/NY.36075.0.json\nresults/county/NY.36077.0.json\nresults/county/NY.36079.0.json\nresults/county/NY.36083.0.json\nresults/county/NY.36087.0.json\nresults/county/NY.36089.0.json\nresults/county/NY.36091.0.json\nresults/county/NY.36093.0.json\nresults/county/NY.36095.0.json\nresults/county/NY.36097.0.json\nresults/county/NY.36101.0.json\nresults/county/NY.36103.0.json\nresults/county/NY.36105.0.json\nresults/county/NY.36109.0.json\nresults/county/NY.36111.0.json\nresults/county/NY.36113.0.json\nresults/county/NY.36117.0.json\nresults/county/NY.36119.0.json\nresults/county/NY.36121.0.json\nresults/county/NY.36123.0.json\nModels missing for 3219 states\n"
    },
    {
     "output_type": "execute_result",
     "data": {
      "text/plain": "  State   FIPS  16-day_Hospitalization_Prediction  \\\n0    NY  36001                                -26   \n1    NY  36003                                 92   \n2    NY  36007                                105   \n3    NY  36009                                 71   \n4    NY  36011                                 35   \n\n   32-day_Hospitalization_Prediction  16-day_Beds_Shortfall  \\\n0                                 16                      0   \n1                                -55                     35   \n2                                 93                      0   \n3                               -119                    112   \n4                                102                      0   \n\n   32-day_Beds_Shortfall  Mean Hospitalizations  Mean Deaths  \\\n0                      0                  -12.0    -3.230769   \n1                      0                   24.0    -1.038462   \n2                      0                   22.0    -1.730769   \n3                      0                    2.0     1.000000   \n4                     21                    3.0     0.923077   \n\n  Peak Hospitalizations On Mean Deaths On  \n0               2020-06-22     2020-06-22  \n1               2020-06-10     2020-06-02  \n2               2020-04-23     2020-06-18  \n3               2020-06-02     2020-05-25  \n4               2020-05-09     2020-05-17  ",
      "text/html": "<div>\n<style scoped>\n    .dataframe tbody tr th:only-of-type {\n        vertical-align: middle;\n    }\n\n    .dataframe tbody tr th {\n        vertical-align: top;\n    }\n\n    .dataframe thead th {\n        text-align: right;\n    }\n</style>\n<table border=\"1\" class=\"dataframe\">\n  <thead>\n    <tr style=\"text-align: right;\">\n      <th></th>\n      <th>State</th>\n      <th>FIPS</th>\n      <th>16-day_Hospitalization_Prediction</th>\n      <th>32-day_Hospitalization_Prediction</th>\n      <th>16-day_Beds_Shortfall</th>\n      <th>32-day_Beds_Shortfall</th>\n      <th>Mean Hospitalizations</th>\n      <th>Mean Deaths</th>\n      <th>Peak Hospitalizations On</th>\n      <th>Mean Deaths On</th>\n    </tr>\n  </thead>\n  <tbody>\n    <tr>\n      <th>0</th>\n      <td>NY</td>\n      <td>36001</td>\n      <td>-26</td>\n      <td>16</td>\n      <td>0</td>\n      <td>0</td>\n      <td>-12.0</td>\n      <td>-3.230769</td>\n      <td>2020-06-22</td>\n      <td>2020-06-22</td>\n    </tr>\n    <tr>\n      <th>1</th>\n      <td>NY</td>\n      <td>36003</td>\n      <td>92</td>\n      <td>-55</td>\n      <td>35</td>\n      <td>0</td>\n      <td>24.0</td>\n      <td>-1.038462</td>\n      <td>2020-06-10</td>\n      <td>2020-06-02</td>\n    </tr>\n    <tr>\n      <th>2</th>\n      <td>NY</td>\n      <td>36007</td>\n      <td>105</td>\n      <td>93</td>\n      <td>0</td>\n      <td>0</td>\n      <td>22.0</td>\n      <td>-1.730769</td>\n      <td>2020-04-23</td>\n      <td>2020-06-18</td>\n    </tr>\n    <tr>\n      <th>3</th>\n      <td>NY</td>\n      <td>36009</td>\n      <td>71</td>\n      <td>-119</td>\n      <td>112</td>\n      <td>0</td>\n      <td>2.0</td>\n      <td>1.000000</td>\n      <td>2020-06-02</td>\n      <td>2020-05-25</td>\n    </tr>\n    <tr>\n      <th>4</th>\n      <td>NY</td>\n      <td>36011</td>\n      <td>35</td>\n      <td>102</td>\n      <td>0</td>\n      <td>21</td>\n      <td>3.0</td>\n      <td>0.923077</td>\n      <td>2020-05-09</td>\n      <td>2020-05-17</td>\n    </tr>\n  </tbody>\n</table>\n</div>"
     },
     "metadata": {},
     "execution_count": 163
    }
   ],
   "source": [
    "get_county_projections().head()"
   ]
  },
  {
   "cell_type": "code",
   "execution_count": 154,
   "metadata": {},
   "outputs": [],
   "source": [
    "url = '/Users/fridiculous/projects/covidactnow/covid-data-model/libs/datasets/sources/fips_population.csv'\n",
    "d = pd.read_csv(url)\n",
    "d[['state', 'county', 'fips', 'population']].to_csv(url, index=False)"
   ]
  },
  {
   "cell_type": "code",
   "execution_count": 159,
   "metadata": {},
   "outputs": [
    {
     "output_type": "execute_result",
     "data": {
      "text/plain": "     state          county   fips  population aggregate_level country\n0       AL  Autauga County   1001     55869.0          county     USA\n1       AL  Baldwin County   1003    223234.0          county     USA\n2       AL  Barbour County   1005     24686.0          county     USA\n3       AL     Bibb County   1007     22394.0          county     USA\n4       AL   Blount County   1009     57826.0          county     USA\n...    ...             ...    ...         ...             ...     ...\n3267    WA         Unknown  99999         NaN          county     USA\n3268    WV         Unknown  99999         NaN          county     USA\n3269    WI         Unknown  99999         NaN          county     USA\n3270    WY         Unknown  99999         NaN          county     USA\n3271    PR         Unknown  99999         NaN          county     USA\n\n[3272 rows x 6 columns]",
      "text/html": "<div>\n<style scoped>\n    .dataframe tbody tr th:only-of-type {\n        vertical-align: middle;\n    }\n\n    .dataframe tbody tr th {\n        vertical-align: top;\n    }\n\n    .dataframe thead th {\n        text-align: right;\n    }\n</style>\n<table border=\"1\" class=\"dataframe\">\n  <thead>\n    <tr style=\"text-align: right;\">\n      <th></th>\n      <th>state</th>\n      <th>county</th>\n      <th>fips</th>\n      <th>population</th>\n      <th>aggregate_level</th>\n      <th>country</th>\n    </tr>\n  </thead>\n  <tbody>\n    <tr>\n      <th>0</th>\n      <td>AL</td>\n      <td>Autauga County</td>\n      <td>1001</td>\n      <td>55869.0</td>\n      <td>county</td>\n      <td>USA</td>\n    </tr>\n    <tr>\n      <th>1</th>\n      <td>AL</td>\n      <td>Baldwin County</td>\n      <td>1003</td>\n      <td>223234.0</td>\n      <td>county</td>\n      <td>USA</td>\n    </tr>\n    <tr>\n      <th>2</th>\n      <td>AL</td>\n      <td>Barbour County</td>\n      <td>1005</td>\n      <td>24686.0</td>\n      <td>county</td>\n      <td>USA</td>\n    </tr>\n    <tr>\n      <th>3</th>\n      <td>AL</td>\n      <td>Bibb County</td>\n      <td>1007</td>\n      <td>22394.0</td>\n      <td>county</td>\n      <td>USA</td>\n    </tr>\n    <tr>\n      <th>4</th>\n      <td>AL</td>\n      <td>Blount County</td>\n      <td>1009</td>\n      <td>57826.0</td>\n      <td>county</td>\n      <td>USA</td>\n    </tr>\n    <tr>\n      <th>...</th>\n      <td>...</td>\n      <td>...</td>\n      <td>...</td>\n      <td>...</td>\n      <td>...</td>\n      <td>...</td>\n    </tr>\n    <tr>\n      <th>3267</th>\n      <td>WA</td>\n      <td>Unknown</td>\n      <td>99999</td>\n      <td>NaN</td>\n      <td>county</td>\n      <td>USA</td>\n    </tr>\n    <tr>\n      <th>3268</th>\n      <td>WV</td>\n      <td>Unknown</td>\n      <td>99999</td>\n      <td>NaN</td>\n      <td>county</td>\n      <td>USA</td>\n    </tr>\n    <tr>\n      <th>3269</th>\n      <td>WI</td>\n      <td>Unknown</td>\n      <td>99999</td>\n      <td>NaN</td>\n      <td>county</td>\n      <td>USA</td>\n    </tr>\n    <tr>\n      <th>3270</th>\n      <td>WY</td>\n      <td>Unknown</td>\n      <td>99999</td>\n      <td>NaN</td>\n      <td>county</td>\n      <td>USA</td>\n    </tr>\n    <tr>\n      <th>3271</th>\n      <td>PR</td>\n      <td>Unknown</td>\n      <td>99999</td>\n      <td>NaN</td>\n      <td>county</td>\n      <td>USA</td>\n    </tr>\n  </tbody>\n</table>\n<p>3272 rows × 6 columns</p>\n</div>"
     },
     "metadata": {},
     "execution_count": 159
    }
   ],
   "source": [
    "pd.read_csv('fips_pd.csv')"
   ]
  },
  {
   "cell_type": "code",
   "execution_count": 162,
   "metadata": {},
   "outputs": [
    {
     "output_type": "execute_result",
     "data": {
      "text/plain": "  State   FIPS  16-day_Hospitalization_Prediction  \\\n0    NY  36001                                -26   \n1    NY  36003                                 92   \n2    NY  36007                                105   \n3    NY  36009                                 71   \n4    NY  36011                                 35   \n\n   32-day_Hospitalization_Prediction  16-day_Beds_Shortfall  \\\n0                                 16                      0   \n1                                -55                     35   \n2                                 93                      0   \n3                               -119                    112   \n4                                102                      0   \n\n   32-day_Beds_Shortfall  Mean Hospitalizations  Mean Deaths  \\\n0                      0                  -12.0    -3.230769   \n1                      0                   24.0    -1.038462   \n2                      0                   22.0    -1.730769   \n3                      0                    2.0     1.000000   \n4                     21                    3.0     0.923077   \n\n  Peak Hospitalizations On Mean Deaths On  \n0               2020-06-22     2020-06-22  \n1               2020-06-10     2020-06-02  \n2               2020-04-23     2020-06-18  \n3               2020-06-02     2020-05-25  \n4               2020-05-09     2020-05-17  ",
      "text/html": "<div>\n<style scoped>\n    .dataframe tbody tr th:only-of-type {\n        vertical-align: middle;\n    }\n\n    .dataframe tbody tr th {\n        vertical-align: top;\n    }\n\n    .dataframe thead th {\n        text-align: right;\n    }\n</style>\n<table border=\"1\" class=\"dataframe\">\n  <thead>\n    <tr style=\"text-align: right;\">\n      <th></th>\n      <th>State</th>\n      <th>FIPS</th>\n      <th>16-day_Hospitalization_Prediction</th>\n      <th>32-day_Hospitalization_Prediction</th>\n      <th>16-day_Beds_Shortfall</th>\n      <th>32-day_Beds_Shortfall</th>\n      <th>Mean Hospitalizations</th>\n      <th>Mean Deaths</th>\n      <th>Peak Hospitalizations On</th>\n      <th>Mean Deaths On</th>\n    </tr>\n  </thead>\n  <tbody>\n    <tr>\n      <th>0</th>\n      <td>NY</td>\n      <td>36001</td>\n      <td>-26</td>\n      <td>16</td>\n      <td>0</td>\n      <td>0</td>\n      <td>-12.0</td>\n      <td>-3.230769</td>\n      <td>2020-06-22</td>\n      <td>2020-06-22</td>\n    </tr>\n    <tr>\n      <th>1</th>\n      <td>NY</td>\n      <td>36003</td>\n      <td>92</td>\n      <td>-55</td>\n      <td>35</td>\n      <td>0</td>\n      <td>24.0</td>\n      <td>-1.038462</td>\n      <td>2020-06-10</td>\n      <td>2020-06-02</td>\n    </tr>\n    <tr>\n      <th>2</th>\n      <td>NY</td>\n      <td>36007</td>\n      <td>105</td>\n      <td>93</td>\n      <td>0</td>\n      <td>0</td>\n      <td>22.0</td>\n      <td>-1.730769</td>\n      <td>2020-04-23</td>\n      <td>2020-06-18</td>\n    </tr>\n    <tr>\n      <th>3</th>\n      <td>NY</td>\n      <td>36009</td>\n      <td>71</td>\n      <td>-119</td>\n      <td>112</td>\n      <td>0</td>\n      <td>2.0</td>\n      <td>1.000000</td>\n      <td>2020-06-02</td>\n      <td>2020-05-25</td>\n    </tr>\n    <tr>\n      <th>4</th>\n      <td>NY</td>\n      <td>36011</td>\n      <td>35</td>\n      <td>102</td>\n      <td>0</td>\n      <td>21</td>\n      <td>3.0</td>\n      <td>0.923077</td>\n      <td>2020-05-09</td>\n      <td>2020-05-17</td>\n    </tr>\n  </tbody>\n</table>\n</div>"
     },
     "metadata": {},
     "execution_count": 162
    }
   ],
   "source": [
    "pd.read_csv('deleteme.csv').head()"
   ]
  },
  {
   "cell_type": "code",
   "execution_count": 172,
   "metadata": {},
   "outputs": [],
   "source": [
    "def test_func(path):\n",
    "    results = []\n",
    "    df = read_json_as_df(path)\n",
    "    df['short_fall'] = df.apply(calc_short_fall, axis=1)\n",
    "\n",
    "    hosp_16_days, short_fall_16_days = get_hospitals_and_shortfalls(df, sixteen_days)\n",
    "    hosp_32_days, short_fall_32_days = get_hospitals_and_shortfalls(df, thirty_two_days)\n",
    "\n",
    "    df['new_deaths'] = df.dead - df.dead.shift(1)\n",
    "\n",
    "    mean_hospitalizations = df.all_hospitalized.mean().round(0)\n",
    "    mean_deaths = df.new_deaths.mean()\n",
    "\n",
    "    peak_hospitalizations_date = df.iloc[df.all_hospitalized.idxmax()].date\n",
    "    peak_deaths_date = df.iloc[df.dead.idxmax()].date\n",
    "\n",
    "    results.append([hosp_16_days, hosp_32_days, short_fall_16_days, short_fall_32_days,\n",
    "            mean_hospitalizations, mean_deaths, peak_hospitalizations_date, peak_deaths_date])\n",
    "    return results"
   ]
  },
  {
   "cell_type": "code",
   "execution_count": 197,
   "metadata": {},
   "outputs": [
    {
     "output_type": "stream",
     "name": "stdout",
     "text": "[[0, \"3/22/20\", 0.0, 0.0, 0.0, 0.0, 0.0, 0.0, 0.0, 2397.75, 32845.890410958906, \"63\", \"3752\", 0.0, 0.0, 0.0, 0.0, \"1628706\", 0.0, 0.0], [4, \"3/26/20\", 0.0, 0.0, 0.0, 0.0, 0.0, 0.0, 0.0, 5398.0, 73945.20547945207, \"281\", \"4561\", 0.0, 0.0, 0.0, 0.0, \"1628706\", 0.0, 0.0], [8, \"3/30/20\", 0.0, 0.0, 0.0, 0.0, 0.0, 0.0, 0.0, 9165.75, 125558.2191780822, \"790\", \"5544\", 0.0, 0.0, 0.0, 0.0, \"1628706\", 0.0, 0.0], [12, \"4/3/20\", 0.0, 0.0, 0.0, 0.0, 0.0, 0.0, 0.0, 13893.75, 190325.34246575343, \"1584\", \"6739\", 0.0, 0.0, 0.0, 0.0, \"1628706\", 0.0, 0.0], [16, \"4/7/20\", 0.0, 0.0, 0.0, 0.0, 0.0, 0.0, 0.0, \"19423\", \"371364\", \"2716\", \"7768\", 0.0, 0.0, 0.0, 0.0, \"1628706\", 0.0, 0.0], [20, \"4/11/20\", 0.0, 0.0, 0.0, 0.0, 0.0, 0.0, 0.0, \"26481\", \"483452\", \"4098\", \"7768\", 0.0, 0.0, 0.0, 0.0, \"1628706\", 0.0, 0.0], [24, \"4/15/20\", 0.0, 0.0, 0.0, 0.0, 0.0, 0.0, 0.0, \"32172\", \"482202\", \"5871\", \"7768\", 0.0, 0.0, 0.0, 0.0, \"1628706\", 0.0, 0.0], [28, \"4/19/20\", 0.0, 0.0, 0.0, 0.0, 0.0, 0.0, 0.0, \"33266\", \"392147\", \"8059\", \"7768\", 0.0, 0.0, 0.0, 0.0, \"1628706\", 0.0, 0.0], [32, \"4/23/20\", 0.0, 0.0, 0.0, 0.0, 0.0, 0.0, 0.0, \"30000\", \"279174\", \"10510\", \"7768\", 0.0, 0.0, 0.0, 0.0, \"1628706\", 0.0, 0.0], [36, \"4/27/20\", 0.0, 0.0, 0.0, 0.0, 0.0, 0.0, 0.0, \"24446\", \"183383\", \"12983\", \"7768\", 0.0, 0.0, 0.0, 0.0, \"1628706\", 0.0, 0.0], [40, \"5/1/20\", 0.0, 0.0, 0.0, 0.0, 0.0, 0.0, 0.0, \"18530\", \"114894\", \"15262\", \"7768\", 0.0, 0.0, 0.0, 0.0, \"1628706\", 0.0, 0.0], [44, \"5/5/20\", 0.0, 0.0, 0.0, 0.0, 0.0, 0.0, 0.0, \"13338\", \"70033\", \"17214\", \"7768\", 0.0, 0.0, 0.0, 0.0, \"1628706\", 0.0, 0.0], [48, \"5/9/20\", 0.0, 0.0, 0.0, 0.0, 0.0, 0.0, 0.0, \"9248\", \"42021\", \"18792\", \"7768\", 0.0, 0.0, 0.0, 0.0, \"1628706\", 0.0, 0.0], [52, \"5/13/20\", 0.0, 0.0, 0.0, 0.0, 0.0, 0.0, 0.0, \"6239\", \"24990\", \"20010\", \"7768\", 0.0, 0.0, 0.0, 0.0, \"1628706\", 0.0, 0.0], [56, \"5/17/20\", 0.0, 0.0, 0.0, 0.0, 0.0, 0.0, 0.0, \"4123\", \"14791\", \"20918\", \"7768\", 0.0, 0.0, 0.0, 0.0, \"1628706\", 0.0, 0.0], [60, \"5/21/20\", 0.0, 0.0, 0.0, 0.0, 0.0, 0.0, 0.0, \"2683\", \"8733\", \"21574\", \"7768\", 0.0, 0.0, 0.0, 0.0, \"1628706\", 0.0, 0.0], [64, \"5/25/20\", 0.0, 0.0, 0.0, 0.0, 0.0, 0.0, 0.0, \"1725\", \"5151\", \"22038\", \"7768\", 0.0, 0.0, 0.0, 0.0, \"1628706\", 0.0, 0.0], [68, \"5/29/20\", 0.0, 0.0, 0.0, 0.0, 0.0, 0.0, 0.0, \"1098\", \"3037\", \"22359\", \"7768\", 0.0, 0.0, 0.0, 0.0, \"1628706\", 0.0, 0.0], [72, \"6/2/20\", 0.0, 0.0, 0.0, 0.0, 0.0, 0.0, 0.0, \"694\", \"1792\", \"22577\", \"7768\", 0.0, 0.0, 0.0, 0.0, \"1628706\", 0.0, 0.0], [76, \"6/6/20\", 0.0, 0.0, 0.0, 0.0, 0.0, 0.0, 0.0, \"436\", \"1057\", \"22724\", \"7768\", 0.0, 0.0, 0.0, 0.0, \"1628706\", 0.0, 0.0], [80, \"6/10/20\", 0.0, 0.0, 0.0, 0.0, 0.0, 0.0, 0.0, \"272\", \"625\", \"22822\", \"7768\", 0.0, 0.0, 0.0, 0.0, \"1628706\", 0.0, 0.0], [84, \"6/14/20\", 0.0, 0.0, 0.0, 0.0, 0.0, 0.0, 0.0, \"169\", \"369\", \"22886\", \"7768\", 0.0, 0.0, 0.0, 0.0, \"1628706\", 0.0, 0.0], [88, \"6/18/20\", 0.0, 0.0, 0.0, 0.0, 0.0, 0.0, 0.0, \"105\", \"218\", \"22928\", \"7768\", 0.0, 0.0, 0.0, 0.0, \"1628706\", 0.0, 0.0], [92, \"6/22/20\", 0.0, 0.0, 0.0, 0.0, 0.0, 0.0, 0.0, \"65\", \"129\", \"22955\", \"7768\", 0.0, 0.0, 0.0, 0.0, \"1628706\", 0.0, 0.0], [96, \"6/26/20\", 0.0, 0.0, 0.0, 0.0, 0.0, 0.0, 0.0, \"40\", \"76\", \"22972\", \"7768\", 0.0, 0.0, 0.0, 0.0, \"1628706\", 0.0, 0.0], [100, \"6/30/20\", 0.0, 0.0, 0.0, 0.0, 0.0, 0.0, 0.0, \"24\", \"45\", \"22984\", \"7768\", 0.0, 0.0, 0.0, 0.0, \"1628706\", 0.0, 0.0], [104, \"7/4/20\", 0.0, 0.0, 0.0, 0.0, 0.0, 0.0, 0.0, \"15\", \"27\", \"22991\", \"7768\", 0.0, 0.0, 0.0, 0.0, \"1628706\", 0.0, 0.0]]"
    }
   ],
   "source": [
    "!cat results/county/NY.36061.0.json"
   ]
  },
  {
   "cell_type": "code",
   "execution_count": 217,
   "metadata": {},
   "outputs": [
    {
     "output_type": "error",
     "ename": "TypeError",
     "evalue": "from_records() got an unexpected keyword argument 'dtype'",
     "traceback": [
      "\u001b[0;31m---------------------------------------------------------------------------\u001b[0m",
      "\u001b[0;31mTypeError\u001b[0m                                 Traceback (most recent call last)",
      "\u001b[0;32m<ipython-input-217-206aa511b1cf>\u001b[0m in \u001b[0;36m<module>\u001b[0;34m\u001b[0m\n\u001b[0;32m----> 1\u001b[0;31m \u001b[0mdf\u001b[0m \u001b[0;34m=\u001b[0m \u001b[0mread_json_as_df\u001b[0m\u001b[0;34m(\u001b[0m\u001b[0;34m'results/county/NY.36061.0.json'\u001b[0m\u001b[0;34m)\u001b[0m\u001b[0;34m\u001b[0m\u001b[0;34m\u001b[0m\u001b[0m\n\u001b[0m",
      "\u001b[0;32m~/projects/covidactnow/covid-data-model/libs/build_dod_dataset.py\u001b[0m in \u001b[0;36mread_json_as_df\u001b[0;34m(path)\u001b[0m\n\u001b[1;32m     78\u001b[0m             \u001b[0;34m'all_hospitalized'\u001b[0m\u001b[0;34m:\u001b[0m \u001b[0mint\u001b[0m\u001b[0;34m,\u001b[0m\u001b[0;34m\u001b[0m\u001b[0;34m\u001b[0m\u001b[0m\n\u001b[1;32m     79\u001b[0m             \u001b[0;34m'beds'\u001b[0m\u001b[0;34m:\u001b[0m \u001b[0mint\u001b[0m\u001b[0;34m,\u001b[0m\u001b[0;34m\u001b[0m\u001b[0;34m\u001b[0m\u001b[0m\n\u001b[0;32m---> 80\u001b[0;31m             \u001b[0;34m'dead'\u001b[0m\u001b[0;34m:\u001b[0m \u001b[0mint\u001b[0m\u001b[0;34m\u001b[0m\u001b[0;34m\u001b[0m\u001b[0m\n\u001b[0m\u001b[1;32m     81\u001b[0m         })\n\u001b[1;32m     82\u001b[0m \u001b[0;34m\u001b[0m\u001b[0m\n",
      "\u001b[0;31mTypeError\u001b[0m: from_records() got an unexpected keyword argument 'dtype'"
     ]
    }
   ],
   "source": [
    "df = read_json_as_df('results/county/NY.36061.0.json')"
   ]
  },
  {
   "cell_type": "code",
   "execution_count": 203,
   "metadata": {},
   "outputs": [],
   "source": [
    "from libs.build_dod_dataset import get_usa_by_county_df"
   ]
  },
  {
   "cell_type": "code",
   "execution_count": 204,
   "metadata": {},
   "outputs": [
    {
     "output_type": "execute_result",
     "data": {
      "text/plain": "                    Province/State Country/Region     Last Update Latitude  \\\nOBJECTID                                                                     \n0                   South Carolina             US  4/2/2020 23:25  34.2233   \n1                        Louisiana             US  4/2/2020 23:25  30.2951   \n2                         Virginia             US  4/2/2020 23:25  37.7671   \n3                            Idaho             US  4/2/2020 23:25  43.4527   \n4                             Iowa             US  4/2/2020 23:25  41.3308   \n...                            ...            ...             ...      ...   \n2357      Northern Mariana Islands             US  4/2/2020 23:25  15.0979   \n2363                   Puerto Rico             US  4/2/2020 23:25  18.2208   \n2368                     Recovered             US  4/2/2020 23:25   <Null>   \n2385                Virgin Islands             US  4/2/2020 23:25  18.3358   \n2568                       Wyoming             US  4/2/2020 23:25   <Null>   \n\n         Longitude  Confirmed  Recovered  Deaths  Active      County  \\\nOBJECTID                                                               \n0         -82.4617          6          0       0       0   Abbeville   \n1         -92.4142         61          0       1       0      Acadia   \n2         -75.6323         10          0       0       0    Accomack   \n3         -116.242        312          0       3       0         Ada   \n4         -94.4711          1          0       0       0       Adair   \n...            ...        ...        ...     ...     ...         ...   \n2357       145.674          6          0       1       0      <Null>   \n2363      -66.5901        316          0      12       0      <Null>   \n2368        <Null>          0       9001       0       0      <Null>   \n2385      -64.8963         30          0       0       0      <Null>   \n2568        <Null>          0          0       0       0  unassigned   \n\n         State/County FIPS Code                   Combined Key  \nOBJECTID                                                        \n0                         45001  Abbeville, South Carolina, US  \n1                         22001          Acadia, Louisiana, US  \n2                         51001         Accomack, Virginia, US  \n3                         16001                 Ada, Idaho, US  \n4                         19001                Adair, Iowa, US  \n...                         ...                            ...  \n2357                     <Null>   ,Northern Mariana Islands,US  \n2363                      00072                Puerto Rico, US  \n2368                     <Null>                  Recovered, US  \n2385                      00078             ,Virgin Islands,US  \n2568                     <Null>        unassigned, Wyoming, US  \n\n[2312 rows x 12 columns]",
      "text/html": "<div>\n<style scoped>\n    .dataframe tbody tr th:only-of-type {\n        vertical-align: middle;\n    }\n\n    .dataframe tbody tr th {\n        vertical-align: top;\n    }\n\n    .dataframe thead th {\n        text-align: right;\n    }\n</style>\n<table border=\"1\" class=\"dataframe\">\n  <thead>\n    <tr style=\"text-align: right;\">\n      <th></th>\n      <th>Province/State</th>\n      <th>Country/Region</th>\n      <th>Last Update</th>\n      <th>Latitude</th>\n      <th>Longitude</th>\n      <th>Confirmed</th>\n      <th>Recovered</th>\n      <th>Deaths</th>\n      <th>Active</th>\n      <th>County</th>\n      <th>State/County FIPS Code</th>\n      <th>Combined Key</th>\n    </tr>\n    <tr>\n      <th>OBJECTID</th>\n      <th></th>\n      <th></th>\n      <th></th>\n      <th></th>\n      <th></th>\n      <th></th>\n      <th></th>\n      <th></th>\n      <th></th>\n      <th></th>\n      <th></th>\n      <th></th>\n    </tr>\n  </thead>\n  <tbody>\n    <tr>\n      <th>0</th>\n      <td>South Carolina</td>\n      <td>US</td>\n      <td>4/2/2020 23:25</td>\n      <td>34.2233</td>\n      <td>-82.4617</td>\n      <td>6</td>\n      <td>0</td>\n      <td>0</td>\n      <td>0</td>\n      <td>Abbeville</td>\n      <td>45001</td>\n      <td>Abbeville, South Carolina, US</td>\n    </tr>\n    <tr>\n      <th>1</th>\n      <td>Louisiana</td>\n      <td>US</td>\n      <td>4/2/2020 23:25</td>\n      <td>30.2951</td>\n      <td>-92.4142</td>\n      <td>61</td>\n      <td>0</td>\n      <td>1</td>\n      <td>0</td>\n      <td>Acadia</td>\n      <td>22001</td>\n      <td>Acadia, Louisiana, US</td>\n    </tr>\n    <tr>\n      <th>2</th>\n      <td>Virginia</td>\n      <td>US</td>\n      <td>4/2/2020 23:25</td>\n      <td>37.7671</td>\n      <td>-75.6323</td>\n      <td>10</td>\n      <td>0</td>\n      <td>0</td>\n      <td>0</td>\n      <td>Accomack</td>\n      <td>51001</td>\n      <td>Accomack, Virginia, US</td>\n    </tr>\n    <tr>\n      <th>3</th>\n      <td>Idaho</td>\n      <td>US</td>\n      <td>4/2/2020 23:25</td>\n      <td>43.4527</td>\n      <td>-116.242</td>\n      <td>312</td>\n      <td>0</td>\n      <td>3</td>\n      <td>0</td>\n      <td>Ada</td>\n      <td>16001</td>\n      <td>Ada, Idaho, US</td>\n    </tr>\n    <tr>\n      <th>4</th>\n      <td>Iowa</td>\n      <td>US</td>\n      <td>4/2/2020 23:25</td>\n      <td>41.3308</td>\n      <td>-94.4711</td>\n      <td>1</td>\n      <td>0</td>\n      <td>0</td>\n      <td>0</td>\n      <td>Adair</td>\n      <td>19001</td>\n      <td>Adair, Iowa, US</td>\n    </tr>\n    <tr>\n      <th>...</th>\n      <td>...</td>\n      <td>...</td>\n      <td>...</td>\n      <td>...</td>\n      <td>...</td>\n      <td>...</td>\n      <td>...</td>\n      <td>...</td>\n      <td>...</td>\n      <td>...</td>\n      <td>...</td>\n      <td>...</td>\n    </tr>\n    <tr>\n      <th>2357</th>\n      <td>Northern Mariana Islands</td>\n      <td>US</td>\n      <td>4/2/2020 23:25</td>\n      <td>15.0979</td>\n      <td>145.674</td>\n      <td>6</td>\n      <td>0</td>\n      <td>1</td>\n      <td>0</td>\n      <td>&lt;Null&gt;</td>\n      <td>&lt;Null&gt;</td>\n      <td>,Northern Mariana Islands,US</td>\n    </tr>\n    <tr>\n      <th>2363</th>\n      <td>Puerto Rico</td>\n      <td>US</td>\n      <td>4/2/2020 23:25</td>\n      <td>18.2208</td>\n      <td>-66.5901</td>\n      <td>316</td>\n      <td>0</td>\n      <td>12</td>\n      <td>0</td>\n      <td>&lt;Null&gt;</td>\n      <td>00072</td>\n      <td>Puerto Rico, US</td>\n    </tr>\n    <tr>\n      <th>2368</th>\n      <td>Recovered</td>\n      <td>US</td>\n      <td>4/2/2020 23:25</td>\n      <td>&lt;Null&gt;</td>\n      <td>&lt;Null&gt;</td>\n      <td>0</td>\n      <td>9001</td>\n      <td>0</td>\n      <td>0</td>\n      <td>&lt;Null&gt;</td>\n      <td>&lt;Null&gt;</td>\n      <td>Recovered, US</td>\n    </tr>\n    <tr>\n      <th>2385</th>\n      <td>Virgin Islands</td>\n      <td>US</td>\n      <td>4/2/2020 23:25</td>\n      <td>18.3358</td>\n      <td>-64.8963</td>\n      <td>30</td>\n      <td>0</td>\n      <td>0</td>\n      <td>0</td>\n      <td>&lt;Null&gt;</td>\n      <td>00078</td>\n      <td>,Virgin Islands,US</td>\n    </tr>\n    <tr>\n      <th>2568</th>\n      <td>Wyoming</td>\n      <td>US</td>\n      <td>4/2/2020 23:25</td>\n      <td>&lt;Null&gt;</td>\n      <td>&lt;Null&gt;</td>\n      <td>0</td>\n      <td>0</td>\n      <td>0</td>\n      <td>0</td>\n      <td>unassigned</td>\n      <td>&lt;Null&gt;</td>\n      <td>unassigned, Wyoming, US</td>\n    </tr>\n  </tbody>\n</table>\n<p>2312 rows × 12 columns</p>\n</div>"
     },
     "metadata": {},
     "execution_count": 204
    }
   ],
   "source": [
    "get_usa_by_county_df()"
   ]
  },
  {
   "cell_type": "code",
   "execution_count": 200,
   "metadata": {},
   "outputs": [],
   "source": [
    "df = pd.read_csv('deleteme.csv')"
   ]
  },
  {
   "cell_type": "code",
   "execution_count": 218,
   "metadata": {},
   "outputs": [],
   "source": [
    "from libs.build_dod_dataset import  get_usa_by_county_with_projection_df "
   ]
  },
  {
   "cell_type": "code",
   "execution_count": 219,
   "metadata": {},
   "outputs": [
    {
     "output_type": "stream",
     "name": "stdout",
     "text": "Models missing for 1523 county\n"
    },
    {
     "output_type": "execute_result",
     "data": {
      "text/plain": "          32d-LACKBEDS   Latitude  Current Confirmed  32d-HSPTLZD      County  \\\nOBJECTID                                                                        \n0                  342  34.223334                  6          362   Abbeville   \n1                 1778  33.543380                 22         1992       Aiken   \n2                   83  32.988374                  1          103   Allendale   \n3                 2488  34.518281                 62         3144    Anderson   \n4                 3006  32.392263                131         3269    Beaufort   \n...                ...        ...                ...          ...         ...   \n1722              3505  38.661438                117         3924      Sussex   \n1723              2355  41.671063                 59         2652        Kent   \n1724              1241  41.564203                 33         1347     Newport   \n1725              8040  41.870647                418        10868  Providence   \n1726              1731  41.459616                 34         1917  Washington   \n\n          MEAN-DEATHS Country/Region  Current Deaths  16d-HSPTLZD  \\\nOBJECTID                                                            \n0            9.884615             US               0           41   \n1           68.576923             US               1          153   \n2            3.461538             US               0            8   \n3           82.038462             US               3          410   \n4           78.269231             US               2          807   \n...               ...            ...             ...          ...   \n1722        95.192308             US               3          751   \n1723        66.538462             US               0          402   \n1724        33.269231             US               0          222   \n1725       260.230769             US               3         2616   \n1726        50.730769             US               0          237   \n\n          Province/State  ... 16d-LACKBEDS  Longitude  \\\nOBJECTID                  ...                           \n0         South Carolina  ...           21 -82.461707   \n1         South Carolina  ...            0 -81.636454   \n2         South Carolina  ...            0 -81.353211   \n3         South Carolina  ...            0 -82.639595   \n4         South Carolina  ...          544 -80.726198   \n...                  ...  ...          ...        ...   \n1722            Delaware  ...          332 -75.390313   \n1723        Rhode Island  ...          105 -71.576416   \n1724        Rhode Island  ...          116 -71.265698   \n1725        Rhode Island  ...            0 -71.577535   \n1726        Rhode Island  ...           51 -71.614353   \n\n                           Combined Key     Last Update Current Active  \\\nOBJECTID                                                                 \n0         Abbeville, South Carolina, US  4/3/2020 22:46              0   \n1             Aiken, South Carolina, US  4/3/2020 22:46              0   \n2         Allendale, South Carolina, US  4/3/2020 22:46              0   \n3          Anderson, South Carolina, US  4/3/2020 22:46              0   \n4          Beaufort, South Carolina, US  4/3/2020 22:46              0   \n...                                 ...             ...            ...   \n1722               Sussex, Delaware, US  4/3/2020 22:46              0   \n1723             Kent, Rhode Island, US  4/3/2020 22:46              0   \n1724          Newport, Rhode Island, US  4/3/2020 22:46              0   \n1725       Providence, Rhode Island, US  4/3/2020 22:46              0   \n1726       Washington, Rhode Island, US  4/3/2020 22:46              0   \n\n          State/County FIPS Code MEAN-HOSP  State Intervention  \\\nOBJECTID                                                         \n0                          45001     113.0   social_distancing   \n1                          45003     792.0   social_distancing   \n2                          45005      40.0   social_distancing   \n3                          45007     941.0   social_distancing   \n4                          45013     896.0   social_distancing   \n...                          ...       ...                 ...   \n1722                       10005    1091.0    shelter_in_place   \n1723                       44003     764.0    shelter_in_place   \n1724                       44005     382.0    shelter_in_place   \n1725                       44007    2980.0    shelter_in_place   \n1726                       44009     583.0    shelter_in_place   \n\n         Current Recovered  PEAK-DEATHS  \nOBJECTID                                 \n0                        0   2020-05-21  \n1                        0   2020-05-25  \n2                        0   2020-05-26  \n3                        0   2020-05-21  \n4                        0   2020-05-17  \n...                    ...          ...  \n1722                     0   2020-05-17  \n1723                     0   2020-05-21  \n1724                     0   2020-05-21  \n1725                     0   2020-05-17  \n1726                     0   2020-05-21  \n\n[1727 rows x 21 columns]",
      "text/html": "<div>\n<style scoped>\n    .dataframe tbody tr th:only-of-type {\n        vertical-align: middle;\n    }\n\n    .dataframe tbody tr th {\n        vertical-align: top;\n    }\n\n    .dataframe thead th {\n        text-align: right;\n    }\n</style>\n<table border=\"1\" class=\"dataframe\">\n  <thead>\n    <tr style=\"text-align: right;\">\n      <th></th>\n      <th>32d-LACKBEDS</th>\n      <th>Latitude</th>\n      <th>Current Confirmed</th>\n      <th>32d-HSPTLZD</th>\n      <th>County</th>\n      <th>MEAN-DEATHS</th>\n      <th>Country/Region</th>\n      <th>Current Deaths</th>\n      <th>16d-HSPTLZD</th>\n      <th>Province/State</th>\n      <th>...</th>\n      <th>16d-LACKBEDS</th>\n      <th>Longitude</th>\n      <th>Combined Key</th>\n      <th>Last Update</th>\n      <th>Current Active</th>\n      <th>State/County FIPS Code</th>\n      <th>MEAN-HOSP</th>\n      <th>State Intervention</th>\n      <th>Current Recovered</th>\n      <th>PEAK-DEATHS</th>\n    </tr>\n    <tr>\n      <th>OBJECTID</th>\n      <th></th>\n      <th></th>\n      <th></th>\n      <th></th>\n      <th></th>\n      <th></th>\n      <th></th>\n      <th></th>\n      <th></th>\n      <th></th>\n      <th></th>\n      <th></th>\n      <th></th>\n      <th></th>\n      <th></th>\n      <th></th>\n      <th></th>\n      <th></th>\n      <th></th>\n      <th></th>\n      <th></th>\n    </tr>\n  </thead>\n  <tbody>\n    <tr>\n      <th>0</th>\n      <td>342</td>\n      <td>34.223334</td>\n      <td>6</td>\n      <td>362</td>\n      <td>Abbeville</td>\n      <td>9.884615</td>\n      <td>US</td>\n      <td>0</td>\n      <td>41</td>\n      <td>South Carolina</td>\n      <td>...</td>\n      <td>21</td>\n      <td>-82.461707</td>\n      <td>Abbeville, South Carolina, US</td>\n      <td>4/3/2020 22:46</td>\n      <td>0</td>\n      <td>45001</td>\n      <td>113.0</td>\n      <td>social_distancing</td>\n      <td>0</td>\n      <td>2020-05-21</td>\n    </tr>\n    <tr>\n      <th>1</th>\n      <td>1778</td>\n      <td>33.543380</td>\n      <td>22</td>\n      <td>1992</td>\n      <td>Aiken</td>\n      <td>68.576923</td>\n      <td>US</td>\n      <td>1</td>\n      <td>153</td>\n      <td>South Carolina</td>\n      <td>...</td>\n      <td>0</td>\n      <td>-81.636454</td>\n      <td>Aiken, South Carolina, US</td>\n      <td>4/3/2020 22:46</td>\n      <td>0</td>\n      <td>45003</td>\n      <td>792.0</td>\n      <td>social_distancing</td>\n      <td>0</td>\n      <td>2020-05-25</td>\n    </tr>\n    <tr>\n      <th>2</th>\n      <td>83</td>\n      <td>32.988374</td>\n      <td>1</td>\n      <td>103</td>\n      <td>Allendale</td>\n      <td>3.461538</td>\n      <td>US</td>\n      <td>0</td>\n      <td>8</td>\n      <td>South Carolina</td>\n      <td>...</td>\n      <td>0</td>\n      <td>-81.353211</td>\n      <td>Allendale, South Carolina, US</td>\n      <td>4/3/2020 22:46</td>\n      <td>0</td>\n      <td>45005</td>\n      <td>40.0</td>\n      <td>social_distancing</td>\n      <td>0</td>\n      <td>2020-05-26</td>\n    </tr>\n    <tr>\n      <th>3</th>\n      <td>2488</td>\n      <td>34.518281</td>\n      <td>62</td>\n      <td>3144</td>\n      <td>Anderson</td>\n      <td>82.038462</td>\n      <td>US</td>\n      <td>3</td>\n      <td>410</td>\n      <td>South Carolina</td>\n      <td>...</td>\n      <td>0</td>\n      <td>-82.639595</td>\n      <td>Anderson, South Carolina, US</td>\n      <td>4/3/2020 22:46</td>\n      <td>0</td>\n      <td>45007</td>\n      <td>941.0</td>\n      <td>social_distancing</td>\n      <td>0</td>\n      <td>2020-05-21</td>\n    </tr>\n    <tr>\n      <th>4</th>\n      <td>3006</td>\n      <td>32.392263</td>\n      <td>131</td>\n      <td>3269</td>\n      <td>Beaufort</td>\n      <td>78.269231</td>\n      <td>US</td>\n      <td>2</td>\n      <td>807</td>\n      <td>South Carolina</td>\n      <td>...</td>\n      <td>544</td>\n      <td>-80.726198</td>\n      <td>Beaufort, South Carolina, US</td>\n      <td>4/3/2020 22:46</td>\n      <td>0</td>\n      <td>45013</td>\n      <td>896.0</td>\n      <td>social_distancing</td>\n      <td>0</td>\n      <td>2020-05-17</td>\n    </tr>\n    <tr>\n      <th>...</th>\n      <td>...</td>\n      <td>...</td>\n      <td>...</td>\n      <td>...</td>\n      <td>...</td>\n      <td>...</td>\n      <td>...</td>\n      <td>...</td>\n      <td>...</td>\n      <td>...</td>\n      <td>...</td>\n      <td>...</td>\n      <td>...</td>\n      <td>...</td>\n      <td>...</td>\n      <td>...</td>\n      <td>...</td>\n      <td>...</td>\n      <td>...</td>\n      <td>...</td>\n      <td>...</td>\n    </tr>\n    <tr>\n      <th>1722</th>\n      <td>3505</td>\n      <td>38.661438</td>\n      <td>117</td>\n      <td>3924</td>\n      <td>Sussex</td>\n      <td>95.192308</td>\n      <td>US</td>\n      <td>3</td>\n      <td>751</td>\n      <td>Delaware</td>\n      <td>...</td>\n      <td>332</td>\n      <td>-75.390313</td>\n      <td>Sussex, Delaware, US</td>\n      <td>4/3/2020 22:46</td>\n      <td>0</td>\n      <td>10005</td>\n      <td>1091.0</td>\n      <td>shelter_in_place</td>\n      <td>0</td>\n      <td>2020-05-17</td>\n    </tr>\n    <tr>\n      <th>1723</th>\n      <td>2355</td>\n      <td>41.671063</td>\n      <td>59</td>\n      <td>2652</td>\n      <td>Kent</td>\n      <td>66.538462</td>\n      <td>US</td>\n      <td>0</td>\n      <td>402</td>\n      <td>Rhode Island</td>\n      <td>...</td>\n      <td>105</td>\n      <td>-71.576416</td>\n      <td>Kent, Rhode Island, US</td>\n      <td>4/3/2020 22:46</td>\n      <td>0</td>\n      <td>44003</td>\n      <td>764.0</td>\n      <td>shelter_in_place</td>\n      <td>0</td>\n      <td>2020-05-21</td>\n    </tr>\n    <tr>\n      <th>1724</th>\n      <td>1241</td>\n      <td>41.564203</td>\n      <td>33</td>\n      <td>1347</td>\n      <td>Newport</td>\n      <td>33.269231</td>\n      <td>US</td>\n      <td>0</td>\n      <td>222</td>\n      <td>Rhode Island</td>\n      <td>...</td>\n      <td>116</td>\n      <td>-71.265698</td>\n      <td>Newport, Rhode Island, US</td>\n      <td>4/3/2020 22:46</td>\n      <td>0</td>\n      <td>44005</td>\n      <td>382.0</td>\n      <td>shelter_in_place</td>\n      <td>0</td>\n      <td>2020-05-21</td>\n    </tr>\n    <tr>\n      <th>1725</th>\n      <td>8040</td>\n      <td>41.870647</td>\n      <td>418</td>\n      <td>10868</td>\n      <td>Providence</td>\n      <td>260.230769</td>\n      <td>US</td>\n      <td>3</td>\n      <td>2616</td>\n      <td>Rhode Island</td>\n      <td>...</td>\n      <td>0</td>\n      <td>-71.577535</td>\n      <td>Providence, Rhode Island, US</td>\n      <td>4/3/2020 22:46</td>\n      <td>0</td>\n      <td>44007</td>\n      <td>2980.0</td>\n      <td>shelter_in_place</td>\n      <td>0</td>\n      <td>2020-05-17</td>\n    </tr>\n    <tr>\n      <th>1726</th>\n      <td>1731</td>\n      <td>41.459616</td>\n      <td>34</td>\n      <td>1917</td>\n      <td>Washington</td>\n      <td>50.730769</td>\n      <td>US</td>\n      <td>0</td>\n      <td>237</td>\n      <td>Rhode Island</td>\n      <td>...</td>\n      <td>51</td>\n      <td>-71.614353</td>\n      <td>Washington, Rhode Island, US</td>\n      <td>4/3/2020 22:46</td>\n      <td>0</td>\n      <td>44009</td>\n      <td>583.0</td>\n      <td>shelter_in_place</td>\n      <td>0</td>\n      <td>2020-05-21</td>\n    </tr>\n  </tbody>\n</table>\n<p>1727 rows × 21 columns</p>\n</div>"
     },
     "metadata": {},
     "execution_count": 219
    }
   ],
   "source": [
    "get_usa_by_county_with_projection_df()"
   ]
  },
  {
   "cell_type": "code",
   "execution_count": null,
   "metadata": {},
   "outputs": [],
   "source": [
    "pd.read_csv('my_fips.csv')"
   ]
  },
  {
   "cell_type": "code",
   "execution_count": 213,
   "metadata": {},
   "outputs": [
    {
     "output_type": "execute_result",
     "data": {
      "text/plain": "         FIPS         Admin2 Province_State Country_Region  \\\n1490  36061.0  New York City       New York             US   \n\n              Last_Update        Lat      Long_  Confirmed  Deaths  Recovered  \\\n1490  2020-04-02 23:25:27  40.767273 -73.971526      51809    1397          0   \n\n      Active                 Combined_Key  \n1490       0  New York City, New York, US  ",
      "text/html": "<div>\n<style scoped>\n    .dataframe tbody tr th:only-of-type {\n        vertical-align: middle;\n    }\n\n    .dataframe tbody tr th {\n        vertical-align: top;\n    }\n\n    .dataframe thead th {\n        text-align: right;\n    }\n</style>\n<table border=\"1\" class=\"dataframe\">\n  <thead>\n    <tr style=\"text-align: right;\">\n      <th></th>\n      <th>FIPS</th>\n      <th>Admin2</th>\n      <th>Province_State</th>\n      <th>Country_Region</th>\n      <th>Last_Update</th>\n      <th>Lat</th>\n      <th>Long_</th>\n      <th>Confirmed</th>\n      <th>Deaths</th>\n      <th>Recovered</th>\n      <th>Active</th>\n      <th>Combined_Key</th>\n    </tr>\n  </thead>\n  <tbody>\n    <tr>\n      <th>1490</th>\n      <td>36061.0</td>\n      <td>New York City</td>\n      <td>New York</td>\n      <td>US</td>\n      <td>2020-04-02 23:25:27</td>\n      <td>40.767273</td>\n      <td>-73.971526</td>\n      <td>51809</td>\n      <td>1397</td>\n      <td>0</td>\n      <td>0</td>\n      <td>New York City, New York, US</td>\n    </tr>\n  </tbody>\n</table>\n</div>"
     },
     "metadata": {},
     "execution_count": 213
    }
   ],
   "source": [
    "df[df.FIPS == 36061]"
   ]
  },
  {
   "cell_type": "code",
   "execution_count": 202,
   "metadata": {},
   "outputs": [
    {
     "output_type": "stream",
     "name": "stdout",
     "text": "env: COVID_DATA_PUBLIC=../covid-data-public\n"
    }
   ],
   "source": [
    "%env COVID_DATA_PUBLIC=../covid-data-public"
   ]
  },
  {
   "cell_type": "code",
   "execution_count": 190,
   "metadata": {},
   "outputs": [],
   "source": [
    "from libs.build_dod_dataset import calc_short_fall\n",
    "today = datetime.datetime.now()\n",
    "sixteen_days = today + datetime.timedelta(days=16)\n",
    "thirty_two_days = today + datetime.timedelta(days=32)\n",
    ""
   ]
  },
  {
   "cell_type": "code",
   "execution_count": 194,
   "metadata": {},
   "outputs": [
    {
     "output_type": "execute_result",
     "data": {
      "text/plain": "[[64,\n  866,\n  0,\n  651,\n  352.0,\n  30.5,\n  Timestamp('2020-05-17 00:00:00'),\n  Timestamp('2020-07-04 00:00:00')]]"
     },
     "metadata": {},
     "execution_count": 194
    }
   ],
   "source": [
    "test_func('results/county/NY.36009.0.json')"
   ]
  },
  {
   "cell_type": "code",
   "execution_count": 29,
   "metadata": {},
   "outputs": [
    {
     "output_type": "stream",
     "name": "stdout",
     "text": "1.53 ms ± 42.2 µs per loop (mean ± std. dev. of 7 runs, 1000 loops each)\n"
    }
   ],
   "source": [
    "%%timeit\n",
    "pd.DataFrame(l for l in simplejson.load(open('results/test/AL.0.json','r')))"
   ]
  },
  {
   "cell_type": "code",
   "execution_count": 365,
   "metadata": {},
   "outputs": [
    {
     "output_type": "stream",
     "name": "stdout",
     "text": "109 µs ± 1.93 µs per loop (mean ± std. dev. of 7 runs, 10000 loops each)\n"
    }
   ],
   "source": [
    "%%timeit\n",
    "l = simplejson.load(open('results/test/AL.0.json','r'))"
   ]
  },
  {
   "cell_type": "code",
   "execution_count": 366,
   "metadata": {},
   "outputs": [
    {
     "output_type": "stream",
     "name": "stdout",
     "text": "10.6 ms ± 336 µs per loop (mean ± std. dev. of 7 runs, 100 loops each)\n"
    }
   ],
   "source": [
    "%%timeit\n",
    "l = pd.read_json(open('results/test/AL.0.json','r'))"
   ]
  },
  {
   "cell_type": "code",
   "execution_count": 17,
   "metadata": {},
   "outputs": [
    {
     "output_type": "stream",
     "name": "stdout",
     "text": "1.35 ms ± 59.3 µs per loop (mean ± std. dev. of 7 runs, 1000 loops each)\n"
    }
   ],
   "source": [
    "%%timeit\n",
    "l = pd.read_table('results/test/AL.0.json')\n",
    "l"
   ]
  },
  {
   "cell_type": "code",
   "execution_count": 37,
   "metadata": {},
   "outputs": [],
   "source": [
    "l = simplejson.load(open('results/test/AL.0.json','r'))"
   ]
  },
  {
   "cell_type": "code",
   "execution_count": 39,
   "metadata": {},
   "outputs": [
    {
     "output_type": "stream",
     "name": "stdout",
     "text": "1.39 ms ± 69.6 µs per loop (mean ± std. dev. of 7 runs, 1000 loops each)\n"
    }
   ],
   "source": [
    "%%timeit\n",
    "pd.DataFrame(l)"
   ]
  },
  {
   "cell_type": "code",
   "execution_count": 40,
   "metadata": {},
   "outputs": [
    {
     "output_type": "execute_result",
     "data": {
      "text/plain": "      0        1    2    3    4    5    6    7    8      9       10     11  \\\n0     0  3/13/20  0.0  0.0  0.0  0.0  0.0  0.0  0.0   1.25  17.1233      0   \n1     4  3/17/20  0.0  0.0  0.0  0.0  0.0  0.0  0.0   9.75  133.562      0   \n2     8  3/21/20  0.0  0.0  0.0  0.0  0.0  0.0  0.0  32.75   448.63      0   \n3    12  3/25/20  0.0  0.0  0.0  0.0  0.0  0.0  0.0     95  1301.37      1   \n4    16  3/29/20  0.0  0.0  0.0  0.0  0.0  0.0  0.0  196.5  2691.78     10   \n5    20   4/2/20  0.0  0.0  0.0  0.0  0.0  0.0  0.0  279.5  3828.77     32   \n6    24   4/6/20  0.0  0.0  0.0  0.0  0.0  0.0  0.0    446    10149     56   \n7    28  4/10/20  0.0  0.0  0.0  0.0  0.0  0.0  0.0    831    22881     87   \n8    32  4/14/20  0.0  0.0  0.0  0.0  0.0  0.0  0.0   1777    51393    139   \n9    36  4/18/20  0.0  0.0  0.0  0.0  0.0  0.0  0.0   3915   113518    241   \n10   40  4/22/20  0.0  0.0  0.0  0.0  0.0  0.0  0.0   8505   241284    459   \n11   44  4/26/20  0.0  0.0  0.0  0.0  0.0  0.0  0.0  17602   474287    928   \n12   48  4/30/20  0.0  0.0  0.0  0.0  0.0  0.0  0.0  33161   810678   1896   \n13   52   5/4/20  0.0  0.0  0.0  0.0  0.0  0.0  0.0  53944  1129045   3738   \n14   56   5/8/20  0.0  0.0  0.0  0.0  0.0  0.0  0.0  73143  1246341   6829   \n15   60  5/12/20  0.0  0.0  0.0  0.0  0.0  0.0  0.0  82803  1120806  11300   \n16   64  5/16/20  0.0  0.0  0.0  0.0  0.0  0.0  0.0  80597   867589  16870   \n17   68  5/20/20  0.0  0.0  0.0  0.0  0.0  0.0  0.0  69938   608577  22956   \n18   72  5/24/20  0.0  0.0  0.0  0.0  0.0  0.0  0.0  55806   401404  28929   \n19   76  5/28/20  0.0  0.0  0.0  0.0  0.0  0.0  0.0  41906   254975  34315   \n20   80   6/1/20  0.0  0.0  0.0  0.0  0.0  0.0  0.0  30107   158316  38858   \n21   84   6/5/20  0.0  0.0  0.0  0.0  0.0  0.0  0.0  20935    96965  42497   \n22   88   6/9/20  0.0  0.0  0.0  0.0  0.0  0.0  0.0  14207    58908  45292   \n23   92  6/13/20  0.0  0.0  0.0  0.0  0.0  0.0  0.0   9463    35617  47370   \n24   96  6/17/20  0.0  0.0  0.0  0.0  0.0  0.0  0.0   6213    21475  48873   \n25  100  6/21/20  0.0  0.0  0.0  0.0  0.0  0.0  0.0   4034    12929  49937   \n26  104  6/25/20  0.0  0.0  0.0  0.0  0.0  0.0  0.0   2596     7777  50677   \n27  108  6/29/20  0.0  0.0  0.0  0.0  0.0  0.0  0.0   1658     4677  51183   \n28  112   7/3/20  0.0  0.0  0.0  0.0  0.0  0.0  0.0   1053     2813  51525   \n\n       12   13   14   15   16       17   18   19  \n0    6080  0.0  0.0  0.0  0.0  4903185  0.0  0.0  \n1    7390  0.0  0.0  0.0  0.0  4903185  0.0  0.0  \n2    8982  0.0  0.0  0.0  0.0  4903185  0.0  0.0  \n3   10918  0.0  0.0  0.0  0.0  4903185  0.0  0.0  \n4   12585  0.0  0.0  0.0  0.0  4903185  0.0  0.0  \n5   12585  0.0  0.0  0.0  0.0  4903185  0.0  0.0  \n6   12585  0.0  0.0  0.0  0.0  4903185  0.0  0.0  \n7   12585  0.0  0.0  0.0  0.0  4903185  0.0  0.0  \n8   12585  0.0  0.0  0.0  0.0  4903185  0.0  0.0  \n9   12585  0.0  0.0  0.0  0.0  4903185  0.0  0.0  \n10  12585  0.0  0.0  0.0  0.0  4903185  0.0  0.0  \n11  12585  0.0  0.0  0.0  0.0  4903185  0.0  0.0  \n12  12585  0.0  0.0  0.0  0.0  4903185  0.0  0.0  \n13  12585  0.0  0.0  0.0  0.0  4903185  0.0  0.0  \n14  12585  0.0  0.0  0.0  0.0  4903185  0.0  0.0  \n15  12585  0.0  0.0  0.0  0.0  4903185  0.0  0.0  \n16  12585  0.0  0.0  0.0  0.0  4903185  0.0  0.0  \n17  12585  0.0  0.0  0.0  0.0  4903185  0.0  0.0  \n18  12585  0.0  0.0  0.0  0.0  4903185  0.0  0.0  \n19  12585  0.0  0.0  0.0  0.0  4903185  0.0  0.0  \n20  12585  0.0  0.0  0.0  0.0  4903185  0.0  0.0  \n21  12585  0.0  0.0  0.0  0.0  4903185  0.0  0.0  \n22  12585  0.0  0.0  0.0  0.0  4903185  0.0  0.0  \n23  12585  0.0  0.0  0.0  0.0  4903185  0.0  0.0  \n24  12585  0.0  0.0  0.0  0.0  4903185  0.0  0.0  \n25  12585  0.0  0.0  0.0  0.0  4903185  0.0  0.0  \n26  12585  0.0  0.0  0.0  0.0  4903185  0.0  0.0  \n27  12585  0.0  0.0  0.0  0.0  4903185  0.0  0.0  \n28  12585  0.0  0.0  0.0  0.0  4903185  0.0  0.0  ",
      "text/html": "<div>\n<style scoped>\n    .dataframe tbody tr th:only-of-type {\n        vertical-align: middle;\n    }\n\n    .dataframe tbody tr th {\n        vertical-align: top;\n    }\n\n    .dataframe thead th {\n        text-align: right;\n    }\n</style>\n<table border=\"1\" class=\"dataframe\">\n  <thead>\n    <tr style=\"text-align: right;\">\n      <th></th>\n      <th>0</th>\n      <th>1</th>\n      <th>2</th>\n      <th>3</th>\n      <th>4</th>\n      <th>5</th>\n      <th>6</th>\n      <th>7</th>\n      <th>8</th>\n      <th>9</th>\n      <th>10</th>\n      <th>11</th>\n      <th>12</th>\n      <th>13</th>\n      <th>14</th>\n      <th>15</th>\n      <th>16</th>\n      <th>17</th>\n      <th>18</th>\n      <th>19</th>\n    </tr>\n  </thead>\n  <tbody>\n    <tr>\n      <th>0</th>\n      <td>0</td>\n      <td>3/13/20</td>\n      <td>0.0</td>\n      <td>0.0</td>\n      <td>0.0</td>\n      <td>0.0</td>\n      <td>0.0</td>\n      <td>0.0</td>\n      <td>0.0</td>\n      <td>1.25</td>\n      <td>17.1233</td>\n      <td>0</td>\n      <td>6080</td>\n      <td>0.0</td>\n      <td>0.0</td>\n      <td>0.0</td>\n      <td>0.0</td>\n      <td>4903185</td>\n      <td>0.0</td>\n      <td>0.0</td>\n    </tr>\n    <tr>\n      <th>1</th>\n      <td>4</td>\n      <td>3/17/20</td>\n      <td>0.0</td>\n      <td>0.0</td>\n      <td>0.0</td>\n      <td>0.0</td>\n      <td>0.0</td>\n      <td>0.0</td>\n      <td>0.0</td>\n      <td>9.75</td>\n      <td>133.562</td>\n      <td>0</td>\n      <td>7390</td>\n      <td>0.0</td>\n      <td>0.0</td>\n      <td>0.0</td>\n      <td>0.0</td>\n      <td>4903185</td>\n      <td>0.0</td>\n      <td>0.0</td>\n    </tr>\n    <tr>\n      <th>2</th>\n      <td>8</td>\n      <td>3/21/20</td>\n      <td>0.0</td>\n      <td>0.0</td>\n      <td>0.0</td>\n      <td>0.0</td>\n      <td>0.0</td>\n      <td>0.0</td>\n      <td>0.0</td>\n      <td>32.75</td>\n      <td>448.63</td>\n      <td>0</td>\n      <td>8982</td>\n      <td>0.0</td>\n      <td>0.0</td>\n      <td>0.0</td>\n      <td>0.0</td>\n      <td>4903185</td>\n      <td>0.0</td>\n      <td>0.0</td>\n    </tr>\n    <tr>\n      <th>3</th>\n      <td>12</td>\n      <td>3/25/20</td>\n      <td>0.0</td>\n      <td>0.0</td>\n      <td>0.0</td>\n      <td>0.0</td>\n      <td>0.0</td>\n      <td>0.0</td>\n      <td>0.0</td>\n      <td>95</td>\n      <td>1301.37</td>\n      <td>1</td>\n      <td>10918</td>\n      <td>0.0</td>\n      <td>0.0</td>\n      <td>0.0</td>\n      <td>0.0</td>\n      <td>4903185</td>\n      <td>0.0</td>\n      <td>0.0</td>\n    </tr>\n    <tr>\n      <th>4</th>\n      <td>16</td>\n      <td>3/29/20</td>\n      <td>0.0</td>\n      <td>0.0</td>\n      <td>0.0</td>\n      <td>0.0</td>\n      <td>0.0</td>\n      <td>0.0</td>\n      <td>0.0</td>\n      <td>196.5</td>\n      <td>2691.78</td>\n      <td>10</td>\n      <td>12585</td>\n      <td>0.0</td>\n      <td>0.0</td>\n      <td>0.0</td>\n      <td>0.0</td>\n      <td>4903185</td>\n      <td>0.0</td>\n      <td>0.0</td>\n    </tr>\n    <tr>\n      <th>5</th>\n      <td>20</td>\n      <td>4/2/20</td>\n      <td>0.0</td>\n      <td>0.0</td>\n      <td>0.0</td>\n      <td>0.0</td>\n      <td>0.0</td>\n      <td>0.0</td>\n      <td>0.0</td>\n      <td>279.5</td>\n      <td>3828.77</td>\n      <td>32</td>\n      <td>12585</td>\n      <td>0.0</td>\n      <td>0.0</td>\n      <td>0.0</td>\n      <td>0.0</td>\n      <td>4903185</td>\n      <td>0.0</td>\n      <td>0.0</td>\n    </tr>\n    <tr>\n      <th>6</th>\n      <td>24</td>\n      <td>4/6/20</td>\n      <td>0.0</td>\n      <td>0.0</td>\n      <td>0.0</td>\n      <td>0.0</td>\n      <td>0.0</td>\n      <td>0.0</td>\n      <td>0.0</td>\n      <td>446</td>\n      <td>10149</td>\n      <td>56</td>\n      <td>12585</td>\n      <td>0.0</td>\n      <td>0.0</td>\n      <td>0.0</td>\n      <td>0.0</td>\n      <td>4903185</td>\n      <td>0.0</td>\n      <td>0.0</td>\n    </tr>\n    <tr>\n      <th>7</th>\n      <td>28</td>\n      <td>4/10/20</td>\n      <td>0.0</td>\n      <td>0.0</td>\n      <td>0.0</td>\n      <td>0.0</td>\n      <td>0.0</td>\n      <td>0.0</td>\n      <td>0.0</td>\n      <td>831</td>\n      <td>22881</td>\n      <td>87</td>\n      <td>12585</td>\n      <td>0.0</td>\n      <td>0.0</td>\n      <td>0.0</td>\n      <td>0.0</td>\n      <td>4903185</td>\n      <td>0.0</td>\n      <td>0.0</td>\n    </tr>\n    <tr>\n      <th>8</th>\n      <td>32</td>\n      <td>4/14/20</td>\n      <td>0.0</td>\n      <td>0.0</td>\n      <td>0.0</td>\n      <td>0.0</td>\n      <td>0.0</td>\n      <td>0.0</td>\n      <td>0.0</td>\n      <td>1777</td>\n      <td>51393</td>\n      <td>139</td>\n      <td>12585</td>\n      <td>0.0</td>\n      <td>0.0</td>\n      <td>0.0</td>\n      <td>0.0</td>\n      <td>4903185</td>\n      <td>0.0</td>\n      <td>0.0</td>\n    </tr>\n    <tr>\n      <th>9</th>\n      <td>36</td>\n      <td>4/18/20</td>\n      <td>0.0</td>\n      <td>0.0</td>\n      <td>0.0</td>\n      <td>0.0</td>\n      <td>0.0</td>\n      <td>0.0</td>\n      <td>0.0</td>\n      <td>3915</td>\n      <td>113518</td>\n      <td>241</td>\n      <td>12585</td>\n      <td>0.0</td>\n      <td>0.0</td>\n      <td>0.0</td>\n      <td>0.0</td>\n      <td>4903185</td>\n      <td>0.0</td>\n      <td>0.0</td>\n    </tr>\n    <tr>\n      <th>10</th>\n      <td>40</td>\n      <td>4/22/20</td>\n      <td>0.0</td>\n      <td>0.0</td>\n      <td>0.0</td>\n      <td>0.0</td>\n      <td>0.0</td>\n      <td>0.0</td>\n      <td>0.0</td>\n      <td>8505</td>\n      <td>241284</td>\n      <td>459</td>\n      <td>12585</td>\n      <td>0.0</td>\n      <td>0.0</td>\n      <td>0.0</td>\n      <td>0.0</td>\n      <td>4903185</td>\n      <td>0.0</td>\n      <td>0.0</td>\n    </tr>\n    <tr>\n      <th>11</th>\n      <td>44</td>\n      <td>4/26/20</td>\n      <td>0.0</td>\n      <td>0.0</td>\n      <td>0.0</td>\n      <td>0.0</td>\n      <td>0.0</td>\n      <td>0.0</td>\n      <td>0.0</td>\n      <td>17602</td>\n      <td>474287</td>\n      <td>928</td>\n      <td>12585</td>\n      <td>0.0</td>\n      <td>0.0</td>\n      <td>0.0</td>\n      <td>0.0</td>\n      <td>4903185</td>\n      <td>0.0</td>\n      <td>0.0</td>\n    </tr>\n    <tr>\n      <th>12</th>\n      <td>48</td>\n      <td>4/30/20</td>\n      <td>0.0</td>\n      <td>0.0</td>\n      <td>0.0</td>\n      <td>0.0</td>\n      <td>0.0</td>\n      <td>0.0</td>\n      <td>0.0</td>\n      <td>33161</td>\n      <td>810678</td>\n      <td>1896</td>\n      <td>12585</td>\n      <td>0.0</td>\n      <td>0.0</td>\n      <td>0.0</td>\n      <td>0.0</td>\n      <td>4903185</td>\n      <td>0.0</td>\n      <td>0.0</td>\n    </tr>\n    <tr>\n      <th>13</th>\n      <td>52</td>\n      <td>5/4/20</td>\n      <td>0.0</td>\n      <td>0.0</td>\n      <td>0.0</td>\n      <td>0.0</td>\n      <td>0.0</td>\n      <td>0.0</td>\n      <td>0.0</td>\n      <td>53944</td>\n      <td>1129045</td>\n      <td>3738</td>\n      <td>12585</td>\n      <td>0.0</td>\n      <td>0.0</td>\n      <td>0.0</td>\n      <td>0.0</td>\n      <td>4903185</td>\n      <td>0.0</td>\n      <td>0.0</td>\n    </tr>\n    <tr>\n      <th>14</th>\n      <td>56</td>\n      <td>5/8/20</td>\n      <td>0.0</td>\n      <td>0.0</td>\n      <td>0.0</td>\n      <td>0.0</td>\n      <td>0.0</td>\n      <td>0.0</td>\n      <td>0.0</td>\n      <td>73143</td>\n      <td>1246341</td>\n      <td>6829</td>\n      <td>12585</td>\n      <td>0.0</td>\n      <td>0.0</td>\n      <td>0.0</td>\n      <td>0.0</td>\n      <td>4903185</td>\n      <td>0.0</td>\n      <td>0.0</td>\n    </tr>\n    <tr>\n      <th>15</th>\n      <td>60</td>\n      <td>5/12/20</td>\n      <td>0.0</td>\n      <td>0.0</td>\n      <td>0.0</td>\n      <td>0.0</td>\n      <td>0.0</td>\n      <td>0.0</td>\n      <td>0.0</td>\n      <td>82803</td>\n      <td>1120806</td>\n      <td>11300</td>\n      <td>12585</td>\n      <td>0.0</td>\n      <td>0.0</td>\n      <td>0.0</td>\n      <td>0.0</td>\n      <td>4903185</td>\n      <td>0.0</td>\n      <td>0.0</td>\n    </tr>\n    <tr>\n      <th>16</th>\n      <td>64</td>\n      <td>5/16/20</td>\n      <td>0.0</td>\n      <td>0.0</td>\n      <td>0.0</td>\n      <td>0.0</td>\n      <td>0.0</td>\n      <td>0.0</td>\n      <td>0.0</td>\n      <td>80597</td>\n      <td>867589</td>\n      <td>16870</td>\n      <td>12585</td>\n      <td>0.0</td>\n      <td>0.0</td>\n      <td>0.0</td>\n      <td>0.0</td>\n      <td>4903185</td>\n      <td>0.0</td>\n      <td>0.0</td>\n    </tr>\n    <tr>\n      <th>17</th>\n      <td>68</td>\n      <td>5/20/20</td>\n      <td>0.0</td>\n      <td>0.0</td>\n      <td>0.0</td>\n      <td>0.0</td>\n      <td>0.0</td>\n      <td>0.0</td>\n      <td>0.0</td>\n      <td>69938</td>\n      <td>608577</td>\n      <td>22956</td>\n      <td>12585</td>\n      <td>0.0</td>\n      <td>0.0</td>\n      <td>0.0</td>\n      <td>0.0</td>\n      <td>4903185</td>\n      <td>0.0</td>\n      <td>0.0</td>\n    </tr>\n    <tr>\n      <th>18</th>\n      <td>72</td>\n      <td>5/24/20</td>\n      <td>0.0</td>\n      <td>0.0</td>\n      <td>0.0</td>\n      <td>0.0</td>\n      <td>0.0</td>\n      <td>0.0</td>\n      <td>0.0</td>\n      <td>55806</td>\n      <td>401404</td>\n      <td>28929</td>\n      <td>12585</td>\n      <td>0.0</td>\n      <td>0.0</td>\n      <td>0.0</td>\n      <td>0.0</td>\n      <td>4903185</td>\n      <td>0.0</td>\n      <td>0.0</td>\n    </tr>\n    <tr>\n      <th>19</th>\n      <td>76</td>\n      <td>5/28/20</td>\n      <td>0.0</td>\n      <td>0.0</td>\n      <td>0.0</td>\n      <td>0.0</td>\n      <td>0.0</td>\n      <td>0.0</td>\n      <td>0.0</td>\n      <td>41906</td>\n      <td>254975</td>\n      <td>34315</td>\n      <td>12585</td>\n      <td>0.0</td>\n      <td>0.0</td>\n      <td>0.0</td>\n      <td>0.0</td>\n      <td>4903185</td>\n      <td>0.0</td>\n      <td>0.0</td>\n    </tr>\n    <tr>\n      <th>20</th>\n      <td>80</td>\n      <td>6/1/20</td>\n      <td>0.0</td>\n      <td>0.0</td>\n      <td>0.0</td>\n      <td>0.0</td>\n      <td>0.0</td>\n      <td>0.0</td>\n      <td>0.0</td>\n      <td>30107</td>\n      <td>158316</td>\n      <td>38858</td>\n      <td>12585</td>\n      <td>0.0</td>\n      <td>0.0</td>\n      <td>0.0</td>\n      <td>0.0</td>\n      <td>4903185</td>\n      <td>0.0</td>\n      <td>0.0</td>\n    </tr>\n    <tr>\n      <th>21</th>\n      <td>84</td>\n      <td>6/5/20</td>\n      <td>0.0</td>\n      <td>0.0</td>\n      <td>0.0</td>\n      <td>0.0</td>\n      <td>0.0</td>\n      <td>0.0</td>\n      <td>0.0</td>\n      <td>20935</td>\n      <td>96965</td>\n      <td>42497</td>\n      <td>12585</td>\n      <td>0.0</td>\n      <td>0.0</td>\n      <td>0.0</td>\n      <td>0.0</td>\n      <td>4903185</td>\n      <td>0.0</td>\n      <td>0.0</td>\n    </tr>\n    <tr>\n      <th>22</th>\n      <td>88</td>\n      <td>6/9/20</td>\n      <td>0.0</td>\n      <td>0.0</td>\n      <td>0.0</td>\n      <td>0.0</td>\n      <td>0.0</td>\n      <td>0.0</td>\n      <td>0.0</td>\n      <td>14207</td>\n      <td>58908</td>\n      <td>45292</td>\n      <td>12585</td>\n      <td>0.0</td>\n      <td>0.0</td>\n      <td>0.0</td>\n      <td>0.0</td>\n      <td>4903185</td>\n      <td>0.0</td>\n      <td>0.0</td>\n    </tr>\n    <tr>\n      <th>23</th>\n      <td>92</td>\n      <td>6/13/20</td>\n      <td>0.0</td>\n      <td>0.0</td>\n      <td>0.0</td>\n      <td>0.0</td>\n      <td>0.0</td>\n      <td>0.0</td>\n      <td>0.0</td>\n      <td>9463</td>\n      <td>35617</td>\n      <td>47370</td>\n      <td>12585</td>\n      <td>0.0</td>\n      <td>0.0</td>\n      <td>0.0</td>\n      <td>0.0</td>\n      <td>4903185</td>\n      <td>0.0</td>\n      <td>0.0</td>\n    </tr>\n    <tr>\n      <th>24</th>\n      <td>96</td>\n      <td>6/17/20</td>\n      <td>0.0</td>\n      <td>0.0</td>\n      <td>0.0</td>\n      <td>0.0</td>\n      <td>0.0</td>\n      <td>0.0</td>\n      <td>0.0</td>\n      <td>6213</td>\n      <td>21475</td>\n      <td>48873</td>\n      <td>12585</td>\n      <td>0.0</td>\n      <td>0.0</td>\n      <td>0.0</td>\n      <td>0.0</td>\n      <td>4903185</td>\n      <td>0.0</td>\n      <td>0.0</td>\n    </tr>\n    <tr>\n      <th>25</th>\n      <td>100</td>\n      <td>6/21/20</td>\n      <td>0.0</td>\n      <td>0.0</td>\n      <td>0.0</td>\n      <td>0.0</td>\n      <td>0.0</td>\n      <td>0.0</td>\n      <td>0.0</td>\n      <td>4034</td>\n      <td>12929</td>\n      <td>49937</td>\n      <td>12585</td>\n      <td>0.0</td>\n      <td>0.0</td>\n      <td>0.0</td>\n      <td>0.0</td>\n      <td>4903185</td>\n      <td>0.0</td>\n      <td>0.0</td>\n    </tr>\n    <tr>\n      <th>26</th>\n      <td>104</td>\n      <td>6/25/20</td>\n      <td>0.0</td>\n      <td>0.0</td>\n      <td>0.0</td>\n      <td>0.0</td>\n      <td>0.0</td>\n      <td>0.0</td>\n      <td>0.0</td>\n      <td>2596</td>\n      <td>7777</td>\n      <td>50677</td>\n      <td>12585</td>\n      <td>0.0</td>\n      <td>0.0</td>\n      <td>0.0</td>\n      <td>0.0</td>\n      <td>4903185</td>\n      <td>0.0</td>\n      <td>0.0</td>\n    </tr>\n    <tr>\n      <th>27</th>\n      <td>108</td>\n      <td>6/29/20</td>\n      <td>0.0</td>\n      <td>0.0</td>\n      <td>0.0</td>\n      <td>0.0</td>\n      <td>0.0</td>\n      <td>0.0</td>\n      <td>0.0</td>\n      <td>1658</td>\n      <td>4677</td>\n      <td>51183</td>\n      <td>12585</td>\n      <td>0.0</td>\n      <td>0.0</td>\n      <td>0.0</td>\n      <td>0.0</td>\n      <td>4903185</td>\n      <td>0.0</td>\n      <td>0.0</td>\n    </tr>\n    <tr>\n      <th>28</th>\n      <td>112</td>\n      <td>7/3/20</td>\n      <td>0.0</td>\n      <td>0.0</td>\n      <td>0.0</td>\n      <td>0.0</td>\n      <td>0.0</td>\n      <td>0.0</td>\n      <td>0.0</td>\n      <td>1053</td>\n      <td>2813</td>\n      <td>51525</td>\n      <td>12585</td>\n      <td>0.0</td>\n      <td>0.0</td>\n      <td>0.0</td>\n      <td>0.0</td>\n      <td>4903185</td>\n      <td>0.0</td>\n      <td>0.0</td>\n    </tr>\n  </tbody>\n</table>\n</div>"
     },
     "metadata": {},
     "execution_count": 40
    }
   ],
   "source": [
    "pd.DataFrame(l)"
   ]
  },
  {
   "cell_type": "code",
   "execution_count": 105,
   "metadata": {},
   "outputs": [
    {
     "output_type": "stream",
     "name": "stdout",
     "text": "1.56 ms ± 16.9 µs per loop (mean ± std. dev. of 7 runs, 1000 loops each)\n"
    }
   ],
   "source": [
    "%%timeit\n",
    "l = pd.DataFrame.from_records(simplejson.load(open('results/test/AL.0.json','r')))\n",
    "l"
   ]
  },
  {
   "cell_type": "code",
   "execution_count": 127,
   "metadata": {},
   "outputs": [
    {
     "output_type": "stream",
     "name": "stdout",
     "text": "5.9 ms ± 150 µs per loop (mean ± std. dev. of 7 runs, 100 loops each)\n"
    }
   ],
   "source": [
    "%%timeit\n",
    "l = read_json_as_df('results/test/AL.0.json')\n",
    "l"
   ]
  },
  {
   "cell_type": "code",
   "execution_count": 125,
   "metadata": {},
   "outputs": [
    {
     "output_type": "stream",
     "name": "stdout",
     "text": "1.71 ms ± 35.3 µs per loop (mean ± std. dev. of 7 runs, 1000 loops each)\n"
    }
   ],
   "source": [
    "%%timeit\n",
    "l = pd.DataFrame.from_records(simplejson.load(open('results/test/AL.0.json','r')),\n",
    "columns=all_cols,nrows=10, exclude=exclude_cols )\n",
    "l\n",
    ""
   ]
  },
  {
   "cell_type": "code",
   "execution_count": 122,
   "metadata": {},
   "outputs": [],
   "source": [
    "all_cols = [\n",
    "    \"day_num\",\n",
    "    # ^ for index column\n",
    "    \"date\",\n",
    "    \"a\",\n",
    "    \"b\",\n",
    "    \"c\",\n",
    "    \"d\",\n",
    "    \"e\",\n",
    "    \"f\",\n",
    "    \"g\",\n",
    "    \"all_hospitalized\",\n",
    "    \"all_infected\",\n",
    "    \"dead\",\n",
    "    \"beds\",\n",
    "    \"i\",\n",
    "    \"j\",\n",
    "    \"k\",\n",
    "    \"l\",\n",
    "    \"population\",\n",
    "    \"m\",\n",
    "    \"n\",\n",
    "]"
   ]
  },
  {
   "cell_type": "code",
   "execution_count": 117,
   "metadata": {},
   "outputs": [],
   "source": []
  },
  {
   "cell_type": "code",
   "execution_count": 114,
   "metadata": {},
   "outputs": [],
   "source": [
    "# all_cols = {\n",
    "#     \"day_num\": pd.Int8Dtype,\n",
    "#     # ^ for index column\n",
    "#     \"date\": pd.DatetimeTZDtype,\n",
    "#     \"a\": pd.Int8Dtype,\n",
    "#     \"b\": pd.Int8Dtype,\n",
    "#     \"c\": pd.Int8Dtype,\n",
    "#     \"d\": pd.Int8Dtype,\n",
    "#     \"e\": pd.Int8Dtype,\n",
    "#     \"f\": pd.Int8Dtype,\n",
    "#     \"g\": pd.Int8Dtype,\n",
    "#     \"all_hospitalized\": pd.Int8Dtype,\n",
    "#     \"all_infected\": pd.Int8Dtype,\n",
    "#     \"dead\": pd.Int8Dtype,\n",
    "#     \"beds\": pd.Int8Dtype,\n",
    "#     \"i\": pd.Int8Dtype,\n",
    "#     \"j\": pd.Int8Dtype,\n",
    "#     \"k\": pd.Int8Dtype,\n",
    "#     \"l\": pd.Int8Dtype,\n",
    "#     \"population\": pd.Int8Dtype,\n",
    "#     \"m\": pd.Int8Dtype,\n",
    "#     \"n\": pd.Int8Dtype,\n",
    "# }"
   ]
  },
  {
   "cell_type": "code",
   "execution_count": null,
   "metadata": {},
   "outputs": [],
   "source": [
    "l = pd.DataFrame(simplejson.load(open('results/test/AL.0.json','r')))\n",
    "l"
   ]
  },
  {
   "cell_type": "code",
   "execution_count": 110,
   "metadata": {},
   "outputs": [
    {
     "output_type": "stream",
     "name": "stdout",
     "text": "1.75 ms ± 54 µs per loop (mean ± std. dev. of 7 runs, 1000 loops each)\n"
    }
   ],
   "source": [
    "%%timeit\n",
    "l = pd.DataFrame(simplejson.load(open('results/test/AL.0.json','r')),\n",
    "columns=all_cols.keys(), convert_dtypes=all_cols )\n",
    "l"
   ]
  },
  {
   "cell_type": "code",
   "execution_count": 103,
   "metadata": {},
   "outputs": [
    {
     "output_type": "execute_result",
     "data": {
      "text/plain": "      0        1    2    3    4    5    6    7    8      9       10     11  \\\n0     0  3/13/20  0.0  0.0  0.0  0.0  0.0  0.0  0.0   1.25  17.1233      0   \n1     4  3/17/20  0.0  0.0  0.0  0.0  0.0  0.0  0.0   9.75  133.562      0   \n2     8  3/21/20  0.0  0.0  0.0  0.0  0.0  0.0  0.0  32.75   448.63      0   \n3    12  3/25/20  0.0  0.0  0.0  0.0  0.0  0.0  0.0     95  1301.37      1   \n4    16  3/29/20  0.0  0.0  0.0  0.0  0.0  0.0  0.0  196.5  2691.78     10   \n5    20   4/2/20  0.0  0.0  0.0  0.0  0.0  0.0  0.0  279.5  3828.77     32   \n6    24   4/6/20  0.0  0.0  0.0  0.0  0.0  0.0  0.0    446    10149     56   \n7    28  4/10/20  0.0  0.0  0.0  0.0  0.0  0.0  0.0    831    22881     87   \n8    32  4/14/20  0.0  0.0  0.0  0.0  0.0  0.0  0.0   1777    51393    139   \n9    36  4/18/20  0.0  0.0  0.0  0.0  0.0  0.0  0.0   3915   113518    241   \n10   40  4/22/20  0.0  0.0  0.0  0.0  0.0  0.0  0.0   8505   241284    459   \n11   44  4/26/20  0.0  0.0  0.0  0.0  0.0  0.0  0.0  17602   474287    928   \n12   48  4/30/20  0.0  0.0  0.0  0.0  0.0  0.0  0.0  33161   810678   1896   \n13   52   5/4/20  0.0  0.0  0.0  0.0  0.0  0.0  0.0  53944  1129045   3738   \n14   56   5/8/20  0.0  0.0  0.0  0.0  0.0  0.0  0.0  73143  1246341   6829   \n15   60  5/12/20  0.0  0.0  0.0  0.0  0.0  0.0  0.0  82803  1120806  11300   \n16   64  5/16/20  0.0  0.0  0.0  0.0  0.0  0.0  0.0  80597   867589  16870   \n17   68  5/20/20  0.0  0.0  0.0  0.0  0.0  0.0  0.0  69938   608577  22956   \n18   72  5/24/20  0.0  0.0  0.0  0.0  0.0  0.0  0.0  55806   401404  28929   \n19   76  5/28/20  0.0  0.0  0.0  0.0  0.0  0.0  0.0  41906   254975  34315   \n20   80   6/1/20  0.0  0.0  0.0  0.0  0.0  0.0  0.0  30107   158316  38858   \n21   84   6/5/20  0.0  0.0  0.0  0.0  0.0  0.0  0.0  20935    96965  42497   \n22   88   6/9/20  0.0  0.0  0.0  0.0  0.0  0.0  0.0  14207    58908  45292   \n23   92  6/13/20  0.0  0.0  0.0  0.0  0.0  0.0  0.0   9463    35617  47370   \n24   96  6/17/20  0.0  0.0  0.0  0.0  0.0  0.0  0.0   6213    21475  48873   \n25  100  6/21/20  0.0  0.0  0.0  0.0  0.0  0.0  0.0   4034    12929  49937   \n26  104  6/25/20  0.0  0.0  0.0  0.0  0.0  0.0  0.0   2596     7777  50677   \n27  108  6/29/20  0.0  0.0  0.0  0.0  0.0  0.0  0.0   1658     4677  51183   \n28  112   7/3/20  0.0  0.0  0.0  0.0  0.0  0.0  0.0   1053     2813  51525   \n\n       12   13   14   15   16       17   18   19  \n0    6080  0.0  0.0  0.0  0.0  4903185  0.0  0.0  \n1    7390  0.0  0.0  0.0  0.0  4903185  0.0  0.0  \n2    8982  0.0  0.0  0.0  0.0  4903185  0.0  0.0  \n3   10918  0.0  0.0  0.0  0.0  4903185  0.0  0.0  \n4   12585  0.0  0.0  0.0  0.0  4903185  0.0  0.0  \n5   12585  0.0  0.0  0.0  0.0  4903185  0.0  0.0  \n6   12585  0.0  0.0  0.0  0.0  4903185  0.0  0.0  \n7   12585  0.0  0.0  0.0  0.0  4903185  0.0  0.0  \n8   12585  0.0  0.0  0.0  0.0  4903185  0.0  0.0  \n9   12585  0.0  0.0  0.0  0.0  4903185  0.0  0.0  \n10  12585  0.0  0.0  0.0  0.0  4903185  0.0  0.0  \n11  12585  0.0  0.0  0.0  0.0  4903185  0.0  0.0  \n12  12585  0.0  0.0  0.0  0.0  4903185  0.0  0.0  \n13  12585  0.0  0.0  0.0  0.0  4903185  0.0  0.0  \n14  12585  0.0  0.0  0.0  0.0  4903185  0.0  0.0  \n15  12585  0.0  0.0  0.0  0.0  4903185  0.0  0.0  \n16  12585  0.0  0.0  0.0  0.0  4903185  0.0  0.0  \n17  12585  0.0  0.0  0.0  0.0  4903185  0.0  0.0  \n18  12585  0.0  0.0  0.0  0.0  4903185  0.0  0.0  \n19  12585  0.0  0.0  0.0  0.0  4903185  0.0  0.0  \n20  12585  0.0  0.0  0.0  0.0  4903185  0.0  0.0  \n21  12585  0.0  0.0  0.0  0.0  4903185  0.0  0.0  \n22  12585  0.0  0.0  0.0  0.0  4903185  0.0  0.0  \n23  12585  0.0  0.0  0.0  0.0  4903185  0.0  0.0  \n24  12585  0.0  0.0  0.0  0.0  4903185  0.0  0.0  \n25  12585  0.0  0.0  0.0  0.0  4903185  0.0  0.0  \n26  12585  0.0  0.0  0.0  0.0  4903185  0.0  0.0  \n27  12585  0.0  0.0  0.0  0.0  4903185  0.0  0.0  \n28  12585  0.0  0.0  0.0  0.0  4903185  0.0  0.0  ",
      "text/html": "<div>\n<style scoped>\n    .dataframe tbody tr th:only-of-type {\n        vertical-align: middle;\n    }\n\n    .dataframe tbody tr th {\n        vertical-align: top;\n    }\n\n    .dataframe thead th {\n        text-align: right;\n    }\n</style>\n<table border=\"1\" class=\"dataframe\">\n  <thead>\n    <tr style=\"text-align: right;\">\n      <th></th>\n      <th>0</th>\n      <th>1</th>\n      <th>2</th>\n      <th>3</th>\n      <th>4</th>\n      <th>5</th>\n      <th>6</th>\n      <th>7</th>\n      <th>8</th>\n      <th>9</th>\n      <th>10</th>\n      <th>11</th>\n      <th>12</th>\n      <th>13</th>\n      <th>14</th>\n      <th>15</th>\n      <th>16</th>\n      <th>17</th>\n      <th>18</th>\n      <th>19</th>\n    </tr>\n  </thead>\n  <tbody>\n    <tr>\n      <th>0</th>\n      <td>0</td>\n      <td>3/13/20</td>\n      <td>0.0</td>\n      <td>0.0</td>\n      <td>0.0</td>\n      <td>0.0</td>\n      <td>0.0</td>\n      <td>0.0</td>\n      <td>0.0</td>\n      <td>1.25</td>\n      <td>17.1233</td>\n      <td>0</td>\n      <td>6080</td>\n      <td>0.0</td>\n      <td>0.0</td>\n      <td>0.0</td>\n      <td>0.0</td>\n      <td>4903185</td>\n      <td>0.0</td>\n      <td>0.0</td>\n    </tr>\n    <tr>\n      <th>1</th>\n      <td>4</td>\n      <td>3/17/20</td>\n      <td>0.0</td>\n      <td>0.0</td>\n      <td>0.0</td>\n      <td>0.0</td>\n      <td>0.0</td>\n      <td>0.0</td>\n      <td>0.0</td>\n      <td>9.75</td>\n      <td>133.562</td>\n      <td>0</td>\n      <td>7390</td>\n      <td>0.0</td>\n      <td>0.0</td>\n      <td>0.0</td>\n      <td>0.0</td>\n      <td>4903185</td>\n      <td>0.0</td>\n      <td>0.0</td>\n    </tr>\n    <tr>\n      <th>2</th>\n      <td>8</td>\n      <td>3/21/20</td>\n      <td>0.0</td>\n      <td>0.0</td>\n      <td>0.0</td>\n      <td>0.0</td>\n      <td>0.0</td>\n      <td>0.0</td>\n      <td>0.0</td>\n      <td>32.75</td>\n      <td>448.63</td>\n      <td>0</td>\n      <td>8982</td>\n      <td>0.0</td>\n      <td>0.0</td>\n      <td>0.0</td>\n      <td>0.0</td>\n      <td>4903185</td>\n      <td>0.0</td>\n      <td>0.0</td>\n    </tr>\n    <tr>\n      <th>3</th>\n      <td>12</td>\n      <td>3/25/20</td>\n      <td>0.0</td>\n      <td>0.0</td>\n      <td>0.0</td>\n      <td>0.0</td>\n      <td>0.0</td>\n      <td>0.0</td>\n      <td>0.0</td>\n      <td>95</td>\n      <td>1301.37</td>\n      <td>1</td>\n      <td>10918</td>\n      <td>0.0</td>\n      <td>0.0</td>\n      <td>0.0</td>\n      <td>0.0</td>\n      <td>4903185</td>\n      <td>0.0</td>\n      <td>0.0</td>\n    </tr>\n    <tr>\n      <th>4</th>\n      <td>16</td>\n      <td>3/29/20</td>\n      <td>0.0</td>\n      <td>0.0</td>\n      <td>0.0</td>\n      <td>0.0</td>\n      <td>0.0</td>\n      <td>0.0</td>\n      <td>0.0</td>\n      <td>196.5</td>\n      <td>2691.78</td>\n      <td>10</td>\n      <td>12585</td>\n      <td>0.0</td>\n      <td>0.0</td>\n      <td>0.0</td>\n      <td>0.0</td>\n      <td>4903185</td>\n      <td>0.0</td>\n      <td>0.0</td>\n    </tr>\n    <tr>\n      <th>5</th>\n      <td>20</td>\n      <td>4/2/20</td>\n      <td>0.0</td>\n      <td>0.0</td>\n      <td>0.0</td>\n      <td>0.0</td>\n      <td>0.0</td>\n      <td>0.0</td>\n      <td>0.0</td>\n      <td>279.5</td>\n      <td>3828.77</td>\n      <td>32</td>\n      <td>12585</td>\n      <td>0.0</td>\n      <td>0.0</td>\n      <td>0.0</td>\n      <td>0.0</td>\n      <td>4903185</td>\n      <td>0.0</td>\n      <td>0.0</td>\n    </tr>\n    <tr>\n      <th>6</th>\n      <td>24</td>\n      <td>4/6/20</td>\n      <td>0.0</td>\n      <td>0.0</td>\n      <td>0.0</td>\n      <td>0.0</td>\n      <td>0.0</td>\n      <td>0.0</td>\n      <td>0.0</td>\n      <td>446</td>\n      <td>10149</td>\n      <td>56</td>\n      <td>12585</td>\n      <td>0.0</td>\n      <td>0.0</td>\n      <td>0.0</td>\n      <td>0.0</td>\n      <td>4903185</td>\n      <td>0.0</td>\n      <td>0.0</td>\n    </tr>\n    <tr>\n      <th>7</th>\n      <td>28</td>\n      <td>4/10/20</td>\n      <td>0.0</td>\n      <td>0.0</td>\n      <td>0.0</td>\n      <td>0.0</td>\n      <td>0.0</td>\n      <td>0.0</td>\n      <td>0.0</td>\n      <td>831</td>\n      <td>22881</td>\n      <td>87</td>\n      <td>12585</td>\n      <td>0.0</td>\n      <td>0.0</td>\n      <td>0.0</td>\n      <td>0.0</td>\n      <td>4903185</td>\n      <td>0.0</td>\n      <td>0.0</td>\n    </tr>\n    <tr>\n      <th>8</th>\n      <td>32</td>\n      <td>4/14/20</td>\n      <td>0.0</td>\n      <td>0.0</td>\n      <td>0.0</td>\n      <td>0.0</td>\n      <td>0.0</td>\n      <td>0.0</td>\n      <td>0.0</td>\n      <td>1777</td>\n      <td>51393</td>\n      <td>139</td>\n      <td>12585</td>\n      <td>0.0</td>\n      <td>0.0</td>\n      <td>0.0</td>\n      <td>0.0</td>\n      <td>4903185</td>\n      <td>0.0</td>\n      <td>0.0</td>\n    </tr>\n    <tr>\n      <th>9</th>\n      <td>36</td>\n      <td>4/18/20</td>\n      <td>0.0</td>\n      <td>0.0</td>\n      <td>0.0</td>\n      <td>0.0</td>\n      <td>0.0</td>\n      <td>0.0</td>\n      <td>0.0</td>\n      <td>3915</td>\n      <td>113518</td>\n      <td>241</td>\n      <td>12585</td>\n      <td>0.0</td>\n      <td>0.0</td>\n      <td>0.0</td>\n      <td>0.0</td>\n      <td>4903185</td>\n      <td>0.0</td>\n      <td>0.0</td>\n    </tr>\n    <tr>\n      <th>10</th>\n      <td>40</td>\n      <td>4/22/20</td>\n      <td>0.0</td>\n      <td>0.0</td>\n      <td>0.0</td>\n      <td>0.0</td>\n      <td>0.0</td>\n      <td>0.0</td>\n      <td>0.0</td>\n      <td>8505</td>\n      <td>241284</td>\n      <td>459</td>\n      <td>12585</td>\n      <td>0.0</td>\n      <td>0.0</td>\n      <td>0.0</td>\n      <td>0.0</td>\n      <td>4903185</td>\n      <td>0.0</td>\n      <td>0.0</td>\n    </tr>\n    <tr>\n      <th>11</th>\n      <td>44</td>\n      <td>4/26/20</td>\n      <td>0.0</td>\n      <td>0.0</td>\n      <td>0.0</td>\n      <td>0.0</td>\n      <td>0.0</td>\n      <td>0.0</td>\n      <td>0.0</td>\n      <td>17602</td>\n      <td>474287</td>\n      <td>928</td>\n      <td>12585</td>\n      <td>0.0</td>\n      <td>0.0</td>\n      <td>0.0</td>\n      <td>0.0</td>\n      <td>4903185</td>\n      <td>0.0</td>\n      <td>0.0</td>\n    </tr>\n    <tr>\n      <th>12</th>\n      <td>48</td>\n      <td>4/30/20</td>\n      <td>0.0</td>\n      <td>0.0</td>\n      <td>0.0</td>\n      <td>0.0</td>\n      <td>0.0</td>\n      <td>0.0</td>\n      <td>0.0</td>\n      <td>33161</td>\n      <td>810678</td>\n      <td>1896</td>\n      <td>12585</td>\n      <td>0.0</td>\n      <td>0.0</td>\n      <td>0.0</td>\n      <td>0.0</td>\n      <td>4903185</td>\n      <td>0.0</td>\n      <td>0.0</td>\n    </tr>\n    <tr>\n      <th>13</th>\n      <td>52</td>\n      <td>5/4/20</td>\n      <td>0.0</td>\n      <td>0.0</td>\n      <td>0.0</td>\n      <td>0.0</td>\n      <td>0.0</td>\n      <td>0.0</td>\n      <td>0.0</td>\n      <td>53944</td>\n      <td>1129045</td>\n      <td>3738</td>\n      <td>12585</td>\n      <td>0.0</td>\n      <td>0.0</td>\n      <td>0.0</td>\n      <td>0.0</td>\n      <td>4903185</td>\n      <td>0.0</td>\n      <td>0.0</td>\n    </tr>\n    <tr>\n      <th>14</th>\n      <td>56</td>\n      <td>5/8/20</td>\n      <td>0.0</td>\n      <td>0.0</td>\n      <td>0.0</td>\n      <td>0.0</td>\n      <td>0.0</td>\n      <td>0.0</td>\n      <td>0.0</td>\n      <td>73143</td>\n      <td>1246341</td>\n      <td>6829</td>\n      <td>12585</td>\n      <td>0.0</td>\n      <td>0.0</td>\n      <td>0.0</td>\n      <td>0.0</td>\n      <td>4903185</td>\n      <td>0.0</td>\n      <td>0.0</td>\n    </tr>\n    <tr>\n      <th>15</th>\n      <td>60</td>\n      <td>5/12/20</td>\n      <td>0.0</td>\n      <td>0.0</td>\n      <td>0.0</td>\n      <td>0.0</td>\n      <td>0.0</td>\n      <td>0.0</td>\n      <td>0.0</td>\n      <td>82803</td>\n      <td>1120806</td>\n      <td>11300</td>\n      <td>12585</td>\n      <td>0.0</td>\n      <td>0.0</td>\n      <td>0.0</td>\n      <td>0.0</td>\n      <td>4903185</td>\n      <td>0.0</td>\n      <td>0.0</td>\n    </tr>\n    <tr>\n      <th>16</th>\n      <td>64</td>\n      <td>5/16/20</td>\n      <td>0.0</td>\n      <td>0.0</td>\n      <td>0.0</td>\n      <td>0.0</td>\n      <td>0.0</td>\n      <td>0.0</td>\n      <td>0.0</td>\n      <td>80597</td>\n      <td>867589</td>\n      <td>16870</td>\n      <td>12585</td>\n      <td>0.0</td>\n      <td>0.0</td>\n      <td>0.0</td>\n      <td>0.0</td>\n      <td>4903185</td>\n      <td>0.0</td>\n      <td>0.0</td>\n    </tr>\n    <tr>\n      <th>17</th>\n      <td>68</td>\n      <td>5/20/20</td>\n      <td>0.0</td>\n      <td>0.0</td>\n      <td>0.0</td>\n      <td>0.0</td>\n      <td>0.0</td>\n      <td>0.0</td>\n      <td>0.0</td>\n      <td>69938</td>\n      <td>608577</td>\n      <td>22956</td>\n      <td>12585</td>\n      <td>0.0</td>\n      <td>0.0</td>\n      <td>0.0</td>\n      <td>0.0</td>\n      <td>4903185</td>\n      <td>0.0</td>\n      <td>0.0</td>\n    </tr>\n    <tr>\n      <th>18</th>\n      <td>72</td>\n      <td>5/24/20</td>\n      <td>0.0</td>\n      <td>0.0</td>\n      <td>0.0</td>\n      <td>0.0</td>\n      <td>0.0</td>\n      <td>0.0</td>\n      <td>0.0</td>\n      <td>55806</td>\n      <td>401404</td>\n      <td>28929</td>\n      <td>12585</td>\n      <td>0.0</td>\n      <td>0.0</td>\n      <td>0.0</td>\n      <td>0.0</td>\n      <td>4903185</td>\n      <td>0.0</td>\n      <td>0.0</td>\n    </tr>\n    <tr>\n      <th>19</th>\n      <td>76</td>\n      <td>5/28/20</td>\n      <td>0.0</td>\n      <td>0.0</td>\n      <td>0.0</td>\n      <td>0.0</td>\n      <td>0.0</td>\n      <td>0.0</td>\n      <td>0.0</td>\n      <td>41906</td>\n      <td>254975</td>\n      <td>34315</td>\n      <td>12585</td>\n      <td>0.0</td>\n      <td>0.0</td>\n      <td>0.0</td>\n      <td>0.0</td>\n      <td>4903185</td>\n      <td>0.0</td>\n      <td>0.0</td>\n    </tr>\n    <tr>\n      <th>20</th>\n      <td>80</td>\n      <td>6/1/20</td>\n      <td>0.0</td>\n      <td>0.0</td>\n      <td>0.0</td>\n      <td>0.0</td>\n      <td>0.0</td>\n      <td>0.0</td>\n      <td>0.0</td>\n      <td>30107</td>\n      <td>158316</td>\n      <td>38858</td>\n      <td>12585</td>\n      <td>0.0</td>\n      <td>0.0</td>\n      <td>0.0</td>\n      <td>0.0</td>\n      <td>4903185</td>\n      <td>0.0</td>\n      <td>0.0</td>\n    </tr>\n    <tr>\n      <th>21</th>\n      <td>84</td>\n      <td>6/5/20</td>\n      <td>0.0</td>\n      <td>0.0</td>\n      <td>0.0</td>\n      <td>0.0</td>\n      <td>0.0</td>\n      <td>0.0</td>\n      <td>0.0</td>\n      <td>20935</td>\n      <td>96965</td>\n      <td>42497</td>\n      <td>12585</td>\n      <td>0.0</td>\n      <td>0.0</td>\n      <td>0.0</td>\n      <td>0.0</td>\n      <td>4903185</td>\n      <td>0.0</td>\n      <td>0.0</td>\n    </tr>\n    <tr>\n      <th>22</th>\n      <td>88</td>\n      <td>6/9/20</td>\n      <td>0.0</td>\n      <td>0.0</td>\n      <td>0.0</td>\n      <td>0.0</td>\n      <td>0.0</td>\n      <td>0.0</td>\n      <td>0.0</td>\n      <td>14207</td>\n      <td>58908</td>\n      <td>45292</td>\n      <td>12585</td>\n      <td>0.0</td>\n      <td>0.0</td>\n      <td>0.0</td>\n      <td>0.0</td>\n      <td>4903185</td>\n      <td>0.0</td>\n      <td>0.0</td>\n    </tr>\n    <tr>\n      <th>23</th>\n      <td>92</td>\n      <td>6/13/20</td>\n      <td>0.0</td>\n      <td>0.0</td>\n      <td>0.0</td>\n      <td>0.0</td>\n      <td>0.0</td>\n      <td>0.0</td>\n      <td>0.0</td>\n      <td>9463</td>\n      <td>35617</td>\n      <td>47370</td>\n      <td>12585</td>\n      <td>0.0</td>\n      <td>0.0</td>\n      <td>0.0</td>\n      <td>0.0</td>\n      <td>4903185</td>\n      <td>0.0</td>\n      <td>0.0</td>\n    </tr>\n    <tr>\n      <th>24</th>\n      <td>96</td>\n      <td>6/17/20</td>\n      <td>0.0</td>\n      <td>0.0</td>\n      <td>0.0</td>\n      <td>0.0</td>\n      <td>0.0</td>\n      <td>0.0</td>\n      <td>0.0</td>\n      <td>6213</td>\n      <td>21475</td>\n      <td>48873</td>\n      <td>12585</td>\n      <td>0.0</td>\n      <td>0.0</td>\n      <td>0.0</td>\n      <td>0.0</td>\n      <td>4903185</td>\n      <td>0.0</td>\n      <td>0.0</td>\n    </tr>\n    <tr>\n      <th>25</th>\n      <td>100</td>\n      <td>6/21/20</td>\n      <td>0.0</td>\n      <td>0.0</td>\n      <td>0.0</td>\n      <td>0.0</td>\n      <td>0.0</td>\n      <td>0.0</td>\n      <td>0.0</td>\n      <td>4034</td>\n      <td>12929</td>\n      <td>49937</td>\n      <td>12585</td>\n      <td>0.0</td>\n      <td>0.0</td>\n      <td>0.0</td>\n      <td>0.0</td>\n      <td>4903185</td>\n      <td>0.0</td>\n      <td>0.0</td>\n    </tr>\n    <tr>\n      <th>26</th>\n      <td>104</td>\n      <td>6/25/20</td>\n      <td>0.0</td>\n      <td>0.0</td>\n      <td>0.0</td>\n      <td>0.0</td>\n      <td>0.0</td>\n      <td>0.0</td>\n      <td>0.0</td>\n      <td>2596</td>\n      <td>7777</td>\n      <td>50677</td>\n      <td>12585</td>\n      <td>0.0</td>\n      <td>0.0</td>\n      <td>0.0</td>\n      <td>0.0</td>\n      <td>4903185</td>\n      <td>0.0</td>\n      <td>0.0</td>\n    </tr>\n    <tr>\n      <th>27</th>\n      <td>108</td>\n      <td>6/29/20</td>\n      <td>0.0</td>\n      <td>0.0</td>\n      <td>0.0</td>\n      <td>0.0</td>\n      <td>0.0</td>\n      <td>0.0</td>\n      <td>0.0</td>\n      <td>1658</td>\n      <td>4677</td>\n      <td>51183</td>\n      <td>12585</td>\n      <td>0.0</td>\n      <td>0.0</td>\n      <td>0.0</td>\n      <td>0.0</td>\n      <td>4903185</td>\n      <td>0.0</td>\n      <td>0.0</td>\n    </tr>\n    <tr>\n      <th>28</th>\n      <td>112</td>\n      <td>7/3/20</td>\n      <td>0.0</td>\n      <td>0.0</td>\n      <td>0.0</td>\n      <td>0.0</td>\n      <td>0.0</td>\n      <td>0.0</td>\n      <td>0.0</td>\n      <td>1053</td>\n      <td>2813</td>\n      <td>51525</td>\n      <td>12585</td>\n      <td>0.0</td>\n      <td>0.0</td>\n      <td>0.0</td>\n      <td>0.0</td>\n      <td>4903185</td>\n      <td>0.0</td>\n      <td>0.0</td>\n    </tr>\n  </tbody>\n</table>\n</div>"
     },
     "metadata": {},
     "execution_count": 103
    }
   ],
   "source": [
    "l = pd.DataFrame(simplejson.load(open('results/test/AL.0.json','r')))\n",
    "l"
   ]
  },
  {
   "cell_type": "code",
   "execution_count": 102,
   "metadata": {},
   "outputs": [
    {
     "output_type": "execute_result",
     "data": {
      "text/plain": "                                                   0\n0  [[0, \"3/13/20\", 0.0, 0.0, 0.0, 0.0, 0.0, 0.0, ...",
      "text/html": "<div>\n<style scoped>\n    .dataframe tbody tr th:only-of-type {\n        vertical-align: middle;\n    }\n\n    .dataframe tbody tr th {\n        vertical-align: top;\n    }\n\n    .dataframe thead th {\n        text-align: right;\n    }\n</style>\n<table border=\"1\" class=\"dataframe\">\n  <thead>\n    <tr style=\"text-align: right;\">\n      <th></th>\n      <th>0</th>\n    </tr>\n  </thead>\n  <tbody>\n    <tr>\n      <th>0</th>\n      <td>[[0, \"3/13/20\", 0.0, 0.0, 0.0, 0.0, 0.0, 0.0, ...</td>\n    </tr>\n  </tbody>\n</table>\n</div>"
     },
     "metadata": {},
     "execution_count": 102
    }
   ],
   "source": [
    "l = pd.DataFrame(l for l in open('results/test/AL.0.json','r'))\n",
    "l"
   ]
  },
  {
   "cell_type": "code",
   "execution_count": 372,
   "metadata": {},
   "outputs": [
    {
     "output_type": "error",
     "ename": "AttributeError",
     "evalue": "'str' object has no attribute 'read'",
     "traceback": [
      "\u001b[0;31m---------------------------------------------------------------------------\u001b[0m",
      "\u001b[0;31mAttributeError\u001b[0m                            Traceback (most recent call last)",
      "\u001b[0;32m<ipython-input-372-382766feec3e>\u001b[0m in \u001b[0;36m<module>\u001b[0;34m\u001b[0m\n\u001b[0;32m----> 1\u001b[0;31m \u001b[0mget_ipython\u001b[0m\u001b[0;34m(\u001b[0m\u001b[0;34m)\u001b[0m\u001b[0;34m.\u001b[0m\u001b[0mrun_cell_magic\u001b[0m\u001b[0;34m(\u001b[0m\u001b[0;34m'timeit'\u001b[0m\u001b[0;34m,\u001b[0m \u001b[0;34m''\u001b[0m\u001b[0;34m,\u001b[0m \u001b[0;34m\"l = pd.concat(simplejson.load(l) for l in open('results/test/AL.0.json','r'))\\n\"\u001b[0m\u001b[0;34m)\u001b[0m\u001b[0;34m\u001b[0m\u001b[0;34m\u001b[0m\u001b[0m\n\u001b[0m",
      "\u001b[0;32m~/.pyenv/versions/covid-data-model/lib/python3.7/site-packages/IPython/core/interactiveshell.py\u001b[0m in \u001b[0;36mrun_cell_magic\u001b[0;34m(self, magic_name, line, cell)\u001b[0m\n\u001b[1;32m   2360\u001b[0m             \u001b[0;32mwith\u001b[0m \u001b[0mself\u001b[0m\u001b[0;34m.\u001b[0m\u001b[0mbuiltin_trap\u001b[0m\u001b[0;34m:\u001b[0m\u001b[0;34m\u001b[0m\u001b[0;34m\u001b[0m\u001b[0m\n\u001b[1;32m   2361\u001b[0m                 \u001b[0margs\u001b[0m \u001b[0;34m=\u001b[0m \u001b[0;34m(\u001b[0m\u001b[0mmagic_arg_s\u001b[0m\u001b[0;34m,\u001b[0m \u001b[0mcell\u001b[0m\u001b[0;34m)\u001b[0m\u001b[0;34m\u001b[0m\u001b[0;34m\u001b[0m\u001b[0m\n\u001b[0;32m-> 2362\u001b[0;31m                 \u001b[0mresult\u001b[0m \u001b[0;34m=\u001b[0m \u001b[0mfn\u001b[0m\u001b[0;34m(\u001b[0m\u001b[0;34m*\u001b[0m\u001b[0margs\u001b[0m\u001b[0;34m,\u001b[0m \u001b[0;34m**\u001b[0m\u001b[0mkwargs\u001b[0m\u001b[0;34m)\u001b[0m\u001b[0;34m\u001b[0m\u001b[0;34m\u001b[0m\u001b[0m\n\u001b[0m\u001b[1;32m   2363\u001b[0m             \u001b[0;32mreturn\u001b[0m \u001b[0mresult\u001b[0m\u001b[0;34m\u001b[0m\u001b[0;34m\u001b[0m\u001b[0m\n\u001b[1;32m   2364\u001b[0m \u001b[0;34m\u001b[0m\u001b[0m\n",
      "\u001b[0;32m<decorator-gen-60>\u001b[0m in \u001b[0;36mtimeit\u001b[0;34m(self, line, cell, local_ns)\u001b[0m\n",
      "\u001b[0;32m~/.pyenv/versions/covid-data-model/lib/python3.7/site-packages/IPython/core/magic.py\u001b[0m in \u001b[0;36m<lambda>\u001b[0;34m(f, *a, **k)\u001b[0m\n\u001b[1;32m    185\u001b[0m     \u001b[0;31m# but it's overkill for just that one bit of state.\u001b[0m\u001b[0;34m\u001b[0m\u001b[0;34m\u001b[0m\u001b[0;34m\u001b[0m\u001b[0m\n\u001b[1;32m    186\u001b[0m     \u001b[0;32mdef\u001b[0m \u001b[0mmagic_deco\u001b[0m\u001b[0;34m(\u001b[0m\u001b[0marg\u001b[0m\u001b[0;34m)\u001b[0m\u001b[0;34m:\u001b[0m\u001b[0;34m\u001b[0m\u001b[0;34m\u001b[0m\u001b[0m\n\u001b[0;32m--> 187\u001b[0;31m         \u001b[0mcall\u001b[0m \u001b[0;34m=\u001b[0m \u001b[0;32mlambda\u001b[0m \u001b[0mf\u001b[0m\u001b[0;34m,\u001b[0m \u001b[0;34m*\u001b[0m\u001b[0ma\u001b[0m\u001b[0;34m,\u001b[0m \u001b[0;34m**\u001b[0m\u001b[0mk\u001b[0m\u001b[0;34m:\u001b[0m \u001b[0mf\u001b[0m\u001b[0;34m(\u001b[0m\u001b[0;34m*\u001b[0m\u001b[0ma\u001b[0m\u001b[0;34m,\u001b[0m \u001b[0;34m**\u001b[0m\u001b[0mk\u001b[0m\u001b[0;34m)\u001b[0m\u001b[0;34m\u001b[0m\u001b[0;34m\u001b[0m\u001b[0m\n\u001b[0m\u001b[1;32m    188\u001b[0m \u001b[0;34m\u001b[0m\u001b[0m\n\u001b[1;32m    189\u001b[0m         \u001b[0;32mif\u001b[0m \u001b[0mcallable\u001b[0m\u001b[0;34m(\u001b[0m\u001b[0marg\u001b[0m\u001b[0;34m)\u001b[0m\u001b[0;34m:\u001b[0m\u001b[0;34m\u001b[0m\u001b[0;34m\u001b[0m\u001b[0m\n",
      "\u001b[0;32m~/.pyenv/versions/covid-data-model/lib/python3.7/site-packages/IPython/core/magics/execution.py\u001b[0m in \u001b[0;36mtimeit\u001b[0;34m(self, line, cell, local_ns)\u001b[0m\n\u001b[1;32m   1158\u001b[0m             \u001b[0;32mfor\u001b[0m \u001b[0mindex\u001b[0m \u001b[0;32min\u001b[0m \u001b[0mrange\u001b[0m\u001b[0;34m(\u001b[0m\u001b[0;36m0\u001b[0m\u001b[0;34m,\u001b[0m \u001b[0;36m10\u001b[0m\u001b[0;34m)\u001b[0m\u001b[0;34m:\u001b[0m\u001b[0;34m\u001b[0m\u001b[0;34m\u001b[0m\u001b[0m\n\u001b[1;32m   1159\u001b[0m                 \u001b[0mnumber\u001b[0m \u001b[0;34m=\u001b[0m \u001b[0;36m10\u001b[0m \u001b[0;34m**\u001b[0m \u001b[0mindex\u001b[0m\u001b[0;34m\u001b[0m\u001b[0;34m\u001b[0m\u001b[0m\n\u001b[0;32m-> 1160\u001b[0;31m                 \u001b[0mtime_number\u001b[0m \u001b[0;34m=\u001b[0m \u001b[0mtimer\u001b[0m\u001b[0;34m.\u001b[0m\u001b[0mtimeit\u001b[0m\u001b[0;34m(\u001b[0m\u001b[0mnumber\u001b[0m\u001b[0;34m)\u001b[0m\u001b[0;34m\u001b[0m\u001b[0;34m\u001b[0m\u001b[0m\n\u001b[0m\u001b[1;32m   1161\u001b[0m                 \u001b[0;32mif\u001b[0m \u001b[0mtime_number\u001b[0m \u001b[0;34m>=\u001b[0m \u001b[0;36m0.2\u001b[0m\u001b[0;34m:\u001b[0m\u001b[0;34m\u001b[0m\u001b[0;34m\u001b[0m\u001b[0m\n\u001b[1;32m   1162\u001b[0m                     \u001b[0;32mbreak\u001b[0m\u001b[0;34m\u001b[0m\u001b[0;34m\u001b[0m\u001b[0m\n",
      "\u001b[0;32m~/.pyenv/versions/covid-data-model/lib/python3.7/site-packages/IPython/core/magics/execution.py\u001b[0m in \u001b[0;36mtimeit\u001b[0;34m(self, number)\u001b[0m\n\u001b[1;32m    167\u001b[0m         \u001b[0mgc\u001b[0m\u001b[0;34m.\u001b[0m\u001b[0mdisable\u001b[0m\u001b[0;34m(\u001b[0m\u001b[0;34m)\u001b[0m\u001b[0;34m\u001b[0m\u001b[0;34m\u001b[0m\u001b[0m\n\u001b[1;32m    168\u001b[0m         \u001b[0;32mtry\u001b[0m\u001b[0;34m:\u001b[0m\u001b[0;34m\u001b[0m\u001b[0;34m\u001b[0m\u001b[0m\n\u001b[0;32m--> 169\u001b[0;31m             \u001b[0mtiming\u001b[0m \u001b[0;34m=\u001b[0m \u001b[0mself\u001b[0m\u001b[0;34m.\u001b[0m\u001b[0minner\u001b[0m\u001b[0;34m(\u001b[0m\u001b[0mit\u001b[0m\u001b[0;34m,\u001b[0m \u001b[0mself\u001b[0m\u001b[0;34m.\u001b[0m\u001b[0mtimer\u001b[0m\u001b[0;34m)\u001b[0m\u001b[0;34m\u001b[0m\u001b[0;34m\u001b[0m\u001b[0m\n\u001b[0m\u001b[1;32m    170\u001b[0m         \u001b[0;32mfinally\u001b[0m\u001b[0;34m:\u001b[0m\u001b[0;34m\u001b[0m\u001b[0;34m\u001b[0m\u001b[0m\n\u001b[1;32m    171\u001b[0m             \u001b[0;32mif\u001b[0m \u001b[0mgcold\u001b[0m\u001b[0;34m:\u001b[0m\u001b[0;34m\u001b[0m\u001b[0;34m\u001b[0m\u001b[0m\n",
      "\u001b[0;32m<magic-timeit>\u001b[0m in \u001b[0;36minner\u001b[0;34m(_it, _timer)\u001b[0m\n",
      "\u001b[0;32m~/.pyenv/versions/covid-data-model/lib/python3.7/site-packages/pandas/core/reshape/concat.py\u001b[0m in \u001b[0;36mconcat\u001b[0;34m(objs, axis, join, ignore_index, keys, levels, names, verify_integrity, sort, copy)\u001b[0m\n\u001b[1;32m    279\u001b[0m         \u001b[0mverify_integrity\u001b[0m\u001b[0;34m=\u001b[0m\u001b[0mverify_integrity\u001b[0m\u001b[0;34m,\u001b[0m\u001b[0;34m\u001b[0m\u001b[0;34m\u001b[0m\u001b[0m\n\u001b[1;32m    280\u001b[0m         \u001b[0mcopy\u001b[0m\u001b[0;34m=\u001b[0m\u001b[0mcopy\u001b[0m\u001b[0;34m,\u001b[0m\u001b[0;34m\u001b[0m\u001b[0;34m\u001b[0m\u001b[0m\n\u001b[0;32m--> 281\u001b[0;31m         \u001b[0msort\u001b[0m\u001b[0;34m=\u001b[0m\u001b[0msort\u001b[0m\u001b[0;34m,\u001b[0m\u001b[0;34m\u001b[0m\u001b[0;34m\u001b[0m\u001b[0m\n\u001b[0m\u001b[1;32m    282\u001b[0m     )\n\u001b[1;32m    283\u001b[0m \u001b[0;34m\u001b[0m\u001b[0m\n",
      "\u001b[0;32m~/.pyenv/versions/covid-data-model/lib/python3.7/site-packages/pandas/core/reshape/concat.py\u001b[0m in \u001b[0;36m__init__\u001b[0;34m(self, objs, axis, join, keys, levels, names, ignore_index, verify_integrity, copy, sort)\u001b[0m\n\u001b[1;32m    324\u001b[0m             \u001b[0mobjs\u001b[0m \u001b[0;34m=\u001b[0m \u001b[0;34m[\u001b[0m\u001b[0mobjs\u001b[0m\u001b[0;34m[\u001b[0m\u001b[0mk\u001b[0m\u001b[0;34m]\u001b[0m \u001b[0;32mfor\u001b[0m \u001b[0mk\u001b[0m \u001b[0;32min\u001b[0m \u001b[0mkeys\u001b[0m\u001b[0;34m]\u001b[0m\u001b[0;34m\u001b[0m\u001b[0;34m\u001b[0m\u001b[0m\n\u001b[1;32m    325\u001b[0m         \u001b[0;32melse\u001b[0m\u001b[0;34m:\u001b[0m\u001b[0;34m\u001b[0m\u001b[0;34m\u001b[0m\u001b[0m\n\u001b[0;32m--> 326\u001b[0;31m             \u001b[0mobjs\u001b[0m \u001b[0;34m=\u001b[0m \u001b[0mlist\u001b[0m\u001b[0;34m(\u001b[0m\u001b[0mobjs\u001b[0m\u001b[0;34m)\u001b[0m\u001b[0;34m\u001b[0m\u001b[0;34m\u001b[0m\u001b[0m\n\u001b[0m\u001b[1;32m    327\u001b[0m \u001b[0;34m\u001b[0m\u001b[0m\n\u001b[1;32m    328\u001b[0m         \u001b[0;32mif\u001b[0m \u001b[0mlen\u001b[0m\u001b[0;34m(\u001b[0m\u001b[0mobjs\u001b[0m\u001b[0;34m)\u001b[0m \u001b[0;34m==\u001b[0m \u001b[0;36m0\u001b[0m\u001b[0;34m:\u001b[0m\u001b[0;34m\u001b[0m\u001b[0;34m\u001b[0m\u001b[0m\n",
      "\u001b[0;32m<magic-timeit>\u001b[0m in \u001b[0;36m<genexpr>\u001b[0;34m(.0)\u001b[0m\n",
      "\u001b[0;32m~/.pyenv/versions/covid-data-model/lib/python3.7/site-packages/simplejson/__init__.py\u001b[0m in \u001b[0;36mload\u001b[0;34m(fp, encoding, cls, object_hook, parse_float, parse_int, parse_constant, object_pairs_hook, use_decimal, namedtuple_as_object, tuple_as_array, **kw)\u001b[0m\n\u001b[1;32m    465\u001b[0m \u001b[0;34m\u001b[0m\u001b[0m\n\u001b[1;32m    466\u001b[0m     \"\"\"\n\u001b[0;32m--> 467\u001b[0;31m     return loads(fp.read(),\n\u001b[0m\u001b[1;32m    468\u001b[0m         \u001b[0mencoding\u001b[0m\u001b[0;34m=\u001b[0m\u001b[0mencoding\u001b[0m\u001b[0;34m,\u001b[0m \u001b[0mcls\u001b[0m\u001b[0;34m=\u001b[0m\u001b[0mcls\u001b[0m\u001b[0;34m,\u001b[0m \u001b[0mobject_hook\u001b[0m\u001b[0;34m=\u001b[0m\u001b[0mobject_hook\u001b[0m\u001b[0;34m,\u001b[0m\u001b[0;34m\u001b[0m\u001b[0;34m\u001b[0m\u001b[0m\n\u001b[1;32m    469\u001b[0m         \u001b[0mparse_float\u001b[0m\u001b[0;34m=\u001b[0m\u001b[0mparse_float\u001b[0m\u001b[0;34m,\u001b[0m \u001b[0mparse_int\u001b[0m\u001b[0;34m=\u001b[0m\u001b[0mparse_int\u001b[0m\u001b[0;34m,\u001b[0m\u001b[0;34m\u001b[0m\u001b[0;34m\u001b[0m\u001b[0m\n",
      "\u001b[0;31mAttributeError\u001b[0m: 'str' object has no attribute 'read'"
     ]
    }
   ],
   "source": [
    "%%timeit\n",
    "l = pd.concat(simplejson.load(l) for l in open('results/test/AL.0.json','r'))"
   ]
  },
  {
   "cell_type": "code",
   "execution_count": 352,
   "metadata": {},
   "outputs": [
    {
     "output_type": "stream",
     "name": "stdout",
     "text": "5.64 ms ± 323 µs per loop (mean ± std. dev. of 7 runs, 100 loops each)\n"
    }
   ],
   "source": [
    "%%timeit\n",
    "l = read_json_as_df('results/test/AL.0.json')\n",
    "l.dtypes"
   ]
  },
  {
   "cell_type": "code",
   "execution_count": 349,
   "metadata": {},
   "outputs": [
    {
     "output_type": "stream",
     "name": "stderr",
     "text": "WARNING:libs.datasets.dataset_utils:Did not match 46 codes to county data.\nWARNING:libs.datasets.dataset_utils:['00066', '00072', '00078', '60000', '66000', '69000', '78000', '80008', '88888', '90001', '90002', '90004', '90005', '90006', '90008', '90009', '90010', '90012', '90013', '90015', '90016', '90017', '90019', '90021', '90023', '90024', '90025', '90027', '90029', '90030', '90031', '90032', '90033', '90034', '90035', '90036', '90038', '90040', '90044', '90046', '90047', '90050', '90051', '90053', '90054', '90055']\nModels missing for 1314 states\nWARNING:libs.datasets.dataset_utils:Did not match 46 codes to county data.\nWARNING:libs.datasets.dataset_utils:['00066', '00072', '00078', '60000', '66000', '69000', '78000', '80008', '88888', '90001', '90002', '90004', '90005', '90006', '90008', '90009', '90010', '90012', '90013', '90015', '90016', '90017', '90019', '90021', '90023', '90024', '90025', '90027', '90029', '90030', '90031', '90032', '90033', '90034', '90035', '90036', '90038', '90040', '90044', '90046', '90047', '90050', '90051', '90053', '90054', '90055']\nModels missing for 1314 states\nWARNING:libs.datasets.dataset_utils:Did not match 46 codes to county data.\nWARNING:libs.datasets.dataset_utils:['00066', '00072', '00078', '60000', '66000', '69000', '78000', '80008', '88888', '90001', '90002', '90004', '90005', '90006', '90008', '90009', '90010', '90012', '90013', '90015', '90016', '90017', '90019', '90021', '90023', '90024', '90025', '90027', '90029', '90030', '90031', '90032', '90033', '90034', '90035', '90036', '90038', '90040', '90044', '90046', '90047', '90050', '90051', '90053', '90054', '90055']\nModels missing for 1314 states\nWARNING:libs.datasets.dataset_utils:Did not match 46 codes to county data.\nWARNING:libs.datasets.dataset_utils:['00066', '00072', '00078', '60000', '66000', '69000', '78000', '80008', '88888', '90001', '90002', '90004', '90005', '90006', '90008', '90009', '90010', '90012', '90013', '90015', '90016', '90017', '90019', '90021', '90023', '90024', '90025', '90027', '90029', '90030', '90031', '90032', '90033', '90034', '90035', '90036', '90038', '90040', '90044', '90046', '90047', '90050', '90051', '90053', '90054', '90055']\nModels missing for 1314 states\nWARNING:libs.datasets.dataset_utils:Did not match 46 codes to county data.\nWARNING:libs.datasets.dataset_utils:['00066', '00072', '00078', '60000', '66000', '69000', '78000', '80008', '88888', '90001', '90002', '90004', '90005', '90006', '90008', '90009', '90010', '90012', '90013', '90015', '90016', '90017', '90019', '90021', '90023', '90024', '90025', '90027', '90029', '90030', '90031', '90032', '90033', '90034', '90035', '90036', '90038', '90040', '90044', '90046', '90047', '90050', '90051', '90053', '90054', '90055']\nModels missing for 1314 states\nWARNING:libs.datasets.dataset_utils:Did not match 46 codes to county data.\nWARNING:libs.datasets.dataset_utils:['00066', '00072', '00078', '60000', '66000', '69000', '78000', '80008', '88888', '90001', '90002', '90004', '90005', '90006', '90008', '90009', '90010', '90012', '90013', '90015', '90016', '90017', '90019', '90021', '90023', '90024', '90025', '90027', '90029', '90030', '90031', '90032', '90033', '90034', '90035', '90036', '90038', '90040', '90044', '90046', '90047', '90050', '90051', '90053', '90054', '90055']\nModels missing for 1314 states\nWARNING:libs.datasets.dataset_utils:Did not match 46 codes to county data.\nWARNING:libs.datasets.dataset_utils:['00066', '00072', '00078', '60000', '66000', '69000', '78000', '80008', '88888', '90001', '90002', '90004', '90005', '90006', '90008', '90009', '90010', '90012', '90013', '90015', '90016', '90017', '90019', '90021', '90023', '90024', '90025', '90027', '90029', '90030', '90031', '90032', '90033', '90034', '90035', '90036', '90038', '90040', '90044', '90046', '90047', '90050', '90051', '90053', '90054', '90055']\nModels missing for 1314 states\nWARNING:libs.datasets.dataset_utils:Did not match 46 codes to county data.\nWARNING:libs.datasets.dataset_utils:['00066', '00072', '00078', '60000', '66000', '69000', '78000', '80008', '88888', '90001', '90002', '90004', '90005', '90006', '90008', '90009', '90010', '90012', '90013', '90015', '90016', '90017', '90019', '90021', '90023', '90024', '90025', '90027', '90029', '90030', '90031', '90032', '90033', '90034', '90035', '90036', '90038', '90040', '90044', '90046', '90047', '90050', '90051', '90053', '90054', '90055']\nModels missing for 1314 states\n31.8 s ± 1.14 s per loop (mean ± std. dev. of 7 runs, 1 loop each)\n"
    }
   ],
   "source": [
    "%%timeit\n",
    "get_county_projections()"
   ]
  },
  {
   "cell_type": "code",
   "execution_count": 326,
   "metadata": {},
   "outputs": [
    {
     "output_type": "execute_result",
     "data": {
      "text/plain": "datetime.datetime(2020, 4, 20, 0, 3, 11, 5573)"
     },
     "metadata": {},
     "execution_count": 326
    }
   ],
   "source": [
    "do"
   ]
  },
  {
   "cell_type": "code",
   "execution_count": 343,
   "metadata": {},
   "outputs": [],
   "source": [
    "ddf = pd.read_csv('deleteme.csv')#, index_col=True)\n",
    "ddf['date'] = pd.to_datetime(ddf.date)\n",
    "ddf['all_hospitalized'] = ddf['all_hospitalized'].astype('int8')\n",
    "ddf['beds'] = ddf['beds'].astype('int8')\n",
    "ddf['short_fall'] = ddf.apply(calc_short_fall, axis=1)\n",
    ""
   ]
  },
  {
   "cell_type": "code",
   "execution_count": 344,
   "metadata": {},
   "outputs": [
    {
     "output_type": "stream",
     "name": "stdout",
     "text": "['all_hospitalized', 'short_fall']\nall_hospitalized    53\nshort_fall           0\nName: 8, dtype: object\n"
    },
    {
     "output_type": "execute_result",
     "data": {
      "text/plain": "(53, 0)"
     },
     "metadata": {},
     "execution_count": 344
    }
   ],
   "source": [
    "get_hospitals_and_shortfalls(ddf, do)"
   ]
  },
  {
   "cell_type": "code",
   "execution_count": 347,
   "metadata": {
    "tags": [
     "outputPrepend",
     "outputPrepend",
     "outputPrepend",
     "outputPrepend",
     "outputPrepend",
     "outputPrepend",
     "outputPrepend",
     "outputPrepend",
     "outputPrepend",
     "outputPrepend",
     "outputPrepend",
     "outputPrepend",
     "outputPrepend",
     "outputPrepend",
     "outputPrepend",
     "outputPrepend",
     "outputPrepend",
     "outputPrepend",
     "outputPrepend",
     "outputPrepend",
     "outputPrepend",
     "outputPrepend",
     "outputPrepend",
     "outputPrepend",
     "outputPrepend",
     "outputPrepend",
     "outputPrepend",
     "outputPrepend",
     "outputPrepend",
     "outputPrepend",
     "outputPrepend",
     "outputPrepend",
     "outputPrepend",
     "outputPrepend",
     "outputPrepend",
     "outputPrepend",
     "outputPrepend",
     "outputPrepend",
     "outputPrepend",
     "outputPrepend",
     "outputPrepend",
     "outputPrepend",
     "outputPrepend",
     "outputPrepend",
     "outputPrepend",
     "outputPrepend",
     "outputPrepend",
     "outputPrepend",
     "outputPrepend",
     "outputPrepend",
     "outputPrepend",
     "outputPrepend",
     "outputPrepend",
     "outputPrepend",
     "outputPrepend",
     "outputPrepend",
     "outputPrepend",
     "outputPrepend",
     "outputPrepend",
     "outputPrepend",
     "outputPrepend",
     "outputPrepend",
     "outputPrepend",
     "outputPrepend",
     "outputPrepend"
    ]
   },
   "outputs": [
    {
     "output_type": "stream",
     "name": "stderr",
     "text": "WARNING:libs.datasets.dataset_utils:Did not match 46 codes to county data.\nWARNING:libs.datasets.dataset_utils:['00066', '00072', '00078', '60000', '66000', '69000', '78000', '80008', '88888', '90001', '90002', '90004', '90005', '90006', '90008', '90009', '90010', '90012', '90013', '90015', '90016', '90017', '90019', '90021', '90023', '90024', '90025', '90027', '90029', '90030', '90031', '90032', '90033', '90034', '90035', '90036', '90038', '90040', '90044', '90046', '90047', '90050', '90051', '90053', '90054', '90055']\nModels missing for 1314 states\n"
    },
    {
     "output_type": "execute_result",
     "data": {
      "text/plain": "     State   FIPS  16-day_Hospitalization_Prediction  \\\n0       AK  02020                                 53   \n1       AK  02090                                 65   \n2       AK  02110                                 82   \n3       AK  02122                                 47   \n4       AK  02130                                 92   \n...    ...    ...                                ...   \n1922    WY  56033                                 82   \n1923    WY  56037                                 26   \n1924    WY  56039                                -76   \n1925    WY  56041                                  5   \n1926    WY  56043                                  8   \n\n      32-day_Hospitalization_Prediction  16-day_Beds_Shortfall  \\\n0                                    85                      0   \n1                                    91                      0   \n2                                     8                     22   \n3                                  -117                      0   \n4                                   -27                     72   \n...                                 ...                    ...   \n1922                                -13                     10   \n1923                               -104                      0   \n1924                                122                      0   \n1925                                113                      0   \n1926                                 97                      0   \n\n      32-day_Beds_Shortfall  Mean Hospitalizations  Mean Deaths  \\\n0                         0                   11.0    -1.730769   \n1                         0                   14.0    -0.076923   \n2                         0                    6.0     3.076923   \n3                         0                    7.0     3.961538   \n4                         0                    8.0    -4.192308   \n...                     ...                    ...          ...   \n1922                      0                    9.0     2.461538   \n1923                      0                    6.0    -2.807692   \n1924                     83                   15.0    -0.230769   \n1925                     27                   17.0    -1.769231   \n1926                     83                   26.0     3.115385   \n\n      Peak Hospitalizations On  Mean Deaths On  \n0                            2               1  \n1                            2               1  \n2                            2               1  \n3                            2               1  \n4                            2               1  \n...                        ...             ...  \n1922                         2               1  \n1923                         2               1  \n1924                         2               1  \n1925                         2               1  \n1926                         2               1  \n\n[1927 rows x 10 columns]",
      "text/html": "<div>\n<style scoped>\n    .dataframe tbody tr th:only-of-type {\n        vertical-align: middle;\n    }\n\n    .dataframe tbody tr th {\n        vertical-align: top;\n    }\n\n    .dataframe thead th {\n        text-align: right;\n    }\n</style>\n<table border=\"1\" class=\"dataframe\">\n  <thead>\n    <tr style=\"text-align: right;\">\n      <th></th>\n      <th>State</th>\n      <th>FIPS</th>\n      <th>16-day_Hospitalization_Prediction</th>\n      <th>32-day_Hospitalization_Prediction</th>\n      <th>16-day_Beds_Shortfall</th>\n      <th>32-day_Beds_Shortfall</th>\n      <th>Mean Hospitalizations</th>\n      <th>Mean Deaths</th>\n      <th>Peak Hospitalizations On</th>\n      <th>Mean Deaths On</th>\n    </tr>\n  </thead>\n  <tbody>\n    <tr>\n      <th>0</th>\n      <td>AK</td>\n      <td>02020</td>\n      <td>53</td>\n      <td>85</td>\n      <td>0</td>\n      <td>0</td>\n      <td>11.0</td>\n      <td>-1.730769</td>\n      <td>2</td>\n      <td>1</td>\n    </tr>\n    <tr>\n      <th>1</th>\n      <td>AK</td>\n      <td>02090</td>\n      <td>65</td>\n      <td>91</td>\n      <td>0</td>\n      <td>0</td>\n      <td>14.0</td>\n      <td>-0.076923</td>\n      <td>2</td>\n      <td>1</td>\n    </tr>\n    <tr>\n      <th>2</th>\n      <td>AK</td>\n      <td>02110</td>\n      <td>82</td>\n      <td>8</td>\n      <td>22</td>\n      <td>0</td>\n      <td>6.0</td>\n      <td>3.076923</td>\n      <td>2</td>\n      <td>1</td>\n    </tr>\n    <tr>\n      <th>3</th>\n      <td>AK</td>\n      <td>02122</td>\n      <td>47</td>\n      <td>-117</td>\n      <td>0</td>\n      <td>0</td>\n      <td>7.0</td>\n      <td>3.961538</td>\n      <td>2</td>\n      <td>1</td>\n    </tr>\n    <tr>\n      <th>4</th>\n      <td>AK</td>\n      <td>02130</td>\n      <td>92</td>\n      <td>-27</td>\n      <td>72</td>\n      <td>0</td>\n      <td>8.0</td>\n      <td>-4.192308</td>\n      <td>2</td>\n      <td>1</td>\n    </tr>\n    <tr>\n      <th>...</th>\n      <td>...</td>\n      <td>...</td>\n      <td>...</td>\n      <td>...</td>\n      <td>...</td>\n      <td>...</td>\n      <td>...</td>\n      <td>...</td>\n      <td>...</td>\n      <td>...</td>\n    </tr>\n    <tr>\n      <th>1922</th>\n      <td>WY</td>\n      <td>56033</td>\n      <td>82</td>\n      <td>-13</td>\n      <td>10</td>\n      <td>0</td>\n      <td>9.0</td>\n      <td>2.461538</td>\n      <td>2</td>\n      <td>1</td>\n    </tr>\n    <tr>\n      <th>1923</th>\n      <td>WY</td>\n      <td>56037</td>\n      <td>26</td>\n      <td>-104</td>\n      <td>0</td>\n      <td>0</td>\n      <td>6.0</td>\n      <td>-2.807692</td>\n      <td>2</td>\n      <td>1</td>\n    </tr>\n    <tr>\n      <th>1924</th>\n      <td>WY</td>\n      <td>56039</td>\n      <td>-76</td>\n      <td>122</td>\n      <td>0</td>\n      <td>83</td>\n      <td>15.0</td>\n      <td>-0.230769</td>\n      <td>2</td>\n      <td>1</td>\n    </tr>\n    <tr>\n      <th>1925</th>\n      <td>WY</td>\n      <td>56041</td>\n      <td>5</td>\n      <td>113</td>\n      <td>0</td>\n      <td>27</td>\n      <td>17.0</td>\n      <td>-1.769231</td>\n      <td>2</td>\n      <td>1</td>\n    </tr>\n    <tr>\n      <th>1926</th>\n      <td>WY</td>\n      <td>56043</td>\n      <td>8</td>\n      <td>97</td>\n      <td>0</td>\n      <td>83</td>\n      <td>26.0</td>\n      <td>3.115385</td>\n      <td>2</td>\n      <td>1</td>\n    </tr>\n  </tbody>\n</table>\n<p>1927 rows × 10 columns</p>\n</div>"
     },
     "metadata": {},
     "execution_count": 347
    }
   ],
   "source": [
    "get_county_projections()"
   ]
  },
  {
   "cell_type": "code",
   "execution_count": 332,
   "metadata": {},
   "outputs": [
    {
     "output_type": "execute_result",
     "data": {
      "text/plain": "day_num                             112\ndate                2020-07-03 00:00:00\na                                     0\nb                                     0\nc                                     0\nd                                     0\ne                                     0\nf                                     0\ng                                     0\nall_hospitalized                   1053\nall_infected                       2813\ndead                              51525\nbeds                              12585\ni                                     0\nj                                     0\nk                                     0\nl                                     0\npopulation                      4903185\nm                                     0\nn                                     0\nshort_fall                            0\nName: 28, dtype: object"
     },
     "metadata": {},
     "execution_count": 332
    }
   ],
   "source": [
    "df.iloc[df.dead.idxmax()]"
   ]
  },
  {
   "cell_type": "code",
   "execution_count": 294,
   "metadata": {},
   "outputs": [
    {
     "output_type": "stream",
     "name": "stderr",
     "text": "WARNING:libs.datasets.dataset_utils:Did not match 46 codes to county data.\nWARNING:libs.datasets.dataset_utils:['00066', '00072', '00078', '60000', '66000', '69000', '78000', '80008', '88888', '90001', '90002', '90004', '90005', '90006', '90008', '90009', '90010', '90012', '90013', '90015', '90016', '90017', '90019', '90021', '90023', '90024', '90025', '90027', '90029', '90030', '90031', '90032', '90033', '90034', '90035', '90036', '90038', '90040', '90044', '90046', '90047', '90050', '90051', '90053', '90054', '90055']\nModels missing for 1314 states\nWARNING:libs.datasets.dataset_utils:Did not match 46 codes to county data.\nWARNING:libs.datasets.dataset_utils:['00066', '00072', '00078', '60000', '66000', '69000', '78000', '80008', '88888', '90001', '90002', '90004', '90005', '90006', '90008', '90009', '90010', '90012', '90013', '90015', '90016', '90017', '90019', '90021', '90023', '90024', '90025', '90027', '90029', '90030', '90031', '90032', '90033', '90034', '90035', '90036', '90038', '90040', '90044', '90046', '90047', '90050', '90051', '90053', '90054', '90055']\nModels missing for 1314 states\nWARNING:libs.datasets.dataset_utils:Did not match 46 codes to county data.\nWARNING:libs.datasets.dataset_utils:['00066', '00072', '00078', '60000', '66000', '69000', '78000', '80008', '88888', '90001', '90002', '90004', '90005', '90006', '90008', '90009', '90010', '90012', '90013', '90015', '90016', '90017', '90019', '90021', '90023', '90024', '90025', '90027', '90029', '90030', '90031', '90032', '90033', '90034', '90035', '90036', '90038', '90040', '90044', '90046', '90047', '90050', '90051', '90053', '90054', '90055']\nModels missing for 1314 states\nWARNING:libs.datasets.dataset_utils:Did not match 46 codes to county data.\nWARNING:libs.datasets.dataset_utils:['00066', '00072', '00078', '60000', '66000', '69000', '78000', '80008', '88888', '90001', '90002', '90004', '90005', '90006', '90008', '90009', '90010', '90012', '90013', '90015', '90016', '90017', '90019', '90021', '90023', '90024', '90025', '90027', '90029', '90030', '90031', '90032', '90033', '90034', '90035', '90036', '90038', '90040', '90044', '90046', '90047', '90050', '90051', '90053', '90054', '90055']\nModels missing for 1314 states\nWARNING:libs.datasets.dataset_utils:Did not match 46 codes to county data.\nWARNING:libs.datasets.dataset_utils:['00066', '00072', '00078', '60000', '66000', '69000', '78000', '80008', '88888', '90001', '90002', '90004', '90005', '90006', '90008', '90009', '90010', '90012', '90013', '90015', '90016', '90017', '90019', '90021', '90023', '90024', '90025', '90027', '90029', '90030', '90031', '90032', '90033', '90034', '90035', '90036', '90038', '90040', '90044', '90046', '90047', '90050', '90051', '90053', '90054', '90055']\nModels missing for 1314 states\nWARNING:libs.datasets.dataset_utils:Did not match 46 codes to county data.\nWARNING:libs.datasets.dataset_utils:['00066', '00072', '00078', '60000', '66000', '69000', '78000', '80008', '88888', '90001', '90002', '90004', '90005', '90006', '90008', '90009', '90010', '90012', '90013', '90015', '90016', '90017', '90019', '90021', '90023', '90024', '90025', '90027', '90029', '90030', '90031', '90032', '90033', '90034', '90035', '90036', '90038', '90040', '90044', '90046', '90047', '90050', '90051', '90053', '90054', '90055']\nModels missing for 1314 states\nWARNING:libs.datasets.dataset_utils:Did not match 46 codes to county data.\nWARNING:libs.datasets.dataset_utils:['00066', '00072', '00078', '60000', '66000', '69000', '78000', '80008', '88888', '90001', '90002', '90004', '90005', '90006', '90008', '90009', '90010', '90012', '90013', '90015', '90016', '90017', '90019', '90021', '90023', '90024', '90025', '90027', '90029', '90030', '90031', '90032', '90033', '90034', '90035', '90036', '90038', '90040', '90044', '90046', '90047', '90050', '90051', '90053', '90054', '90055']\nModels missing for 1314 states\nWARNING:libs.datasets.dataset_utils:Did not match 46 codes to county data.\nWARNING:libs.datasets.dataset_utils:['00066', '00072', '00078', '60000', '66000', '69000', '78000', '80008', '88888', '90001', '90002', '90004', '90005', '90006', '90008', '90009', '90010', '90012', '90013', '90015', '90016', '90017', '90019', '90021', '90023', '90024', '90025', '90027', '90029', '90030', '90031', '90032', '90033', '90034', '90035', '90036', '90038', '90040', '90044', '90046', '90047', '90050', '90051', '90053', '90054', '90055']\nModels missing for 1314 states\n2.15 s ± 81.4 ms per loop (mean ± std. dev. of 7 runs, 1 loop each)\n"
    }
   ],
   "source": [
    "%%timeit\n",
    "get_county_projections()"
   ]
  },
  {
   "cell_type": "code",
   "execution_count": 159,
   "metadata": {},
   "outputs": [],
   "source": [
    "`2.15 s ± 81.4 ms per loop (mean ± std. dev. of 7 runs, 1 loop each)`\n"
   ]
  },
  {
   "cell_type": "code",
   "execution_count": null,
   "metadata": {},
   "outputs": [],
   "source": [
    "%%timeit\n",
    "df.all_hospitalized.mean().round(0)"
   ]
  },
  {
   "cell_type": "code",
   "execution_count": 311,
   "metadata": {},
   "outputs": [
    {
     "output_type": "stream",
     "name": "stdout",
     "text": "74.8 µs ± 817 ns per loop (mean ± std. dev. of 7 runs, 10000 loops each)\n"
    }
   ],
   "source": [
    "%%timeit\n",
    "df.all_hospitalized.mean().round(0)"
   ]
  },
  {
   "cell_type": "code",
   "execution_count": 307,
   "metadata": {},
   "outputs": [],
   "source": [
    "import math"
   ]
  },
  {
   "cell_type": "code",
   "execution_count": 310,
   "metadata": {},
   "outputs": [
    {
     "output_type": "stream",
     "name": "stdout",
     "text": "73 µs ± 1.45 µs per loop (mean ± std. dev. of 7 runs, 10000 loops each)\n"
    }
   ],
   "source": [
    "%%timeit\n",
    "math.floor(df.all_hospitalized.mean())"
   ]
  },
  {
   "cell_type": "code",
   "execution_count": 296,
   "metadata": {},
   "outputs": [
    {
     "output_type": "stream",
     "name": "stderr",
     "text": "WARNING:libs.datasets.dataset_utils:Did not match 46 codes to county data.\nWARNING:libs.datasets.dataset_utils:['00066', '00072', '00078', '60000', '66000', '69000', '78000', '80008', '88888', '90001', '90002', '90004', '90005', '90006', '90008', '90009', '90010', '90012', '90013', '90015', '90016', '90017', '90019', '90021', '90023', '90024', '90025', '90027', '90029', '90030', '90031', '90032', '90033', '90034', '90035', '90036', '90038', '90040', '90044', '90046', '90047', '90050', '90051', '90053', '90054', '90055']\nModels missing for 1314 states\nWARNING:libs.datasets.dataset_utils:Did not match 46 codes to county data.\nWARNING:libs.datasets.dataset_utils:['00066', '00072', '00078', '60000', '66000', '69000', '78000', '80008', '88888', '90001', '90002', '90004', '90005', '90006', '90008', '90009', '90010', '90012', '90013', '90015', '90016', '90017', '90019', '90021', '90023', '90024', '90025', '90027', '90029', '90030', '90031', '90032', '90033', '90034', '90035', '90036', '90038', '90040', '90044', '90046', '90047', '90050', '90051', '90053', '90054', '90055']\nModels missing for 1314 states\nWARNING:libs.datasets.dataset_utils:Did not match 46 codes to county data.\nWARNING:libs.datasets.dataset_utils:['00066', '00072', '00078', '60000', '66000', '69000', '78000', '80008', '88888', '90001', '90002', '90004', '90005', '90006', '90008', '90009', '90010', '90012', '90013', '90015', '90016', '90017', '90019', '90021', '90023', '90024', '90025', '90027', '90029', '90030', '90031', '90032', '90033', '90034', '90035', '90036', '90038', '90040', '90044', '90046', '90047', '90050', '90051', '90053', '90054', '90055']\nModels missing for 1314 states\nWARNING:libs.datasets.dataset_utils:Did not match 46 codes to county data.\nWARNING:libs.datasets.dataset_utils:['00066', '00072', '00078', '60000', '66000', '69000', '78000', '80008', '88888', '90001', '90002', '90004', '90005', '90006', '90008', '90009', '90010', '90012', '90013', '90015', '90016', '90017', '90019', '90021', '90023', '90024', '90025', '90027', '90029', '90030', '90031', '90032', '90033', '90034', '90035', '90036', '90038', '90040', '90044', '90046', '90047', '90050', '90051', '90053', '90054', '90055']\nModels missing for 1314 states\nWARNING:libs.datasets.dataset_utils:Did not match 46 codes to county data.\nWARNING:libs.datasets.dataset_utils:['00066', '00072', '00078', '60000', '66000', '69000', '78000', '80008', '88888', '90001', '90002', '90004', '90005', '90006', '90008', '90009', '90010', '90012', '90013', '90015', '90016', '90017', '90019', '90021', '90023', '90024', '90025', '90027', '90029', '90030', '90031', '90032', '90033', '90034', '90035', '90036', '90038', '90040', '90044', '90046', '90047', '90050', '90051', '90053', '90054', '90055']\nModels missing for 1314 states\nWARNING:libs.datasets.dataset_utils:Did not match 46 codes to county data.\nWARNING:libs.datasets.dataset_utils:['00066', '00072', '00078', '60000', '66000', '69000', '78000', '80008', '88888', '90001', '90002', '90004', '90005', '90006', '90008', '90009', '90010', '90012', '90013', '90015', '90016', '90017', '90019', '90021', '90023', '90024', '90025', '90027', '90029', '90030', '90031', '90032', '90033', '90034', '90035', '90036', '90038', '90040', '90044', '90046', '90047', '90050', '90051', '90053', '90054', '90055']\nModels missing for 1314 states\nWARNING:libs.datasets.dataset_utils:Did not match 46 codes to county data.\nWARNING:libs.datasets.dataset_utils:['00066', '00072', '00078', '60000', '66000', '69000', '78000', '80008', '88888', '90001', '90002', '90004', '90005', '90006', '90008', '90009', '90010', '90012', '90013', '90015', '90016', '90017', '90019', '90021', '90023', '90024', '90025', '90027', '90029', '90030', '90031', '90032', '90033', '90034', '90035', '90036', '90038', '90040', '90044', '90046', '90047', '90050', '90051', '90053', '90054', '90055']\nModels missing for 1314 states\nWARNING:libs.datasets.dataset_utils:Did not match 46 codes to county data.\nWARNING:libs.datasets.dataset_utils:['00066', '00072', '00078', '60000', '66000', '69000', '78000', '80008', '88888', '90001', '90002', '90004', '90005', '90006', '90008', '90009', '90010', '90012', '90013', '90015', '90016', '90017', '90019', '90021', '90023', '90024', '90025', '90027', '90029', '90030', '90031', '90032', '90033', '90034', '90035', '90036', '90038', '90040', '90044', '90046', '90047', '90050', '90051', '90053', '90054', '90055']\nModels missing for 1314 states\n2.28 s ± 42.1 ms per loop (mean ± std. dev. of 7 runs, 1 loop each)\n"
    }
   ],
   "source": [
    "%%timeit\n",
    "get_county_projections()"
   ]
  },
  {
   "cell_type": "code",
   "execution_count": 157,
   "metadata": {},
   "outputs": [],
   "source": []
  },
  {
   "cell_type": "code",
   "execution_count": 233,
   "metadata": {},
   "outputs": [
    {
     "output_type": "execute_result",
     "data": {
      "text/plain": "day_num                              40\ndate                2020-04-22 00:00:00\na                                     0\nb                                     0\nc                                     0\nd                                     0\ne                                     0\nf                                     0\ng                                     0\nall_hospitalized                   8505\nall_infected                     241284\ndead                                459\nbeds                              12585\ni                                     0\nj                                     0\nk                                     0\nl                                     0\npopulation                      4903185\nm                                     0\nn                                     0\nshort_fall                            0\nName: 10, dtype: object"
     },
     "metadata": {},
     "execution_count": 233
    }
   ],
   "source": [
    "first_record_after_date"
   ]
  },
  {
   "cell_type": "code",
   "execution_count": 133,
   "metadata": {},
   "outputs": [],
   "source": []
  },
  {
   "cell_type": "code",
   "execution_count": 110,
   "metadata": {},
   "outputs": [
    {
     "output_type": "execute_result",
     "data": {
      "text/plain": "  state       intervention\n0    MI   shelter_in_place\n1    DE   shelter_in_place\n2    ME  social_distancing\n3    ND  social_distancing\n4    KY  social_distancing",
      "text/html": "<div>\n<style scoped>\n    .dataframe tbody tr th:only-of-type {\n        vertical-align: middle;\n    }\n\n    .dataframe tbody tr th {\n        vertical-align: top;\n    }\n\n    .dataframe thead th {\n        text-align: right;\n    }\n</style>\n<table border=\"1\" class=\"dataframe\">\n  <thead>\n    <tr style=\"text-align: right;\">\n      <th></th>\n      <th>state</th>\n      <th>intervention</th>\n    </tr>\n  </thead>\n  <tbody>\n    <tr>\n      <th>0</th>\n      <td>MI</td>\n      <td>shelter_in_place</td>\n    </tr>\n    <tr>\n      <th>1</th>\n      <td>DE</td>\n      <td>shelter_in_place</td>\n    </tr>\n    <tr>\n      <th>2</th>\n      <td>ME</td>\n      <td>social_distancing</td>\n    </tr>\n    <tr>\n      <th>3</th>\n      <td>ND</td>\n      <td>social_distancing</td>\n    </tr>\n    <tr>\n      <th>4</th>\n      <td>KY</td>\n      <td>social_distancing</td>\n    </tr>\n  </tbody>\n</table>\n</div>"
     },
     "metadata": {},
     "execution_count": 110
    }
   ],
   "source": [
    "get_interventions_df().head()"
   ]
  },
  {
   "cell_type": "code",
   "execution_count": 4,
   "metadata": {},
   "outputs": [
    {
     "output_type": "execute_result",
     "data": {
      "text/plain": "       state abbreviation\n0   Illinois           IL\n1       Iowa           IA\n2    Florida           FL\n3  Minnesota           MN\n4  Louisiana           LA",
      "text/html": "<div>\n<style scoped>\n    .dataframe tbody tr th:only-of-type {\n        vertical-align: middle;\n    }\n\n    .dataframe tbody tr th {\n        vertical-align: top;\n    }\n\n    .dataframe thead th {\n        text-align: right;\n    }\n</style>\n<table border=\"1\" class=\"dataframe\">\n  <thead>\n    <tr style=\"text-align: right;\">\n      <th></th>\n      <th>state</th>\n      <th>abbreviation</th>\n    </tr>\n  </thead>\n  <tbody>\n    <tr>\n      <th>0</th>\n      <td>Illinois</td>\n      <td>IL</td>\n    </tr>\n    <tr>\n      <th>1</th>\n      <td>Iowa</td>\n      <td>IA</td>\n    </tr>\n    <tr>\n      <th>2</th>\n      <td>Florida</td>\n      <td>FL</td>\n    </tr>\n    <tr>\n      <th>3</th>\n      <td>Minnesota</td>\n      <td>MN</td>\n    </tr>\n    <tr>\n      <th>4</th>\n      <td>Louisiana</td>\n      <td>LA</td>\n    </tr>\n  </tbody>\n</table>\n</div>"
     },
     "metadata": {},
     "execution_count": 4
    }
   ],
   "source": [
    "get_abbrev_df().head()"
   ]
  },
  {
   "cell_type": "code",
   "execution_count": 5,
   "metadata": {},
   "outputs": [
    {
     "output_type": "execute_result",
     "data": {
      "text/plain": "  State  Projection1  Projection2\n0    AK            3            8\n1    AL          169          406\n2    AZ           19           46\n3    AR           52          125\n4    CA         1264         3031",
      "text/html": "<div>\n<style scoped>\n    .dataframe tbody tr th:only-of-type {\n        vertical-align: middle;\n    }\n\n    .dataframe tbody tr th {\n        vertical-align: top;\n    }\n\n    .dataframe thead th {\n        text-align: right;\n    }\n</style>\n<table border=\"1\" class=\"dataframe\">\n  <thead>\n    <tr style=\"text-align: right;\">\n      <th></th>\n      <th>State</th>\n      <th>Projection1</th>\n      <th>Projection2</th>\n    </tr>\n  </thead>\n  <tbody>\n    <tr>\n      <th>0</th>\n      <td>AK</td>\n      <td>3</td>\n      <td>8</td>\n    </tr>\n    <tr>\n      <th>1</th>\n      <td>AL</td>\n      <td>169</td>\n      <td>406</td>\n    </tr>\n    <tr>\n      <th>2</th>\n      <td>AZ</td>\n      <td>19</td>\n      <td>46</td>\n    </tr>\n    <tr>\n      <th>3</th>\n      <td>AR</td>\n      <td>52</td>\n      <td>125</td>\n    </tr>\n    <tr>\n      <th>4</th>\n      <td>CA</td>\n      <td>1264</td>\n      <td>3031</td>\n    </tr>\n  </tbody>\n</table>\n</div>"
     },
     "metadata": {},
     "execution_count": 5
    }
   ],
   "source": [
    "get_projections_df().head()"
   ]
  },
  {
   "cell_type": "code",
   "execution_count": 64,
   "metadata": {},
   "outputs": [],
   "source": [
    "f = get_usa_by_states_df().head()"
   ]
  },
  {
   "cell_type": "code",
   "execution_count": 65,
   "metadata": {},
   "outputs": [],
   "source": [
    "g = get_usa_by_county_df().head()"
   ]
  },
  {
   "cell_type": "code",
   "execution_count": 91,
   "metadata": {},
   "outputs": [
    {
     "output_type": "execute_result",
     "data": {
      "text/plain": "3177"
     },
     "metadata": {},
     "execution_count": 91
    }
   ],
   "source": [
    "g = get_usa_by_county_df()\n",
    "#g = g[(g['Confirmed']>0) | (g['Recovered']>0) | (g['Deaths']>0) | (g['Active']>0)]\n",
    "#g = g.sort_values('Confirmed', ascending=False)\n",
    "g.to_clipboard(sep=',')\n",
    "len(g)"
   ]
  },
  {
   "cell_type": "code",
   "execution_count": 92,
   "metadata": {},
   "outputs": [
    {
     "output_type": "execute_result",
     "data": {
      "text/plain": "False    3151\nTrue       26\nName: Latitude, dtype: int64"
     },
     "metadata": {},
     "execution_count": 92
    }
   ],
   "source": [
    "(g.Latitude == 0).value_counts()"
   ]
  },
  {
   "cell_type": "code",
   "execution_count": 93,
   "metadata": {},
   "outputs": [
    {
     "output_type": "execute_result",
     "data": {
      "text/plain": "False    3151\nTrue       26\nName: Longitude, dtype: int64"
     },
     "metadata": {},
     "execution_count": 93
    }
   ],
   "source": [
    "(g.Longitude == 0).value_counts()"
   ]
  },
  {
   "cell_type": "code",
   "execution_count": 94,
   "metadata": {},
   "outputs": [
    {
     "output_type": "execute_result",
     "data": {
      "text/plain": "Province/State               0\nCountry/Region               0\nLast Update                  0\nLatitude                     0\nLongitude                    0\nConfirmed                    0\nRecovered                    0\nDeaths                       0\nActive                       0\nCounty                      28\nState/County FIPS Code      27\nCombined Key                 0\nIncident Rate             3177\nPeople Tested             3177\nShape                        0\ndtype: int64"
     },
     "metadata": {},
     "execution_count": 94
    }
   ],
   "source": [
    "(g == '<Null>').sum()"
   ]
  },
  {
   "cell_type": "code",
   "execution_count": 97,
   "metadata": {},
   "outputs": [],
   "source": [
    "a = (g['County'] == '<Null>')\n",
    "b = (g['State/County FIPS Code'] == '<Null>')"
   ]
  },
  {
   "cell_type": "code",
   "execution_count": 108,
   "metadata": {},
   "outputs": [
    {
     "output_type": "execute_result",
     "data": {
      "text/plain": "42955355,-88.42586459,0,0,0,0,Wayne,17191,\"Wayne, Illinois, US\",<Null>,<Null>,Point\\n3017,Indiana,US,3/25/2020 23:33,39.8633444,-85.01044989,0,0,0,0,Wayne,18177,\"Wayne, Indiana, US\",<Null>,<Null>,Point\\n3018,Iowa,US,3/25/2020 23:33,40.73969028,-93.32752197,0,0,0,0,Wayne,19185,\"Wayne, Iowa, US\",<Null>,<Null>,Point\\n3019,Kentucky,US,3/25/2020 23:33,36.80310688,-84.8251971,0,0,0,0,Wayne,21231,\"Wayne, Kentucky, US\",<Null>,<Null>,Point\\n3020,Michigan,US,3/25/2020 23:33,42.28098405,-83.281255,1122,0,21,0,Wayne,26163,\"Wayne, Michigan, US\",<Null>,<Null>,Point\\n3021,Mississippi,US,3/25/2020 23:33,31.64135687,-88.69573913,0,0,0,0,Wayne,28153,\"Wayne, Mississippi, US\",<Null>,<Null>,Point\\n3022,Missouri,US,3/25/2020 23:33,37.11303869,-90.46001416,0,0,0,0,Wayne,29223,\"Wayne, Missouri, US\",<Null>,<Null>,Point\\n3023,Nebraska,US,3/25/2020 23:33,42.20934475,-97.11926964,0,0,0,0,Wayne,31179,\"Wayne, Nebraska, US\",<Null>,<Null>,Point\\n3024,New York,US,3/25/2020 23:33,43.15494365,-77.02976528,7,0,0,0,Wayne,36117,\"Wayne, New York, US\",<Null>,<Null>,Point\\n3025,North Carolina,US,3/25/2020 23:33,35.36438125,-78.00027268,3,0,0,0,Wayne,37191,\"Wayne, North Carolina, US\",<Null>,<Null>,Point\\n3026,Ohio,US,3/25/2020 23:33,40.82925852,-81.88844833,1,0,0,0,Wayne,39169,\"Wayne, Ohio, US\",<Null>,<Null>,Point\\n3027,Pennsylvania,US,3/25/2020 23:33,41.64938475,-75.29956506,4,0,0,0,Wayne,42127,\"Wayne, Pennsylvania, US\",<Null>,<Null>,Point\\n3028,Tennessee,US,3/25/2020 23:33,35.23868267,-87.78644456,0,0,0,0,Wayne,47181,\"Wayne, Tennessee, US\",<Null>,<Null>,Point\\n3029,Utah,US,3/25/2020 23:33,38.32335822,-110.9096801,0,0,0,0,Wayne,49055,\"Wayne, Utah, US\",<Null>,<Null>,Point\\n3030,West Virginia,US,3/25/2020 23:33,38.14901357,-82.42287994,0,0,0,0,Wayne,54099,\"Wayne, West Virginia, US\",<Null>,<Null>,Point\\n3031,Virginia,US,3/25/2020 23:33,38.06451466,-78.90293905,0,0,0,0,Waynesboro,51820,\"Waynesboro, Virginia, US\",<Null>,<Null>,Point\\n3032,Tennessee,US,3/25/2020 23:33,36.29896232,-88.71990865,0,0,0,0,Weakley,47183,\"Weakley, Tennessee, US\",<Null>,<Null>,Point\\n3033,Texas,US,3/25/2020 23:33,27.7610369,-99.33237355,9,0,0,0,Webb,48479,\"Webb, Texas, US\",<Null>,<Null>,Point\\n3034,Utah,US,3/25/2020 23:33,41.27116049,-111.9145117,10,0,0,0,Weber,49057,\"Weber,Utah,US\",<Null>,<Null>,Point\\n3035,Georgia,US,3/25/2020 23:33,32.04066113,-84.54742852,0,0,0,0,Webster,13307,\"Webster, Georgia, US\",<Null>,<Null>,Point\\n3036,Iowa,US,3/25/2020 23:33,42.42853483,-94.17987389,0,0,0,0,Webster,19187,\"Webster, Iowa, US\",<Null>,<Null>,Point\\n3037,Kentucky,US,3/25/2020 23:33,37.52168356,-87.67989953,1,0,0,0,Webster,21233,\"Webster, Kentucky, US\",<Null>,<Null>,Point\\n3038,Louisiana,US,3/25/2020 23:33,32.70847669,-93.33121835,5,0,1,0,Webster,22119,\"Webster, Louisiana, US\",<Null>,<Null>,Point\\n3039,Mississippi,US,3/25/2020 23:33,33.61300486,-89.28392912,2,0,1,0,Webster,28155,\"Webster, Mississippi, US\",<Null>,<Null>,Point\\n3040,Missouri,US,3/25/2020 23:33,37.2813734,-92.876329,0,0,0,0,Webster,29225,\"Webster, Missouri, US\",<Null>,<Null>,Point\\n3041,Nebraska,US,3/25/2020 23:33,40.17642643,-98.50019851,0,0,0,0,Webster,31181,\"Webster, Nebraska, US\",<Null>,<Null>,Point\\n3042,West Virginia,US,3/25/2020 23:33,38.49370949,-80.4202023,0,0,0,0,Webster,54101,\"Webster, West Virginia, US\",<Null>,<Null>,Point\\n3043,Colorado,US,3/25/2020 23:33,40.55499405,-104.3929621,87,0,4,0,Weld,8123,\"Weld, Colorado, US\",<Null>,<Null>,Point\\n3044,Indiana,US,3/25/2020 23:33,40.72934187,-85.22132966,1,0,0,0,Wells,18179,\"Wells, Indiana, US\",<Null>,<Null>,Point\\n3045,North Dakota,US,3/25/2020 23:33,47.58614526,-99.65904998,0,0,0,0,Wells,38103,\"Wells, North Dakota, US\",<Null>,<Null>,Point\\n3046,Louisiana,US,3/25/2020 23:33,30.46058217,-91.30989571,7,0,1,0,West Baton Rouge,22121,\"West Baton Rouge, Louisiana, US\",<Null>,<Null>,Point\\n3047,Louisiana,US,3/25/2020 23:33,32.78550125,-91.461201,0,0,0,0,West Carroll,22123,\"West Carroll, Louisiana, US\",<Null>,<Null>,Point\\n3048,Louisiana,US,3/25/2020 23:33,30.87882871,-91.4148538,0,0,0,0,West Feliciana,22125,\"West Feliciana, Louisiana, US\",<Null>,<Null>,Point\\n3049,New York,US,3/25/2020 23:33,41.16278376,-73.75741653,4691,0,1,0,Westchester,36119,\"Westchester, New York, US\",<Null>,<Null>,Point\\n3050,Pennsylvania,US,3/25/2020 23:33,40.31377979999999,-79.46615476,16,0,0,0,Westmoreland,42129,\"Westmoreland, Pennsylvania, US\",<Null>,<Null>,Point\\n3051,Virginia,US,3/25/2020 23:33,38.11021557,-76.80213247,0,0,0,0,Westmoreland,51193,\"Westmoreland, Virginia, US\",<Null>,<Null>,Point\\n3052,Wyoming,US,3/25/2020 23:33,43.83961191,-104.5674881,0,0,0,0,Weston,56045,\"Weston, Wyoming, US\",<Null>,<Null>,Point\\n3053,West Virginia,US,3/25/2020 23:33,39.6065771,-80.64016540000001,0,0,0,0,Wetzel,54103,\"Wetzel, West Virginia, US\",<Null>,<Null>,Point\\n3054,Michigan,US,3/25/2020 23:33,44.33853602,-85.57712739,1,0,0,0,Wexford,26165,\"Wexford, Michigan, US\",<Null>,<Null>,Point\\n3055,Texas,US,3/25/2020 23:33,29.27765923,-96.22319248,3,0,0,0,Wharton,48481,\"Wharton, Texas, US\",<Null>,<Null>,Point\\n3056,Washington,US,3/25/2020 23:33,48.82227976,-121.7490018,64,0,2,0,Whatcom,53073,\"Whatcom, Washington, US\",<Null>,<Null>,Point\\n3057,Montana,US,3/25/2020 23:33,46.46652491,-109.8464636,0,0,0,0,Wheatland,30107,\"Wheatland, Montana, US\",<Null>,<Null>,Point\\n3058,Georgia,US,3/25/2020 23:33,32.12009104,-82.72574721,0,0,0,0,Wheeler,13309,\"Wheeler, Georgia, US\",<Null>,<Null>,Point\\n3059,Nebraska,US,3/25/2020 23:33,41.91482725,-98.52798941,0,0,0,0,Wheeler,31183,\"Wheeler, Nebraska, US\",<Null>,<Null>,Point\\n3060,Oregon,US,3/25/2020 23:33,44.72698162,-120.02814270000002,0,0,0,0,Wheeler,41069,\"Wheeler, Oregon, US\",<Null>,<Null>,Point\\n3061,Texas,US,3/25/2020 23:33,35.40114335,-100.2699514,0,0,0,0,Wheeler,48483,\"Wheeler, Texas, US\",<Null>,<Null>,Point\\n3062,Arkansas,US,3/25/2020 23:33,35.25688493,-91.74908296,1,0,0,0,White,5145,\"White, Arkansas, US\",<Null>,<Null>,Point\\n3063,Georgia,US,3/25/2020 23:33,34.64624278,-83.74905525,1,0,0,0,White,13311,\"White, Georgia, US\",<Null>,<Null>,Point\\n3064,Illinois,US,3/25/2020 23:33,38.08706198,-88.17657461,0,0,0,0,White,17193,\"White, Illinois, US\",<Null>,<Null>,Point\\n3065,Indiana,US,3/25/2020 23:33,40.74911165,-86.86492015,0,0,0,0,White,18181,\"White, Indiana, US\",<Null>,<Null>,Point\\n3066,Tennessee,US,3/25/2020 23:33,35.92929884,-85.45591799,1,0,0,0,White,47185,\"White, Tennessee, US\",<Null>,<Null>,Point\\n3067,Nevada,US,3/25/2020 23:33,39.44157041,-114.899966,0,0,0,0,White Pine,32033,\"White Pine, Nevada, US\",<Null>,<Null>,Point\\n3068,Illinois,US,3/25/2020 23:33,41.75509713,-89.91556058,1,0,0,0,Whiteside,17195,\"Whiteside, Illinois, US\",<Null>,<Null>,Point\\n3069,Georgia,US,3/25/2020 23:33,34.80987459,-84.96093476,4,0,0,0,Whitfield,13313,\"Whitfield, Georgia, US\",<Null>,<Null>,Point\\n3070,Indiana,US,3/25/2020 23:33,41.13863784,-85.50791236,0,0,0,0,Whitley,18183,\"Whitley, Indiana, US\",<Null>,<Null>,Point\\n3071,Kentucky,US,3/25/2020 23:33,36.75700531,-84.14541217,0,0,0,0,Whitley,21235,\"Whitley, Kentucky, US\",<Null>,<Null>,Point\\n3072,Washington,US,3/25/2020 23:33,46.90022523,-117.5241763,2,0,0,0,Whitman,53075,\"Whitman, Washington, US\",<Null>,<Null>,Point\\n3073,Montana,US,3/25/2020 23:33,46.95925154,-104.2510927,0,0,0,0,Wibaux,30109,\"Wibaux, Montana, US\",<Null>,<Null>,Point\\n3074,Kansas,US,3/25/2020 23:33,38.48178252,-101.3471509,0,0,0,0,Wichita,20203,\"Wichita, Kansas, US\",<Null>,<Null>,Point\\n3075,Texas,US,3/25/2020 23:33,33.98842886,-98.7041034,8,0,0,0,Wichita,48485,\"Wichita, Texas, US\",<Null>,<Null>,Point\\n3076,Maryland,US,3/25/2020 23:33,38.37301947,-75.62705831,4,0,0,0,Wicomico,24045,\"Wicomico, Maryland, US\",<Null>,<Null>,Point\\n3077,Texas,US,3/25/2020 23:33,34.07945812,-99.24178437,0,0,0,0,Wilbarger,48487,\"Wilbarger, Texas, US\",<Null>,<Null>,Point\\n3078,Alabama,US,3/25/2020 23:33,31.98773215,-87.30891118,1,0,0,0,Wilcox,1131,\"Wilcox, Alabama, US\",<Null>,<Null>,Point\\n3079,Georgia,US,3/25/2020 23:33,31.97496928,-83.43438555,0,0,0,0,Wilcox,13315,\"Wilcox, Georgia, US\",<Null>,<Null>,Point\\n3080,Georgia,US,3/25/2020 23:33,33.78290391,-82.74286107,1,0,0,0,Wilkes,13317,\"Wilkes, Georgia, US\",<Null>,<Null>,Point\\n3081,North Carolina,US,3/25/2020 23:33,36.2084135,-81.16232895,0,0,0,0,Wilkes,37193,\"Wilkes, North Carolina, US\",<Null>,<Null>,Point\\n3082,Minnesota,US,3/25/2020 23:33,46.35721532,-96.4684375,0,0,0,0,Wilkin,27167,\"Wilkin, Minnesota, US\",<Null>,<Null>,Point\\n3083,Georgia,US,3/25/2020 23:33,32.80291082,-83.17140684,0,0,0,0,Wilkinson,13319,\"Wilkinson, Georgia, US\",<Null>,<Null>,Point\\n3084,Mississippi,US,3/25/2020 23:33,31.16078225,-91.31018819,5,0,0,0,Wilkinson,28157,\"Wilkinson, Mississippi, US\",<Null>,<Null>,Point\\n3085,Illinois,US,3/25/2020 23:33,41.44619267,-87.97862712,40,0,2,0,Will,17197,\"Will, Illinois, US\",<Null>,<Null>,Point\\n3086,Texas,US,3/25/2020 23:33,26.47411727,-97.61535848,0,0,0,0,Willacy,48489,\"Willacy, Texas, US\",<Null>,<Null>,Point\\n3087,North Dakota,US,3/25/2020 23:33,48.34522353,-103.4793387,0,0,0,0,Williams,38105,\"Williams, North Dakota, US\",<Null>,<Null>,Point\\n3088,Ohio,US,3/25/2020 23:33,41.56052014,-84.58429552,0,0,0,0,Williams,39171,\"Williams, Ohio, US\",<Null>,<Null>,Point\\n3089,South Carolina,US,3/25/2020 23:33,33.62190129,-79.72767442,1,0,0,0,Williamsburg,45089,\"Williamsburg, South Carolina, US\",<Null>,<Null>,Point\\n3090,Virginia,US,3/25/2020 23:33,37.28131268,-76.70905141,5,0,1,0,Williamsburg,51830,\"Williamsburg, Virginia, US\",<Null>,<Null>,Point\\n3091,Illinois,US,3/25/2020 23:33,37.73033511,-88.92994027,0,0,0,0,Williamson,17199,\"Williamson, Illinois, US\",<Null>,<Null>,Point\\n3092,Tennessee,US,3/25/2020 23:33,35.89099229,-86.89281867,66,0,0,0,Williamson,47187,\"Williamson, Tennessee, US\",<Null>,<Null>,Point\\n3093,Texas,US,3/25/2020 23:33,30.64655664,-97.6004854,22,0,0,0,Williamson,48491,\"Williamson, Texas, US\",<Null>,<Null>,Point\\n3094,Kansas,US,3/25/2020 23:33,37.55937174,-95.74323255,0,0,0,0,Wilson,20205,\"Wilson, Kansas, US\",<Null>,<Null>,Point\\n3095,North Carolina,US,3/25/2020 23:33,35.70625477,-77.917978,6,0,0,0,Wilson,37195,\"Wilson, North Carolina, US\",<Null>,<Null>,Point\\n3096,Tennessee,US,3/25/2020 23:33,36.15496772,-86.29775884,10,0,0,0,Wilson,47189,\"Wilson, Tennessee, US\",<Null>,<Null>,Point\\n3097,Texas,US,3/25/2020 23:33,29.1732598,-98.08693082,1,0,0,0,Wilson,48493,\"Wilson, Texas, US\",<Null>,<Null>,Point\\n3098,Virginia,US,3/25/2020 23:33,39.17054517,-78.17325058,0,0,0,0,Winchester,51840,\"Winchester, Virginia, US\",<Null>,<Null>,Point\\n3099,Connecticut,US,3/25/2020 23:33,41.82972709,-71.98182316,2,0,0,0,Windham,9015,\"Windham, Connecticut, US\",<Null>,<Null>,Point\\n3100,Vermont,US,3/25/2020 23:33,42.986982,-72.71268875,7,0,0,0,Windham,50025,\"Windham, Vermont, US\",<Null>,<Null>,Point\\n3101,Vermont,US,3/25/2020 23:33,43.58010937,-72.58595157,17,0,1,0,Windsor,50027,\"Windsor, Vermont, US\",<Null>,<Null>,Point\\n3102,Texas,US,3/25/2020 23:33,31.85008651,-103.0485163,0,0,0,0,Winkler,48495,\"Winkler, Texas, US\",<Null>,<Null>,Point\\n3103,Louisiana,US,3/25/2020 23:33,31.94449367,-92.63789413,1,0,0,0,Winn,22127,\"Winn, Louisiana, US\",<Null>,<Null>,Point\\n3104,Illinois,US,3/25/2020 23:33,42.33641854,-89.16085327,7,0,0,0,Winnebago,17201,\"Winnebago, Illinois, US\",<Null>,<Null>,Point\\n3105,Iowa,US,3/25/2020 23:33,43.37751174,-93.73407298,0,0,0,0,Winnebago,19189,\"Winnebago, Iowa, US\",<Null>,<Null>,Point\\n3106,Wisconsin,US,3/25/2020 23:33,44.06886922,-88.64477096,5,0,0,0,Winnebago,55139,\"Winnebago, Wisconsin, US\",<Null>,<Null>,Point\\n3107,Iowa,US,3/25/2020 23:33,43.29094334,-91.84422722,1,0,0,0,Winneshiek,19191,\"Winneshiek, Iowa, US\",<Null>,<Null>,Point\\n3108,Minnesota,US,3/25/2020 23:33,43.98772283,-91.78081305,2,0,0,0,Winona,27169,\"Winona, Minnesota, US\",<Null>,<Null>,Point\\n3109,Alabama,US,3/25/2020 23:33,34.15030532,-87.37325922,0,0,0,0,Winston,1133,\"Winston, Alabama, US\",<Null>,<Null>,Point\\n3110,Mississippi,US,3/25/2020 23:33,33.08747908,-89.03391385,3,0,0,0,Winston,28159,\"Winston, Mississippi, US\",<Null>,<Null>,Point\\n3111,West Virginia,US,3/25/2020 23:33,39.02775007,-81.37473928,0,0,0,0,Wirt,54105,\"Wirt, West Virginia, US\",<Null>,<Null>,Point\\n3112,Texas,US,3/25/2020 23:33,33.21570665,-97.65460265,0,0,0,0,Wise,48497,\"Wise, Texas, US\",<Null>,<Null>,Point\\n3113,Virginia,US,3/25/2020 23:33,36.9746148,-82.62410519,0,0,0,0,Wise,51195,\"Wise, Virginia, US\",<Null>,<Null>,Point\\n3114,Kentucky,US,3/25/2020 23:33,37.73941626,-83.49303612,0,0,0,0,Wolfe,21237,\"Wolfe, Kentucky, US\",<Null>,<Null>,Point\\n3115,Ohio,US,3/25/2020 23:33,41.36224827,-83.62285108,3,0,0,0,Wood,39173,\"Wood, Ohio, US\",<Null>,<Null>,Point\\n3116,Texas,US,3/25/2020 23:33,32.78722382,-95.38236368,0,0,0,0,Wood,48499,\"Wood, Texas, US\",<Null>,<Null>,Point\\n3117,West Virginia,US,3/25/2020 23:33,39.20967886,-81.5162836,1,0,0,0,Wood,54107,\"Wood, West Virginia, US\",<Null>,<Null>,Point\\n3118,Wisconsin,US,3/25/2020 23:33,44.45537896,-90.04158336,1,0,0,0,Wood,55141,\"Wood, Wisconsin, US\",<Null>,<Null>,Point\\n3119,Iowa,US,3/25/2020 23:33,42.38979414,-96.0459439,2,0,0,0,Woodbury,19193,\"Woodbury, Iowa, US\",<Null>,<Null>,Point\\n3120,Illinois,US,3/25/2020 23:33,40.78579374,-89.20973757,3,0,0,0,Woodford,17203,\"Woodford, Illinois, US\",<Null>,<Null>,Point\\n3121,Kentucky,US,3/25/2020 23:33,38.04178222,-84.7417556,0,0,0,0,Woodford,21239,\"Woodford, Kentucky, US\",<Null>,<Null>,Point\\n3122,Arkansas,US,3/25/2020 23:33,35.18902527,-91.2439489,1,0,0,0,Woodruff,5147,\"Woodruff, Arkansas, US\",<Null>,<Null>,Point\\n3123,Oklahoma,US,3/25/2020 23:33,36.76705782,-98.86573064,0,0,0,0,Woods,40151,\"Woods, Oklahoma, US\",<Null>,<Null>,Point\\n3124,Kansas,US,3/25/2020 23:33,37.8865336,-95.74006277,1,0,0,0,Woodson,20207,\"Woodson, Kansas, US\",<Null>,<Null>,Point\\n3125,Oklahoma,US,3/25/2020 23:33,36.42316318,-99.26283045,0,0,0,0,Woodward,40153,\"Woodward, Oklahoma, US\",<Null>,<Null>,Point\\n3126,Maryland,US,3/25/2020 23:33,38.21274277,-75.33200012,2,0,0,0,Worcester,24047,\"Worcester, Maryland, US\",<Null>,<Null>,Point\\n3127,Massachusetts,US,3/25/2020 23:33,42.35026951,-71.90493363,129,0,2,0,Worcester,25027,\"Worcester, Massachusetts, US\",<Null>,<Null>,Point\\n3128,Georgia,US,3/25/2020 23:33,31.55162306,-83.85090513,4,0,0,0,Worth,13321,\"Worth, Georgia, US\",<Null>,<Null>,Point\\n3129,Iowa,US,3/25/2020 23:33,43.37750768,-93.26087602,0,0,0,0,Worth,19195,\"Worth, Iowa, US\",<Null>,<Null>,Point\\n3130,Missouri,US,3/25/2020 23:33,40.47945588,-94.42328751,0,0,0,0,Worth,29227,\"Worth, Missouri, US\",<Null>,<Null>,Point\\n3131,Alaska,US,3/25/2020 23:33,56.3202004,-132.05837309999998,0,0,0,0,Wrangell,2275,\"Wrangell, Alaska, US\",<Null>,<Null>,Point\\n3132,Iowa,US,3/25/2020 23:33,42.73305373,-93.73515113,0,0,0,0,Wright,19197,\"Wright, Iowa, US\",<Null>,<Null>,Point\\n3133,Minnesota,US,3/25/2020 23:33,45.17297924,-93.96234781,3,0,0,0,Wright,27171,\"Wright, Minnesota, US\",<Null>,<Null>,Point\\n3134,Missouri,US,3/25/2020 23:33,37.27029221,-92.46914488,0,0,0,0,Wright,29229,\"Wright, Missouri, US\",<Null>,<Null>,Point\\n3135,Ohio,US,3/25/2020 23:33,40.84339621,-83.30734173,0,0,0,0,Wyandot,39175,\"Wyandot, Ohio, US\",<Null>,<Null>,Point\\n3136,Kansas,US,3/25/2020 23:33,39.11727348,-94.76378225,27,0,2,0,Wyandotte,20209,\"Wyandotte, Kansas, US\",<Null>,<Null>,Point\\n3137,New York,US,3/25/2020 23:33,42.70145109,-78.22199579,4,0,1,0,Wyoming,36121,\"Wyoming, New York, US\",<Null>,<Null>,Point\\n3138,Pennsylvania,US,3/25/2020 23:33,41.51955538,-76.01074915,0,0,0,0,Wyoming,42131,\"Wyoming, Pennsylvania, US\",<Null>,<Null>,Point\\n3139,West Virginia,US,3/25/2020 23:33,37.612327,-81.54511071,0,0,0,0,Wyoming,54109,\"Wyoming, West Virginia, US\",<Null>,<Null>,Point\\n3140,Virginia,US,3/25/2020 23:33,36.91582035,-81.07834059,0,0,0,0,Wythe,51197,\"Wythe, Virginia, US\",<Null>,<Null>,Point\\n3141,North Carolina,US,3/25/2020 23:33,36.16222629,-80.66239436,0,0,0,0,Yadkin,37197,\"Yadkin, North Carolina, US\",<Null>,<Null>,Point\\n3142,Washington,US,3/25/2020 23:33,46.45738486,-120.7380126,47,0,1,0,Yakima,53077,\"Yakima, Washington, US\",<Null>,<Null>,Point\\n3143,Alaska,US,3/25/2020 23:33,59.8909808,-140.36014509999998,0,0,0,0,Yakutat,2282,\"Yakutat, Alaska, US\",<Null>,<Null>,Point\\n3144,Mississippi,US,3/25/2020 23:33,34.02824175,-89.70762049999998,0,0,0,0,Yalobusha,28161,\"Yalobusha, Mississippi, US\",<Null>,<Null>,Point\\n3145,Oregon,US,3/25/2020 23:33,45.23330449,-123.3086963,7,0,0,0,Yamhill,41071,\"Yamhill, Oregon, US\",<Null>,<Null>,Point\\n3146,North Carolina,US,3/25/2020 23:33,35.90079156,-82.31237181,0,0,0,0,Yancey,37199,\"Yancey, North Carolina, US\",<Null>,<Null>,Point\\n3147,South Dakota,US,3/25/2020 23:33,43.00924485,-97.39467635,0,0,0,0,Yankton,46135,\"Yankton, South Dakota, US\",<Null>,<Null>,Point\\n3148,New York,US,3/25/2020 23:33,42.63505484,-77.10369919,0,0,0,0,Yates,36123,\"Yates, New York, US\",<Null>,<Null>,Point\\n3149,Arizona,US,3/25/2020 23:33,34.59933926,-112.5538588,4,0,0,0,Yavapai,4025,\"Yavapai, Arizona, US\",<Null>,<Null>,Point\\n3150,Mississippi,US,3/25/2020 23:33,32.77890365,-90.39656148,3,0,0,0,Yazoo,28163,\"Yazoo, Mississippi, US\",<Null>,<Null>,Point\\n3151,Arkansas,US,3/25/2020 23:33,35.00292371,-93.41171338,0,0,0,0,Yell,5149,\"Yell, Arkansas, US\",<Null>,<Null>,Point\\n3152,Minnesota,US,3/25/2020 23:33,44.71710183,-95.86842453,0,0,0,0,Yellow Medicine,27173,\"Yellow Medicine, Minnesota, US\",<Null>,<Null>,Point\\n3153,Montana,US,3/25/2020 23:33,45.93955949,-108.2691486,12,0,0,0,Yellowstone,30111,\"Yellowstone, Montana, US\",<Null>,<Null>,Point\\n3154,Texas,US,3/25/2020 23:33,33.17320212,-102.8276433,0,0,0,0,Yoakum,48501,\"Yoakum, Texas, US\",<Null>,<Null>,Point\\n3155,California,US,3/25/2020 23:33,38.68278902,-121.9018288,10,0,1,0,Yolo,6113,\"Yolo, California, US\",<Null>,<Null>,Point\\n3156,Maine,US,3/25/2020 23:33,43.47808377,-70.71052375,23,0,0,0,York,23031,\"York, Maine, US\",<Null>,<Null>,Point\\n3157,Nebraska,US,3/25/2020 23:33,40.87272618,-97.59710186,0,0,0,0,York,31185,\"York, Nebraska, US\",<Null>,<Null>,Point\\n3158,Pennsylvania,US,3/25/2020 23:33,39.9210089,-76.73040131,20,0,0,0,York,42133,\"York, Pennsylvania, US\",<Null>,<Null>,Point\\n3159,South Carolina,US,3/25/2020 23:33,34.97281497,-81.18085944,18,0,0,0,York,45091,\"York, South Carolina, US\",<Null>,<Null>,Point\\n3160,Virginia,US,3/25/2020 23:33,37.24374789,-76.54412815,8,0,1,0,York,51199,\"York, Virginia, US\",<Null>,<Null>,Point\\n3161,Texas,US,3/25/2020 23:33,33.17659707,-98.68790885,1,0,0,0,Young,48503,\"Young, Texas, US\",<Null>,<Null>,Point\\n3162,California,US,3/25/2020 23:33,39.26255932,-121.3535644,0,0,0,0,Yuba,6115,\"Yuba, California, US\",<Null>,<Null>,Point\\n3163,Alaska,US,3/25/2020 23:33,65.50815459,-151.3907387,0,0,0,0,Yukon-Koyukuk,2290,\"Yukon-Koyukuk, Alaska, US\",<Null>,<Null>,Point\\n3164,Arizona,US,3/25/2020 23:33,32.76895712,-113.90666740000002,3,0,0,0,Yuma,4027,\"Yuma, Arizona, US\",<Null>,<Null>,Point\\n3165,Colorado,US,3/25/2020 23:33,40.00346839,-102.4258673,1,0,0,0,Yuma,8125,\"Yuma, Colorado, US\",<Null>,<Null>,Point\\n3166,Texas,US,3/25/2020 23:33,27.00156391,-99.16987152,0,0,0,0,Zapata,48505,\"Zapata, Texas, US\",<Null>,<Null>,Point\\n3167,Texas,US,3/25/2020 23:33,28.86617238,-99.76050829,0,0,0,0,Zavala,48507,\"Zavala, Texas, US\",<Null>,<Null>,Point\\n3168,South Dakota,US,3/25/2020 23:33,44.97881876,-101.6654622,0,0,0,0,Ziebach,46137,\"Ziebach, South Dakota, US\",<Null>,<Null>,Point\\n3170,American Samoa,US,3/25/2020 23:33,-14.271,-170.132,0,0,0,0,<Null>,60000,\"American Samoa, US\",<Null>,<Null>,Point\\n3182,Diamond Princess,US,3/25/2020 23:33,0.0,0.0,49,0,0,0,<Null>,88888,\"Diamond Princess, US\",<Null>,<Null>,Point\\n3190,Grand Princess,US,3/25/2020 23:33,0.0,0.0,28,0,1,0,<Null>,99999,\"Grand Princess, US\",<Null>,<Null>,Point\\n3193,Guam,US,3/25/2020 23:33,13.4443,144.7937,37,0,1,0,<Null>,66000,\"Guam, US\",<Null>,<Null>,Point\\n3220,Northern Mariana Islands,US,3/25/2020 23:33,15.0979,145.6739,0,0,0,0,<Null>,69000,\"Northern Mariana Islands, US\",<Null>,<Null>,Point\\n3225,Puerto Rico,US,3/25/2020 23:33,18.2208,-66.5901,51,0,2,0,<Null>,<Null>,\"Puerto Rico, US\",<Null>,<Null>,Point\\n3230,Recovered,US,3/25/2020 23:33,0.0,0.0,0,361,0,0,<Null>,<Null>,\"Recovered, US\",<Null>,<Null>,Point\\n3246,Virgin Islands,US,3/25/2020 23:33,18.3358,-64.8963,17,0,0,0,<Null>,78000,\"Virgin Islands, US\",<Null>,<Null>,Point\\n'"
     },
     "metadata": {},
     "execution_count": 108
    }
   ],
   "source": []
  },
  {
   "cell_type": "code",
   "execution_count": 80,
   "metadata": {},
   "outputs": [],
   "source": [
    "ind = g['Combined Key'].str.contains('Unassigned, ')\n",
    "l = g['Combined Key'].str.replace('Unassigned, ','')"
   ]
  },
  {
   "cell_type": "code",
   "execution_count": 62,
   "metadata": {},
   "outputs": [
    {
     "output_type": "execute_result",
     "data": {
      "text/plain": "Monroe, Tennessee, US               1\nLafayette, Florida, US              1\nConecuh, Alabama, US                1\nSt. Johns, Florida, US              1\nMiller, Arkansas, US                1\nLiberty, Montana, US                1\nClay, Minnesota, US                 1\nYork, South Carolina, US            1\nMcHenry, North Dakota, US           1\nRockingham, New Hampshire, US       1\nJohnson, Indiana, US                1\nGregg, Texas, US                    1\nChesterfield, South Carolina, US    1\nAshley, Arkansas, US                1\nGem, Idaho, US                      1\nBryan, Oklahoma, US                 1\nEl Paso, Colorado, US               1\nCollin, Texas, US                   1\nLinn, Iowa, US                      1\nClackamas, Oregon, US               1\nHancock, Kentucky, US               1\nKiowa, Kansas, US                   1\nMifflin, Pennsylvania, US           1\nWasatch, Utah, US                   1\nFulton, Kentucky, US                1\nFremont, Wyoming, US                1\nSt. Clair, Missouri, US             1\nPerquimans, North Carolina, US      1\nHart, Georgia, US                   1\nHarper, Oklahoma, US                1\n                                   ..\nWalker, Alabama, US                 1\nLogan, Illinois, US                 1\nDougherty, Georgia, US              1\nLimestone, Texas, US                1\nHays, Texas, US                     1\nGordon, Georgia, US                 1\nMineral, West Virginia, US          1\nWake, North Carolina, US            1\nGray, Kansas, US                    1\nLeelanau, Michigan, US              1\nSevier, Arkansas, US                1\nRoberts, South Dakota, US           1\nWilson, Kansas, US                  1\nMarshall, Oklahoma, US              1\nMadison, Mississippi, US            1\nLaramie, Wyoming, US                1\nWhitfield, Georgia, US              1\nGrand, Utah, US                     1\nYates, New York, US                 1\nScott, Indiana, US                  1\nAlfalfa, Oklahoma, US               1\nJefferson, Missouri, US             1\nWashington, Alabama, US             1\nDodge, Minnesota, US                1\nMartinsville, Virginia, US          1\nDodge, Wisconsin, US                1\nWilliamsburg, South Carolina, US    1\nBuckingham, Virginia, US            1\nHarvey, Kansas, US                  1\nDallam, Texas, US                   1\nName: Combined Key, Length: 3177, dtype: int64"
     },
     "metadata": {},
     "execution_count": 62
    }
   ],
   "source": [
    "g[g['County']=='<Null>']['Combined].value_counts()"
   ]
  },
  {
   "cell_type": "code",
   "execution_count": 175,
   "metadata": {},
   "outputs": [],
   "source": [
    "g.to_csv('temp.csv')"
   ]
  },
  {
   "cell_type": "code",
   "execution_count": 18,
   "metadata": {},
   "outputs": [
    {
     "output_type": "execute_result",
     "data": {
      "text/plain": "   Province/State Country/Region      Last Update   Latitude   Longitude  \\\n45       Virginia             US  3/25/2020 23:33  37.767072  -75.632346   \n46     Washington             US  3/25/2020 23:33  46.982998 -118.560173   \n47  West Virginia             US  3/25/2020 23:33  39.130722  -80.003509   \n48      Wisconsin             US  3/25/2020 23:33  43.969747  -89.767828   \n49        Wyoming             US  3/25/2020 23:33  41.654987 -105.723541   \n\n    Confirmed  Recovered  Deaths  Active  County State/County FIPS Code  \\\n45        396          0       9       0  <Null>                     51   \n46       2591          0     133       0  <Null>                     53   \n47         39          0       0       0  <Null>                     54   \n48        621          0       7       0  <Null>                     55   \n49         44          0       0       0  <Null>                     56   \n\n     Combined Key Incident Rate People Tested  Shape       Intervention  \\\n45       Virginia        <Null>        <Null>  Point  social_distancing   \n46     Washington        <Null>        <Null>  Point   shelter_in_place   \n47  West Virginia        <Null>        <Null>  Point   shelter_in_place   \n48      Wisconsin        <Null>        <Null>  Point   shelter_in_place   \n49        Wyoming        <Null>        <Null>  Point  social_distancing   \n\n    4-day Hospitalizations Prediction  8-day Hospitalizations Prediction  \n45                                155                                373  \n46                               1327                               3171  \n47                                  5                                 12  \n48                                255                                611  \n49                                 22                                 52  ",
      "text/html": "<div>\n<style scoped>\n    .dataframe tbody tr th:only-of-type {\n        vertical-align: middle;\n    }\n\n    .dataframe tbody tr th {\n        vertical-align: top;\n    }\n\n    .dataframe thead th {\n        text-align: right;\n    }\n</style>\n<table border=\"1\" class=\"dataframe\">\n  <thead>\n    <tr style=\"text-align: right;\">\n      <th></th>\n      <th>Province/State</th>\n      <th>Country/Region</th>\n      <th>Last Update</th>\n      <th>Latitude</th>\n      <th>Longitude</th>\n      <th>Confirmed</th>\n      <th>Recovered</th>\n      <th>Deaths</th>\n      <th>Active</th>\n      <th>County</th>\n      <th>State/County FIPS Code</th>\n      <th>Combined Key</th>\n      <th>Incident Rate</th>\n      <th>People Tested</th>\n      <th>Shape</th>\n      <th>Intervention</th>\n      <th>4-day Hospitalizations Prediction</th>\n      <th>8-day Hospitalizations Prediction</th>\n    </tr>\n  </thead>\n  <tbody>\n    <tr>\n      <th>45</th>\n      <td>Virginia</td>\n      <td>US</td>\n      <td>3/25/2020 23:33</td>\n      <td>37.767072</td>\n      <td>-75.632346</td>\n      <td>396</td>\n      <td>0</td>\n      <td>9</td>\n      <td>0</td>\n      <td>&lt;Null&gt;</td>\n      <td>51</td>\n      <td>Virginia</td>\n      <td>&lt;Null&gt;</td>\n      <td>&lt;Null&gt;</td>\n      <td>Point</td>\n      <td>social_distancing</td>\n      <td>155</td>\n      <td>373</td>\n    </tr>\n    <tr>\n      <th>46</th>\n      <td>Washington</td>\n      <td>US</td>\n      <td>3/25/2020 23:33</td>\n      <td>46.982998</td>\n      <td>-118.560173</td>\n      <td>2591</td>\n      <td>0</td>\n      <td>133</td>\n      <td>0</td>\n      <td>&lt;Null&gt;</td>\n      <td>53</td>\n      <td>Washington</td>\n      <td>&lt;Null&gt;</td>\n      <td>&lt;Null&gt;</td>\n      <td>Point</td>\n      <td>shelter_in_place</td>\n      <td>1327</td>\n      <td>3171</td>\n    </tr>\n    <tr>\n      <th>47</th>\n      <td>West Virginia</td>\n      <td>US</td>\n      <td>3/25/2020 23:33</td>\n      <td>39.130722</td>\n      <td>-80.003509</td>\n      <td>39</td>\n      <td>0</td>\n      <td>0</td>\n      <td>0</td>\n      <td>&lt;Null&gt;</td>\n      <td>54</td>\n      <td>West Virginia</td>\n      <td>&lt;Null&gt;</td>\n      <td>&lt;Null&gt;</td>\n      <td>Point</td>\n      <td>shelter_in_place</td>\n      <td>5</td>\n      <td>12</td>\n    </tr>\n    <tr>\n      <th>48</th>\n      <td>Wisconsin</td>\n      <td>US</td>\n      <td>3/25/2020 23:33</td>\n      <td>43.969747</td>\n      <td>-89.767828</td>\n      <td>621</td>\n      <td>0</td>\n      <td>7</td>\n      <td>0</td>\n      <td>&lt;Null&gt;</td>\n      <td>55</td>\n      <td>Wisconsin</td>\n      <td>&lt;Null&gt;</td>\n      <td>&lt;Null&gt;</td>\n      <td>Point</td>\n      <td>shelter_in_place</td>\n      <td>255</td>\n      <td>611</td>\n    </tr>\n    <tr>\n      <th>49</th>\n      <td>Wyoming</td>\n      <td>US</td>\n      <td>3/25/2020 23:33</td>\n      <td>41.654987</td>\n      <td>-105.723541</td>\n      <td>44</td>\n      <td>0</td>\n      <td>0</td>\n      <td>0</td>\n      <td>&lt;Null&gt;</td>\n      <td>56</td>\n      <td>Wyoming</td>\n      <td>&lt;Null&gt;</td>\n      <td>&lt;Null&gt;</td>\n      <td>Point</td>\n      <td>social_distancing</td>\n      <td>22</td>\n      <td>52</td>\n    </tr>\n  </tbody>\n</table>\n</div>"
     },
     "metadata": {},
     "execution_count": 18
    }
   ],
   "source": [
    "g = get_usa_by_states_df()\n",
    "g.to_clipboard(sep=',')\n",
    "g.tail(5)"
   ]
  },
  {
   "cell_type": "code",
   "execution_count": 114,
   "metadata": {},
   "outputs": [],
   "source": [
    "output_cols = [\"Province/State\",\n",
    "    \"Country/Region\",\n",
    "    \"Last Update\",\n",
    "    \"Latitude\",\n",
    "    \"Longitude\",\n",
    "    \"Confirmed\",\n",
    "    \"Recovered\",\n",
    "    \"Deaths\",\n",
    "    \"Active\",\n",
    "    \"County\",\n",
    "    \"State/County FIPS Code\",\n",
    "    \"Combined Key\",\n",
    "    \"Incident Rate\",\n",
    "    \"People Tested\",\n",
    "    \"Shape\"\n",
    "]\n",
    ""
   ]
  },
  {
   "cell_type": "code",
   "execution_count": 153,
   "metadata": {},
   "outputs": [],
   "source": [
    "final_df."
   ]
  },
  {
   "cell_type": "code",
   "execution_count": 142,
   "metadata": {},
   "outputs": [
    {
     "output_type": "execute_result",
     "data": {
      "text/html": "<div>\n<style scoped>\n    .dataframe tbody tr th:only-of-type {\n        vertical-align: middle;\n    }\n\n    .dataframe tbody tr th {\n        vertical-align: top;\n    }\n\n    .dataframe thead th {\n        text-align: right;\n    }\n</style>\n<table border=\"1\" class=\"dataframe\">\n  <thead>\n    <tr style=\"text-align: right;\">\n      <th></th>\n      <th>Province/State</th>\n      <th>Country/Region</th>\n      <th>Last Update</th>\n      <th>Latitude</th>\n      <th>Longitude</th>\n      <th>Confirmed</th>\n      <th>Recovered</th>\n      <th>Deaths</th>\n      <th>Active</th>\n      <th>County</th>\n      <th>State/County FIPS Code</th>\n      <th>Combined Key</th>\n      <th>Incident Rate</th>\n      <th>People Tested</th>\n      <th>Shape</th>\n    </tr>\n  </thead>\n  <tbody>\n    <tr>\n      <th>825</th>\n      <td>Massachusetts</td>\n      <td>US</td>\n      <td>3/25/2020 23:33</td>\n      <td>41.406747</td>\n      <td>-70.687635</td>\n      <td>3</td>\n      <td>0</td>\n      <td>0</td>\n      <td>0</td>\n      <td>Dukes and Nantucket</td>\n      <td>NaN</td>\n      <td>Dukes and Nantucket,Massachusetts,US</td>\n      <td>NaN</td>\n      <td>NaN</td>\n      <td>Point</td>\n    </tr>\n    <tr>\n      <th>1473</th>\n      <td>Missouri</td>\n      <td>US</td>\n      <td>3/25/2020 23:33</td>\n      <td>39.099700</td>\n      <td>-94.578600</td>\n      <td>43</td>\n      <td>0</td>\n      <td>0</td>\n      <td>0</td>\n      <td>Kansas City</td>\n      <td>NaN</td>\n      <td>Kansas City,Missouri,US</td>\n      <td>NaN</td>\n      <td>NaN</td>\n      <td>Point</td>\n    </tr>\n    <tr>\n      <th>2178</th>\n      <td>Michigan</td>\n      <td>US</td>\n      <td>3/25/2020 23:33</td>\n      <td>0.000000</td>\n      <td>0.000000</td>\n      <td>7</td>\n      <td>0</td>\n      <td>0</td>\n      <td>0</td>\n      <td>Out of MI</td>\n      <td>NaN</td>\n      <td>Out of MI,Michigan,US</td>\n      <td>NaN</td>\n      <td>NaN</td>\n      <td>Point</td>\n    </tr>\n    <tr>\n      <th>2179</th>\n      <td>Tennessee</td>\n      <td>US</td>\n      <td>3/25/2020 23:33</td>\n      <td>0.000000</td>\n      <td>0.000000</td>\n      <td>100</td>\n      <td>0</td>\n      <td>0</td>\n      <td>0</td>\n      <td>Out of TN</td>\n      <td>NaN</td>\n      <td>Out of TN,Tennessee,US</td>\n      <td>NaN</td>\n      <td>NaN</td>\n      <td>Point</td>\n    </tr>\n    <tr>\n      <th>2180</th>\n      <td>Utah</td>\n      <td>US</td>\n      <td>3/25/2020 23:33</td>\n      <td>0.000000</td>\n      <td>0.000000</td>\n      <td>14</td>\n      <td>0</td>\n      <td>0</td>\n      <td>0</td>\n      <td>Out of UT</td>\n      <td>NaN</td>\n      <td>Out of UT,Utah,US</td>\n      <td>NaN</td>\n      <td>NaN</td>\n      <td>Point</td>\n    </tr>\n    <tr>\n      <th>2856</th>\n      <td>Alaska</td>\n      <td>US</td>\n      <td>3/25/2020 23:33</td>\n      <td>0.000000</td>\n      <td>0.000000</td>\n      <td>0</td>\n      <td>0</td>\n      <td>1</td>\n      <td>0</td>\n      <td>Unassigned</td>\n      <td>NaN</td>\n      <td>Unassigned, Alaska, US</td>\n      <td>NaN</td>\n      <td>NaN</td>\n      <td>Point</td>\n    </tr>\n    <tr>\n      <th>2857</th>\n      <td>Arizona</td>\n      <td>US</td>\n      <td>3/25/2020 23:33</td>\n      <td>0.000000</td>\n      <td>0.000000</td>\n      <td>0</td>\n      <td>0</td>\n      <td>2</td>\n      <td>0</td>\n      <td>Unassigned</td>\n      <td>NaN</td>\n      <td>Unassigned, Arizona, US</td>\n      <td>NaN</td>\n      <td>NaN</td>\n      <td>Point</td>\n    </tr>\n    <tr>\n      <th>2858</th>\n      <td>Arkansas</td>\n      <td>US</td>\n      <td>3/25/2020 23:33</td>\n      <td>0.000000</td>\n      <td>0.000000</td>\n      <td>20</td>\n      <td>0</td>\n      <td>1</td>\n      <td>0</td>\n      <td>Unassigned</td>\n      <td>NaN</td>\n      <td>Unassigned, Arkansas, US</td>\n      <td>NaN</td>\n      <td>NaN</td>\n      <td>Point</td>\n    </tr>\n    <tr>\n      <th>2859</th>\n      <td>Colorado</td>\n      <td>US</td>\n      <td>3/25/2020 23:33</td>\n      <td>0.000000</td>\n      <td>0.000000</td>\n      <td>18</td>\n      <td>0</td>\n      <td>0</td>\n      <td>0</td>\n      <td>Unassigned</td>\n      <td>NaN</td>\n      <td>Unassigned, Colorado, US</td>\n      <td>NaN</td>\n      <td>NaN</td>\n      <td>Point</td>\n    </tr>\n    <tr>\n      <th>2860</th>\n      <td>Georgia</td>\n      <td>US</td>\n      <td>3/25/2020 23:33</td>\n      <td>0.000000</td>\n      <td>0.000000</td>\n      <td>146</td>\n      <td>0</td>\n      <td>24</td>\n      <td>0</td>\n      <td>Unassigned</td>\n      <td>NaN</td>\n      <td>Unassigned, Georgia, US</td>\n      <td>NaN</td>\n      <td>NaN</td>\n      <td>Point</td>\n    </tr>\n    <tr>\n      <th>2861</th>\n      <td>Hawaii</td>\n      <td>US</td>\n      <td>3/25/2020 23:33</td>\n      <td>0.000000</td>\n      <td>0.000000</td>\n      <td>21</td>\n      <td>0</td>\n      <td>0</td>\n      <td>0</td>\n      <td>Unassigned</td>\n      <td>NaN</td>\n      <td>Unassigned, Hawaii, US</td>\n      <td>NaN</td>\n      <td>NaN</td>\n      <td>Point</td>\n    </tr>\n    <tr>\n      <th>2862</th>\n      <td>Illinois</td>\n      <td>US</td>\n      <td>3/25/2020 23:33</td>\n      <td>0.000000</td>\n      <td>0.000000</td>\n      <td>2</td>\n      <td>0</td>\n      <td>0</td>\n      <td>0</td>\n      <td>Unassigned</td>\n      <td>NaN</td>\n      <td>Unassigned, Illinois, US</td>\n      <td>NaN</td>\n      <td>NaN</td>\n      <td>Point</td>\n    </tr>\n    <tr>\n      <th>2863</th>\n      <td>Kentucky</td>\n      <td>US</td>\n      <td>3/25/2020 23:33</td>\n      <td>0.000000</td>\n      <td>0.000000</td>\n      <td>54</td>\n      <td>0</td>\n      <td>0</td>\n      <td>0</td>\n      <td>Unassigned</td>\n      <td>NaN</td>\n      <td>Unassigned, Kentucky, US</td>\n      <td>NaN</td>\n      <td>NaN</td>\n      <td>Point</td>\n    </tr>\n    <tr>\n      <th>2864</th>\n      <td>Louisiana</td>\n      <td>US</td>\n      <td>3/25/2020 23:33</td>\n      <td>0.000000</td>\n      <td>0.000000</td>\n      <td>11</td>\n      <td>0</td>\n      <td>1</td>\n      <td>0</td>\n      <td>Unassigned</td>\n      <td>NaN</td>\n      <td>Unassigned, Louisiana, US</td>\n      <td>NaN</td>\n      <td>NaN</td>\n      <td>Point</td>\n    </tr>\n    <tr>\n      <th>2865</th>\n      <td>Maine</td>\n      <td>US</td>\n      <td>3/25/2020 23:33</td>\n      <td>0.000000</td>\n      <td>0.000000</td>\n      <td>2</td>\n      <td>0</td>\n      <td>0</td>\n      <td>0</td>\n      <td>Unassigned</td>\n      <td>NaN</td>\n      <td>Unassigned, Maine, US</td>\n      <td>NaN</td>\n      <td>NaN</td>\n      <td>Point</td>\n    </tr>\n    <tr>\n      <th>2866</th>\n      <td>Massachusetts</td>\n      <td>US</td>\n      <td>3/25/2020 23:33</td>\n      <td>0.000000</td>\n      <td>0.000000</td>\n      <td>159</td>\n      <td>0</td>\n      <td>9</td>\n      <td>0</td>\n      <td>Unassigned</td>\n      <td>NaN</td>\n      <td>Unassigned, Massachusetts, US</td>\n      <td>NaN</td>\n      <td>NaN</td>\n      <td>Point</td>\n    </tr>\n    <tr>\n      <th>2867</th>\n      <td>Missouri</td>\n      <td>US</td>\n      <td>3/25/2020 23:33</td>\n      <td>0.000000</td>\n      <td>0.000000</td>\n      <td>0</td>\n      <td>0</td>\n      <td>0</td>\n      <td>0</td>\n      <td>Unassigned</td>\n      <td>NaN</td>\n      <td>Unassigned, Missouri, US</td>\n      <td>NaN</td>\n      <td>NaN</td>\n      <td>Point</td>\n    </tr>\n    <tr>\n      <th>2868</th>\n      <td>Nevada</td>\n      <td>US</td>\n      <td>3/25/2020 23:33</td>\n      <td>0.000000</td>\n      <td>0.000000</td>\n      <td>15</td>\n      <td>0</td>\n      <td>0</td>\n      <td>0</td>\n      <td>Unassigned</td>\n      <td>NaN</td>\n      <td>Unassigned, Nevada, US</td>\n      <td>NaN</td>\n      <td>NaN</td>\n      <td>Point</td>\n    </tr>\n    <tr>\n      <th>2869</th>\n      <td>New Jersey</td>\n      <td>US</td>\n      <td>3/25/2020 23:33</td>\n      <td>0.000000</td>\n      <td>0.000000</td>\n      <td>930</td>\n      <td>0</td>\n      <td>44</td>\n      <td>0</td>\n      <td>Unassigned</td>\n      <td>NaN</td>\n      <td>Unassigned, New Jersey, US</td>\n      <td>NaN</td>\n      <td>NaN</td>\n      <td>Point</td>\n    </tr>\n    <tr>\n      <th>2870</th>\n      <td>New York</td>\n      <td>US</td>\n      <td>3/25/2020 23:33</td>\n      <td>0.000000</td>\n      <td>0.000000</td>\n      <td>0</td>\n      <td>0</td>\n      <td>31</td>\n      <td>0</td>\n      <td>Unassigned</td>\n      <td>NaN</td>\n      <td>Unassigned, New York, US</td>\n      <td>NaN</td>\n      <td>NaN</td>\n      <td>Point</td>\n    </tr>\n    <tr>\n      <th>2871</th>\n      <td>North Carolina</td>\n      <td>US</td>\n      <td>3/25/2020 23:33</td>\n      <td>0.000000</td>\n      <td>0.000000</td>\n      <td>0</td>\n      <td>0</td>\n      <td>1</td>\n      <td>0</td>\n      <td>Unassigned</td>\n      <td>NaN</td>\n      <td>Unassigned, North Carolina, US</td>\n      <td>NaN</td>\n      <td>NaN</td>\n      <td>Point</td>\n    </tr>\n    <tr>\n      <th>2872</th>\n      <td>Rhode Island</td>\n      <td>US</td>\n      <td>3/25/2020 23:33</td>\n      <td>0.000000</td>\n      <td>0.000000</td>\n      <td>31</td>\n      <td>0</td>\n      <td>0</td>\n      <td>0</td>\n      <td>Unassigned</td>\n      <td>NaN</td>\n      <td>Unassigned, Rhode Island, US</td>\n      <td>NaN</td>\n      <td>NaN</td>\n      <td>Point</td>\n    </tr>\n    <tr>\n      <th>2873</th>\n      <td>Tennessee</td>\n      <td>US</td>\n      <td>3/25/2020 23:33</td>\n      <td>0.000000</td>\n      <td>0.000000</td>\n      <td>81</td>\n      <td>0</td>\n      <td>0</td>\n      <td>0</td>\n      <td>Unassigned</td>\n      <td>NaN</td>\n      <td>Unassigned, Tennessee, US</td>\n      <td>NaN</td>\n      <td>NaN</td>\n      <td>Point</td>\n    </tr>\n    <tr>\n      <th>2874</th>\n      <td>Vermont</td>\n      <td>US</td>\n      <td>3/25/2020 23:33</td>\n      <td>0.000000</td>\n      <td>0.000000</td>\n      <td>2</td>\n      <td>0</td>\n      <td>3</td>\n      <td>0</td>\n      <td>Unassigned</td>\n      <td>NaN</td>\n      <td>Unassigned, Vermont, US</td>\n      <td>NaN</td>\n      <td>NaN</td>\n      <td>Point</td>\n    </tr>\n    <tr>\n      <th>2875</th>\n      <td>Washington</td>\n      <td>US</td>\n      <td>3/25/2020 23:33</td>\n      <td>0.000000</td>\n      <td>0.000000</td>\n      <td>51</td>\n      <td>0</td>\n      <td>0</td>\n      <td>0</td>\n      <td>Unassigned</td>\n      <td>NaN</td>\n      <td>Unassigned, Washington, US</td>\n      <td>NaN</td>\n      <td>NaN</td>\n      <td>Point</td>\n    </tr>\n    <tr>\n      <th>3225</th>\n      <td>Puerto Rico</td>\n      <td>US</td>\n      <td>3/25/2020 23:33</td>\n      <td>18.220800</td>\n      <td>-66.590100</td>\n      <td>51</td>\n      <td>0</td>\n      <td>2</td>\n      <td>0</td>\n      <td>NaN</td>\n      <td>NaN</td>\n      <td>Puerto Rico, US</td>\n      <td>NaN</td>\n      <td>NaN</td>\n      <td>Point</td>\n    </tr>\n    <tr>\n      <th>3230</th>\n      <td>Recovered</td>\n      <td>US</td>\n      <td>3/25/2020 23:33</td>\n      <td>0.000000</td>\n      <td>0.000000</td>\n      <td>0</td>\n      <td>361</td>\n      <td>0</td>\n      <td>0</td>\n      <td>NaN</td>\n      <td>NaN</td>\n      <td>Recovered, US</td>\n      <td>NaN</td>\n      <td>NaN</td>\n      <td>Point</td>\n    </tr>\n  </tbody>\n</table>\n</div>",
      "text/plain": "      Province/State Country/Region      Last Update   Latitude  Longitude  \\\n825    Massachusetts             US  3/25/2020 23:33  41.406747 -70.687635   \n1473        Missouri             US  3/25/2020 23:33  39.099700 -94.578600   \n2178        Michigan             US  3/25/2020 23:33   0.000000   0.000000   \n2179       Tennessee             US  3/25/2020 23:33   0.000000   0.000000   \n2180            Utah             US  3/25/2020 23:33   0.000000   0.000000   \n2856          Alaska             US  3/25/2020 23:33   0.000000   0.000000   \n2857         Arizona             US  3/25/2020 23:33   0.000000   0.000000   \n2858        Arkansas             US  3/25/2020 23:33   0.000000   0.000000   \n2859        Colorado             US  3/25/2020 23:33   0.000000   0.000000   \n2860         Georgia             US  3/25/2020 23:33   0.000000   0.000000   \n2861          Hawaii             US  3/25/2020 23:33   0.000000   0.000000   \n2862        Illinois             US  3/25/2020 23:33   0.000000   0.000000   \n2863        Kentucky             US  3/25/2020 23:33   0.000000   0.000000   \n2864       Louisiana             US  3/25/2020 23:33   0.000000   0.000000   \n2865           Maine             US  3/25/2020 23:33   0.000000   0.000000   \n2866   Massachusetts             US  3/25/2020 23:33   0.000000   0.000000   \n2867        Missouri             US  3/25/2020 23:33   0.000000   0.000000   \n2868          Nevada             US  3/25/2020 23:33   0.000000   0.000000   \n2869      New Jersey             US  3/25/2020 23:33   0.000000   0.000000   \n2870        New York             US  3/25/2020 23:33   0.000000   0.000000   \n2871  North Carolina             US  3/25/2020 23:33   0.000000   0.000000   \n2872    Rhode Island             US  3/25/2020 23:33   0.000000   0.000000   \n2873       Tennessee             US  3/25/2020 23:33   0.000000   0.000000   \n2874         Vermont             US  3/25/2020 23:33   0.000000   0.000000   \n2875      Washington             US  3/25/2020 23:33   0.000000   0.000000   \n3225     Puerto Rico             US  3/25/2020 23:33  18.220800 -66.590100   \n3230       Recovered             US  3/25/2020 23:33   0.000000   0.000000   \n\n      Confirmed  Recovered  Deaths  Active               County  \\\n825           3          0       0       0  Dukes and Nantucket   \n1473         43          0       0       0          Kansas City   \n2178          7          0       0       0            Out of MI   \n2179        100          0       0       0            Out of TN   \n2180         14          0       0       0            Out of UT   \n2856          0          0       1       0           Unassigned   \n2857          0          0       2       0           Unassigned   \n2858         20          0       1       0           Unassigned   \n2859         18          0       0       0           Unassigned   \n2860        146          0      24       0           Unassigned   \n2861         21          0       0       0           Unassigned   \n2862          2          0       0       0           Unassigned   \n2863         54          0       0       0           Unassigned   \n2864         11          0       1       0           Unassigned   \n2865          2          0       0       0           Unassigned   \n2866        159          0       9       0           Unassigned   \n2867          0          0       0       0           Unassigned   \n2868         15          0       0       0           Unassigned   \n2869        930          0      44       0           Unassigned   \n2870          0          0      31       0           Unassigned   \n2871          0          0       1       0           Unassigned   \n2872         31          0       0       0           Unassigned   \n2873         81          0       0       0           Unassigned   \n2874          2          0       3       0           Unassigned   \n2875         51          0       0       0           Unassigned   \n3225         51          0       2       0                  NaN   \n3230          0        361       0       0                  NaN   \n\n      State/County FIPS Code                          Combined Key  \\\n825                      NaN  Dukes and Nantucket,Massachusetts,US   \n1473                     NaN               Kansas City,Missouri,US   \n2178                     NaN                 Out of MI,Michigan,US   \n2179                     NaN                Out of TN,Tennessee,US   \n2180                     NaN                     Out of UT,Utah,US   \n2856                     NaN                Unassigned, Alaska, US   \n2857                     NaN               Unassigned, Arizona, US   \n2858                     NaN              Unassigned, Arkansas, US   \n2859                     NaN              Unassigned, Colorado, US   \n2860                     NaN               Unassigned, Georgia, US   \n2861                     NaN                Unassigned, Hawaii, US   \n2862                     NaN              Unassigned, Illinois, US   \n2863                     NaN              Unassigned, Kentucky, US   \n2864                     NaN             Unassigned, Louisiana, US   \n2865                     NaN                 Unassigned, Maine, US   \n2866                     NaN         Unassigned, Massachusetts, US   \n2867                     NaN              Unassigned, Missouri, US   \n2868                     NaN                Unassigned, Nevada, US   \n2869                     NaN            Unassigned, New Jersey, US   \n2870                     NaN              Unassigned, New York, US   \n2871                     NaN        Unassigned, North Carolina, US   \n2872                     NaN          Unassigned, Rhode Island, US   \n2873                     NaN             Unassigned, Tennessee, US   \n2874                     NaN               Unassigned, Vermont, US   \n2875                     NaN            Unassigned, Washington, US   \n3225                     NaN                       Puerto Rico, US   \n3230                     NaN                         Recovered, US   \n\n      Incident Rate  People Tested  Shape  \n825             NaN            NaN  Point  \n1473            NaN            NaN  Point  \n2178            NaN            NaN  Point  \n2179            NaN            NaN  Point  \n2180            NaN            NaN  Point  \n2856            NaN            NaN  Point  \n2857            NaN            NaN  Point  \n2858            NaN            NaN  Point  \n2859            NaN            NaN  Point  \n2860            NaN            NaN  Point  \n2861            NaN            NaN  Point  \n2862            NaN            NaN  Point  \n2863            NaN            NaN  Point  \n2864            NaN            NaN  Point  \n2865            NaN            NaN  Point  \n2866            NaN            NaN  Point  \n2867            NaN            NaN  Point  \n2868            NaN            NaN  Point  \n2869            NaN            NaN  Point  \n2870            NaN            NaN  Point  \n2871            NaN            NaN  Point  \n2872            NaN            NaN  Point  \n2873            NaN            NaN  Point  \n2874            NaN            NaN  Point  \n2875            NaN            NaN  Point  \n3225            NaN            NaN  Point  \n3230            NaN            NaN  Point  "
     },
     "metadata": {},
     "execution_count": 142
    }
   ],
   "source": [
    "final_df[US_only & final_df['State/County FIPS Code'].isnull()]"
   ]
  },
  {
   "cell_type": "code",
   "execution_count": null,
   "metadata": {},
   "outputs": [],
   "source": [
    "final_df."
   ]
  },
  {
   "cell_type": "code",
   "execution_count": 125,
   "metadata": {},
   "outputs": [],
   "source": [
    "not_us = final_df['Province/State'].isnull()"
   ]
  },
  {
   "cell_type": "code",
   "execution_count": 136,
   "metadata": {},
   "outputs": [
    {
     "output_type": "execute_result",
     "data": {
      "text/html": "<div>\n<style scoped>\n    .dataframe tbody tr th:only-of-type {\n        vertical-align: middle;\n    }\n\n    .dataframe tbody tr th {\n        vertical-align: top;\n    }\n\n    .dataframe thead th {\n        text-align: right;\n    }\n</style>\n<table border=\"1\" class=\"dataframe\">\n  <thead>\n    <tr style=\"text-align: right;\">\n      <th></th>\n      <th>Province/State</th>\n      <th>Country/Region</th>\n      <th>Last Update</th>\n      <th>Latitude</th>\n      <th>Longitude</th>\n      <th>Confirmed</th>\n      <th>Recovered</th>\n      <th>Deaths</th>\n      <th>Active</th>\n      <th>County</th>\n      <th>State/County FIPS Code</th>\n      <th>Combined Key</th>\n      <th>Incident Rate</th>\n      <th>People Tested</th>\n      <th>Shape</th>\n    </tr>\n  </thead>\n  <tbody>\n    <tr>\n      <th>0</th>\n      <td>South Carolina</td>\n      <td>US</td>\n      <td>3/25/2020 23:33</td>\n      <td>34.223334</td>\n      <td>-82.461707</td>\n      <td>3</td>\n      <td>0</td>\n      <td>0</td>\n      <td>0</td>\n      <td>Abbeville</td>\n      <td>45001.0</td>\n      <td>Abbeville, South Carolina, US</td>\n      <td>NaN</td>\n      <td>NaN</td>\n      <td>Point</td>\n    </tr>\n    <tr>\n      <th>1</th>\n      <td>Louisiana</td>\n      <td>US</td>\n      <td>3/25/2020 23:33</td>\n      <td>30.295065</td>\n      <td>-92.414197</td>\n      <td>2</td>\n      <td>0</td>\n      <td>0</td>\n      <td>0</td>\n      <td>Acadia</td>\n      <td>22001.0</td>\n      <td>Acadia, Louisiana, US</td>\n      <td>NaN</td>\n      <td>NaN</td>\n      <td>Point</td>\n    </tr>\n    <tr>\n      <th>2</th>\n      <td>Virginia</td>\n      <td>US</td>\n      <td>3/25/2020 23:33</td>\n      <td>37.767072</td>\n      <td>-75.632346</td>\n      <td>2</td>\n      <td>0</td>\n      <td>0</td>\n      <td>0</td>\n      <td>Accomack</td>\n      <td>51001.0</td>\n      <td>Accomack, Virginia, US</td>\n      <td>NaN</td>\n      <td>NaN</td>\n      <td>Point</td>\n    </tr>\n    <tr>\n      <th>3</th>\n      <td>Idaho</td>\n      <td>US</td>\n      <td>3/25/2020 23:33</td>\n      <td>43.452658</td>\n      <td>-116.241552</td>\n      <td>24</td>\n      <td>0</td>\n      <td>0</td>\n      <td>0</td>\n      <td>Ada</td>\n      <td>16001.0</td>\n      <td>Ada, Idaho, US</td>\n      <td>NaN</td>\n      <td>NaN</td>\n      <td>Point</td>\n    </tr>\n    <tr>\n      <th>4</th>\n      <td>Iowa</td>\n      <td>US</td>\n      <td>3/25/2020 23:33</td>\n      <td>41.330756</td>\n      <td>-94.471059</td>\n      <td>1</td>\n      <td>0</td>\n      <td>0</td>\n      <td>0</td>\n      <td>Adair</td>\n      <td>19001.0</td>\n      <td>Adair, Iowa, US</td>\n      <td>NaN</td>\n      <td>NaN</td>\n      <td>Point</td>\n    </tr>\n    <tr>\n      <th>5</th>\n      <td>Kentucky</td>\n      <td>US</td>\n      <td>3/25/2020 23:33</td>\n      <td>37.104598</td>\n      <td>-85.281297</td>\n      <td>0</td>\n      <td>0</td>\n      <td>0</td>\n      <td>0</td>\n      <td>Adair</td>\n      <td>21001.0</td>\n      <td>Adair, Kentucky, US</td>\n      <td>NaN</td>\n      <td>NaN</td>\n      <td>Point</td>\n    </tr>\n    <tr>\n      <th>6</th>\n      <td>Missouri</td>\n      <td>US</td>\n      <td>3/25/2020 23:33</td>\n      <td>40.190586</td>\n      <td>-92.600782</td>\n      <td>1</td>\n      <td>0</td>\n      <td>0</td>\n      <td>0</td>\n      <td>Adair</td>\n      <td>29001.0</td>\n      <td>Adair, Missouri, US</td>\n      <td>NaN</td>\n      <td>NaN</td>\n      <td>Point</td>\n    </tr>\n    <tr>\n      <th>7</th>\n      <td>Oklahoma</td>\n      <td>US</td>\n      <td>3/25/2020 23:33</td>\n      <td>35.884942</td>\n      <td>-94.658593</td>\n      <td>2</td>\n      <td>0</td>\n      <td>0</td>\n      <td>0</td>\n      <td>Adair</td>\n      <td>40001.0</td>\n      <td>Adair, Oklahoma, US</td>\n      <td>NaN</td>\n      <td>NaN</td>\n      <td>Point</td>\n    </tr>\n    <tr>\n      <th>8</th>\n      <td>Colorado</td>\n      <td>US</td>\n      <td>3/25/2020 23:33</td>\n      <td>39.874321</td>\n      <td>-104.336258</td>\n      <td>27</td>\n      <td>0</td>\n      <td>0</td>\n      <td>0</td>\n      <td>Adams</td>\n      <td>8001.0</td>\n      <td>Adams, Colorado, US</td>\n      <td>NaN</td>\n      <td>NaN</td>\n      <td>Point</td>\n    </tr>\n    <tr>\n      <th>9</th>\n      <td>Idaho</td>\n      <td>US</td>\n      <td>3/25/2020 23:33</td>\n      <td>44.893336</td>\n      <td>-116.454525</td>\n      <td>0</td>\n      <td>0</td>\n      <td>0</td>\n      <td>0</td>\n      <td>Adams</td>\n      <td>16003.0</td>\n      <td>Adams, Idaho, US</td>\n      <td>NaN</td>\n      <td>NaN</td>\n      <td>Point</td>\n    </tr>\n    <tr>\n      <th>10</th>\n      <td>Illinois</td>\n      <td>US</td>\n      <td>3/25/2020 23:33</td>\n      <td>39.988156</td>\n      <td>-91.187868</td>\n      <td>1</td>\n      <td>0</td>\n      <td>0</td>\n      <td>0</td>\n      <td>Adams</td>\n      <td>17001.0</td>\n      <td>Adams, Illinois, US</td>\n      <td>NaN</td>\n      <td>NaN</td>\n      <td>Point</td>\n    </tr>\n    <tr>\n      <th>11</th>\n      <td>Indiana</td>\n      <td>US</td>\n      <td>3/25/2020 23:33</td>\n      <td>40.745765</td>\n      <td>-84.936714</td>\n      <td>1</td>\n      <td>0</td>\n      <td>0</td>\n      <td>0</td>\n      <td>Adams</td>\n      <td>18001.0</td>\n      <td>Adams, Indiana, US</td>\n      <td>NaN</td>\n      <td>NaN</td>\n      <td>Point</td>\n    </tr>\n    <tr>\n      <th>12</th>\n      <td>Iowa</td>\n      <td>US</td>\n      <td>3/25/2020 23:33</td>\n      <td>41.029036</td>\n      <td>-94.699326</td>\n      <td>0</td>\n      <td>0</td>\n      <td>0</td>\n      <td>0</td>\n      <td>Adams</td>\n      <td>19003.0</td>\n      <td>Adams, Iowa, US</td>\n      <td>NaN</td>\n      <td>NaN</td>\n      <td>Point</td>\n    </tr>\n    <tr>\n      <th>13</th>\n      <td>Mississippi</td>\n      <td>US</td>\n      <td>3/25/2020 23:33</td>\n      <td>31.476698</td>\n      <td>-91.353260</td>\n      <td>2</td>\n      <td>0</td>\n      <td>0</td>\n      <td>0</td>\n      <td>Adams</td>\n      <td>28001.0</td>\n      <td>Adams, Mississippi, US</td>\n      <td>NaN</td>\n      <td>NaN</td>\n      <td>Point</td>\n    </tr>\n    <tr>\n      <th>14</th>\n      <td>Nebraska</td>\n      <td>US</td>\n      <td>3/25/2020 23:33</td>\n      <td>40.524494</td>\n      <td>-98.501178</td>\n      <td>1</td>\n      <td>0</td>\n      <td>0</td>\n      <td>0</td>\n      <td>Adams</td>\n      <td>31001.0</td>\n      <td>Adams, Nebraska, US</td>\n      <td>NaN</td>\n      <td>NaN</td>\n      <td>Point</td>\n    </tr>\n    <tr>\n      <th>15</th>\n      <td>North Dakota</td>\n      <td>US</td>\n      <td>3/25/2020 23:33</td>\n      <td>46.096869</td>\n      <td>-102.528540</td>\n      <td>0</td>\n      <td>0</td>\n      <td>0</td>\n      <td>0</td>\n      <td>Adams</td>\n      <td>38001.0</td>\n      <td>Adams, North Dakota, US</td>\n      <td>NaN</td>\n      <td>NaN</td>\n      <td>Point</td>\n    </tr>\n    <tr>\n      <th>16</th>\n      <td>Ohio</td>\n      <td>US</td>\n      <td>3/25/2020 23:33</td>\n      <td>38.845411</td>\n      <td>-83.471896</td>\n      <td>0</td>\n      <td>0</td>\n      <td>0</td>\n      <td>0</td>\n      <td>Adams</td>\n      <td>39001.0</td>\n      <td>Adams, Ohio, US</td>\n      <td>NaN</td>\n      <td>NaN</td>\n      <td>Point</td>\n    </tr>\n    <tr>\n      <th>17</th>\n      <td>Pennsylvania</td>\n      <td>US</td>\n      <td>3/25/2020 23:33</td>\n      <td>39.871404</td>\n      <td>-77.216103</td>\n      <td>6</td>\n      <td>0</td>\n      <td>0</td>\n      <td>0</td>\n      <td>Adams</td>\n      <td>42001.0</td>\n      <td>Adams, Pennsylvania, US</td>\n      <td>NaN</td>\n      <td>NaN</td>\n      <td>Point</td>\n    </tr>\n    <tr>\n      <th>18</th>\n      <td>Washington</td>\n      <td>US</td>\n      <td>3/25/2020 23:33</td>\n      <td>46.982998</td>\n      <td>-118.560173</td>\n      <td>1</td>\n      <td>0</td>\n      <td>0</td>\n      <td>0</td>\n      <td>Adams</td>\n      <td>53001.0</td>\n      <td>Adams, Washington, US</td>\n      <td>NaN</td>\n      <td>NaN</td>\n      <td>Point</td>\n    </tr>\n    <tr>\n      <th>19</th>\n      <td>Wisconsin</td>\n      <td>US</td>\n      <td>3/25/2020 23:33</td>\n      <td>43.969747</td>\n      <td>-89.767828</td>\n      <td>0</td>\n      <td>0</td>\n      <td>0</td>\n      <td>0</td>\n      <td>Adams</td>\n      <td>55001.0</td>\n      <td>Adams, Wisconsin, US</td>\n      <td>NaN</td>\n      <td>NaN</td>\n      <td>Point</td>\n    </tr>\n    <tr>\n      <th>20</th>\n      <td>Vermont</td>\n      <td>US</td>\n      <td>3/25/2020 23:33</td>\n      <td>44.032173</td>\n      <td>-73.141309</td>\n      <td>9</td>\n      <td>0</td>\n      <td>0</td>\n      <td>0</td>\n      <td>Addison</td>\n      <td>50001.0</td>\n      <td>Addison, Vermont, US</td>\n      <td>NaN</td>\n      <td>NaN</td>\n      <td>Point</td>\n    </tr>\n    <tr>\n      <th>21</th>\n      <td>South Carolina</td>\n      <td>US</td>\n      <td>3/25/2020 23:33</td>\n      <td>33.543380</td>\n      <td>-81.636454</td>\n      <td>2</td>\n      <td>0</td>\n      <td>0</td>\n      <td>0</td>\n      <td>Aiken</td>\n      <td>45003.0</td>\n      <td>Aiken, South Carolina, US</td>\n      <td>NaN</td>\n      <td>NaN</td>\n      <td>Point</td>\n    </tr>\n    <tr>\n      <th>22</th>\n      <td>Minnesota</td>\n      <td>US</td>\n      <td>3/25/2020 23:33</td>\n      <td>46.609620</td>\n      <td>-93.411683</td>\n      <td>0</td>\n      <td>0</td>\n      <td>0</td>\n      <td>0</td>\n      <td>Aitkin</td>\n      <td>27001.0</td>\n      <td>Aitkin, Minnesota, US</td>\n      <td>NaN</td>\n      <td>NaN</td>\n      <td>Point</td>\n    </tr>\n    <tr>\n      <th>23</th>\n      <td>Florida</td>\n      <td>US</td>\n      <td>3/25/2020 23:33</td>\n      <td>29.678665</td>\n      <td>-82.359282</td>\n      <td>45</td>\n      <td>0</td>\n      <td>0</td>\n      <td>0</td>\n      <td>Alachua</td>\n      <td>12001.0</td>\n      <td>Alachua, Florida, US</td>\n      <td>NaN</td>\n      <td>NaN</td>\n      <td>Point</td>\n    </tr>\n    <tr>\n      <th>24</th>\n      <td>North Carolina</td>\n      <td>US</td>\n      <td>3/25/2020 23:33</td>\n      <td>36.043470</td>\n      <td>-79.399761</td>\n      <td>3</td>\n      <td>0</td>\n      <td>0</td>\n      <td>0</td>\n      <td>Alamance</td>\n      <td>37001.0</td>\n      <td>Alamance, North Carolina, US</td>\n      <td>NaN</td>\n      <td>NaN</td>\n      <td>Point</td>\n    </tr>\n    <tr>\n      <th>25</th>\n      <td>California</td>\n      <td>US</td>\n      <td>3/25/2020 23:33</td>\n      <td>37.646294</td>\n      <td>-121.892927</td>\n      <td>135</td>\n      <td>0</td>\n      <td>2</td>\n      <td>0</td>\n      <td>Alameda</td>\n      <td>6001.0</td>\n      <td>Alameda, California, US</td>\n      <td>NaN</td>\n      <td>NaN</td>\n      <td>Point</td>\n    </tr>\n    <tr>\n      <th>26</th>\n      <td>Colorado</td>\n      <td>US</td>\n      <td>3/25/2020 23:33</td>\n      <td>37.572506</td>\n      <td>-105.788545</td>\n      <td>0</td>\n      <td>0</td>\n      <td>0</td>\n      <td>0</td>\n      <td>Alamosa</td>\n      <td>8003.0</td>\n      <td>Alamosa, Colorado, US</td>\n      <td>NaN</td>\n      <td>NaN</td>\n      <td>Point</td>\n    </tr>\n    <tr>\n      <th>27</th>\n      <td>New York</td>\n      <td>US</td>\n      <td>3/25/2020 23:33</td>\n      <td>42.600603</td>\n      <td>-73.977239</td>\n      <td>152</td>\n      <td>0</td>\n      <td>0</td>\n      <td>0</td>\n      <td>Albany</td>\n      <td>36001.0</td>\n      <td>Albany, New York, US</td>\n      <td>NaN</td>\n      <td>NaN</td>\n      <td>Point</td>\n    </tr>\n    <tr>\n      <th>28</th>\n      <td>Wyoming</td>\n      <td>US</td>\n      <td>3/25/2020 23:33</td>\n      <td>41.654987</td>\n      <td>-105.723541</td>\n      <td>1</td>\n      <td>0</td>\n      <td>0</td>\n      <td>0</td>\n      <td>Albany</td>\n      <td>56001.0</td>\n      <td>Albany, Wyoming, US</td>\n      <td>NaN</td>\n      <td>NaN</td>\n      <td>Point</td>\n    </tr>\n    <tr>\n      <th>29</th>\n      <td>Virginia</td>\n      <td>US</td>\n      <td>3/25/2020 23:33</td>\n      <td>38.020807</td>\n      <td>-78.554811</td>\n      <td>4</td>\n      <td>0</td>\n      <td>0</td>\n      <td>0</td>\n      <td>Albemarle</td>\n      <td>51003.0</td>\n      <td>Albemarle, Virginia, US</td>\n      <td>NaN</td>\n      <td>NaN</td>\n      <td>Point</td>\n    </tr>\n    <tr>\n      <th>...</th>\n      <td>...</td>\n      <td>...</td>\n      <td>...</td>\n      <td>...</td>\n      <td>...</td>\n      <td>...</td>\n      <td>...</td>\n      <td>...</td>\n      <td>...</td>\n      <td>...</td>\n      <td>...</td>\n      <td>...</td>\n      <td>...</td>\n      <td>...</td>\n      <td>...</td>\n    </tr>\n    <tr>\n      <th>3147</th>\n      <td>South Dakota</td>\n      <td>US</td>\n      <td>3/25/2020 23:33</td>\n      <td>43.009245</td>\n      <td>-97.394676</td>\n      <td>0</td>\n      <td>0</td>\n      <td>0</td>\n      <td>0</td>\n      <td>Yankton</td>\n      <td>46135.0</td>\n      <td>Yankton, South Dakota, US</td>\n      <td>NaN</td>\n      <td>NaN</td>\n      <td>Point</td>\n    </tr>\n    <tr>\n      <th>3148</th>\n      <td>New York</td>\n      <td>US</td>\n      <td>3/25/2020 23:33</td>\n      <td>42.635055</td>\n      <td>-77.103699</td>\n      <td>0</td>\n      <td>0</td>\n      <td>0</td>\n      <td>0</td>\n      <td>Yates</td>\n      <td>36123.0</td>\n      <td>Yates, New York, US</td>\n      <td>NaN</td>\n      <td>NaN</td>\n      <td>Point</td>\n    </tr>\n    <tr>\n      <th>3149</th>\n      <td>Arizona</td>\n      <td>US</td>\n      <td>3/25/2020 23:33</td>\n      <td>34.599339</td>\n      <td>-112.553859</td>\n      <td>4</td>\n      <td>0</td>\n      <td>0</td>\n      <td>0</td>\n      <td>Yavapai</td>\n      <td>4025.0</td>\n      <td>Yavapai, Arizona, US</td>\n      <td>NaN</td>\n      <td>NaN</td>\n      <td>Point</td>\n    </tr>\n    <tr>\n      <th>3150</th>\n      <td>Mississippi</td>\n      <td>US</td>\n      <td>3/25/2020 23:33</td>\n      <td>32.778904</td>\n      <td>-90.396561</td>\n      <td>3</td>\n      <td>0</td>\n      <td>0</td>\n      <td>0</td>\n      <td>Yazoo</td>\n      <td>28163.0</td>\n      <td>Yazoo, Mississippi, US</td>\n      <td>NaN</td>\n      <td>NaN</td>\n      <td>Point</td>\n    </tr>\n    <tr>\n      <th>3151</th>\n      <td>Arkansas</td>\n      <td>US</td>\n      <td>3/25/2020 23:33</td>\n      <td>35.002924</td>\n      <td>-93.411713</td>\n      <td>0</td>\n      <td>0</td>\n      <td>0</td>\n      <td>0</td>\n      <td>Yell</td>\n      <td>5149.0</td>\n      <td>Yell, Arkansas, US</td>\n      <td>NaN</td>\n      <td>NaN</td>\n      <td>Point</td>\n    </tr>\n    <tr>\n      <th>3152</th>\n      <td>Minnesota</td>\n      <td>US</td>\n      <td>3/25/2020 23:33</td>\n      <td>44.717102</td>\n      <td>-95.868425</td>\n      <td>0</td>\n      <td>0</td>\n      <td>0</td>\n      <td>0</td>\n      <td>Yellow Medicine</td>\n      <td>27173.0</td>\n      <td>Yellow Medicine, Minnesota, US</td>\n      <td>NaN</td>\n      <td>NaN</td>\n      <td>Point</td>\n    </tr>\n    <tr>\n      <th>3153</th>\n      <td>Montana</td>\n      <td>US</td>\n      <td>3/25/2020 23:33</td>\n      <td>45.939559</td>\n      <td>-108.269149</td>\n      <td>12</td>\n      <td>0</td>\n      <td>0</td>\n      <td>0</td>\n      <td>Yellowstone</td>\n      <td>30111.0</td>\n      <td>Yellowstone, Montana, US</td>\n      <td>NaN</td>\n      <td>NaN</td>\n      <td>Point</td>\n    </tr>\n    <tr>\n      <th>3154</th>\n      <td>Texas</td>\n      <td>US</td>\n      <td>3/25/2020 23:33</td>\n      <td>33.173202</td>\n      <td>-102.827643</td>\n      <td>0</td>\n      <td>0</td>\n      <td>0</td>\n      <td>0</td>\n      <td>Yoakum</td>\n      <td>48501.0</td>\n      <td>Yoakum, Texas, US</td>\n      <td>NaN</td>\n      <td>NaN</td>\n      <td>Point</td>\n    </tr>\n    <tr>\n      <th>3155</th>\n      <td>California</td>\n      <td>US</td>\n      <td>3/25/2020 23:33</td>\n      <td>38.682789</td>\n      <td>-121.901829</td>\n      <td>10</td>\n      <td>0</td>\n      <td>1</td>\n      <td>0</td>\n      <td>Yolo</td>\n      <td>6113.0</td>\n      <td>Yolo, California, US</td>\n      <td>NaN</td>\n      <td>NaN</td>\n      <td>Point</td>\n    </tr>\n    <tr>\n      <th>3156</th>\n      <td>Maine</td>\n      <td>US</td>\n      <td>3/25/2020 23:33</td>\n      <td>43.478084</td>\n      <td>-70.710524</td>\n      <td>23</td>\n      <td>0</td>\n      <td>0</td>\n      <td>0</td>\n      <td>York</td>\n      <td>23031.0</td>\n      <td>York, Maine, US</td>\n      <td>NaN</td>\n      <td>NaN</td>\n      <td>Point</td>\n    </tr>\n    <tr>\n      <th>3157</th>\n      <td>Nebraska</td>\n      <td>US</td>\n      <td>3/25/2020 23:33</td>\n      <td>40.872726</td>\n      <td>-97.597102</td>\n      <td>0</td>\n      <td>0</td>\n      <td>0</td>\n      <td>0</td>\n      <td>York</td>\n      <td>31185.0</td>\n      <td>York, Nebraska, US</td>\n      <td>NaN</td>\n      <td>NaN</td>\n      <td>Point</td>\n    </tr>\n    <tr>\n      <th>3158</th>\n      <td>Pennsylvania</td>\n      <td>US</td>\n      <td>3/25/2020 23:33</td>\n      <td>39.921009</td>\n      <td>-76.730401</td>\n      <td>20</td>\n      <td>0</td>\n      <td>0</td>\n      <td>0</td>\n      <td>York</td>\n      <td>42133.0</td>\n      <td>York, Pennsylvania, US</td>\n      <td>NaN</td>\n      <td>NaN</td>\n      <td>Point</td>\n    </tr>\n    <tr>\n      <th>3159</th>\n      <td>South Carolina</td>\n      <td>US</td>\n      <td>3/25/2020 23:33</td>\n      <td>34.972815</td>\n      <td>-81.180859</td>\n      <td>18</td>\n      <td>0</td>\n      <td>0</td>\n      <td>0</td>\n      <td>York</td>\n      <td>45091.0</td>\n      <td>York, South Carolina, US</td>\n      <td>NaN</td>\n      <td>NaN</td>\n      <td>Point</td>\n    </tr>\n    <tr>\n      <th>3160</th>\n      <td>Virginia</td>\n      <td>US</td>\n      <td>3/25/2020 23:33</td>\n      <td>37.243748</td>\n      <td>-76.544128</td>\n      <td>8</td>\n      <td>0</td>\n      <td>1</td>\n      <td>0</td>\n      <td>York</td>\n      <td>51199.0</td>\n      <td>York, Virginia, US</td>\n      <td>NaN</td>\n      <td>NaN</td>\n      <td>Point</td>\n    </tr>\n    <tr>\n      <th>3161</th>\n      <td>Texas</td>\n      <td>US</td>\n      <td>3/25/2020 23:33</td>\n      <td>33.176597</td>\n      <td>-98.687909</td>\n      <td>1</td>\n      <td>0</td>\n      <td>0</td>\n      <td>0</td>\n      <td>Young</td>\n      <td>48503.0</td>\n      <td>Young, Texas, US</td>\n      <td>NaN</td>\n      <td>NaN</td>\n      <td>Point</td>\n    </tr>\n    <tr>\n      <th>3162</th>\n      <td>California</td>\n      <td>US</td>\n      <td>3/25/2020 23:33</td>\n      <td>39.262559</td>\n      <td>-121.353564</td>\n      <td>0</td>\n      <td>0</td>\n      <td>0</td>\n      <td>0</td>\n      <td>Yuba</td>\n      <td>6115.0</td>\n      <td>Yuba, California, US</td>\n      <td>NaN</td>\n      <td>NaN</td>\n      <td>Point</td>\n    </tr>\n    <tr>\n      <th>3163</th>\n      <td>Alaska</td>\n      <td>US</td>\n      <td>3/25/2020 23:33</td>\n      <td>65.508155</td>\n      <td>-151.390739</td>\n      <td>0</td>\n      <td>0</td>\n      <td>0</td>\n      <td>0</td>\n      <td>Yukon-Koyukuk</td>\n      <td>2290.0</td>\n      <td>Yukon-Koyukuk, Alaska, US</td>\n      <td>NaN</td>\n      <td>NaN</td>\n      <td>Point</td>\n    </tr>\n    <tr>\n      <th>3164</th>\n      <td>Arizona</td>\n      <td>US</td>\n      <td>3/25/2020 23:33</td>\n      <td>32.768957</td>\n      <td>-113.906667</td>\n      <td>3</td>\n      <td>0</td>\n      <td>0</td>\n      <td>0</td>\n      <td>Yuma</td>\n      <td>4027.0</td>\n      <td>Yuma, Arizona, US</td>\n      <td>NaN</td>\n      <td>NaN</td>\n      <td>Point</td>\n    </tr>\n    <tr>\n      <th>3165</th>\n      <td>Colorado</td>\n      <td>US</td>\n      <td>3/25/2020 23:33</td>\n      <td>40.003468</td>\n      <td>-102.425867</td>\n      <td>1</td>\n      <td>0</td>\n      <td>0</td>\n      <td>0</td>\n      <td>Yuma</td>\n      <td>8125.0</td>\n      <td>Yuma, Colorado, US</td>\n      <td>NaN</td>\n      <td>NaN</td>\n      <td>Point</td>\n    </tr>\n    <tr>\n      <th>3166</th>\n      <td>Texas</td>\n      <td>US</td>\n      <td>3/25/2020 23:33</td>\n      <td>27.001564</td>\n      <td>-99.169872</td>\n      <td>0</td>\n      <td>0</td>\n      <td>0</td>\n      <td>0</td>\n      <td>Zapata</td>\n      <td>48505.0</td>\n      <td>Zapata, Texas, US</td>\n      <td>NaN</td>\n      <td>NaN</td>\n      <td>Point</td>\n    </tr>\n    <tr>\n      <th>3167</th>\n      <td>Texas</td>\n      <td>US</td>\n      <td>3/25/2020 23:33</td>\n      <td>28.866172</td>\n      <td>-99.760508</td>\n      <td>0</td>\n      <td>0</td>\n      <td>0</td>\n      <td>0</td>\n      <td>Zavala</td>\n      <td>48507.0</td>\n      <td>Zavala, Texas, US</td>\n      <td>NaN</td>\n      <td>NaN</td>\n      <td>Point</td>\n    </tr>\n    <tr>\n      <th>3168</th>\n      <td>South Dakota</td>\n      <td>US</td>\n      <td>3/25/2020 23:33</td>\n      <td>44.978819</td>\n      <td>-101.665462</td>\n      <td>0</td>\n      <td>0</td>\n      <td>0</td>\n      <td>0</td>\n      <td>Ziebach</td>\n      <td>46137.0</td>\n      <td>Ziebach, South Dakota, US</td>\n      <td>NaN</td>\n      <td>NaN</td>\n      <td>Point</td>\n    </tr>\n    <tr>\n      <th>3170</th>\n      <td>American Samoa</td>\n      <td>US</td>\n      <td>3/25/2020 23:33</td>\n      <td>-14.271000</td>\n      <td>-170.132000</td>\n      <td>0</td>\n      <td>0</td>\n      <td>0</td>\n      <td>0</td>\n      <td>NaN</td>\n      <td>60000.0</td>\n      <td>American Samoa, US</td>\n      <td>NaN</td>\n      <td>NaN</td>\n      <td>Point</td>\n    </tr>\n    <tr>\n      <th>3182</th>\n      <td>Diamond Princess</td>\n      <td>US</td>\n      <td>3/25/2020 23:33</td>\n      <td>0.000000</td>\n      <td>0.000000</td>\n      <td>49</td>\n      <td>0</td>\n      <td>0</td>\n      <td>0</td>\n      <td>NaN</td>\n      <td>88888.0</td>\n      <td>Diamond Princess, US</td>\n      <td>NaN</td>\n      <td>NaN</td>\n      <td>Point</td>\n    </tr>\n    <tr>\n      <th>3190</th>\n      <td>Grand Princess</td>\n      <td>US</td>\n      <td>3/25/2020 23:33</td>\n      <td>0.000000</td>\n      <td>0.000000</td>\n      <td>28</td>\n      <td>0</td>\n      <td>1</td>\n      <td>0</td>\n      <td>NaN</td>\n      <td>99999.0</td>\n      <td>Grand Princess, US</td>\n      <td>NaN</td>\n      <td>NaN</td>\n      <td>Point</td>\n    </tr>\n    <tr>\n      <th>3193</th>\n      <td>Guam</td>\n      <td>US</td>\n      <td>3/25/2020 23:33</td>\n      <td>13.444300</td>\n      <td>144.793700</td>\n      <td>37</td>\n      <td>0</td>\n      <td>1</td>\n      <td>0</td>\n      <td>NaN</td>\n      <td>66000.0</td>\n      <td>Guam, US</td>\n      <td>NaN</td>\n      <td>NaN</td>\n      <td>Point</td>\n    </tr>\n    <tr>\n      <th>3220</th>\n      <td>Northern Mariana Islands</td>\n      <td>US</td>\n      <td>3/25/2020 23:33</td>\n      <td>15.097900</td>\n      <td>145.673900</td>\n      <td>0</td>\n      <td>0</td>\n      <td>0</td>\n      <td>0</td>\n      <td>NaN</td>\n      <td>69000.0</td>\n      <td>Northern Mariana Islands, US</td>\n      <td>NaN</td>\n      <td>NaN</td>\n      <td>Point</td>\n    </tr>\n    <tr>\n      <th>3225</th>\n      <td>Puerto Rico</td>\n      <td>US</td>\n      <td>3/25/2020 23:33</td>\n      <td>18.220800</td>\n      <td>-66.590100</td>\n      <td>51</td>\n      <td>0</td>\n      <td>2</td>\n      <td>0</td>\n      <td>NaN</td>\n      <td>NaN</td>\n      <td>Puerto Rico, US</td>\n      <td>NaN</td>\n      <td>NaN</td>\n      <td>Point</td>\n    </tr>\n    <tr>\n      <th>3230</th>\n      <td>Recovered</td>\n      <td>US</td>\n      <td>3/25/2020 23:33</td>\n      <td>0.000000</td>\n      <td>0.000000</td>\n      <td>0</td>\n      <td>361</td>\n      <td>0</td>\n      <td>0</td>\n      <td>NaN</td>\n      <td>NaN</td>\n      <td>Recovered, US</td>\n      <td>NaN</td>\n      <td>NaN</td>\n      <td>Point</td>\n    </tr>\n    <tr>\n      <th>3246</th>\n      <td>Virgin Islands</td>\n      <td>US</td>\n      <td>3/25/2020 23:33</td>\n      <td>18.335800</td>\n      <td>-64.896300</td>\n      <td>17</td>\n      <td>0</td>\n      <td>0</td>\n      <td>0</td>\n      <td>NaN</td>\n      <td>78000.0</td>\n      <td>Virgin Islands, US</td>\n      <td>NaN</td>\n      <td>NaN</td>\n      <td>Point</td>\n    </tr>\n  </tbody>\n</table>\n<p>3177 rows × 15 columns</p>\n</div>",
      "text/plain": "                Province/State Country/Region      Last Update   Latitude  \\\n0               South Carolina             US  3/25/2020 23:33  34.223334   \n1                    Louisiana             US  3/25/2020 23:33  30.295065   \n2                     Virginia             US  3/25/2020 23:33  37.767072   \n3                        Idaho             US  3/25/2020 23:33  43.452658   \n4                         Iowa             US  3/25/2020 23:33  41.330756   \n5                     Kentucky             US  3/25/2020 23:33  37.104598   \n6                     Missouri             US  3/25/2020 23:33  40.190586   \n7                     Oklahoma             US  3/25/2020 23:33  35.884942   \n8                     Colorado             US  3/25/2020 23:33  39.874321   \n9                        Idaho             US  3/25/2020 23:33  44.893336   \n10                    Illinois             US  3/25/2020 23:33  39.988156   \n11                     Indiana             US  3/25/2020 23:33  40.745765   \n12                        Iowa             US  3/25/2020 23:33  41.029036   \n13                 Mississippi             US  3/25/2020 23:33  31.476698   \n14                    Nebraska             US  3/25/2020 23:33  40.524494   \n15                North Dakota             US  3/25/2020 23:33  46.096869   \n16                        Ohio             US  3/25/2020 23:33  38.845411   \n17                Pennsylvania             US  3/25/2020 23:33  39.871404   \n18                  Washington             US  3/25/2020 23:33  46.982998   \n19                   Wisconsin             US  3/25/2020 23:33  43.969747   \n20                     Vermont             US  3/25/2020 23:33  44.032173   \n21              South Carolina             US  3/25/2020 23:33  33.543380   \n22                   Minnesota             US  3/25/2020 23:33  46.609620   \n23                     Florida             US  3/25/2020 23:33  29.678665   \n24              North Carolina             US  3/25/2020 23:33  36.043470   \n25                  California             US  3/25/2020 23:33  37.646294   \n26                    Colorado             US  3/25/2020 23:33  37.572506   \n27                    New York             US  3/25/2020 23:33  42.600603   \n28                     Wyoming             US  3/25/2020 23:33  41.654987   \n29                    Virginia             US  3/25/2020 23:33  38.020807   \n...                        ...            ...              ...        ...   \n3147              South Dakota             US  3/25/2020 23:33  43.009245   \n3148                  New York             US  3/25/2020 23:33  42.635055   \n3149                   Arizona             US  3/25/2020 23:33  34.599339   \n3150               Mississippi             US  3/25/2020 23:33  32.778904   \n3151                  Arkansas             US  3/25/2020 23:33  35.002924   \n3152                 Minnesota             US  3/25/2020 23:33  44.717102   \n3153                   Montana             US  3/25/2020 23:33  45.939559   \n3154                     Texas             US  3/25/2020 23:33  33.173202   \n3155                California             US  3/25/2020 23:33  38.682789   \n3156                     Maine             US  3/25/2020 23:33  43.478084   \n3157                  Nebraska             US  3/25/2020 23:33  40.872726   \n3158              Pennsylvania             US  3/25/2020 23:33  39.921009   \n3159            South Carolina             US  3/25/2020 23:33  34.972815   \n3160                  Virginia             US  3/25/2020 23:33  37.243748   \n3161                     Texas             US  3/25/2020 23:33  33.176597   \n3162                California             US  3/25/2020 23:33  39.262559   \n3163                    Alaska             US  3/25/2020 23:33  65.508155   \n3164                   Arizona             US  3/25/2020 23:33  32.768957   \n3165                  Colorado             US  3/25/2020 23:33  40.003468   \n3166                     Texas             US  3/25/2020 23:33  27.001564   \n3167                     Texas             US  3/25/2020 23:33  28.866172   \n3168              South Dakota             US  3/25/2020 23:33  44.978819   \n3170            American Samoa             US  3/25/2020 23:33 -14.271000   \n3182          Diamond Princess             US  3/25/2020 23:33   0.000000   \n3190            Grand Princess             US  3/25/2020 23:33   0.000000   \n3193                      Guam             US  3/25/2020 23:33  13.444300   \n3220  Northern Mariana Islands             US  3/25/2020 23:33  15.097900   \n3225               Puerto Rico             US  3/25/2020 23:33  18.220800   \n3230                 Recovered             US  3/25/2020 23:33   0.000000   \n3246            Virgin Islands             US  3/25/2020 23:33  18.335800   \n\n       Longitude  Confirmed  Recovered  Deaths  Active           County  \\\n0     -82.461707          3          0       0       0        Abbeville   \n1     -92.414197          2          0       0       0           Acadia   \n2     -75.632346          2          0       0       0         Accomack   \n3    -116.241552         24          0       0       0              Ada   \n4     -94.471059          1          0       0       0            Adair   \n5     -85.281297          0          0       0       0            Adair   \n6     -92.600782          1          0       0       0            Adair   \n7     -94.658593          2          0       0       0            Adair   \n8    -104.336258         27          0       0       0            Adams   \n9    -116.454525          0          0       0       0            Adams   \n10    -91.187868          1          0       0       0            Adams   \n11    -84.936714          1          0       0       0            Adams   \n12    -94.699326          0          0       0       0            Adams   \n13    -91.353260          2          0       0       0            Adams   \n14    -98.501178          1          0       0       0            Adams   \n15   -102.528540          0          0       0       0            Adams   \n16    -83.471896          0          0       0       0            Adams   \n17    -77.216103          6          0       0       0            Adams   \n18   -118.560173          1          0       0       0            Adams   \n19    -89.767828          0          0       0       0            Adams   \n20    -73.141309          9          0       0       0          Addison   \n21    -81.636454          2          0       0       0            Aiken   \n22    -93.411683          0          0       0       0           Aitkin   \n23    -82.359282         45          0       0       0          Alachua   \n24    -79.399761          3          0       0       0         Alamance   \n25   -121.892927        135          0       2       0          Alameda   \n26   -105.788545          0          0       0       0          Alamosa   \n27    -73.977239        152          0       0       0           Albany   \n28   -105.723541          1          0       0       0           Albany   \n29    -78.554811          4          0       0       0        Albemarle   \n...          ...        ...        ...     ...     ...              ...   \n3147  -97.394676          0          0       0       0          Yankton   \n3148  -77.103699          0          0       0       0            Yates   \n3149 -112.553859          4          0       0       0          Yavapai   \n3150  -90.396561          3          0       0       0            Yazoo   \n3151  -93.411713          0          0       0       0             Yell   \n3152  -95.868425          0          0       0       0  Yellow Medicine   \n3153 -108.269149         12          0       0       0      Yellowstone   \n3154 -102.827643          0          0       0       0           Yoakum   \n3155 -121.901829         10          0       1       0             Yolo   \n3156  -70.710524         23          0       0       0             York   \n3157  -97.597102          0          0       0       0             York   \n3158  -76.730401         20          0       0       0             York   \n3159  -81.180859         18          0       0       0             York   \n3160  -76.544128          8          0       1       0             York   \n3161  -98.687909          1          0       0       0            Young   \n3162 -121.353564          0          0       0       0             Yuba   \n3163 -151.390739          0          0       0       0    Yukon-Koyukuk   \n3164 -113.906667          3          0       0       0             Yuma   \n3165 -102.425867          1          0       0       0             Yuma   \n3166  -99.169872          0          0       0       0           Zapata   \n3167  -99.760508          0          0       0       0           Zavala   \n3168 -101.665462          0          0       0       0          Ziebach   \n3170 -170.132000          0          0       0       0              NaN   \n3182    0.000000         49          0       0       0              NaN   \n3190    0.000000         28          0       1       0              NaN   \n3193  144.793700         37          0       1       0              NaN   \n3220  145.673900          0          0       0       0              NaN   \n3225  -66.590100         51          0       2       0              NaN   \n3230    0.000000          0        361       0       0              NaN   \n3246  -64.896300         17          0       0       0              NaN   \n\n      State/County FIPS Code                    Combined Key  Incident Rate  \\\n0                    45001.0   Abbeville, South Carolina, US            NaN   \n1                    22001.0           Acadia, Louisiana, US            NaN   \n2                    51001.0          Accomack, Virginia, US            NaN   \n3                    16001.0                  Ada, Idaho, US            NaN   \n4                    19001.0                 Adair, Iowa, US            NaN   \n5                    21001.0             Adair, Kentucky, US            NaN   \n6                    29001.0             Adair, Missouri, US            NaN   \n7                    40001.0             Adair, Oklahoma, US            NaN   \n8                     8001.0             Adams, Colorado, US            NaN   \n9                    16003.0                Adams, Idaho, US            NaN   \n10                   17001.0             Adams, Illinois, US            NaN   \n11                   18001.0              Adams, Indiana, US            NaN   \n12                   19003.0                 Adams, Iowa, US            NaN   \n13                   28001.0          Adams, Mississippi, US            NaN   \n14                   31001.0             Adams, Nebraska, US            NaN   \n15                   38001.0         Adams, North Dakota, US            NaN   \n16                   39001.0                 Adams, Ohio, US            NaN   \n17                   42001.0         Adams, Pennsylvania, US            NaN   \n18                   53001.0           Adams, Washington, US            NaN   \n19                   55001.0            Adams, Wisconsin, US            NaN   \n20                   50001.0            Addison, Vermont, US            NaN   \n21                   45003.0       Aiken, South Carolina, US            NaN   \n22                   27001.0           Aitkin, Minnesota, US            NaN   \n23                   12001.0            Alachua, Florida, US            NaN   \n24                   37001.0    Alamance, North Carolina, US            NaN   \n25                    6001.0         Alameda, California, US            NaN   \n26                    8003.0           Alamosa, Colorado, US            NaN   \n27                   36001.0            Albany, New York, US            NaN   \n28                   56001.0             Albany, Wyoming, US            NaN   \n29                   51003.0         Albemarle, Virginia, US            NaN   \n...                      ...                             ...            ...   \n3147                 46135.0       Yankton, South Dakota, US            NaN   \n3148                 36123.0             Yates, New York, US            NaN   \n3149                  4025.0            Yavapai, Arizona, US            NaN   \n3150                 28163.0          Yazoo, Mississippi, US            NaN   \n3151                  5149.0              Yell, Arkansas, US            NaN   \n3152                 27173.0  Yellow Medicine, Minnesota, US            NaN   \n3153                 30111.0        Yellowstone, Montana, US            NaN   \n3154                 48501.0               Yoakum, Texas, US            NaN   \n3155                  6113.0            Yolo, California, US            NaN   \n3156                 23031.0                 York, Maine, US            NaN   \n3157                 31185.0              York, Nebraska, US            NaN   \n3158                 42133.0          York, Pennsylvania, US            NaN   \n3159                 45091.0        York, South Carolina, US            NaN   \n3160                 51199.0              York, Virginia, US            NaN   \n3161                 48503.0                Young, Texas, US            NaN   \n3162                  6115.0            Yuba, California, US            NaN   \n3163                  2290.0       Yukon-Koyukuk, Alaska, US            NaN   \n3164                  4027.0               Yuma, Arizona, US            NaN   \n3165                  8125.0              Yuma, Colorado, US            NaN   \n3166                 48505.0               Zapata, Texas, US            NaN   \n3167                 48507.0               Zavala, Texas, US            NaN   \n3168                 46137.0       Ziebach, South Dakota, US            NaN   \n3170                 60000.0              American Samoa, US            NaN   \n3182                 88888.0            Diamond Princess, US            NaN   \n3190                 99999.0              Grand Princess, US            NaN   \n3193                 66000.0                        Guam, US            NaN   \n3220                 69000.0    Northern Mariana Islands, US            NaN   \n3225                     NaN                 Puerto Rico, US            NaN   \n3230                     NaN                   Recovered, US            NaN   \n3246                 78000.0              Virgin Islands, US            NaN   \n\n      People Tested  Shape  \n0               NaN  Point  \n1               NaN  Point  \n2               NaN  Point  \n3               NaN  Point  \n4               NaN  Point  \n5               NaN  Point  \n6               NaN  Point  \n7               NaN  Point  \n8               NaN  Point  \n9               NaN  Point  \n10              NaN  Point  \n11              NaN  Point  \n12              NaN  Point  \n13              NaN  Point  \n14              NaN  Point  \n15              NaN  Point  \n16              NaN  Point  \n17              NaN  Point  \n18              NaN  Point  \n19              NaN  Point  \n20              NaN  Point  \n21              NaN  Point  \n22              NaN  Point  \n23              NaN  Point  \n24              NaN  Point  \n25              NaN  Point  \n26              NaN  Point  \n27              NaN  Point  \n28              NaN  Point  \n29              NaN  Point  \n...             ...    ...  \n3147            NaN  Point  \n3148            NaN  Point  \n3149            NaN  Point  \n3150            NaN  Point  \n3151            NaN  Point  \n3152            NaN  Point  \n3153            NaN  Point  \n3154            NaN  Point  \n3155            NaN  Point  \n3156            NaN  Point  \n3157            NaN  Point  \n3158            NaN  Point  \n3159            NaN  Point  \n3160            NaN  Point  \n3161            NaN  Point  \n3162            NaN  Point  \n3163            NaN  Point  \n3164            NaN  Point  \n3165            NaN  Point  \n3166            NaN  Point  \n3167            NaN  Point  \n3168            NaN  Point  \n3170            NaN  Point  \n3182            NaN  Point  \n3190            NaN  Point  \n3193            NaN  Point  \n3220            NaN  Point  \n3225            NaN  Point  \n3230            NaN  Point  \n3246            NaN  Point  \n\n[3177 rows x 15 columns]"
     },
     "metadata": {},
     "execution_count": 136
    }
   ],
   "source": [
    "US_only = final_df['Country/Region'] == 'US'\n",
    "final_df[US_only]"
   ]
  },
  {
   "cell_type": "code",
   "execution_count": 131,
   "metadata": {},
   "outputs": [
    {
     "output_type": "execute_result",
     "data": {
      "text/plain": "US                3177\nChina               33\nCanada              13\nFrance               9\nAustralia            8\nUnited Kingdom       6\nNetherlands          3\nDenmark              2\nName: Country/Region, dtype: int64"
     },
     "metadata": {},
     "execution_count": 131
    }
   ],
   "source": [
    "final_df[~not_us]['Country/Region'].value_counts()"
   ]
  },
  {
   "cell_type": "code",
   "execution_count": 117,
   "metadata": {},
   "outputs": [
    {
     "output_type": "execute_result",
     "data": {
      "text/plain": "0        45001\n1        22001\n2        51001\n3        16001\n4        19001\n5        21001\n6        29001\n7        40001\n8         8001\n9        16003\n10       17001\n11       18001\n12       19003\n13       28001\n14       31001\n15       38001\n16       39001\n17       42001\n18       53001\n19       55001\n20       50001\n21       45003\n22       27001\n23       12001\n24       37001\n25        6001\n26        8003\n27       36001\n28       56001\n29       51003\n         ...  \n3390    <Null>\n3391    <Null>\n3392    <Null>\n3393    <Null>\n3394    <Null>\n3395    <Null>\n3396    <Null>\n3397    <Null>\n3398    <Null>\n3399    <Null>\n3400    <Null>\n3401    <Null>\n3402    <Null>\n3403    <Null>\n3404    <Null>\n3405    <Null>\n3406    <Null>\n3407    <Null>\n3408    <Null>\n3409    <Null>\n3410    <Null>\n3411    <Null>\n3412    <Null>\n3413    <Null>\n3414    <Null>\n3415    <Null>\n3416    <Null>\n3417    <Null>\n3418    <Null>\n3419    <Null>\nName: State/County FIPS Code, Length: 3420, dtype: object"
     },
     "metadata": {},
     "execution_count": 117
    }
   ],
   "source": [
    "final_df['State/County FIPS Code'].isn"
   ]
  },
  {
   "cell_type": "code",
   "execution_count": null,
   "metadata": {},
   "outputs": [],
   "source": []
  }
 ]
}