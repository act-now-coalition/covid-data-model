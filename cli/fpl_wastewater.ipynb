{
 "cells": [
  {
   "cell_type": "code",
   "execution_count": null,
   "metadata": {},
   "outputs": [],
   "source": [
    "import pandas as pd\n",
    "pd.set_option(\"display.max_rows\", 500)"
   ]
  },
  {
   "cell_type": "code",
   "execution_count": null,
   "metadata": {},
   "outputs": [],
   "source": [
    "raw = pd.read_csv(\"https://data.cdc.gov/api/views/2ew6-ywp6/rows.csv?accessType=DOWNLOAD\")\n",
    "counties = pd.read_csv(\"https://raw.githubusercontent.com/covid-projections/covid-data-model/main/data/misc/fips_population.csv\")[[\"fips\", \"population\"]]"
   ]
  },
  {
   "cell_type": "code",
   "execution_count": null,
   "metadata": {},
   "outputs": [],
   "source": [
    "# counties[\"fips\"] = counties[\"fips\"].astype(str).str.zfill(5)\n",
    "raw.county_fips.unique()"
   ]
  },
  {
   "cell_type": "code",
   "execution_count": null,
   "metadata": {},
   "outputs": [],
   "source": [
    "fpl_counties = [\"12099\", \"12086\", \"12011\", \"12033\", \"12111\", \"19113\", \"55071\", \"33015\", \"48201\", \"06075\", \"27123\", \"27053\"]\n",
    "split = raw[\"county_names\"].str.split(\",\")"
   ]
  },
  {
   "cell_type": "code",
   "execution_count": null,
   "metadata": {},
   "outputs": [],
   "source": [
    "# fpl_data = raw.loc[raw[\"county_fips\"].isin(fpl_counties)].copy()\n",
    "fpl_data = raw\n",
    "fpl_data[\"fips\"] = fpl_data[\"county_fips\"].astype(str).str.zfill(5)"
   ]
  },
  {
   "cell_type": "code",
   "execution_count": null,
   "metadata": {},
   "outputs": [],
   "source": [
    "# idx = fpl_data.groupby(['county_fips'])['date_start'].transform(max) == fpl_data['date_start']\n",
    "# # fpl_data[idx]\n",
    "fl = raw.loc[raw[\"wwtp_jurisdiction\"] == \"Florida\"].copy()\n",
    "sum = fl[fl[\"date_start\"] == \"2022-04-16\"].sum()[\"population_served\"]\n",
    "percent = (sum / counties[counties[\"fips\"].str[:2] == \"12\"].sum()[\"population\"]) * 100\n",
    "print(f\"Coverage for {sum} in FL, or {round(percent,2)}% of FL's total population\")\n"
   ]
  },
  {
   "cell_type": "code",
   "execution_count": null,
   "metadata": {},
   "outputs": [],
   "source": [
    "fpl_data = fpl_data.merge(counties, on=\"fips\", how=\"left\")\n",
    "# fpl_data.sort_values(\"date_start\", ascending=False)\n",
    "# fpl_data.dropna().sort_values(\"date_start\", ascending=False)"
   ]
  },
  {
   "cell_type": "code",
   "execution_count": null,
   "metadata": {},
   "outputs": [],
   "source": [
    "\n",
    "# FPL Locations\n",
    "fpl_sumamry = fpl_data[fpl_data[\"date_start\"] == \"2022-04-16\"].groupby([\"fips\", \"county_names\"]).sum()[[\"population_served\", \"population\"]]\n",
    "fpl_sumamry[\"percent_county_coverage\"] = round(fpl_sumamry['population_served'] / fpl_sumamry['population'] * 100, 1)\n",
    "fpl_sumamry[\"percent_county_coverage\"] = fpl_sumamry[\"percent_county_coverage\"].astype(str) + \"%\"\n",
    "fpl_sumamry.rename(columns={\n",
    "    \"population_served\": \"Population coverage\",\n",
    "    \"population\": \"Total population\",\n",
    "    \"percent_county_coverage\": \"Percent of total county population covered\"\n",
    "})"
   ]
  },
  {
   "cell_type": "code",
   "execution_count": null,
   "metadata": {},
   "outputs": [],
   "source": [
    "\n",
    "\n"
   ]
  },
  {
   "cell_type": "code",
   "execution_count": null,
   "metadata": {},
   "outputs": [],
   "source": [
    "site_metadata = raw[raw[\"date_start\"] == \"2022-04-16\"][[\"key_plot_id\", \"county_fips\", \"county_names\", \"population_served\"]].drop_duplicates().dropna()\n",
    "# site_metadata"
   ]
  },
  {
   "cell_type": "markdown",
   "metadata": {},
   "source": []
  },
  {
   "cell_type": "markdown",
   "metadata": {},
   "source": [
    "# Normalized Data"
   ]
  },
  {
   "cell_type": "code",
   "execution_count": null,
   "metadata": {},
   "outputs": [],
   "source": [
    "nwss = pd.read_csv(\"https://data.cdc.gov/api/views/g653-rqe2/rows.csv?accessType=DOWNLOAD\")\n",
    "normalized_nwss = nwss.merge(site_metadata, on=\"key_plot_id\").rename(columns={\"county_fips\": \"fips\"})\n",
    "normalized_nwss = normalized_nwss.merge(counties, on=\"fips\", how=\"left\")"
   ]
  },
  {
   "cell_type": "code",
   "execution_count": null,
   "metadata": {},
   "outputs": [],
   "source": [
    "nd = normalized_nwss.dropna()\n",
    "nd.loc[nd[\"fips\"].isin(fpl_counties)].copy().sort_values(\"date\", ascending=False)"
   ]
  },
  {
   "cell_type": "code",
   "execution_count": null,
   "metadata": {},
   "outputs": [],
   "source": []
  },
  {
   "cell_type": "code",
   "execution_count": null,
   "metadata": {},
   "outputs": [],
   "source": []
  },
  {
   "cell_type": "code",
   "execution_count": null,
   "metadata": {},
   "outputs": [],
   "source": []
  }
 ],
 "metadata": {
  "interpreter": {
   "hash": "c96b948a1a0624ea7b971db727b4e2de382ea5c319eadb6617b88a33c249505a"
  },
  "kernelspec": {
   "display_name": "Python 3.7.11 ('covid-data-model')",
   "language": "python",
   "name": "python3"
  },
  "language_info": {
   "codemirror_mode": {
    "name": "ipython",
    "version": 3
   },
   "file_extension": ".py",
   "mimetype": "text/x-python",
   "name": "python",
   "nbconvert_exporter": "python",
   "pygments_lexer": "ipython3",
   "version": "3.7.11"
  }
 },
 "nbformat": 4,
 "nbformat_minor": 2
}
