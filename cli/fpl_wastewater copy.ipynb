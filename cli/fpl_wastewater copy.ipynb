{
 "cells": [
  {
   "cell_type": "code",
   "execution_count": null,
   "metadata": {},
   "outputs": [],
   "source": [
    "import pandas as pd\n",
    "import plotly.graph_objects as go\n",
    "from plotly.subplots import make_subplots"
   ]
  },
  {
   "cell_type": "code",
   "execution_count": null,
   "metadata": {},
   "outputs": [],
   "source": [
    "raw = pd.read_csv(\"https://data.cdc.gov/api/views/2ew6-ywp6/rows.csv?accessType=DOWNLOAD\")\n",
    "counties = pd.read_csv(\"https://raw.githubusercontent.com/covid-projections/covid-data-model/main/data/misc/fips_population.csv\")[[\"fips\", \"population\"]]\n",
    "counties[\"fips\"] = counties[\"fips\"].astype(str).str.zfill(5)\n",
    "site_metadata = raw[raw[\"date_start\"] == \"2022-04-16\"][[\"key_plot_id\", \"county_fips\", \"county_names\", \"population_served\"]].drop_duplicates().dropna()"
   ]
  },
  {
   "cell_type": "code",
   "execution_count": null,
   "metadata": {},
   "outputs": [],
   "source": [
    "# How many sewersheds serve multiple counties (and for what counties)?\n",
    "multiple_counties = site_metadata[\"county_fips\"].str.contains(\",\")\n",
    "print(\"Sewersheds serving multiple counties: \",len(site_metadata[multiple_counties].county_fips.unique()))\n",
    "print(len(site_metadata[\"key_plot_id\"].unique()))\n",
    "\n",
    "multiple_counties_locations = site_metadata[\"county_fips\"].str.split(\",\").explode().unique()\n",
    "counties[counties[\"fips\"].isin(multiple_counties_locations)].sort_values(\"population\", ascending=False)\n",
    "site_metadata[\"key_plot_id\"].unique()\n"
   ]
  },
  {
   "cell_type": "markdown",
   "metadata": {},
   "source": []
  },
  {
   "cell_type": "markdown",
   "metadata": {},
   "source": [
    "# Covid Concentration Data"
   ]
  },
  {
   "cell_type": "code",
   "execution_count": null,
   "metadata": {},
   "outputs": [],
   "source": [
    "# Wastewater\n",
    "nwss = pd.read_csv(\"https://data.cdc.gov/api/views/g653-rqe2/rows.csv?accessType=DOWNLOAD\")\n",
    "normalized_nwss = nwss.merge(site_metadata, on=\"key_plot_id\").rename(columns={\"county_fips\": \"fips\"})\n",
    "normalized_nwss = normalized_nwss.merge(counties, on=\"fips\", how=\"left\")\n",
    "nd = normalized_nwss.dropna()\n",
    "nd[\"pcr_conc_smoothed\"] = nd[\"pcr_conc_smoothed\"] * nd[\"population_served\"]\n",
    "by_county = nd.groupby([\"fips\", \"county_names\", \"date\", \"normalization\", \"population\"]).sum().reset_index().set_index([\"fips\", \"date\"])"
   ]
  },
  {
   "cell_type": "code",
   "execution_count": null,
   "metadata": {},
   "outputs": [],
   "source": [
    "# Case data\n",
    "api = pd.read_csv(\"https://api.covidactnow.org/v2/counties.timeseries.csv?apiKey=81d0e97ecec0406abf12c80d6cd8ec93\")\n",
    "api = api[api[\"date\"] > \"2022-01-01\"]"
   ]
  },
  {
   "cell_type": "code",
   "execution_count": null,
   "metadata": {},
   "outputs": [],
   "source": [
    "# Combine datasets\n",
    "cases: pd.DataFrame = api.loc[:,[\"fips\", \"date\", \"county\", \"state\", \"metrics.caseDensity\"]]\n",
    "cases[\"fips\"] = cases[\"fips\"].astype(str).str.zfill(5)\n",
    "cases = cases.set_index([\"fips\", \"date\"])\n",
    "comb = by_county.combine_first(cases)\n",
    "comb[\"percent_coverage\"] = (comb[\"population_served\"] / comb[\"population\"]) * 100\n",
    "comb[\"pcr_smoothed_normalized\"] = comb[\"pcr_conc_smoothed\"] / comb[\"population_served\"]"
   ]
  },
  {
   "cell_type": "code",
   "execution_count": null,
   "metadata": {},
   "outputs": [],
   "source": [
    "# # Sanity checks\n",
    "md = nd.set_index([\"fips\", \"date\"])\n",
    "chi = by_county.xs(\"29189\", level=\"fips\", drop_level=False).dropna()\n",
    "chi\n",
    "# chi.xs(\"2022-04-16\", level=\"date\").sum()[\"population_served\"]\n",
    "# comb[comb[\"fips\"] ==\"29189,29099\"]"
   ]
  },
  {
   "cell_type": "markdown",
   "metadata": {},
   "source": [
    "# Charts"
   ]
  },
  {
   "cell_type": "code",
   "execution_count": null,
   "metadata": {},
   "outputs": [],
   "source": [
    "# Create graphs for largest 10 counties (and Manitowoc)\n",
    "for fips in list(comb.sort_values(\"population\", ascending=False).index.get_level_values(\"fips\").unique()[:10]) + [\"55071\"]:\n",
    "    # Get specific county data and metadata\n",
    "    data = comb.xs(fips, level=\"fips\")\n",
    "    date_idx = data.index.get_level_values(\"date\")\n",
    "    county = data.iloc[0][\"county\"]\n",
    "    state = data.iloc[0][\"state\"]\n",
    "    coverage = round(max(data[\"percent_coverage\"].dropna()),1)\n",
    "    coverage_date = data[data[\"percent_coverage\"] == max(data[\"percent_coverage\"].dropna())].reset_index().iloc[-1][\"date\"]\n",
    "    normalization_methods = data.dropna()[\"normalization\"].unique()\n",
    "    normalization_method = normalization_methods[0] if len(normalization_methods) == 1 else \"combination of both\"\n",
    "\n",
    "    # Plot\n",
    "    fig = make_subplots(specs=[[{\"secondary_y\": True}]])\n",
    "    fig.add_trace(\n",
    "        go.Scatter(x=date_idx, y=data[\"metrics.caseDensity\"], name=\"cases per 100k\"),\n",
    "        secondary_y=False,\n",
    "    )\n",
    "    fig.add_trace(\n",
    "        go.Scatter(x=date_idx, y=data[\"pcr_smoothed_normalized\"].ffill(limit=1), name=\"(viral copies per person) / <br> (population served)\"),\n",
    "        secondary_y=True,\n",
    "    )\n",
    "\n",
    "    fig.update_layout(\n",
    "        title_text=f\"Case density and wastewater concentration vs time <br><b><sup>{county}, \" \n",
    "        f\"{state}</sup></b><br><sub>Maximum population coverage: {coverage}% (on {coverage_date}), \"\n",
    "        f\"normalization method: {normalization_method}</sub></br>\"\n",
    "    )\n",
    "    fig.update_xaxes(title_text=\"Date\")\n",
    "    fig.update_yaxes(title_text=\"Daily new cases (7-day avg.)\", secondary_y=False)\n",
    "    fig.update_yaxes(title_text=\"Wastewater concentration\", secondary_y=True)\n",
    "    fig.show()"
   ]
  },
  {
   "cell_type": "code",
   "execution_count": null,
   "metadata": {},
   "outputs": [],
   "source": [
    "# Get specific county data and metadata\n",
    "# 48201 -- Dallas/Harris County\n",
    "\n",
    "for fips in comb.sort_values(\"population\", ascending=False).index.get_level_values(\"fips\").unique()[:10]:\n",
    "    data = comb.xs(fips, level=\"fips\")\n",
    "    date_idx = data.index.get_level_values(\"date\")\n",
    "    county = data.iloc[0][\"county\"]\n",
    "    state = data.iloc[0][\"state\"]\n",
    "\n",
    "    # Plot\n",
    "    fig = make_subplots()\n",
    "    fig.add_trace(\n",
    "        go.Scatter(x=date_idx, y=data[\"percent_coverage\"], name=\"cases per 100k\"),\n",
    "    )\n",
    "    fig.update_layout(\n",
    "        title_text=f\"Percent of population covered by wastewater data vs time <br><b><sup>{county}, {state}\" \n",
    "    )\n",
    "    fig.update(layout_yaxis_range = [0,100])\n",
    "    fig.update_xaxes(title_text=\"Date\")\n",
    "    fig.update_yaxes(title_text=\"% population covered\")\n",
    "    fig.show()"
   ]
  },
  {
   "cell_type": "code",
   "execution_count": null,
   "metadata": {},
   "outputs": [],
   "source": []
  }
 ],
 "metadata": {
  "interpreter": {
   "hash": "c96b948a1a0624ea7b971db727b4e2de382ea5c319eadb6617b88a33c249505a"
  },
  "kernelspec": {
   "display_name": "Python 3.7.11 ('covid-data-model')",
   "language": "python",
   "name": "python3"
  },
  "language_info": {
   "codemirror_mode": {
    "name": "ipython",
    "version": 3
   },
   "file_extension": ".py",
   "mimetype": "text/x-python",
   "name": "python",
   "nbconvert_exporter": "python",
   "pygments_lexer": "ipython3",
   "version": "3.7.11"
  }
 },
 "nbformat": 4,
 "nbformat_minor": 2
}
