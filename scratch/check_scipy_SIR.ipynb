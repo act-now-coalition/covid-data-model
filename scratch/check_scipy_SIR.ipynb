{
 "cells": [
  {
   "cell_type": "code",
   "execution_count": null,
   "metadata": {},
   "outputs": [],
   "source": [
    "import numpy as np\n",
    "from scipy.integrate import odeint\n",
    "import matplotlib.pyplot as plt"
   ]
  },
  {
   "cell_type": "code",
   "execution_count": null,
   "metadata": {},
   "outputs": [],
   "source": [
    "%matplotlib inline\n",
    "\n",
    "import matplotlib.pyplot as plt"
   ]
  },
  {
   "cell_type": "code",
   "execution_count": null,
   "metadata": {},
   "outputs": [],
   "source": [
    "# Total population, N.\n",
    "N = 1000\n",
    "# Initial number of infected and recovered individuals, I0 and R0.\n",
    "I0, R0 = 1, 0\n",
    "# Everyone else, S0, is susceptible to infection initially.\n",
    "S0 = N - I0 - R0\n",
    "# Contact rate, beta, and mean recovery rate, gamma, (in 1/days).\n",
    "beta, gamma = 0.2, 1./10 \n",
    "# A grid of time points (in days)\n",
    "t = np.linspace(0, 160, 160)"
   ]
  },
  {
   "cell_type": "code",
   "execution_count": null,
   "metadata": {},
   "outputs": [],
   "source": [
    "# The SIR model differential equations.\n",
    "def deriv(y, t, N, beta, gamma):\n",
    "    t = None\n",
    "    \n",
    "    S, I, R = y\n",
    "    dSdt = -beta * S * I / N\n",
    "    dIdt = beta * S * I / N - gamma * I\n",
    "    dRdt = gamma * I\n",
    "    return dSdt, dIdt, dRdt"
   ]
  },
  {
   "cell_type": "code",
   "execution_count": null,
   "metadata": {},
   "outputs": [],
   "source": [
    "# Initial conditions vector\n",
    "y0 = S0, I0, R0\n",
    "# Integrate the SIR equations over the time grid, t.\n",
    "\n",
    "ret = odeint(deriv, y0, t, args=(N, beta, gamma))\n",
    "S, I, R = ret.T"
   ]
  },
  {
   "cell_type": "code",
   "execution_count": null,
   "metadata": {},
   "outputs": [],
   "source": [
    "# Plot the data on three separate curves for S(t), I(t) and R(t)\n",
    "fig = plt.figure(facecolor='w')\n",
    "ax = fig.add_subplot(111, axisbelow=True)\n",
    "ax.plot(t, S/1000, 'b', alpha=0.5, lw=2, label='Susceptible')\n",
    "ax.plot(t, I/1000, 'r', alpha=0.5, lw=2, label='Infected')\n",
    "ax.plot(t, R/1000, 'g', alpha=0.5, lw=2, label='Recovered with immunity')\n",
    "ax.set_xlabel('Time /days')\n",
    "ax.set_ylabel('Number (1000s)')\n",
    "ax.set_ylim(0,1.2)\n",
    "ax.yaxis.set_tick_params(length=0)\n",
    "ax.xaxis.set_tick_params(length=0)\n",
    "ax.grid(b=True, which='major', c='w', lw=2, ls='-')\n",
    "legend = ax.legend()\n",
    "legend.get_frame().set_alpha(0.5)\n",
    "for spine in ('top', 'right', 'bottom', 'left'):\n",
    "    ax.spines[spine].set_visible(False)\n",
    "plt.show()"
   ]
  },
  {
   "cell_type": "code",
   "execution_count": null,
   "metadata": {},
   "outputs": [],
   "source": []
  }
 ],
 "metadata": {
  "kernelspec": {
   "display_name": "Python 3",
   "language": "python",
   "name": "python3"
  },
  "language_info": {
   "codemirror_mode": {
    "name": "ipython",
    "version": 3
   },
   "file_extension": ".py",
   "mimetype": "text/x-python",
   "name": "python",
   "nbconvert_exporter": "python",
   "pygments_lexer": "ipython3",
   "version": "3.7.4"
  }
 },
 "nbformat": 4,
 "nbformat_minor": 2
}
