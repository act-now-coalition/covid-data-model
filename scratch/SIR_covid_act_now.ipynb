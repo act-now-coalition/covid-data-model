{
 "cells": [
  {
   "cell_type": "code",
   "execution_count": null,
   "metadata": {},
   "outputs": [],
   "source": [
    "# big shout out to these folks\n",
    "# https://github.com/alsnhll/SEIR_COVID19/blob/master/SEIR_COVID19.ipynb"
   ]
  },
  {
   "cell_type": "code",
   "execution_count": null,
   "metadata": {},
   "outputs": [],
   "source": [
    "import numpy as np\n",
    "import pandas as pd\n",
    "\n",
    "from datetime import datetime, timedelta\n",
    "\n",
    "from scipy.integrate import odeint\n",
    "import matplotlib.pyplot as plt"
   ]
  },
  {
   "cell_type": "code",
   "execution_count": null,
   "metadata": {},
   "outputs": [],
   "source": [
    "%matplotlib inline\n",
    "\n",
    "import matplotlib.pyplot as plt"
   ]
  },
  {
   "cell_type": "code",
   "execution_count": null,
   "metadata": {},
   "outputs": [],
   "source": [
    "import seaborn as sns"
   ]
  },
  {
   "cell_type": "code",
   "execution_count": null,
   "metadata": {},
   "outputs": [],
   "source": [
    "timeseries_df = pd.read_csv('../data/timeseries.csv')"
   ]
  },
  {
   "cell_type": "code",
   "execution_count": null,
   "metadata": {},
   "outputs": [],
   "source": [
    "beds = pd.read_csv('../data/beds.csv')"
   ]
  },
  {
   "cell_type": "code",
   "execution_count": null,
   "metadata": {},
   "outputs": [],
   "source": [
    "beds.head()"
   ]
  },
  {
   "cell_type": "code",
   "execution_count": null,
   "metadata": {},
   "outputs": [],
   "source": [
    "us_df = timeseries_df.loc[(timeseries_df['country'] == 'USA'), :]"
   ]
  },
  {
   "cell_type": "code",
   "execution_count": null,
   "metadata": {},
   "outputs": [],
   "source": [
    "#us_df.loc[(timeseries_df['state'] == 'TX') & (timeseries_df['cases'] > 0), :]"
   ]
  },
  {
   "cell_type": "code",
   "execution_count": null,
   "metadata": {},
   "outputs": [],
   "source": [
    "us_df['datetime'] = pd.to_datetime(us_df['date'])\n",
    "\n",
    "# us_df.set_index(['datetime', 'state'], inplace=True)"
   ]
  },
  {
   "cell_type": "code",
   "execution_count": null,
   "metadata": {},
   "outputs": [],
   "source": [
    "print(us_df.shape)\n",
    "us_last_df = us_df.sort_values('datetime').groupby(['state', 'county']).last().reset_index()\n",
    "print(us_last_df.shape)"
   ]
  },
  {
   "cell_type": "code",
   "execution_count": null,
   "metadata": {},
   "outputs": [],
   "source": [
    "us_last_df.head()"
   ]
  },
  {
   "cell_type": "code",
   "execution_count": null,
   "metadata": {},
   "outputs": [],
   "source": [
    "us_last_df.loc[:, ['cases', 'deaths', 'recovered', 'active']] = us_last_df.loc[:, ['cases', 'deaths', 'recovered', 'active']].fillna(0)"
   ]
  },
  {
   "cell_type": "code",
   "execution_count": null,
   "metadata": {},
   "outputs": [],
   "source": [
    "# The SIR model differential equations.\n",
    "def deriv(y, t, N, beta, gamma):\n",
    "    t = None\n",
    "    \n",
    "    S, I, R = y\n",
    "    dSdt = -beta * S * I / N\n",
    "    dIdt = beta * S * I / N - gamma * I\n",
    "    dRdt = gamma * I\n",
    "    return dSdt, dIdt, dRdt"
   ]
  },
  {
   "cell_type": "code",
   "execution_count": null,
   "metadata": {},
   "outputs": [],
   "source": [
    "def sir(start_date, end_date, pop_dict, beta, gamma):\n",
    "    # Initial conditions vector\n",
    "    # print(pop_dict['total'], pop_dict['infected'], pop_dict['recovered'], pop_dict['deaths'])\n",
    "    \n",
    "    susceptible = pop_dict['total'] - pop_dict['infected'] - pop_dict['recovered'] - pop_dict['deaths']\n",
    "    \n",
    "    y0 = susceptible, pop_dict['infected'], pop_dict['recovered']\n",
    "    \n",
    "    delta = end_date - start_date\n",
    "        \n",
    "    t = np.linspace(0, delta.days, delta.days )\n",
    "    \n",
    "    # print(y0, t, beta, gamma)\n",
    "    ret = odeint(deriv, y0, t, args=(pop_dict['total'], beta,gamma,))\n",
    "    \n",
    "    return ret.T"
   ]
  },
  {
   "cell_type": "code",
   "execution_count": null,
   "metadata": {},
   "outputs": [],
   "source": [
    "# https://github.com/alsnhll/SEIR_COVID19/blob/master/SEIR_COVID19.ipynb\n",
    "\n",
    "#Defining the differential equations\n",
    "\n",
    "#Don't track S because all variables must add up to 1 \n",
    "#include blank first entry in vector for beta, gamma, p so that indices align in equations and code. \n",
    "#In the future could include recovery or infection from the exposed class (asymptomatics)\n",
    "\n",
    "def deriv_seird(y,t,N,b,a,g,p,u): \n",
    "    dy=[0,0,0,0,0,0]\n",
    "    S=N-sum(y);\n",
    "    dy[0]=np.dot(b[1:3],y[1:3])*S-a*y[0] # E\n",
    "    dy[1]= a*y[0]-(g[1]+p[1])*y[1] #I1\n",
    "    dy[2]= p[1]*y[1] -(g[2]+p[2])*y[2] #I2\n",
    "    dy[3]= p[2]*y[2] -(g[3]+u)*y[3] #I3\n",
    "    dy[4]= np.dot(g[1:3],y[1:3]) #R\n",
    "    dy[5]=u*y[3] #D\n",
    "\n",
    "    return dy"
   ]
  },
  {
   "cell_type": "code",
   "execution_count": null,
   "metadata": {},
   "outputs": [],
   "source": [
    "def seird(start_date, end_date, pop_dict, beta, alpha, gamma, rho, mu):\n",
    "    # Initial conditions vector\n",
    "    # print(pop_dict['total'], pop_dict['infected'], pop_dict['recovered'], pop_dict['deaths'])\n",
    "    \n",
    "    susceptible = pop_dict['total'] - pop_dict['infected'] - pop_dict['recovered'] - pop_dict['deaths']\n",
    "    \n",
    "    y0 = susceptible, pop_dict['infected'], pop_dict['recovered'], 0,0,0\n",
    "    \n",
    "    delta = end_date - start_date\n",
    "    \n",
    "    print(delta)\n",
    "    \n",
    "    t = np.linspace(0, delta.days, delta.days )\n",
    "    \n",
    "    # print(y0, t, beta, gamma)\n",
    "    ret = odeint(deriv_seird, y0, t, args=(pop_dict['total'], beta,  alpha, gamma, rho, mu))\n",
    "    \n",
    "    return ret.T"
   ]
  },
  {
   "cell_type": "code",
   "execution_count": null,
   "metadata": {},
   "outputs": [],
   "source": [
    "# Define parameters based on clinical observations\n",
    "\n",
    "#I will add sources soon\n",
    "# https://github.com/midas-network/COVID-19/tree/master/parameter_estimates/2019_novel_coronavirus\n",
    "\n",
    "\n",
    "\n",
    "b=np.zeros(4) #beta\n",
    "g=np.zeros(4) #gamma\n",
    "p=np.zeros(3)\n",
    "\n",
    "a=1/IncubPeriod\n",
    "\n",
    "u=(1/TimeICUDeath)*(CFR/FracCritical)\n",
    "g[3]=(1/TimeICUDeath)-u\n",
    "\n",
    "p[2]=(1/DurHosp)*(FracCritical/(FracCritical+FracSevere))\n",
    "g[2]=(1/DurHosp)-p[2]\n",
    "\n",
    "g[1]=(1/DurMildInf)*FracMild\n",
    "p[1]=(1/DurMildInf)-g[1]\n",
    "\n",
    "#b=2e-4*np.ones(4) # all stages transmit equally\n",
    "b=2.5e-4*np.array([0,1,0,0]) # hospitalized cases don't transmit\n",
    "\n",
    "tmax=120\n",
    "tvec=np.arange(0,tmax,0.1)\n",
    "ic=np.zeros(6)\n",
    "ic[0]=1"
   ]
  },
  {
   "cell_type": "code",
   "execution_count": null,
   "metadata": {},
   "outputs": [],
   "source": [
    "end_date = datetime(2020, 12, 31)\n",
    "beta = 0.2\n",
    "gamma = 1./10\n",
    "\n",
    "def run_row(row):\n",
    "\n",
    "    pop_dict = {\n",
    "        'total': row['population'],\n",
    "        'infected': row['active'],\n",
    "        'recovered': row['recovered'],\n",
    "        'deaths': row['deaths']\n",
    "    }\n",
    "    \n",
    "    # print(row)\n",
    "    \n",
    "    N = pop_dict['total']\n",
    "    \n",
    "    #Calculate basic reproductive ratio\n",
    "    R0=N*((b[1]/(p[1]+g[1]))+(p[1]/(p[1]+g[1]))*(b[2]/(p[2]+g[2])+ (p[2]/(p[2]+g[2]))*(b[3]/(u+g[3]))))\n",
    "    print(\"R0 = {0:4.1f}\".format(R0))\n",
    "    \n",
    "    #(S, I, R) = sir(row['datetime'], end_date, pop_dict, beta, gamma)\n",
    "    (S, E, Ia, Ib, Ic, R) = seird(row['datetime'], end_date, pop_dict, b, a, g, p, u)\n",
    "    \n",
    "    dates = pd.date_range(start=row['datetime'], end=(end_date - timedelta(1)), freq='D').to_list()\n",
    "    \n",
    "    state = [row['state']] * len(S)\n",
    "    county = [row['county']] * len(S)\n",
    "    \n",
    "    sir_df = pd.DataFrame(zip(state, county, S, E, Ia, Ib, Ic, R), columns=['state', 'county', 'susceptible', 'exposed',\n",
    "                                                                            'infectedA', 'infectedB', 'infectedC',\n",
    "                                                                            'recovered'], index=dates)\n",
    "    \n",
    "    return sir_df"
   ]
  },
  {
   "cell_type": "code",
   "execution_count": null,
   "metadata": {},
   "outputs": [],
   "source": [
    "df_list = us_last_df.loc[[0, 5], :].apply(run_row, axis=1)"
   ]
  },
  {
   "cell_type": "code",
   "execution_count": null,
   "metadata": {},
   "outputs": [],
   "source": [
    "len(df_list)"
   ]
  },
  {
   "cell_type": "code",
   "execution_count": null,
   "metadata": {},
   "outputs": [],
   "source": [
    "df_list[0].head()"
   ]
  },
  {
   "cell_type": "code",
   "execution_count": null,
   "metadata": {},
   "outputs": [],
   "source": [
    "def plot_sir(df):\n",
    "    print(df.head())\n",
    "    \n",
    "    df.index.name = 'date'\n",
    "    df.drop(['state', 'county'], axis=1, inplace=True)\n",
    "\n",
    "    df = df.reset_index().melt('date', var_name='population', value_name='people')\n",
    "        \n",
    "    sir_plot = sns.factorplot(x='date', y='people', hue='population', data=df)\n",
    "    \n",
    "    return sir_plot\n",
    "\n",
    "plt.figure(figsize=(15,8))\n",
    "\n",
    "plot_sir(df_list[0])"
   ]
  },
  {
   "cell_type": "code",
   "execution_count": null,
   "metadata": {},
   "outputs": [],
   "source": [
    "plot_sir(df_list[183])"
   ]
  },
  {
   "cell_type": "code",
   "execution_count": null,
   "metadata": {},
   "outputs": [],
   "source": []
  }
 ],
 "metadata": {
  "kernelspec": {
   "display_name": "Python 3",
   "language": "python",
   "name": "python3"
  },
  "language_info": {
   "codemirror_mode": {
    "name": "ipython",
    "version": 3
   },
   "file_extension": ".py",
   "mimetype": "text/x-python",
   "name": "python",
   "nbconvert_exporter": "python",
   "pygments_lexer": "ipython3",
   "version": "3.7.4"
  }
 },
 "nbformat": 4,
 "nbformat_minor": 2
}
