{
 "cells": [
  {
   "cell_type": "code",
   "execution_count": null,
   "metadata": {},
   "outputs": [],
   "source": [
    "# big shout out to these folks\n",
    "# https://github.com/alsnhll/SEIR_COVID19/blob/master/SEIR_COVID19.ipynb"
   ]
  },
  {
   "cell_type": "code",
   "execution_count": 4,
   "metadata": {},
   "outputs": [],
   "source": [
    "import numpy as np\n",
    "import pandas as pd\n",
    "\n",
    "from datetime import datetime, timedelta\n",
    "\n",
    "from scipy.integrate import odeint\n",
    "import matplotlib.pyplot as plt"
   ]
  },
  {
   "cell_type": "code",
   "execution_count": 5,
   "metadata": {},
   "outputs": [],
   "source": [
    "%matplotlib inline\n",
    "\n",
    "import matplotlib.pyplot as plt"
   ]
  },
  {
   "cell_type": "code",
   "execution_count": 6,
   "metadata": {},
   "outputs": [],
   "source": [
    "import seaborn as sns"
   ]
  },
  {
   "cell_type": "code",
   "execution_count": 7,
   "metadata": {},
   "outputs": [],
   "source": [
    "timeseries_df = pd.read_csv('../data/timeseries.csv')"
   ]
  },
  {
   "cell_type": "code",
   "execution_count": 8,
   "metadata": {},
   "outputs": [],
   "source": [
    "beds = pd.read_csv('../data/beds.csv')"
   ]
  },
  {
   "cell_type": "code",
   "execution_count": 9,
   "metadata": {},
   "outputs": [
    {
     "data": {
      "text/html": [
       "<div>\n",
       "<style scoped>\n",
       "    .dataframe tbody tr th:only-of-type {\n",
       "        vertical-align: middle;\n",
       "    }\n",
       "\n",
       "    .dataframe tbody tr th {\n",
       "        vertical-align: top;\n",
       "    }\n",
       "\n",
       "    .dataframe thead th {\n",
       "        text-align: right;\n",
       "    }\n",
       "</style>\n",
       "<table border=\"1\" class=\"dataframe\">\n",
       "  <thead>\n",
       "    <tr style=\"text-align: right;\">\n",
       "      <th></th>\n",
       "      <th>state</th>\n",
       "      <th>country</th>\n",
       "      <th>bedspermille</th>\n",
       "    </tr>\n",
       "  </thead>\n",
       "  <tbody>\n",
       "    <tr>\n",
       "      <th>0</th>\n",
       "      <td>AL</td>\n",
       "      <td>USA</td>\n",
       "      <td>3.1</td>\n",
       "    </tr>\n",
       "    <tr>\n",
       "      <th>1</th>\n",
       "      <td>AK</td>\n",
       "      <td>USA</td>\n",
       "      <td>2.2</td>\n",
       "    </tr>\n",
       "    <tr>\n",
       "      <th>2</th>\n",
       "      <td>AZ</td>\n",
       "      <td>USA</td>\n",
       "      <td>1.9</td>\n",
       "    </tr>\n",
       "    <tr>\n",
       "      <th>3</th>\n",
       "      <td>AR</td>\n",
       "      <td>USA</td>\n",
       "      <td>3.2</td>\n",
       "    </tr>\n",
       "    <tr>\n",
       "      <th>4</th>\n",
       "      <td>CA</td>\n",
       "      <td>USA</td>\n",
       "      <td>1.8</td>\n",
       "    </tr>\n",
       "  </tbody>\n",
       "</table>\n",
       "</div>"
      ],
      "text/plain": [
       "  state country  bedspermille\n",
       "0    AL     USA           3.1\n",
       "1    AK     USA           2.2\n",
       "2    AZ     USA           1.9\n",
       "3    AR     USA           3.2\n",
       "4    CA     USA           1.8"
      ]
     },
     "execution_count": 9,
     "metadata": {},
     "output_type": "execute_result"
    }
   ],
   "source": [
    "beds.head()"
   ]
  },
  {
   "cell_type": "code",
   "execution_count": 17,
   "metadata": {},
   "outputs": [],
   "source": [
    "us_df = timeseries_df.loc[(timeseries_df['country'] == 'USA'), :]"
   ]
  },
  {
   "cell_type": "code",
   "execution_count": 19,
   "metadata": {},
   "outputs": [],
   "source": [
    "#us_df.loc[(timeseries_df['state'] == 'TX') & (timeseries_df['cases'] > 0), :]"
   ]
  },
  {
   "cell_type": "code",
   "execution_count": 20,
   "metadata": {},
   "outputs": [
    {
     "name": "stderr",
     "output_type": "stream",
     "text": [
      "/Users/trae/.virtualenvs/redzone/lib/python3.7/site-packages/ipykernel_launcher.py:1: SettingWithCopyWarning: \n",
      "A value is trying to be set on a copy of a slice from a DataFrame.\n",
      "Try using .loc[row_indexer,col_indexer] = value instead\n",
      "\n",
      "See the caveats in the documentation: http://pandas.pydata.org/pandas-docs/stable/indexing.html#indexing-view-versus-copy\n",
      "  \"\"\"Entry point for launching an IPython kernel.\n"
     ]
    }
   ],
   "source": [
    "us_df['datetime'] = pd.to_datetime(us_df['date'])\n",
    "\n",
    "# us_df.set_index(['datetime', 'state'], inplace=True)"
   ]
  },
  {
   "cell_type": "code",
   "execution_count": 21,
   "metadata": {},
   "outputs": [
    {
     "name": "stdout",
     "output_type": "stream",
     "text": [
      "(7518, 16)\n",
      "(1292, 16)\n"
     ]
    }
   ],
   "source": [
    "print(us_df.shape)\n",
    "us_last_df = us_df.sort_values('datetime').groupby(['state', 'county']).last().reset_index()\n",
    "print(us_last_df.shape)"
   ]
  },
  {
   "cell_type": "code",
   "execution_count": 22,
   "metadata": {},
   "outputs": [
    {
     "data": {
      "text/html": [
       "<div>\n",
       "<style scoped>\n",
       "    .dataframe tbody tr th:only-of-type {\n",
       "        vertical-align: middle;\n",
       "    }\n",
       "\n",
       "    .dataframe tbody tr th {\n",
       "        vertical-align: top;\n",
       "    }\n",
       "\n",
       "    .dataframe thead th {\n",
       "        text-align: right;\n",
       "    }\n",
       "</style>\n",
       "<table border=\"1\" class=\"dataframe\">\n",
       "  <thead>\n",
       "    <tr style=\"text-align: right;\">\n",
       "      <th></th>\n",
       "      <th>state</th>\n",
       "      <th>county</th>\n",
       "      <th>city</th>\n",
       "      <th>country</th>\n",
       "      <th>population</th>\n",
       "      <th>lat</th>\n",
       "      <th>long</th>\n",
       "      <th>url</th>\n",
       "      <th>cases</th>\n",
       "      <th>deaths</th>\n",
       "      <th>recovered</th>\n",
       "      <th>active</th>\n",
       "      <th>tested</th>\n",
       "      <th>growthFactor</th>\n",
       "      <th>date</th>\n",
       "      <th>datetime</th>\n",
       "    </tr>\n",
       "  </thead>\n",
       "  <tbody>\n",
       "    <tr>\n",
       "      <th>0</th>\n",
       "      <td>AK</td>\n",
       "      <td>Anchorage Economic Region</td>\n",
       "      <td>NaN</td>\n",
       "      <td>USA</td>\n",
       "      <td>294356.0</td>\n",
       "      <td>61.108910</td>\n",
       "      <td>-149.362950</td>\n",
       "      <td>http://dhss.alaska.gov/dph/Epi/id/Pages/COVID-...</td>\n",
       "      <td>17.0</td>\n",
       "      <td>NaN</td>\n",
       "      <td>NaN</td>\n",
       "      <td>17.0</td>\n",
       "      <td>NaN</td>\n",
       "      <td>NaN</td>\n",
       "      <td>2020-03-23</td>\n",
       "      <td>2020-03-23</td>\n",
       "    </tr>\n",
       "    <tr>\n",
       "      <th>1</th>\n",
       "      <td>AK</td>\n",
       "      <td>Gulf Coast Economic Region</td>\n",
       "      <td>NaN</td>\n",
       "      <td>USA</td>\n",
       "      <td>80866.0</td>\n",
       "      <td>59.491968</td>\n",
       "      <td>-148.903015</td>\n",
       "      <td>http://dhss.alaska.gov/dph/Epi/id/Pages/COVID-...</td>\n",
       "      <td>3.0</td>\n",
       "      <td>NaN</td>\n",
       "      <td>NaN</td>\n",
       "      <td>3.0</td>\n",
       "      <td>NaN</td>\n",
       "      <td>NaN</td>\n",
       "      <td>2020-03-23</td>\n",
       "      <td>2020-03-23</td>\n",
       "    </tr>\n",
       "    <tr>\n",
       "      <th>2</th>\n",
       "      <td>AK</td>\n",
       "      <td>Interior Economic Region</td>\n",
       "      <td>NaN</td>\n",
       "      <td>USA</td>\n",
       "      <td>109847.0</td>\n",
       "      <td>65.204163</td>\n",
       "      <td>-151.024977</td>\n",
       "      <td>http://dhss.alaska.gov/dph/Epi/id/Pages/COVID-...</td>\n",
       "      <td>7.0</td>\n",
       "      <td>NaN</td>\n",
       "      <td>NaN</td>\n",
       "      <td>7.0</td>\n",
       "      <td>NaN</td>\n",
       "      <td>NaN</td>\n",
       "      <td>2020-03-23</td>\n",
       "      <td>2020-03-23</td>\n",
       "    </tr>\n",
       "    <tr>\n",
       "      <th>3</th>\n",
       "      <td>AK</td>\n",
       "      <td>Mat-Su Economic Region</td>\n",
       "      <td>NaN</td>\n",
       "      <td>USA</td>\n",
       "      <td>107610.0</td>\n",
       "      <td>62.337477</td>\n",
       "      <td>-149.715168</td>\n",
       "      <td>http://dhss.alaska.gov/dph/Epi/id/Pages/COVID-...</td>\n",
       "      <td>2.0</td>\n",
       "      <td>NaN</td>\n",
       "      <td>NaN</td>\n",
       "      <td>2.0</td>\n",
       "      <td>NaN</td>\n",
       "      <td>NaN</td>\n",
       "      <td>2020-03-23</td>\n",
       "      <td>2020-03-23</td>\n",
       "    </tr>\n",
       "    <tr>\n",
       "      <th>4</th>\n",
       "      <td>AK</td>\n",
       "      <td>Southeast Economic Region</td>\n",
       "      <td>NaN</td>\n",
       "      <td>USA</td>\n",
       "      <td>72373.0</td>\n",
       "      <td>57.598405</td>\n",
       "      <td>-136.934731</td>\n",
       "      <td>http://dhss.alaska.gov/dph/Epi/id/Pages/COVID-...</td>\n",
       "      <td>7.0</td>\n",
       "      <td>NaN</td>\n",
       "      <td>NaN</td>\n",
       "      <td>7.0</td>\n",
       "      <td>NaN</td>\n",
       "      <td>NaN</td>\n",
       "      <td>2020-03-23</td>\n",
       "      <td>2020-03-23</td>\n",
       "    </tr>\n",
       "  </tbody>\n",
       "</table>\n",
       "</div>"
      ],
      "text/plain": [
       "  state                      county  city country  population        lat  \\\n",
       "0    AK   Anchorage Economic Region   NaN     USA    294356.0  61.108910   \n",
       "1    AK  Gulf Coast Economic Region   NaN     USA     80866.0  59.491968   \n",
       "2    AK    Interior Economic Region   NaN     USA    109847.0  65.204163   \n",
       "3    AK      Mat-Su Economic Region   NaN     USA    107610.0  62.337477   \n",
       "4    AK   Southeast Economic Region   NaN     USA     72373.0  57.598405   \n",
       "\n",
       "         long                                                url  cases  \\\n",
       "0 -149.362950  http://dhss.alaska.gov/dph/Epi/id/Pages/COVID-...   17.0   \n",
       "1 -148.903015  http://dhss.alaska.gov/dph/Epi/id/Pages/COVID-...    3.0   \n",
       "2 -151.024977  http://dhss.alaska.gov/dph/Epi/id/Pages/COVID-...    7.0   \n",
       "3 -149.715168  http://dhss.alaska.gov/dph/Epi/id/Pages/COVID-...    2.0   \n",
       "4 -136.934731  http://dhss.alaska.gov/dph/Epi/id/Pages/COVID-...    7.0   \n",
       "\n",
       "   deaths  recovered  active  tested  growthFactor        date   datetime  \n",
       "0     NaN        NaN    17.0     NaN           NaN  2020-03-23 2020-03-23  \n",
       "1     NaN        NaN     3.0     NaN           NaN  2020-03-23 2020-03-23  \n",
       "2     NaN        NaN     7.0     NaN           NaN  2020-03-23 2020-03-23  \n",
       "3     NaN        NaN     2.0     NaN           NaN  2020-03-23 2020-03-23  \n",
       "4     NaN        NaN     7.0     NaN           NaN  2020-03-23 2020-03-23  "
      ]
     },
     "execution_count": 22,
     "metadata": {},
     "output_type": "execute_result"
    }
   ],
   "source": [
    "us_last_df.head()"
   ]
  },
  {
   "cell_type": "code",
   "execution_count": 23,
   "metadata": {},
   "outputs": [],
   "source": [
    "us_last_df.loc[:, ['cases', 'deaths', 'recovered', 'active']] = us_last_df.loc[:, ['cases', 'deaths', 'recovered', 'active']].fillna(0)"
   ]
  },
  {
   "cell_type": "code",
   "execution_count": 24,
   "metadata": {},
   "outputs": [],
   "source": [
    "# The SIR model differential equations.\n",
    "def deriv(y, t, N, beta, gamma):\n",
    "    t = None\n",
    "    \n",
    "    S, I, R = y\n",
    "    dSdt = -beta * S * I / N\n",
    "    dIdt = beta * S * I / N - gamma * I\n",
    "    dRdt = gamma * I\n",
    "    return dSdt, dIdt, dRdt"
   ]
  },
  {
   "cell_type": "code",
   "execution_count": 26,
   "metadata": {},
   "outputs": [],
   "source": [
    "def sir(start_date, end_date, pop_dict, beta, gamma):\n",
    "    # Initial conditions vector\n",
    "    # print(pop_dict['total'], pop_dict['infected'], pop_dict['recovered'], pop_dict['deaths'])\n",
    "    \n",
    "    susceptible = pop_dict['total'] - pop_dict['infected'] - pop_dict['recovered'] - pop_dict['deaths']\n",
    "    \n",
    "    y0 = susceptible, pop_dict['infected'], pop_dict['recovered']\n",
    "    \n",
    "    delta = end_date - start_date\n",
    "        \n",
    "    t = np.linspace(0, delta.days, delta.days )\n",
    "    \n",
    "    # print(y0, t, beta, gamma)\n",
    "    ret = odeint(deriv, y0, t, args=(pop_dict['total'], beta,gamma,))\n",
    "    \n",
    "    return ret.T"
   ]
  },
  {
   "cell_type": "code",
   "execution_count": 36,
   "metadata": {},
   "outputs": [],
   "source": [
    "# https://github.com/alsnhll/SEIR_COVID19/blob/master/SEIR_COVID19.ipynb\n",
    "\n",
    "#Defining the differential equations\n",
    "\n",
    "#Don't track S because all variables must add up to 1 \n",
    "#include blank first entry in vector for beta, gamma, p so that indices align in equations and code. \n",
    "#In the future could include recovery or infection from the exposed class (asymptomatics)\n",
    "\n",
    "def deriv_seird(y,t,N,b,a,g,p,u): \n",
    "    dy=[0,0,0,0,0,0]\n",
    "    S=N-sum(y);\n",
    "    dy[0]=np.dot(b[1:3],y[1:3])*S-a*y[0] # E\n",
    "    dy[1]= a*y[0]-(g[1]+p[1])*y[1] #I1\n",
    "    dy[2]= p[1]*y[1] -(g[2]+p[2])*y[2] #I2\n",
    "    dy[3]= p[2]*y[2] -(g[3]+u)*y[3] #I3\n",
    "    dy[4]= np.dot(g[1:3],y[1:3]) #R\n",
    "    dy[5]=u*y[3] #D\n",
    "\n",
    "    return dy"
   ]
  },
  {
   "cell_type": "code",
   "execution_count": 37,
   "metadata": {},
   "outputs": [],
   "source": [
    "def seird(start_date, end_date, pop_dict, beta, alpha, gamma, rho, mu):\n",
    "    # Initial conditions vector\n",
    "    # print(pop_dict['total'], pop_dict['infected'], pop_dict['recovered'], pop_dict['deaths'])\n",
    "    \n",
    "    susceptible = pop_dict['total'] - pop_dict['infected'] - pop_dict['recovered'] - pop_dict['deaths']\n",
    "    \n",
    "    y0 = susceptible, pop_dict['infected'], pop_dict['recovered'], 0,0,0\n",
    "    \n",
    "    delta = end_date - start_date\n",
    "    \n",
    "    print(delta)\n",
    "    \n",
    "    t = np.linspace(0, delta.days, delta.days )\n",
    "    \n",
    "    # print(y0, t, beta, gamma)\n",
    "    ret = odeint(deriv_seird, y0, t, args=(pop_dict['total'], beta,  alpha, gamma, rho, mu))\n",
    "    \n",
    "    return ret.T"
   ]
  },
  {
   "cell_type": "code",
   "execution_count": 76,
   "metadata": {},
   "outputs": [],
   "source": [
    "# Define parameters based on clinical observations\n",
    "\n",
    "#I will add sources soon\n",
    "# https://github.com/midas-network/COVID-19/tree/master/parameter_estimates/2019_novel_coronavirus\n",
    "\n",
    "\n",
    "\n",
    "b=np.zeros(4) #beta\n",
    "g=np.zeros(4) #gamma\n",
    "p=np.zeros(3)\n",
    "\n",
    "a=1/IncubPeriod\n",
    "\n",
    "u=(1/TimeICUDeath)*(CFR/FracCritical)\n",
    "g[3]=(1/TimeICUDeath)-u\n",
    "\n",
    "p[2]=(1/DurHosp)*(FracCritical/(FracCritical+FracSevere))\n",
    "g[2]=(1/DurHosp)-p[2]\n",
    "\n",
    "g[1]=(1/DurMildInf)*FracMild\n",
    "p[1]=(1/DurMildInf)-g[1]\n",
    "\n",
    "#b=2e-4*np.ones(4) # all stages transmit equally\n",
    "b=2.5e-4*np.array([0,1,0,0]) # hospitalized cases don't transmit\n",
    "\n",
    "tmax=120\n",
    "tvec=np.arange(0,tmax,0.1)\n",
    "ic=np.zeros(6)\n",
    "ic[0]=1"
   ]
  },
  {
   "cell_type": "code",
   "execution_count": 77,
   "metadata": {},
   "outputs": [],
   "source": [
    "end_date = datetime(2020, 12, 31)\n",
    "beta = 0.2\n",
    "gamma = 1./10\n",
    "\n",
    "def run_row(row):\n",
    "\n",
    "    pop_dict = {\n",
    "        'total': row['population'],\n",
    "        'infected': row['active'],\n",
    "        'recovered': row['recovered'],\n",
    "        'deaths': row['deaths']\n",
    "    }\n",
    "    \n",
    "    # print(row)\n",
    "    \n",
    "    N = pop_dict['total']\n",
    "    \n",
    "    #Calculate basic reproductive ratio\n",
    "    R0=N*((b[1]/(p[1]+g[1]))+(p[1]/(p[1]+g[1]))*(b[2]/(p[2]+g[2])+ (p[2]/(p[2]+g[2]))*(b[3]/(u+g[3]))))\n",
    "    print(\"R0 = {0:4.1f}\".format(R0))\n",
    "    \n",
    "    #(S, I, R) = sir(row['datetime'], end_date, pop_dict, beta, gamma)\n",
    "    (S, E, Ia, Ib, Ic, R) = seird(row['datetime'], end_date, pop_dict, b, a, g, p, u)\n",
    "    \n",
    "    dates = pd.date_range(start=row['datetime'], end=(end_date - timedelta(1)), freq='D').to_list()\n",
    "    \n",
    "    state = [row['state']] * len(S)\n",
    "    county = [row['county']] * len(S)\n",
    "    \n",
    "    sir_df = pd.DataFrame(zip(state, county, S, E, Ia, Ib, Ic, R), columns=['state', 'county', 'susceptible', 'exposed',\n",
    "                                                                            'infectedA', 'infectedB', 'infectedC',\n",
    "                                                                            'recovered'], index=dates)\n",
    "    \n",
    "    return sir_df"
   ]
  },
  {
   "cell_type": "code",
   "execution_count": 78,
   "metadata": {},
   "outputs": [
    {
     "name": "stdout",
     "output_type": "stream",
     "text": [
      "R0 = 735.9\n",
      "283 days 00:00:00\n",
      "R0 = 735.9\n",
      "283 days 00:00:00\n",
      "R0 = 545.1\n",
      "283 days 00:00:00\n"
     ]
    }
   ],
   "source": [
    "df_list = us_last_df.loc[[0, 5], :].apply(run_row, axis=1)"
   ]
  },
  {
   "cell_type": "code",
   "execution_count": 79,
   "metadata": {},
   "outputs": [
    {
     "data": {
      "text/plain": [
       "2"
      ]
     },
     "execution_count": 79,
     "metadata": {},
     "output_type": "execute_result"
    }
   ],
   "source": [
    "len(df_list)"
   ]
  },
  {
   "cell_type": "code",
   "execution_count": 80,
   "metadata": {},
   "outputs": [
    {
     "data": {
      "text/html": [
       "<div>\n",
       "<style scoped>\n",
       "    .dataframe tbody tr th:only-of-type {\n",
       "        vertical-align: middle;\n",
       "    }\n",
       "\n",
       "    .dataframe tbody tr th {\n",
       "        vertical-align: top;\n",
       "    }\n",
       "\n",
       "    .dataframe thead th {\n",
       "        text-align: right;\n",
       "    }\n",
       "</style>\n",
       "<table border=\"1\" class=\"dataframe\">\n",
       "  <thead>\n",
       "    <tr style=\"text-align: right;\">\n",
       "      <th></th>\n",
       "      <th>state</th>\n",
       "      <th>county</th>\n",
       "      <th>susceptible</th>\n",
       "      <th>exposed</th>\n",
       "      <th>infectedA</th>\n",
       "      <th>infectedB</th>\n",
       "      <th>infectedC</th>\n",
       "      <th>recovered</th>\n",
       "    </tr>\n",
       "  </thead>\n",
       "  <tbody>\n",
       "    <tr>\n",
       "      <th>2020-03-23</th>\n",
       "      <td>AK</td>\n",
       "      <td>Anchorage Economic Region</td>\n",
       "      <td>294339.000000</td>\n",
       "      <td>17.000000</td>\n",
       "      <td>0.000000</td>\n",
       "      <td>0.000000</td>\n",
       "      <td>0.000000</td>\n",
       "      <td>0.000000</td>\n",
       "    </tr>\n",
       "    <tr>\n",
       "      <th>2020-03-24</th>\n",
       "      <td>AK</td>\n",
       "      <td>Anchorage Economic Region</td>\n",
       "      <td>240813.603346</td>\n",
       "      <td>50857.326668</td>\n",
       "      <td>520.659172</td>\n",
       "      <td>3.946588</td>\n",
       "      <td>2160.383652</td>\n",
       "      <td>0.058143</td>\n",
       "    </tr>\n",
       "    <tr>\n",
       "      <th>2020-03-25</th>\n",
       "      <td>AK</td>\n",
       "      <td>Anchorage Economic Region</td>\n",
       "      <td>197022.735725</td>\n",
       "      <td>87597.732493</td>\n",
       "      <td>1828.498233</td>\n",
       "      <td>27.619052</td>\n",
       "      <td>7878.475127</td>\n",
       "      <td>0.836215</td>\n",
       "    </tr>\n",
       "    <tr>\n",
       "      <th>2020-03-26</th>\n",
       "      <td>AK</td>\n",
       "      <td>Anchorage Economic Region</td>\n",
       "      <td>161198.195405</td>\n",
       "      <td>113266.184703</td>\n",
       "      <td>3614.942623</td>\n",
       "      <td>81.595229</td>\n",
       "      <td>16191.031345</td>\n",
       "      <td>3.809505</td>\n",
       "    </tr>\n",
       "    <tr>\n",
       "      <th>2020-03-27</th>\n",
       "      <td>AK</td>\n",
       "      <td>Anchorage Economic Region</td>\n",
       "      <td>131893.845975</td>\n",
       "      <td>130296.165364</td>\n",
       "      <td>5650.420717</td>\n",
       "      <td>169.376690</td>\n",
       "      <td>26334.908933</td>\n",
       "      <td>10.843557</td>\n",
       "    </tr>\n",
       "  </tbody>\n",
       "</table>\n",
       "</div>"
      ],
      "text/plain": [
       "           state                     county    susceptible        exposed  \\\n",
       "2020-03-23    AK  Anchorage Economic Region  294339.000000      17.000000   \n",
       "2020-03-24    AK  Anchorage Economic Region  240813.603346   50857.326668   \n",
       "2020-03-25    AK  Anchorage Economic Region  197022.735725   87597.732493   \n",
       "2020-03-26    AK  Anchorage Economic Region  161198.195405  113266.184703   \n",
       "2020-03-27    AK  Anchorage Economic Region  131893.845975  130296.165364   \n",
       "\n",
       "              infectedA   infectedB     infectedC  recovered  \n",
       "2020-03-23     0.000000    0.000000      0.000000   0.000000  \n",
       "2020-03-24   520.659172    3.946588   2160.383652   0.058143  \n",
       "2020-03-25  1828.498233   27.619052   7878.475127   0.836215  \n",
       "2020-03-26  3614.942623   81.595229  16191.031345   3.809505  \n",
       "2020-03-27  5650.420717  169.376690  26334.908933  10.843557  "
      ]
     },
     "execution_count": 80,
     "metadata": {},
     "output_type": "execute_result"
    }
   ],
   "source": [
    "df_list[0].head()"
   ]
  },
  {
   "cell_type": "code",
   "execution_count": 81,
   "metadata": {},
   "outputs": [
    {
     "name": "stdout",
     "output_type": "stream",
     "text": [
      "           state                     county    susceptible        exposed  \\\n",
      "2020-03-23    AK  Anchorage Economic Region  294339.000000      17.000000   \n",
      "2020-03-24    AK  Anchorage Economic Region  240813.603346   50857.326668   \n",
      "2020-03-25    AK  Anchorage Economic Region  197022.735725   87597.732493   \n",
      "2020-03-26    AK  Anchorage Economic Region  161198.195405  113266.184703   \n",
      "2020-03-27    AK  Anchorage Economic Region  131893.845975  130296.165364   \n",
      "\n",
      "              infectedA   infectedB     infectedC  recovered  \n",
      "2020-03-23     0.000000    0.000000      0.000000   0.000000  \n",
      "2020-03-24   520.659172    3.946588   2160.383652   0.058143  \n",
      "2020-03-25  1828.498233   27.619052   7878.475127   0.836215  \n",
      "2020-03-26  3614.942623   81.595229  16191.031345   3.809505  \n",
      "2020-03-27  5650.420717  169.376690  26334.908933  10.843557  \n"
     ]
    },
    {
     "data": {
      "text/plain": [
       "<seaborn.axisgrid.FacetGrid at 0x1295da3d0>"
      ]
     },
     "execution_count": 81,
     "metadata": {},
     "output_type": "execute_result"
    },
    {
     "data": {
      "text/plain": [
       "<Figure size 1080x576 with 0 Axes>"
      ]
     },
     "metadata": {},
     "output_type": "display_data"
    },
    {
     "data": {
      "image/png": "[encoded data removed]",
      "text/plain": [
       "<Figure size 452.75x360 with 1 Axes>"
      ]
     },
     "metadata": {
      "needs_background": "light"
     },
     "output_type": "display_data"
    }
   ],
   "source": [
    "def plot_sir(df):\n",
    "    print(df.head())\n",
    "    \n",
    "    df.index.name = 'date'\n",
    "    df.drop(['state', 'county'], axis=1, inplace=True)\n",
    "\n",
    "    df = df.reset_index().melt('date', var_name='population', value_name='people')\n",
    "        \n",
    "    sir_plot = sns.factorplot(x='date', y='people', hue='population', data=df)\n",
    "    \n",
    "    return sir_plot\n",
    "\n",
    "plt.figure(figsize=(15,8))\n",
    "\n",
    "plot_sir(df_list[0])"
   ]
  },
  {
   "cell_type": "code",
   "execution_count": 81,
   "metadata": {},
   "outputs": [
    {
     "data": {
      "text/plain": [
       "<seaborn.axisgrid.FacetGrid at 0x124de0cd0>"
      ]
     },
     "execution_count": 81,
     "metadata": {},
     "output_type": "execute_result"
    },
    {
     "data": {
      "image/png": "[encoded data removed]",
      "text/plain": [
       "<Figure size 452.75x360 with 1 Axes>"
      ]
     },
     "metadata": {
      "needs_background": "light"
     },
     "output_type": "display_data"
    }
   ],
   "source": [
    "plot_sir(df_list[183])"
   ]
  },
  {
   "cell_type": "code",
   "execution_count": null,
   "metadata": {},
   "outputs": [],
   "source": []
  }
 ],
 "metadata": {
  "kernelspec": {
   "display_name": "Python 3",
   "language": "python",
   "name": "python3"
  },
  "language_info": {
   "codemirror_mode": {
    "name": "ipython",
    "version": 3
   },
   "file_extension": ".py",
   "mimetype": "text/x-python",
   "name": "python",
   "nbconvert_exporter": "python",
   "pygments_lexer": "ipython3",
   "version": "3.7.4"
  }
 },
 "nbformat": 4,
 "nbformat_minor": 2
}
