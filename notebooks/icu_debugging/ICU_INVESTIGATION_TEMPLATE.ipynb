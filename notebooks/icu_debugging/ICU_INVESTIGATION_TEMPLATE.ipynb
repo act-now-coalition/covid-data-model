{
 "cells": [
  {
   "cell_type": "markdown",
   "metadata": {},
   "source": [
    "https://trello.com/c/2ukxM5oY/2-alabama-icu-metric-is-broken-in-303"
   ]
  },
  {
   "cell_type": "code",
   "execution_count": null,
   "metadata": {},
   "outputs": [],
   "source": [
    "%load_ext autoreload\n",
    "%autoreload 2\n",
    "from libs.datasets import DHBeds\n",
    "from libs.datasets import CovidCareMapBeds\n",
    "from libs.datasets import JHUDataset\n",
    "from libs.datasets.sources.nha_hospitalization import NevadaHospitalAssociationData\n",
    "from libs.datasets import NYTimesDataset\n",
    "from libs.datasets import CovidTrackingDataSource\n",
    "from libs.datasets import CDSDataset\n",
    "from libs.datasets import FIPSPopulation\n",
    "from libs.datasets.dataset_utils import AggregationLevel\n",
    "from libs.enums import Intervention\n",
    "from libs.datasets import combined_datasets\n",
    "# from libs.datasets.sources.interventions import StateInterventionDataSource\n",
    "\n",
    "from libs.datasets import dataset_utils\n",
    "from libs.build_processed_dataset import get_testing_timeseries_by_state\n",
    "from libs.datasets import custom_aggregations\n",
    "import pathlib\n",
    "import json\n",
    "import numpy as np\n",
    "import pandas as pd\n",
    "import seaborn as sns\n",
    "import requests\n",
    "import datetime\n",
    "import matplotlib as mpl\n",
    "import matplotlib.pyplot as plt\n",
    "pd.set_option('display.max_rows', 10000)\n",
    "pd.set_option('display.max_columns', 10000)"
   ]
  },
  {
   "cell_type": "code",
   "execution_count": null,
   "metadata": {},
   "outputs": [],
   "source": [
    "STATE = \"LA\"\n",
    "SNAPSHOTS = [408, 415]"
   ]
  },
  {
   "cell_type": "code",
   "execution_count": null,
   "metadata": {},
   "outputs": [],
   "source": [
    "covid_tracking_ts = CovidTrackingDataSource.local().timeseries()\n",
    "covid_tracking_ts.get_subset(AggregationLevel.STATE, state=STATE, after=\"2020-05-29\").data"
   ]
  },
  {
   "cell_type": "markdown",
   "metadata": {},
   "source": [
    "# Check the Links on Compare"
   ]
  },
  {
   "cell_type": "code",
   "execution_count": null,
   "metadata": {},
   "outputs": [],
   "source": [
    "print(f'https://covidactnow.org/compare?left={SNAPSHOTS[0]}&metric=2&right={SNAPSHOTS[1]}&sort=2')"
   ]
  },
  {
   "cell_type": "markdown",
   "metadata": {},
   "source": [
    "# Check the API Data"
   ]
  },
  {
   "cell_type": "code",
   "execution_count": null,
   "metadata": {},
   "outputs": [],
   "source": [
    "for snapshot in SNAPSHOTS:\n",
    "    version = requests.get(f'https://data.covidactnow.org/snapshot/{snapshot}/version.json')\n",
    "    summary = requests.get(f'https://data.covidactnow.org/snapshot/{snapshot}/us/states/{STATE}.OBSERVED_INTERVENTION.json')\n",
    "    print(snapshot)\n",
    "    print(version.json())\n",
    "    print(summary.json())"
   ]
  },
  {
   "cell_type": "code",
   "execution_count": null,
   "metadata": {},
   "outputs": [],
   "source": [
    "summary.json()"
   ]
  },
  {
   "cell_type": "code",
   "execution_count": null,
   "metadata": {},
   "outputs": [],
   "source": [
    "for key, item in summary.json()['actuals']['ICUBeds'].items():\n",
    "    print(key, type(item))"
   ]
  },
  {
   "cell_type": "code",
   "execution_count": null,
   "metadata": {},
   "outputs": [],
   "source": [
    "def get_snapshot_summaries(snapshots):\n",
    "    url = 'https://data.covidactnow.org/snapshot/{snapshot}/us/states/{state}.OBSERVED_INTERVENTION.json'\n",
    "    data = [requests.get(url.format(snapshot=snapshot, state=STATE)).json() for snapshot in snapshots]\n",
    "    return data"
   ]
  },
  {
   "cell_type": "code",
   "execution_count": null,
   "metadata": {},
   "outputs": [],
   "source": [
    "def compare_snapshot_summaries(snapshots, verbose=False):\n",
    "    \"\"\"Traverse first and print comparison to following\"\"\"\n",
    "    data = get_snapshot_summaries(snapshots)\n",
    "    a = data[0]\n",
    "    b = data[-1]\n",
    "    walk_two(a, b, verbose=verbose)        "
   ]
  },
  {
   "cell_type": "code",
   "execution_count": null,
   "metadata": {},
   "outputs": [],
   "source": [
    "def walk(node):\n",
    "    for key, item in node.items():\n",
    "        if isinstance(item, dict):\n",
    "            walk(item)\n",
    "        else:\n",
    "            print(key,item)\n",
    "            \n",
    "def walk_two(node1, node2, verbose=False):\n",
    "    for key in node1.keys():\n",
    "        if isinstance(node1[key], dict):\n",
    "            print(key)\n",
    "            walk_two(node1[key], node2[key], verbose=verbose)\n",
    "        else:\n",
    "            if verbose:\n",
    "                print(key, node1[key], node2[key])\n",
    "            else:\n",
    "                if node1[key] != node2[key]:\n",
    "                    print(key, node1[key], node2[key])"
   ]
  },
  {
   "cell_type": "code",
   "execution_count": null,
   "metadata": {},
   "outputs": [],
   "source": [
    "compare_snapshot_summaries(SNAPSHOTS, verbose=False)"
   ]
  },
  {
   "cell_type": "code",
   "execution_count": null,
   "metadata": {},
   "outputs": [],
   "source": [
    "def get_df_from_snapshot(state, snapshot):\n",
    "    \"\"\"\"\"\"\n",
    "    r = requests.get(f'https://data.covidactnow.org/snapshot/{snapshot}/us/states/{STATE}.OBSERVED_INTERVENTION.timeseries.json')\n",
    "    df = pd.DataFrame(r.json()['timeseries'])\n",
    "    df['date'] = pd.to_datetime(df['date'])\n",
    "    df['snapshot'] = snapshot\n",
    "    return df"
   ]
  },
  {
   "cell_type": "code",
   "execution_count": null,
   "metadata": {},
   "outputs": [],
   "source": [
    "dfs = pd.concat([get_df_from_snapshot(STATE, s) for s in SNAPSHOTS])"
   ]
  },
  {
   "cell_type": "code",
   "execution_count": null,
   "metadata": {},
   "outputs": [],
   "source": [
    "dfs.columns"
   ]
  },
  {
   "cell_type": "code",
   "execution_count": null,
   "metadata": {},
   "outputs": [],
   "source": [
    "fig, ax = plt.subplots()\n",
    "for num, data in dfs.groupby('snapshot'):\n",
    "    data.plot(x='date',y='ICUBedsInUse',ax=ax, label=num, marker='x')\n",
    "ax.axvline(pd.to_datetime('today'), linestyle='--', color='black', label='Today')\n",
    "ax.legend()\n",
    "ax.set(ylabel='ICUBedsInUse', title=f'Extrapolated ICU Estimates for {STATE}')\n",
    "fig.autofmt_xdate()"
   ]
  },
  {
   "cell_type": "code",
   "execution_count": null,
   "metadata": {},
   "outputs": [],
   "source": [
    "dfs['snapshot'].unique()"
   ]
  },
  {
   "cell_type": "code",
   "execution_count": null,
   "metadata": {},
   "outputs": [],
   "source": [
    "# for snapshot in SNAPSHOTS:\n",
    "#     version = requests.get(f'https://data.covidactnow.org/snapshot/{snapshot}/version.json')\n",
    "#     summary = requests.get(f'https://data.covidactnow.org/snapshot/{snapshot}/us/states/{STATE}.OBSERVED_INTERVENTION.timeseries.json')\n",
    "#     print(snapshot)\n",
    "#     print(version.json())\n",
    "#     print(summary.json())"
   ]
  },
  {
   "cell_type": "code",
   "execution_count": null,
   "metadata": {},
   "outputs": [],
   "source": [
    "# pd.DataFrame(summary.json()['timeseries'])"
   ]
  },
  {
   "cell_type": "markdown",
   "metadata": {},
   "source": [
    "# Scrap Paper"
   ]
  }
 ],
 "metadata": {
  "kernelspec": {
   "display_name": "Python 3",
   "language": "python",
   "name": "python3"
  },
  "language_info": {
   "codemirror_mode": {
    "name": "ipython",
    "version": 3
   },
   "file_extension": ".py",
   "mimetype": "text/x-python",
   "name": "python",
   "nbconvert_exporter": "python",
   "pygments_lexer": "ipython3",
   "version": "3.7.7"
  }
 },
 "nbformat": 4,
 "nbformat_minor": 4
}
