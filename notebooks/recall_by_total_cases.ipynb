{
 "cells": [
  {
   "cell_type": "code",
   "execution_count": null,
   "metadata": {},
   "outputs": [],
   "source": [
    "import numpy as np\n",
    "import matplotlib.pyplot as plt\n",
    "from pyseir import load_data\n",
    "from datetime import datetime\n",
    "\n",
    "df_county = load_data.load_county_metadata()\n",
    "cases = [sum(load_data.load_new_case_data_by_fips(fips, t0=datetime(day=1, month=1, year=2020))[1]) for fips in df_county.fips]\n",
    "deaths = [sum(load_data.load_new_case_data_by_fips(fips, t0=datetime(day=1, month=1, year=2020))[2]) for fips in df_county.fips]"
   ]
  },
  {
   "cell_type": "code",
   "execution_count": null,
   "metadata": {},
   "outputs": [],
   "source": [
    "plt.figure(figsize=(10, 6))\n",
    "plt.hist(cases, bins=np.linspace(0, 1000, 1001), cumulative=True, histtype='step', density=True, label='Total Cases')\n",
    "plt.hist(deaths, bins=np.linspace(0, 1000, 1001), cumulative=True, histtype='step', density=True, label='Total Deaths')\n",
    "plt.xlim(0, 160)\n",
    "plt.xlabel('Count')\n",
    "plt.ylabel('Fraction Counties Below Count Threshold')\n",
    "plt.grid()\n",
    "plt.legend(loc=4)\n"
   ]
  }
 ],
 "metadata": {
  "kernelspec": {
   "display_name": "Python 3",
   "language": "python",
   "name": "python3"
  },
  "language_info": {
   "codemirror_mode": {
    "name": "ipython",
    "version": 3
   },
   "file_extension": ".py",
   "mimetype": "text/x-python",
   "name": "python",
   "nbconvert_exporter": "python",
   "pygments_lexer": "ipython3",
   "version": "3.7.3"
  }
 },
 "nbformat": 4,
 "nbformat_minor": 4
}
