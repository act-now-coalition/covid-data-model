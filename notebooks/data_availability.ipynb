{
 "cells": [
  {
   "cell_type": "code",
   "execution_count": null,
   "metadata": {},
   "outputs": [],
   "source": [
    "from libs import notebook_helpers\n",
    "notebook_helpers.set_covid_data_public()"
   ]
  },
  {
   "cell_type": "code",
   "execution_count": null,
   "metadata": {},
   "outputs": [],
   "source": [
    "import pandarallel\n",
    "from ipywidgets import interact\n",
    "import ipywidgets as widgets\n",
    "import pandas as pd\n",
    "from covidactnow.datapublic.common_fields import CommonFields\n",
    "from libs.qa import data_availability\n",
    "from libs.datasets.latest_values_dataset import LatestValuesDataset\n",
    "from libs.datasets.timeseries import TimeseriesDataset\n",
    "\n",
    "pd.options.display.max_rows = 3000\n",
    "pd.options.display.max_columns = 3000\n",
    "pandarallel.pandarallel.initialize(progress_bar=True)"
   ]
  },
  {
   "cell_type": "code",
   "execution_count": null,
   "metadata": {},
   "outputs": [],
   "source": [
    "sources_latest = data_availability.load_all_latest_sources()\n",
    "all_data = [source.data for source in sources_latest.values()]\n",
    "all_sources_latest = LatestValuesDataset(pd.concat(all_data))"
   ]
  },
  {
   "cell_type": "markdown",
   "metadata": {},
   "source": [
    "# Data availability for a specific field across data sources"
   ]
  },
  {
   "cell_type": "code",
   "execution_count": null,
   "metadata": {},
   "outputs": [],
   "source": [
    "not_included_columns = ['fips', 'date', 'state', 'county', 'country', 'aggregate_level']\n",
    "columns = [column for column in all_sources_latest.data.columns if column not in not_included_columns]\n",
    "\n",
    "\n",
    "@interact\n",
    "def show_field_data_sources(field=widgets.Select(options=sorted(columns))):\n",
    "    display(data_availability.build_data_availability_for_field(all_sources_latest, field))\n"
   ]
  },
  {
   "cell_type": "markdown",
   "metadata": {},
   "source": [
    "# Data Availability across all fields for a single data source"
   ]
  },
  {
   "cell_type": "code",
   "execution_count": null,
   "metadata": {},
   "outputs": [],
   "source": [
    "select_widget = widgets.Select(options=list({k: v for k, v in sources_latest.items()}.items()))\n",
    "\n",
    "\n",
    "@interact\n",
    "def show_provenance_by_source_sources(dataset=select_widget):\n",
    "    return data_availability.build_data_availability_report(dataset)"
   ]
  }
 ],
 "metadata": {
  "kernelspec": {
   "display_name": "Python 3",
   "language": "python",
   "name": "python3"
  },
  "language_info": {
   "codemirror_mode": {
    "name": "ipython",
    "version": 3
   },
   "file_extension": ".py",
   "mimetype": "text/x-python",
   "name": "python",
   "nbconvert_exporter": "python",
   "pygments_lexer": "ipython3",
   "version": "3.7.7"
  }
 },
 "nbformat": 4,
 "nbformat_minor": 4
}
