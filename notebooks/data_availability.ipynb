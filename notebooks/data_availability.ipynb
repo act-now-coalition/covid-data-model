{
 "cells": [
  {
   "cell_type": "code",
   "execution_count": null,
   "metadata": {},
   "outputs": [],
   "source": [
    "from libs import notebook_helpers\n",
    "notebook_helpers.set_covid_data_public()"
   ]
  },
  {
   "cell_type": "code",
   "execution_count": null,
   "metadata": {},
   "outputs": [],
   "source": [
    "import pandarallel\n",
    "from ipywidgets import interact\n",
    "import ipywidgets as widgets\n",
    "import pandas as pd\n",
    "from covidactnow.datapublic.common_fields import CommonFields\n",
    "from libs.datasets.sources import fips_population\n",
    "from libs.datasets import combined_datasets\n",
    "from libs.datasets.latest_values_dataset import LatestValuesDataset\n",
    "from libs.datasets.timeseries import TimeseriesDataset\n",
    "\n",
    "pandarallel.pandarallel.initialize(progress_bar=True)"
   ]
  },
  {
   "cell_type": "code",
   "execution_count": null,
   "metadata": {},
   "outputs": [],
   "source": [
    "dataset = combined_datasets.load_us_timeseries_dataset()\n",
    "latest = dataset.to_latest_values_dataset()\n",
    "\n",
    "sources = notebook_helpers.load_data_sources_by_name()\n",
    "sources_latest = {name: source.latest_values() for name, source in sources.items()}\n",
    "combined_latest_data = latest.data.copy()\n",
    "combined_latest_data['source'] = 'Combined'\n",
    "sources_latest[\"Combined Data\"] = combined_latest_data\n",
    "\n",
    "all_sources_latest = LatestValuesDataset(pd.concat(sources_latest.values()))"
   ]
  },
  {
   "cell_type": "code",
   "execution_count": null,
   "metadata": {},
   "outputs": [],
   "source": [
    "def build_prevalence_report(latest: LatestValuesDataset):\n",
    "\n",
    "    data = latest.data.copy()\n",
    "    if 'population' not in data.columns:\n",
    "        pop = fips_population.FIPSPopulation.local()\n",
    "        pop_map = pop.data.set_index('fips')[\"population\"]\n",
    "        data['population'] = data['fips'].map(pop_map)\n",
    "\n",
    "    def classify_row(row):\n",
    "\n",
    "        if row.aggregate_level == \"state\":\n",
    "            return \"state data\"\n",
    "        return row.state\n",
    "\n",
    "    def count_with_values(x):\n",
    "        return x.apply(lambda y: sum(~y.isna()))\n",
    "\n",
    "    data[\"location_group\"] = data.apply(classify_row, axis=1)\n",
    "\n",
    "\n",
    "    counts_per_location = data.groupby(\"location_group\").apply(count_with_values)\n",
    "    columns_to_drop = ['state', 'country', 'aggregate_level', 'cumulative_hospitalized', 'cumulative_icu']\n",
    "    columns_to_drop = [column for column in columns_to_drop if column in counts_per_location.columns]\n",
    "\n",
    "    counts_per_location = counts_per_location.drop(columns_to_drop, axis='columns')\n",
    "    counts_per_location[\"total_population\"] = data.groupby(\"location_group\").population.sum()\n",
    "    counts_per_location = counts_per_location.sort_values(\"total_population\", ascending=False).drop([\"total_population\"], axis='columns')\n",
    "\n",
    "    return (\n",
    "        counts_per_location\n",
    "        .style\n",
    "        .background_gradient(axis=1, cmap='RdYlGn')\n",
    "    )\n",
    "\n",
    "\n",
    "def data_availability_by_field(latest_dataset, field):\n",
    "    data = all_sources_latest.data\n",
    "    columns = [CommonFields.FIPS, CommonFields.AGGREGATE_LEVEL, CommonFields.STATE] + [field, \"source\"]\n",
    "    data[columns]\n",
    "    data = data.set_index([\"fips\", \"aggregate_level\", \"state\", \"source\"])\n",
    "    series = data[field]\n",
    "    field_by_source = series.unstack(level=-1)\n",
    "    field_by_source.columns = field_by_source.columns.get_level_values(0).values\n",
    "    field_by_source = field_by_source.reset_index()\n",
    "    field_by_source = LatestValuesDataset(field_by_source)\n",
    "    return build_prevalence_report(field_by_source)\n",
    "\n"
   ]
  },
  {
   "cell_type": "markdown",
   "metadata": {},
   "source": [
    "# Data availability for a specific field across data sources"
   ]
  },
  {
   "cell_type": "code",
   "execution_count": null,
   "metadata": {},
   "outputs": [],
   "source": [
    "not_included_columns = ['fips', 'date', 'state', 'county', 'country', 'aggregate_level']\n",
    "columns = [column for column in all_sources_latest.data.columns if column not in not_included_columns]\n",
    "\n",
    "\n",
    "@interact\n",
    "def show_field_data_sources(field=widgets.Select(options=sorted(columns))):\n",
    "    display(data_availability_by_field(all_sources_latest, field))\n"
   ]
  },
  {
   "cell_type": "markdown",
   "metadata": {},
   "source": [
    "# Data Availability across all fields for a single data source"
   ]
  },
  {
   "cell_type": "code",
   "execution_count": null,
   "metadata": {},
   "outputs": [],
   "source": [
    "select_widget = widgets.Select(options=list({k: LatestValuesDataset(v) for k, v in sources_latest.items()}.items()))\n",
    "\n",
    "\n",
    "@interact\n",
    "def show_provenance_by_source_sources(dataset=select_widget):\n",
    "    return build_prevalence_report(dataset)"
   ]
  },
  {
   "cell_type": "code",
   "execution_count": null,
   "metadata": {},
   "outputs": [],
   "source": [
    "# Sample code to save provenance image\n",
    "# import imgkit\n",
    "\n",
    "# html = build_prevalence_report(LatestValuesDataset(sources_latest[\"CmdcDataSource\"])).render()\n",
    "# imgkit.from_string(html, 'styled_table.png')"
   ]
  }
 ],
 "metadata": {
  "kernelspec": {
   "display_name": "Python 3",
   "language": "python",
   "name": "python3"
  },
  "language_info": {
   "codemirror_mode": {
    "name": "ipython",
    "version": 3
   },
   "file_extension": ".py",
   "mimetype": "text/x-python",
   "name": "python",
   "nbconvert_exporter": "python",
   "pygments_lexer": "ipython3",
   "version": "3.7.7"
  }
 },
 "nbformat": 4,
 "nbformat_minor": 4
}
