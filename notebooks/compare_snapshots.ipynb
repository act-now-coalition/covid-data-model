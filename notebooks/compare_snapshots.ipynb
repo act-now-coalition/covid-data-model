{
 "cells": [
  {
   "cell_type": "code",
   "execution_count": null,
   "metadata": {},
   "outputs": [],
   "source": [
    "from libs import notebook_helpers\n",
    "notebook_helpers.set_covid_data_public()"
   ]
  },
  {
   "cell_type": "code",
   "execution_count": null,
   "metadata": {},
   "outputs": [],
   "source": [
    "%load_ext autoreload\n",
    "%autoreload 2\n",
    "\n",
    "import pandas as pd\n",
    "from libs.datasets import combined_datasets\n",
    "from libs.qa import dataset_summary\n",
    "from libs.datasets.dataset_utils import AggregationLevel\n",
    "pd.options.display.max_rows = 5000"
   ]
  },
  {
   "cell_type": "code",
   "execution_count": null,
   "metadata": {},
   "outputs": [],
   "source": [
    "def filter_summary(summary: pd.DataFrame, level: AggregationLevel):\n",
    "    if level is AggregationLevel.STATE:\n",
    "        return summary.loc[summary.index.get_level_values(0).str.len() == 2]\n",
    "    elif level is AggregationLevel.COUNTY:\n",
    "        return summary.loc[summary.index.get_level_values(0).str.len() == 5]\n",
    "    return summary"
   ]
  },
  {
   "cell_type": "code",
   "execution_count": null,
   "metadata": {},
   "outputs": [],
   "source": [
    "old_commit = \"c3a199543facf615e2c7eeb552d00aad7b6fc1e6\"\n",
    "new_commit = \"4a9e69ba75c2ddb15e55fe5d2ae96eeafffd42d2\""
   ]
  },
  {
   "cell_type": "code",
   "execution_count": null,
   "metadata": {},
   "outputs": [],
   "source": [
    "new_summary = dataset_summary.load_summary(commit=new_commit)\n",
    "old_summary = dataset_summary.load_summary(commit=old_commit)\n",
    "\n",
    "new_state_summary = filter_summary(new_summary, AggregationLevel.STATE)\n",
    "old_state_summary = filter_summary(old_summary, AggregationLevel.STATE)\n",
    "\n",
    "new_county_summary = filter_summary(new_summary, AggregationLevel.COUNTY)\n",
    "old_county_summary = filter_summary(old_summary, AggregationLevel.COUNTY)"
   ]
  },
  {
   "cell_type": "markdown",
   "metadata": {},
   "source": [
    "# State Summary"
   ]
  },
  {
   "cell_type": "markdown",
   "metadata": {},
   "source": [
    "New fips/variable pairs in snapshot"
   ]
  },
  {
   "cell_type": "code",
   "execution_count": null,
   "metadata": {},
   "outputs": [],
   "source": [
    "dataset_summary.find_missing_values_in_summary(new_state_summary, old_state_summary)"
   ]
  },
  {
   "cell_type": "markdown",
   "metadata": {},
   "source": [
    "Dropped fips/variable pairs in snapshot"
   ]
  },
  {
   "cell_type": "code",
   "execution_count": null,
   "metadata": {},
   "outputs": [],
   "source": [
    "dataset_summary.find_missing_values_in_summary(old_state_summary, new_state_summary)"
   ]
  },
  {
   "cell_type": "markdown",
   "metadata": {},
   "source": [
    "Changes"
   ]
  },
  {
   "cell_type": "code",
   "execution_count": null,
   "metadata": {},
   "outputs": [],
   "source": [
    "dataset_summary.get_changes(old_state_summary, new_state_summary).dropna()"
   ]
  },
  {
   "cell_type": "markdown",
   "metadata": {},
   "source": [
    "# County Summary"
   ]
  },
  {
   "cell_type": "markdown",
   "metadata": {},
   "source": [
    "New fips/variable pairs in snapshot"
   ]
  },
  {
   "cell_type": "code",
   "execution_count": null,
   "metadata": {},
   "outputs": [],
   "source": [
    "dataset_summary.find_missing_values_in_summary(new_county_summary, old_county_summary)"
   ]
  },
  {
   "cell_type": "code",
   "execution_count": null,
   "metadata": {},
   "outputs": [],
   "source": [
    "dataset_summary.find_missing_values_in_summary(old_county_summary, new_county_summary)"
   ]
  }
 ],
 "metadata": {
  "kernelspec": {
   "display_name": "Python 3",
   "language": "python",
   "name": "python3"
  },
  "language_info": {
   "codemirror_mode": {
    "name": "ipython",
    "version": 3
   },
   "file_extension": ".py",
   "mimetype": "text/x-python",
   "name": "python",
   "nbconvert_exporter": "python",
   "pygments_lexer": "ipython3",
   "version": "3.7.7"
  }
 },
 "nbformat": 4,
 "nbformat_minor": 4
}
