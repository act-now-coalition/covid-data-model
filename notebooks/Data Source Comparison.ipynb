{
 "cells": [
  {
   "cell_type": "code",
   "execution_count": null,
   "metadata": {
    "code_folding": []
   },
   "outputs": [],
   "source": [
    "# Code needed for binder \n",
    "import os\n",
    "os.environ[\"COVID_DATA_PUBLIC\"] = \"covid-data-public\""
   ]
  },
  {
   "cell_type": "code",
   "execution_count": null,
   "metadata": {},
   "outputs": [],
   "source": [
    "from libs.datasets.sources.can_pyseir_location_output import CANPyseirLocationOutput\n",
    "from libs.qa import dataset_summary\n",
    "from libs.datasets import combined_datasets\n",
    "from IPython.display import display\n",
    "from ipywidgets import interact\n",
    "import ipywidgets as widgets\n",
    "from libs.datasets.dataset_utils import AggregationLevel\n",
    "from covidactnow.datapublic.common_fields import CommonFields\n",
    "import pandas as pd\n",
    "from libs.datasets.sources import cmdc\n",
    "from libs.datasets.sources import cds_dataset\n",
    "from libs.datasets.sources import covid_tracking_source\n",
    "from libs.datasets.sources import nytimes_dataset\n",
    "from libs.datasets.sources import jhu_dataset\n",
    "from libs.datasets.sources import nha_hospitalization\n",
    "from libs.datasets.sources import texas_hospitalizations\n",
    "from libs.datasets.timeseries import TimeseriesDataset\n",
    "pd.options.display.max_rows = 3000\n",
    "pd.options.display.max_columns = 3000\n",
    "from IPython.display import HTML\n"
   ]
  },
  {
   "cell_type": "code",
   "execution_count": null,
   "metadata": {},
   "outputs": [],
   "source": [
    "HTML('''<script>\n",
    "code_show=true; \n",
    "function code_toggle() {\n",
    " if (code_show){\n",
    " $('div.input').hide();\n",
    " } else {\n",
    " $('div.input').show();\n",
    " }\n",
    " code_show = !code_show\n",
    "} \n",
    "$( document ).ready(code_toggle);\n",
    "</script>\n",
    "The raw code for this IPython notebook is by default hidden for easier reading.\n",
    "To toggle on/off the raw code, click <a href=\"javascript:code_toggle()\">here</a>.''')"
   ]
  },
  {
   "cell_type": "code",
   "execution_count": null,
   "metadata": {},
   "outputs": [],
   "source": [
    "def load_combined_timeseries(timeseries):\n",
    "    sources = [\n",
    "        cmdc.CmdcDataSource,\n",
    "        cds_dataset.CDSDataset,\n",
    "        jhu_dataset.JHUDataset,\n",
    "        nha_hospitalization.NevadaHospitalAssociationData,\n",
    "        texas_hospitalizations.TexasHospitalizations,\n",
    "        covid_tracking_source.CovidTrackingDataSource,\n",
    "        nytimes_dataset.NYTimesDataset\n",
    "    ]\n",
    "    all_data = []\n",
    "    for source_cls in sources:\n",
    "        timeseries_dataset = TimeseriesDataset.build_from_data_source(source_cls.local())\n",
    "        timeseries_dataset.data[\"source\"] = source_cls.__name__\n",
    "        all_data.append(timeseries_dataset.data)\n",
    "\n",
    "    timeseries_data = timeseries.data.copy()\n",
    "    timeseries_data[\"source\"] = \"Combined Data\"\n",
    "\n",
    "    combined_timeseries = TimeseriesDataset(pd.concat([timeseries_data] + all_data))\n",
    "    return combined_timeseries\n",
    "\n",
    "def filter_field_data(combined_series, field, state=None, fips=None, after=None, diff=False, before=None):\n",
    "    columns = [CommonFields.FIPS, CommonFields.DATE] + [field, \"source\"]\n",
    "    level = None\n",
    "    if state and not fips:\n",
    "        combined_series = combined_series.get_subset(aggregation_level=AggregationLevel.STATE)\n",
    "\n",
    "    data = combined_series.get_data(state=state, fips=fips, after=after, columns_slice=columns, before=before)\n",
    "    data = data.set_index([\"fips\", \"date\", \"source\"])\n",
    "    series = data[field]\n",
    "    if diff:\n",
    "        series = series.diff()\n",
    "    return series.unstack(level=-1)    \n",
    "    \n",
    "def filter_timeseries(state=None, fips=None, columns=None, after=None, before=None, diff=False):\n",
    "    if columns:\n",
    "        columns = [CommonFields.FIPS, CommonFields.DATE] + columns\n",
    "    us_timeseries = timeseries\n",
    "    level = None\n",
    "    if state and not fips:\n",
    "        us_timeseries = us_timeseries.get_subset(aggregation_level=AggregationLevel.STATE)\n",
    "        \n",
    "    data = us_timeseries.get_data(state=state, fips=fips, columns_slice=columns, after=after).set_index(['fips', 'date'])\n",
    "    if not diff:\n",
    "        return data\n",
    "    \n",
    "    return data.diff()\n"
   ]
  },
  {
   "cell_type": "code",
   "execution_count": null,
   "metadata": {},
   "outputs": [],
   "source": [
    "summary = dataset_summary.load_summary()\n",
    "timeseries = combined_datasets.load_us_timeseries_dataset()\n",
    "combined_timeseries = load_combined_timeseries(timeseries)\n",
    "\n",
    "states = [\" \"] + timeseries.states\n",
    "columns = timeseries.data.columns\n",
    "not_included_columns = ['fips', 'date', 'state', 'county', 'country', 'aggregate_level']\n",
    "columns = [column for column in columns if column not in not_included_columns]"
   ]
  },
  {
   "cell_type": "code",
   "execution_count": null,
   "metadata": {},
   "outputs": [],
   "source": [
    "column_selector = widgets.SelectMultiple(\n",
    "    options=[column for column in columns if column not in ['fips', 'date']], \n",
    "    value=[\"cases\", \"deaths\", \"current_hospitalized\", \"current_icu\", \"positive_tests\", \"negative_tests\"]\n",
    ")\n",
    "\n",
    "@interact\n",
    "def display_timeseries(\n",
    "    state=states, fips=\"\", columns=column_selector, after=\"2020-07-01\", before=\"\", diff=False\n",
    "):\n",
    "    if before == \"\":\n",
    "        before = None\n",
    "    if state == \" \":\n",
    "        state = None\n",
    "    columns = list(columns)\n",
    "    if not state and not fips:\n",
    "        return\n",
    "    data = filter_timeseries(state=state, fips=fips, columns=columns, after=after, diff=diff, before=before)\n",
    "    display(data)"
   ]
  },
  {
   "cell_type": "code",
   "execution_count": null,
   "metadata": {},
   "outputs": [],
   "source": [
    "@interact\n",
    "def display_single_field(state=states, fips=\"\", field=columns, after=\"2020-07-15\", before=\"\", diff=False):\n",
    "    if state == \" \":\n",
    "        state = None\n",
    "    if before == \"\":\n",
    "        before == \"\"\n",
    "    if not state and not fips:\n",
    "        return\n",
    "    data = filter_field_data(combined_timeseries, field, state=state, fips=fips, after=after, diff=diff, before=before)\n",
    "    display(data)"
   ]
  },
  {
   "cell_type": "code",
   "execution_count": null,
   "metadata": {},
   "outputs": [],
   "source": []
  }
 ],
 "metadata": {
  "kernelspec": {
   "display_name": "Python 3",
   "language": "python",
   "name": "python3"
  },
  "language_info": {
   "codemirror_mode": {
    "name": "ipython",
    "version": 3
   },
   "file_extension": ".py",
   "mimetype": "text/x-python",
   "name": "python",
   "nbconvert_exporter": "python",
   "pygments_lexer": "ipython3",
   "version": "3.7.7"
  }
 },
 "nbformat": 4,
 "nbformat_minor": 4
}
