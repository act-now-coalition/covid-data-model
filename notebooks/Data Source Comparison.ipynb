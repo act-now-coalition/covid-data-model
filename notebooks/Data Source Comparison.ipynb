{
 "cells": [
  {
   "cell_type": "code",
   "execution_count": null,
   "metadata": {},
   "outputs": [],
   "source": [
    "from libs import notebook_helpers\n",
    "notebook_helpers.set_covid_data_public()"
   ]
  },
  {
   "cell_type": "code",
   "execution_count": null,
   "metadata": {},
   "outputs": [],
   "source": [
    "from IPython.display import Javascript, display\n",
    "from ipywidgets import widgets\n",
    "\n",
    "def run_all(ev):\n",
    "    display(Javascript('IPython.notebook.execute_cells_below()'))\n",
    "\n",
    "button = widgets.Button(description=\"Execute all cells\")\n",
    "button.on_click(run_all)\n",
    "display(button)"
   ]
  },
  {
   "cell_type": "code",
   "execution_count": null,
   "metadata": {},
   "outputs": [],
   "source": [
    "%load_ext autoreload\n",
    "%autoreload 2\n",
    "\n",
    "import pathlib\n",
    "\n",
    "from datetime import timedelta\n",
    "from datetime import datetime\n",
    "from libs.datasets.sources.can_pyseir_location_output import CANPyseirLocationOutput\n",
    "from libs.qa import dataset_summary\n",
    "from IPython.display import display, clear_output\n",
    "from ipywidgets import interact\n",
    "import ipywidgets as widgets\n",
    "from libs.datasets.dataset_utils import AggregationLevel\n",
    "from covidactnow.datapublic.common_fields import CommonFields\n",
    "import pandas as pd\n",
    "from libs.datasets import dataset_utils\n",
    "from libs.datasets import combined_datasets\n",
    "from libs.datasets.sources import covid_county_data\n",
    "from libs.datasets.sources import cds_dataset\n",
    "from libs.datasets.sources import covid_tracking_source\n",
    "from libs.datasets.sources import nytimes_dataset\n",
    "from libs.datasets.sources import jhu_dataset\n",
    "from libs.datasets.sources import nha_hospitalization\n",
    "from libs.datasets.sources import texas_hospitalizations\n",
    "from libs.datasets.timeseries import TimeseriesDataset\n",
    "pd.options.display.max_rows = 3000\n",
    "pd.options.display.max_columns = 3000\n",
    "from IPython.display import HTML"
   ]
  },
  {
   "cell_type": "code",
   "execution_count": null,
   "metadata": {},
   "outputs": [],
   "source": [
    "HTML('''<script>\n",
    "code_show=true; \n",
    "function code_toggle() {\n",
    " if (code_show){\n",
    " $('div.input').hide();\n",
    " } else {\n",
    " $('div.input').show();\n",
    " }\n",
    " code_show = !code_show\n",
    "} \n",
    "$( document ).ready(code_toggle);\n",
    "</script>\n",
    "The raw code for this IPython notebook is by default hidden for easier reading.\n",
    "To toggle on/off the raw code, click <a href=\"javascript:code_toggle()\">here</a>.''')"
   ]
  },
  {
   "cell_type": "markdown",
   "metadata": {},
   "source": [
    "# Data Source Comparison notebook\n",
    "## Charts\n",
    "\n",
    "#### Combined datasets timeseries\n",
    "Choose display data from combined datasets, showing different columns\n",
    "\n",
    "#### Data sources for a specific field\n",
    "For a given field, show the values for all different data sources\n",
    "\n",
    "#### Columns for a specific data source\n",
    "Show data for a data source.\n",
    "\n",
    "### Tips\n",
    " * Use either a state or a fips code.  Choosing a state will filter to the state level metrics\n",
    "   If you set fips with a state selected, may not show any data\n",
    " * Checking the diff box will calculate diffs between days for each column\n",
    "\n",
    "TODO: Add support for loading files/checking out specific commit of covid-data-model build + associated covid-data-public commit."
   ]
  },
  {
   "cell_type": "code",
   "execution_count": null,
   "metadata": {},
   "outputs": [],
   "source": [
    "\n",
    "def load_combined_timeseries(sources, timeseries):\n",
    "    timeseries_data = timeseries.data.copy()\n",
    "    timeseries_data[\"source\"] = \"Combined Data\"\n",
    "\n",
    "    combined_timeseries = TimeseriesDataset(pd.concat([timeseries_data] + [source.data for source in sources.values()]))\n",
    "    return combined_timeseries\n",
    "\n",
    "\n",
    "def filter_field_data(combined_series, field, state=None, fips=None, after=None, diff=False, before=None):\n",
    "    columns = [CommonFields.FIPS, CommonFields.DATE] + [field, \"source\"]\n",
    "    level = None\n",
    "    if state and not fips:\n",
    "        combined_series = combined_series.get_subset(aggregation_level=AggregationLevel.STATE)\n",
    "\n",
    "    data = combined_series.get_data(state=state, fips=fips, after=after, columns_slice=columns, before=before)\n",
    "    data = data.set_index([\"fips\", \"date\", \"source\"])\n",
    "    series = data[field]\n",
    "    if diff:\n",
    "        series = series.diff()\n",
    "    return series.unstack(level=-1)\n",
    "    \n",
    "def filter_timeseries(timeseries, state=None, fips=None, columns=None, after=None, before=None, diff=False):\n",
    "    if columns:\n",
    "        columns = [CommonFields.FIPS, CommonFields.DATE] + columns\n",
    "    us_timeseries = timeseries\n",
    "    level = None\n",
    "    if state and not fips:\n",
    "        us_timeseries = us_timeseries.get_subset(aggregation_level=AggregationLevel.STATE)\n",
    "        \n",
    "    data = us_timeseries.get_data(state=state, fips=fips, columns_slice=columns, after=after).set_index(['fips', 'date'])\n",
    "    if not diff:\n",
    "        return data\n",
    "    \n",
    "    return data.diff()\n"
   ]
  },
  {
   "cell_type": "code",
   "execution_count": null,
   "metadata": {},
   "outputs": [],
   "source": [
    "print(\"Loading data sources...\")\n",
    "sources = notebook_helpers.load_data_sources_by_name()\n",
    "timeseries = combined_datasets.load_us_timeseries_dataset()\n",
    "combined_timeseries = load_combined_timeseries(sources, timeseries)\n",
    "\n",
    "start_date = (datetime.utcnow() - timedelta(days=14)).isoformat()[:10]\n",
    "states = [\" \"] + timeseries.states\n",
    "columns = timeseries.data.columns\n",
    "not_included_columns = ['fips', 'date', 'state', 'county', 'country', 'aggregate_level']\n",
    "columns = [column for column in columns if column not in not_included_columns]\n",
    "clear_output()\n",
    "print(\"Successfully loaded data sources\")"
   ]
  },
  {
   "cell_type": "markdown",
   "metadata": {},
   "source": [
    "## Combined Datasets Timeseries"
   ]
  },
  {
   "cell_type": "code",
   "execution_count": null,
   "metadata": {},
   "outputs": [],
   "source": [
    "column_selector = widgets.SelectMultiple(\n",
    "    options=[column for column in columns if column not in ['fips', 'date']], \n",
    "    value=[\"cases\", \"deaths\", \"current_hospitalized\", \"current_icu\", \"positive_tests\", \"negative_tests\"]\n",
    ")\n",
    "\n",
    "@interact\n",
    "def display_timeseries(\n",
    "    state=states, fips=\"\", columns=column_selector, after=start_date, before=\"\", diff=False\n",
    "):\n",
    "    if before == \"\":\n",
    "        before = None\n",
    "    if state == \" \":\n",
    "        state = None\n",
    "    columns = list(columns)\n",
    "    if not state and not fips:\n",
    "        return\n",
    "    data = filter_timeseries(timeseries, state=state, fips=fips, columns=columns, after=after, diff=diff, before=before)\n",
    "    display(data)"
   ]
  },
  {
   "cell_type": "markdown",
   "metadata": {},
   "source": [
    "## Data sources for a specific field"
   ]
  },
  {
   "cell_type": "code",
   "execution_count": null,
   "metadata": {},
   "outputs": [],
   "source": [
    "@interact\n",
    "def display_single_field(state=states, fips=\"\", field=columns, after=start_date, before=\"\", diff=False):\n",
    "    if state == \" \":\n",
    "        state = None\n",
    "    if before == \"\":\n",
    "        before == \"\"\n",
    "    if not state and not fips:\n",
    "        return\n",
    "    data = filter_field_data(combined_timeseries, field, state=state, fips=fips, after=after, diff=diff, before=before)\n",
    "    display(data)"
   ]
  },
  {
   "cell_type": "markdown",
   "metadata": {},
   "source": [
    "## Data for a specific data source"
   ]
  },
  {
   "cell_type": "code",
   "execution_count": null,
   "metadata": {},
   "outputs": [],
   "source": [
    "source_selector = widgets.Select(\n",
    "    options=list(sources.items())\n",
    ")\n",
    "\n",
    "all_columns = columns\n",
    "column_selector2 = widgets.SelectMultiple(\n",
    "    options=[column for column in columns if column not in ['fips', 'date']], \n",
    "    value=[\"cases\", \"deaths\", \"current_hospitalized\", \"current_icu\", \"positive_tests\", \"negative_tests\"]\n",
    ")\n",
    "\n",
    "@interact\n",
    "def display_data_source_timeseries(\n",
    "    dataset=source_selector, state=states, fips=\"\", columns=column_selector2, after=start_date, before=\"\", diff=False, show_all_columns=False\n",
    "):\n",
    "    if show_all_columns:\n",
    "        columns = all_columns\n",
    "        \n",
    "    columns = [column for column in columns if column in dataset.data.columns]\n",
    "    if before == \"\":\n",
    "        before = None\n",
    "    if state == \" \":\n",
    "        state = None\n",
    "    columns = list(columns)\n",
    "    if not state and not fips:\n",
    "        return\n",
    "    data = filter_timeseries(dataset, state=state, fips=fips, columns=columns, after=after, diff=diff, before=before)\n",
    "    display(data)"
   ]
  }
 ],
 "metadata": {
  "kernelspec": {
   "display_name": "Python 3",
   "language": "python",
   "name": "python3"
  },
  "language_info": {
   "codemirror_mode": {
    "name": "ipython",
    "version": 3
   },
   "file_extension": ".py",
   "mimetype": "text/x-python",
   "name": "python",
   "nbconvert_exporter": "python",
   "pygments_lexer": "ipython3",
   "version": "3.7.7"
  }
 },
 "nbformat": 4,
 "nbformat_minor": 4
}
