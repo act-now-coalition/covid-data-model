{
 "cells": [
  {
   "cell_type": "code",
   "execution_count": null,
   "metadata": {},
   "outputs": [],
   "source": [
    "%load_ext autoreload\n",
    "%autoreload 2\n",
    "\n",
    "from typing import Optional\n",
    "import pandas as pd\n",
    "import numpy as np\n",
    "import pathlib\n",
    "import seaborn as sns\n",
    "from covidactnow.datapublic.common_fields import CommonFields\n",
    "from covidactnow.datapublic import common_df\n",
    "from libs.datasets import combined_datasets\n",
    "from libs.datasets import AggregationLevel\n",
    "from libs import top_level_metrics\n",
    "from libs import us_state_abbrev\n",
    "pd.options.display.max_rows = 3000\n",
    "pd.options.display.max_columns = 3000\n",
    "\n",
    "sns.set()"
   ]
  },
  {
   "cell_type": "code",
   "execution_count": null,
   "metadata": {},
   "outputs": [],
   "source": [
    "us_timeseries = combined_datasets.load_us_timeseries_dataset()"
   ]
  },
  {
   "cell_type": "code",
   "execution_count": null,
   "metadata": {},
   "outputs": [],
   "source": [
    "mass_timeseries = us_timeseries.get_subset(aggregation_level=AggregationLevel.STATE, state=\"CT\")\n",
    "# Get recent data\n",
    "mass = mass_timeseries.get_data(after=\"2020-03-15\")\n",
    "# equivalent to\n",
    "# us_timeseries.get_data(aggregation_level=AggregationLevel.STATE, state=\"MA\", after=\"2020-08-01\")\n",
    "# or\n",
    "# mass_data = mass_timeseries.data\n",
    "# mass_data.loc[mass_data[CommonFields.DATE] > \"2020-08-01\"]\n",
    "# or\n",
    "# mass_data.loc[mass_data['date'] > \"2020-08-01\"]\n",
    "\n",
    "path_to_test_positivity = \"~/Downloads/test-positive.csv\""
   ]
  },
  {
   "cell_type": "code",
   "execution_count": null,
   "metadata": {},
   "outputs": [],
   "source": [
    "def mean_percent_diff(s1, s2):\n",
    "    return (((s1 - s2) / (s1 + s2)) * 100).abs().mean()"
   ]
  },
  {
   "cell_type": "code",
   "execution_count": null,
   "metadata": {},
   "outputs": [],
   "source": [
    "def compare_state(state, path_to_test_positivity):\n",
    "    state_timeseries = us_timeseries.get_subset(aggregation_level=AggregationLevel.STATE, state=state)\n",
    "    # Get recent data\n",
    "    data = state_timeseries.get_data(after=\"2020-03-15\")\n",
    "    fips = us_state_abbrev.ABBREV_US_FIPS[state]\n",
    "    # METRICS API\n",
    "    metrics = top_level_metrics.calculate_top_level_metrics_for_fips(fips)\n",
    "    test_positivity = pd.Series(metrics[\"testPositivity\"])\n",
    "\n",
    "    # WEBSITE\n",
    "    website = pd.read_csv(path_to_test_positivity)\n",
    "    website_fips = website[website[\"fips\"] == int(fips)]\n",
    "    website_fips[\"date\"] = website_fips[\"date\"].astype(\"datetime64\") #convert to datetime\n",
    "\n",
    "    # JOIN_DATA\n",
    "    positive_df = test_positivity.to_frame()\n",
    "    positive_df = positive_df.rename(columns={0:\"testPositivity\"})\n",
    "    data_with_positive =     data.set_index(\"date\").join(positive_df).reset_index()[[\"date\", \"fips\", \"testPositivity\", \"positive_tests\", \"negative_tests\"]] # merge to get date\n",
    "    website_and_api_calc = data_with_positive.merge(website_fips, on=\"date\", how='left')\n",
    "    mean_percent_diff_result = mean_percent_diff(website_and_api_calc[\"testPositivity\"], website_and_api_calc[\"test-positivity\"])\n",
    "    print(f\"Website and API have mean % diff: {mean_percent_diff_result}\")\n",
    "    website_and_api_calc['diff'] = website_and_api_calc['test-positivity'] - website_and_api_calc['testPositivity']\n",
    "    return website_and_api_calc"
   ]
  },
  {
   "cell_type": "code",
   "execution_count": null,
   "metadata": {},
   "outputs": [],
   "source": [
    "# Website stops computing data when negative tests dont increase multiple days in a row\n",
    "compare_state(\"CA\", path_to_test_positivity).head(10)"
   ]
  },
  {
   "cell_type": "code",
   "execution_count": null,
   "metadata": {},
   "outputs": [],
   "source": [
    "# some large differences at the beginning of the timeseries\n",
    "compare_state(\"MA\", path_to_test_positivity).head(10)"
   ]
  },
  {
   "cell_type": "code",
   "execution_count": null,
   "metadata": {},
   "outputs": [],
   "source": [
    "compare_state(\"CO\", path_to_test_positivity).head(10)"
   ]
  },
  {
   "cell_type": "code",
   "execution_count": null,
   "metadata": {},
   "outputs": [],
   "source": [
    "compare_state(\"NV\", path_to_test_positivity).head(10)"
   ]
  },
  {
   "cell_type": "code",
   "execution_count": null,
   "metadata": {},
   "outputs": [],
   "source": []
  }
 ],
 "metadata": {
  "kernelspec": {
   "display_name": "Python 3",
   "language": "python",
   "name": "python3"
  },
  "language_info": {
   "codemirror_mode": {
    "name": "ipython",
    "version": 3
   },
   "file_extension": ".py",
   "mimetype": "text/x-python",
   "name": "python",
   "nbconvert_exporter": "python",
   "pygments_lexer": "ipython3",
   "version": "3.7.2"
  }
 },
 "nbformat": 4,
 "nbformat_minor": 4
}
