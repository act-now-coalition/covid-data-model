{
 "cells": [
  {
   "cell_type": "code",
   "execution_count": null,
   "metadata": {},
   "outputs": [],
   "source": [
    "%load_ext autoreload\n",
    "%autoreload 2\n",
    "\n",
    "from typing import Optional\n",
    "import pandas as pd\n",
    "import numpy as np\n",
    "import pathlib\n",
    "import seaborn as sns\n",
    "from covidactnow.datapublic.common_fields import CommonFields\n",
    "from libs.datasets import combined_datasets\n",
    "from libs.datasets import AggregationLevel\n",
    "from libs import top_level_metrics\n",
    "pd.options.display.max_rows = 3000\n",
    "pd.options.display.max_columns = 3000\n",
    "\n",
    "sns.set()"
   ]
  },
  {
   "cell_type": "code",
   "execution_count": null,
   "metadata": {},
   "outputs": [],
   "source": [
    "us_timeseries = combined_datasets.load_us_timeseries_dataset()"
   ]
  },
  {
   "cell_type": "code",
   "execution_count": null,
   "metadata": {},
   "outputs": [],
   "source": [
    "mass_timeseries = us_timeseries.get_subset(aggregation_level=AggregationLevel.STATE, state=\"MA\")\n",
    "# Get recent data\n",
    "mass_timeseries.get_data(after=\"2020-08-01\")\n",
    "# equivalent to\n",
    "# us_timeseries.get_data(aggregation_level=AggregationLevel.STATE, state=\"MA\", after=\"2020-08-01\")\n",
    "# or\n",
    "# mass_data = mass_timeseries.data\n",
    "# mass_data.loc[mass_data[CommonFields.DATE] > \"2020-08-01\"]\n",
    "# or\n",
    "# mass_data.loc[mass_data['date'] > \"2020-08-01\"]\n"
   ]
  },
  {
   "cell_type": "code",
   "execution_count": null,
   "metadata": {},
   "outputs": [],
   "source": [
    "top_level_metrics.calculate_top_level_metrics_for_fips(\"25\")"
   ]
  }
 ],
 "metadata": {
  "kernelspec": {
   "display_name": "Python 3",
   "language": "python",
   "name": "python3"
  },
  "language_info": {
   "codemirror_mode": {
    "name": "ipython",
    "version": 3
   },
   "file_extension": ".py",
   "mimetype": "text/x-python",
   "name": "python",
   "nbconvert_exporter": "python",
   "pygments_lexer": "ipython3",
   "version": "3.7.7"
  }
 },
 "nbformat": 4,
 "nbformat_minor": 4
}
