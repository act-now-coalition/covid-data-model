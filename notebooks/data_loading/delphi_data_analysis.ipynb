{
 "cells": [
  {
   "cell_type": "code",
   "execution_count": null,
   "metadata": {},
   "outputs": [],
   "source": [
    "! pip install s3fs\n",
    "! PYTHONWARNINGS=\"ignore\""
   ]
  },
  {
   "cell_type": "code",
   "execution_count": null,
   "metadata": {},
   "outputs": [],
   "source": [
    "import boto3\n",
    "from botocore import UNSIGNED\n",
    "from botocore.client import Config\n",
    "from collections import defaultdict\n",
    "from datetime import datetime\n",
    "import glob\n",
    "import logging\n",
    "import matplotlib.pyplot as plt\n",
    "import numpy as np\n",
    "import pandas as pd\n",
    "import pathlib\n",
    "import requests\n",
    "import us\n",
    "import shutil\n",
    "from typing import Dict, List, Optional\n",
    "import warnings\n",
    "%matplotlib inline\n",
    "\n",
    "warnings.filterwarnings(\"ignore\")\n",
    "pd.options.display.max_rows = 999\n",
    "\n",
    "logging.basicConfig()\n",
    "log = logging.getLogger()\n",
    "log.setLevel(logging.INFO)"
   ]
  },
  {
   "cell_type": "code",
   "execution_count": null,
   "metadata": {},
   "outputs": [],
   "source": [
    "DELPHI_BUCKET_NAME = 'covid19-lake' \n",
    "COVIDCAST_PREFIX = \"covidcast/json\""
   ]
  },
  {
   "cell_type": "code",
   "execution_count": null,
   "metadata": {},
   "outputs": [],
   "source": [
    "def _get_unsigned_s3_client():\n",
    "    return boto3.client('s3', config=Config(signature_version=UNSIGNED))\n",
    "\n",
    "def get_latest_delphi_files(bucket_name: str=DELPHI_BUCKET_NAME, \n",
    "                            prefix: Optional[str]=COVIDCAST_PREFIX) -> List[str]:\n",
    "    \"\"\"\n",
    "    Given an s3 bucket name and optional path prefix, fetch all file names matching that prefix.\n",
    "\n",
    "    \"\"\"\n",
    "    s3 = _get_unsigned_s3_client()\n",
    "    paginator = s3.get_paginator('list_objects')\n",
    "    # The bucket has a ton of stuff and depending on the prefix value you \n",
    "    # choose you may exceed the max list_objects return size (1000). \n",
    "    #The paginator allows you always fetch all of the file paths. \n",
    "    page_iterator = paginator.paginate(Bucket=bucket_name, Prefix=prefix)\n",
    "    s3_keys = []\n",
    "    for page in page_iterator:\n",
    "        s3_keys.extend(x[\"Key\"] for x in page[\"Contents\"])\n",
    "    return s3_keys\n",
    "\n",
    "def group_covidcast_files_by_source(s3_keys: List[str]) -> Dict[str, List[str]]:\n",
    "    \"\"\"\n",
    "    The delphi public s3 bucket contains files with paths that look like this, \n",
    "    'covidcast/json/data/consensus/part-00000-64b3ef4a-f21d-4ff8-8993-80e9447b3e42-c000.json'\n",
    "    \n",
    "    Given an array of keys, this function groups all the file parts for a given data type/data source\n",
    "    for further processing.\n",
    "    \n",
    "    There is an additional metadatafile which is not includeded. \n",
    "    \n",
    "    \"\"\"\n",
    "    files_by_type = defaultdict(list)\n",
    "    for path in s3_keys:\n",
    "        data_type = path.split(\"/\")[3]\n",
    "        if data_type != \"metadata.json\":\n",
    "            files_by_type[data_type].append(path)\n",
    "    return files_by_type\n",
    "\n",
    "def get_delphi_covidcast_metadata(bucket_name: str=DELPHI_BUCKET_NAME) -> pd.DataFrame:\n",
    "    covidcast_metadata_path = \"s3://\" + DELPHI_BUCKET_NAME + \"/\" +  'covidcast/json/metadata/metadata.json'\n",
    "    metadata_df = pd.read_json(covidcast_metadata_path, lines=True)\n",
    "    \n",
    "    metadata_df.min_time = pd.to_datetime(metadata_df.min_time, format=\"%Y%m%d\")\n",
    "    metadata_df.max_time = pd.to_datetime(metadata_df.max_time, format=\"%Y%m%d\")\n",
    "    metadata_df.last_update = pd.to_datetime(metadata_df.last_update, unit='s')\n",
    "    return metadata_df"
   ]
  },
  {
   "cell_type": "code",
   "execution_count": null,
   "metadata": {},
   "outputs": [],
   "source": [
    "keys = get_latest_delphi_files()\n",
    "files_by_source = group_covidcast_files_by_source(keys)\n",
    "covidcast_metadata = get_delphi_covidcast_metadata()"
   ]
  },
  {
   "cell_type": "code",
   "execution_count": null,
   "metadata": {},
   "outputs": [],
   "source": [
    "covidcast_metadata = get_delphi_covidcast_metadata()"
   ]
  },
  {
   "cell_type": "markdown",
   "metadata": {},
   "source": [
    "# What data is there?\n",
    "## look at the dedicated metadata file"
   ]
  },
  {
   "cell_type": "code",
   "execution_count": null,
   "metadata": {},
   "outputs": [],
   "source": [
    "covidcast_metadata.head(20)"
   ]
  },
  {
   "cell_type": "code",
   "execution_count": null,
   "metadata": {},
   "outputs": [],
   "source": [
    "covidcast_metadata[['data_source', 'signal', 'time_type','geo_type']].drop_duplicates()"
   ]
  },
  {
   "cell_type": "markdown",
   "metadata": {},
   "source": [
    "Observations\n",
    "* multiple data types available\n",
    "* multiple signals per datatype\n",
    "* each data type appears to have both county and state-level data. "
   ]
  },
  {
   "cell_type": "code",
   "execution_count": null,
   "metadata": {},
   "outputs": [],
   "source": [
    "def cache_data_locally(s3_keys: List[str], local_folder: str, bucket_name=DELPHI_BUCKET_NAME) -> None:\n",
    "    \"\"\"\n",
    "    Downloads json files from s3 \n",
    "    \"\"\"\n",
    "    local_folder = pathlib.Path(local_folder)\n",
    "\n",
    "    shutil.rmtree(local_folder, ignore_errors=True)\n",
    "    local_folder.mkdir(parents=True)\n",
    "        \n",
    "    s3 = _get_unsigned_s3_client()\n",
    "    for key in s3_keys:\n",
    "        log.info(f\"Downloading file s3://{bucket_name}/{key}\")\n",
    "        filename=pathlib.Path(key).name\n",
    "        local_file = local_folder/filename\n",
    "        s3.download_file(bucket_name, key, str(local_file))\n"
   ]
  },
  {
   "cell_type": "markdown",
   "metadata": {},
   "source": [
    "# Cache all data locally"
   ]
  },
  {
   "cell_type": "code",
   "execution_count": null,
   "metadata": {},
   "outputs": [],
   "source": [
    "for data_source, keys in files_by_source.items():\n",
    "    if not data_source.startswith(\"jhu\"):\n",
    "        log.info(f\"Caching {len(keys)} {data_source} files locally.\")\n",
    "        cache_data_locally(keys, f\"covidcast/{data_source}\")"
   ]
  },
  {
   "cell_type": "code",
   "execution_count": null,
   "metadata": {},
   "outputs": [],
   "source": [
    "! ls covidcast"
   ]
  },
  {
   "cell_type": "code",
   "execution_count": null,
   "metadata": {},
   "outputs": [],
   "source": [
    "# Load data from source into dataframes\n",
    "\n",
    "def construct_combined_dataframe(local_folder: str) -> pd.DataFrame:\n",
    "    combined_df = pd.DataFrame()\n",
    "    for f in glob.glob(f\"{local_folder}/*.json\"):\n",
    "        part_df = pd.read_json(f, lines=True)\n",
    "        part_df.time_value = pd.to_datetime(part_df.time_value, format=\"%Y%m%d\")\n",
    "        combined_df = combined_df.append(part_df, ignore_index=True)\n",
    "    return combined_df"
   ]
  },
  {
   "cell_type": "markdown",
   "metadata": {},
   "source": [
    "# Quick plots of all signals "
   ]
  },
  {
   "cell_type": "code",
   "execution_count": null,
   "metadata": {},
   "outputs": [],
   "source": [
    "common_target_columns = [\"time_value\", \"geo_value\", \"geo_type\", \"signal\", \"value\"]\n",
    "target_data_sources = [x.name for x in pathlib.Path(\"./covidcast/\").iterdir() if x.is_dir()]\n",
    "target_data_sources"
   ]
  },
  {
   "cell_type": "code",
   "execution_count": null,
   "metadata": {},
   "outputs": [],
   "source": [
    "state='ny'\n",
    "for source in target_data_sources:\n",
    "    fig, ax = plt.subplots()\n",
    "    source_df = construct_combined_dataframe(f\"covidcast/{source}\")\n",
    "    source_df = source_df[source_df.geo_value==state]\n",
    "    groups = source_df.groupby(\"signal\")\n",
    "    for name, group in groups:\n",
    "        group.plot(x='time_value', y='value', label=f\"{source}_{name}\", ax=ax, kind='line')\n"
   ]
  },
  {
   "cell_type": "markdown",
   "metadata": {},
   "source": [
    "# Consensus Data source"
   ]
  },
  {
   "cell_type": "code",
   "execution_count": null,
   "metadata": {},
   "outputs": [],
   "source": [
    "consensus_df = construct_combined_dataframe(\"covidcast/consensus\")"
   ]
  },
  {
   "cell_type": "code",
   "execution_count": null,
   "metadata": {},
   "outputs": [],
   "source": [
    "consensus_df.signal.unique()"
   ]
  },
  {
   "cell_type": "code",
   "execution_count": null,
   "metadata": {},
   "outputs": [],
   "source": [
    "consensus_df[consensus_df.geo_type=='state']"
   ]
  },
  {
   "cell_type": "code",
   "execution_count": null,
   "metadata": {},
   "outputs": [],
   "source": [
    "consensus_df[consensus_df.geo_value==\"ny\"].plot(x=\"time_value\", y=\"value\")"
   ]
  },
  {
   "cell_type": "code",
   "execution_count": null,
   "metadata": {},
   "outputs": [],
   "source": [
    "consensus_df[consensus_df.geo_value==\"ca\"].plot(x=\"time_value\", y=\"value\")"
   ]
  },
  {
   "cell_type": "code",
   "execution_count": null,
   "metadata": {},
   "outputs": [],
   "source": []
  },
  {
   "cell_type": "markdown",
   "metadata": {},
   "source": [
    "# Doctor Visits"
   ]
  },
  {
   "cell_type": "code",
   "execution_count": null,
   "metadata": {},
   "outputs": [],
   "source": [
    "\n",
    "doctor_visits_df = construct_combined_dataframe(\"covidcast/doctor-visits\")"
   ]
  },
  {
   "cell_type": "code",
   "execution_count": null,
   "metadata": {},
   "outputs": [],
   "source": [
    "doctor_visits_df.signal.unique()"
   ]
  },
  {
   "cell_type": "code",
   "execution_count": null,
   "metadata": {},
   "outputs": [],
   "source": [
    "state=\"ca\"\n",
    "groups = doctor_visits_df[doctor_visits_df.geo_value==state].groupby(\"signal\")\n",
    "fig, ax = plt.subplots()\n",
    "for name, group in groups: \n",
    "    group.plot(x=\"time_value\", y=\"value\", title=f\"{state} doctor visits\", label=name, ax=ax)"
   ]
  },
  {
   "cell_type": "code",
   "execution_count": null,
   "metadata": {},
   "outputs": [],
   "source": []
  },
  {
   "cell_type": "markdown",
   "metadata": {},
   "source": [
    "# Indicator Combination"
   ]
  },
  {
   "cell_type": "code",
   "execution_count": null,
   "metadata": {},
   "outputs": [],
   "source": [
    "indicator_combination_df = construct_combined_dataframe(\"covidcast/indicator-combination\")"
   ]
  },
  {
   "cell_type": "code",
   "execution_count": null,
   "metadata": {},
   "outputs": [],
   "source": []
  },
  {
   "cell_type": "code",
   "execution_count": null,
   "metadata": {},
   "outputs": [],
   "source": []
  },
  {
   "cell_type": "code",
   "execution_count": null,
   "metadata": {},
   "outputs": [],
   "source": []
  },
  {
   "cell_type": "code",
   "execution_count": null,
   "metadata": {},
   "outputs": [],
   "source": []
  },
  {
   "cell_type": "code",
   "execution_count": null,
   "metadata": {},
   "outputs": [],
   "source": []
  },
  {
   "cell_type": "code",
   "execution_count": null,
   "metadata": {},
   "outputs": [],
   "source": []
  }
 ],
 "metadata": {
  "kernelspec": {
   "display_name": "Python 3.7.7 64-bit ('covid-data-model': venv)",
   "language": "python",
   "name": "python37764bitcoviddatamodelvenva17946f4b4ec48d780d870fade8d8ce1"
  },
  "language_info": {
   "codemirror_mode": {
    "name": "ipython",
    "version": 3
   },
   "file_extension": ".py",
   "mimetype": "text/x-python",
   "name": "python",
   "nbconvert_exporter": "python",
   "pygments_lexer": "ipython3",
   "version": "3.7.7"
  }
 },
 "nbformat": 4,
 "nbformat_minor": 4
}
