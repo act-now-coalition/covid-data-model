{
 "cells": [
  {
   "cell_type": "code",
   "execution_count": null,
   "metadata": {},
   "outputs": [],
   "source": [
    "from datetime import datetime\n",
    "import matplotlib.pyplot as plt\n",
    "import pandas as pd\n",
    "import pathlib\n",
    "import requests\n",
    "import us\n"
   ]
  },
  {
   "cell_type": "markdown",
   "metadata": {},
   "source": [
    "# Analysis with data using public API"
   ]
  },
  {
   "cell_type": "code",
   "execution_count": null,
   "metadata": {},
   "outputs": [],
   "source": [
    "def get_kinsa_state_data(state_abreviation: str) -> pd.DataFrame:\n",
    "    \"\"\"\n",
    "    Fetch kinsa data from public api.\n",
    "    \"\"\"\n",
    "    r = requests.get(f\"https://static.kinsahealth.com/{state_abreviation}_data.json\")\n",
    "    if r.status_code == 200:\n",
    "        records = r.json()\n",
    "        df = pd.DataFrame.from_records(data=records['data'], columns=records['columns'])\n",
    "        df['date']= pd.to_datetime(df['date'])\n",
    "        return df"
   ]
  },
  {
   "cell_type": "code",
   "execution_count": null,
   "metadata": {},
   "outputs": [],
   "source": [
    "def get_prod_snapshot_number():\n",
    "    covid_projections_data_url =\"https://raw.githubusercontent.com/covid-projections/covid-projections/develop/src/assets/data/data_url.json\"\n",
    "    return requests.get(covid_projections_data_url).json()['data_url'].split(\"/\")[-2]\n",
    "\n",
    "\n",
    "def get_can_rt_df()-> pd.DataFrame:\n",
    "    latest_snapshot_number = get_prod_snapshot_number()\n",
    "    rt_df = pd.read_csv(f\"https://data.covidactnow.org/snapshot/{latest_snapshot_number}/us/states.OBSERVED_INTERVENTION.timeseries.csv\")\n",
    "    rt_df['date'] = pd.to_datetime(rt_df['date'])\n",
    "    return rt_df\n",
    "rt_df = get_can_rt_df()"
   ]
  },
  {
   "cell_type": "code",
   "execution_count": null,
   "metadata": {},
   "outputs": [],
   "source": [
    "def plot_kinsa_vs_rt(state_identifier: str, rt_df: pd.DataFrame, ax=None):\n",
    "        state = us.states.lookup(state_identifier)\n",
    "        combined_df = get_combined_kinsa_rt_df(state_identifier, rt_df)\n",
    "        if combined_df is not None:\n",
    "            kwargs = dict(use_index=True, title=state.name)\n",
    "            if ax:\n",
    "                kwargs[\"ax\"] = ax\n",
    "            combined_df.plot(x='date', y=[\"atypical_ili\"], **kwargs )\n",
    "            combined_df.plot(x=\"date\", y=[\"RtIndicator\"], secondary_y=True, **kwargs)\n",
    "    \n",
    "def get_combined_kinsa_rt_df(state_identifier: str, rt_df: pd.DataFrame):\n",
    "    state = us.states.lookup(state_identifier)\n",
    "    state_abreviation = state.abbr\n",
    "    df = get_kinsa_state_data(state_abreviation)\n",
    "    if df is not None:\n",
    "        kinsa_state_df = df.dropna().groupby(\"date\").mean()\n",
    "\n",
    "        state_rt_df = rt_df[rt_df.stateName == state.name].sort_values('date')\n",
    "        combined_df = kinsa_state_df.merge(state_rt_df, on='date')\n",
    "        return combined_df"
   ]
  },
  {
   "cell_type": "markdown",
   "metadata": {},
   "source": [
    "# Plot atypical_ili against daily cases, all 50 states: "
   ]
  },
  {
   "cell_type": "code",
   "execution_count": null,
   "metadata": {},
   "outputs": [],
   "source": [
    "fig, ax = plt.subplots(nrows=11, ncols=5)\n",
    "states_to_correlation_coefficients = dict()\n",
    "i=0\n",
    "for j, state in enumerate(us.STATES):\n",
    "    if  j > 0 and not j % 5:\n",
    "        i+=1\n",
    "    axij = ax[i, j % 5]\n",
    "    axij.set_title(state.name)\n",
    "    combined_df = get_combined_kinsa_rt_df(state.abbr, rt_df)\n",
    "    if combined_df is not None:\n",
    "        combined_df.plot(x='date', y=[\"atypical_ili\",], ax=axij, )\n",
    "        combined_df.groupby(\"date\").sum()[['cumulativeInfected']].diff(1).plot(y=\"cumulativeInfected\", \n",
    "                                                                               label='dailyCases',\n",
    "                                                                               secondary_y=True, ax=axij)\n",
    "        axij.legend().remove()\n",
    "\n",
    "\n",
    "fig.set_size_inches(18.5, 30.5, forward=True)\n",
    "fig.subplots_adjust(hspace=1.7)\n"
   ]
  },
  {
   "cell_type": "markdown",
   "metadata": {},
   "source": [
    "# Plot atypical_ili against rt values, all 50 states"
   ]
  },
  {
   "cell_type": "code",
   "execution_count": null,
   "metadata": {},
   "outputs": [],
   "source": [
    "fig, ax = plt.subplots(nrows=11, ncols=5)\n",
    "states_to_correlation_coefficients = dict()\n",
    "i=0\n",
    "for j, state in enumerate(us.STATES):\n",
    "    if  j > 0 and not j % 5:\n",
    "        i+=1\n",
    "    axij = ax[i, j % 5]\n",
    "    axij.set_title(state.name)\n",
    "    combined_df = get_combined_kinsa_rt_df(state.abbr, rt_df)\n",
    "    if combined_df is not None:\n",
    "        combined_df.plot(x='date', y=[\"atypical_ili\",], ax=axij)\n",
    "        combined_df.plot(x='date', y=[\"RtIndicator\"],secondary_y=True, ax=axij)\n",
    "        axij.legend().remove()\n",
    "\n",
    "\n",
    "fig.set_size_inches(18.5, 30.5, forward=True)\n",
    "fig.subplots_adjust(hspace=1.7)\n"
   ]
  },
  {
   "cell_type": "markdown",
   "metadata": {},
   "source": [
    "# Find timeshift needed to align series for rt and atypcal_ili"
   ]
  },
  {
   "cell_type": "code",
   "execution_count": null,
   "metadata": {},
   "outputs": [],
   "source": [
    "from pyseir.inference.run_infer_rt import RtInferenceEngine "
   ]
  },
  {
   "cell_type": "code",
   "execution_count": null,
   "metadata": {},
   "outputs": [],
   "source": [
    "timeshifts=[]\n",
    "for state in us.STATES:\n",
    "    combined_df = get_combined_kinsa_rt_df(state.abbr, rt_df)\n",
    "    shift_in_days=None\n",
    "    if combined_df is not None and not combined_df.empty: \n",
    "        shift_in_days = RtInferenceEngine.align_time_series(series_a=combined_df[\"atypical_ili\"], series_b=combined_df[\"RtIndicator\"],)\n",
    "    timeshifts.append((state.name, shift_in_days))\n",
    "timeshifts = pd.DataFrame(data=timeshifts, columns = [\"stateName\", \"rt_atypical_ili_shift_days\"] )"
   ]
  },
  {
   "cell_type": "code",
   "execution_count": null,
   "metadata": {},
   "outputs": [],
   "source": [
    "timeshifts.hist()\n"
   ]
  },
  {
   "cell_type": "code",
   "execution_count": null,
   "metadata": {},
   "outputs": [],
   "source": []
  },
  {
   "cell_type": "code",
   "execution_count": null,
   "metadata": {},
   "outputs": [],
   "source": []
  },
  {
   "cell_type": "code",
   "execution_count": null,
   "metadata": {},
   "outputs": [],
   "source": []
  },
  {
   "cell_type": "markdown",
   "metadata": {},
   "source": [
    "# Analysis with State-level aggregation kinsa data (one-off)\n"
   ]
  },
  {
   "cell_type": "markdown",
   "metadata": {},
   "source": [
    "A csv file was provided by kinsa with state-level data and that is shown below. Preliminary analysis indicates this data does not significantly deviate \n",
    "from an aggregation of the county level data (aggregated) from the kinsa api. "
   ]
  },
  {
   "cell_type": "code",
   "execution_count": null,
   "metadata": {},
   "outputs": [],
   "source": [
    "kinsa_state_data_file_location = pathlib.Path(\"~/Downloads/atypical_ili_export_States.csv\")\n",
    "kinsa_state_df = pd.read_csv(kinsa_state_data_file_location, skiprows=1, parse_dates=True)\n",
    "kinsa_state_df.date = pd.to_datetime(kinsa_state_df.date)"
   ]
  },
  {
   "cell_type": "code",
   "execution_count": null,
   "metadata": {},
   "outputs": [],
   "source": [
    "kinsa_state_df.head()"
   ]
  },
  {
   "cell_type": "code",
   "execution_count": null,
   "metadata": {},
   "outputs": [],
   "source": [
    "rt_df[\"state_abbr\"] = rt_df.stateName.apply(lambda name: us.states.lookup(name).abbr)\n",
    "\n",
    "combined_state_df = rt_df.merge(kinsa_state_df, left_on=['date', 'state_abbr'], right_on=['date', 'region'])"
   ]
  },
  {
   "cell_type": "code",
   "execution_count": null,
   "metadata": {},
   "outputs": [],
   "source": [
    "combined_state_df"
   ]
  },
  {
   "cell_type": "code",
   "execution_count": null,
   "metadata": {},
   "outputs": [],
   "source": [
    "fig, ax = plt.subplots(nrows=11, ncols=5)\n",
    "states_to_correlation_coefficients = dict()\n",
    "i=0\n",
    "for j, state in enumerate(us.STATES):\n",
    "    if  j > 0 and not j % 5:\n",
    "        i+=1\n",
    "    axij = ax[i, j % 5]\n",
    "    axij.set_title(state.name)\n",
    "    state_df = combined_state_df[combined_state_df.state_abbr==state.abbr]\n",
    "    if state_df is not None:\n",
    "        state_df.plot(x='date', y=[\"atypical_ili_median\",], ax=axij)\n",
    "        state_df.plot(x='date', y=[ \"RtIndicator\"], ax=axij, secondary_y=True)\n",
    "\n",
    "        axij.legend().remove()\n",
    "\n",
    "\n",
    "fig.set_size_inches(18.5, 30.5, forward=True)\n",
    "fig.subplots_adjust(hspace=1.7)\n",
    "fig"
   ]
  },
  {
   "cell_type": "markdown",
   "metadata": {},
   "source": []
  },
  {
   "cell_type": "code",
   "execution_count": null,
   "metadata": {},
   "outputs": [],
   "source": []
  }
 ],
 "metadata": {
  "kernelspec": {
   "display_name": "Python 3",
   "language": "python",
   "name": "python3"
  },
  "language_info": {
   "codemirror_mode": {
    "name": "ipython",
    "version": 3
   },
   "file_extension": ".py",
   "mimetype": "text/x-python",
   "name": "python",
   "nbconvert_exporter": "python",
   "pygments_lexer": "ipython3",
   "version": "3.7.7"
  }
 },
 "nbformat": 4,
 "nbformat_minor": 4
}
