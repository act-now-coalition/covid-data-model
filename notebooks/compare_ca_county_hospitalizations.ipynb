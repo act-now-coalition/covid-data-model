{
 "cells": [
  {
   "cell_type": "markdown",
   "metadata": {},
   "source": [
    "# Compare hospitaliations across CA counties. \n",
    "\n",
    "This can be a useful benchmark for calibrating the model rates. We show the raw model output as well as that after hospitalization renormalization. "
   ]
  },
  {
   "cell_type": "code",
   "execution_count": null,
   "metadata": {},
   "outputs": [],
   "source": [
    "import pandas as pd\n",
    "from pyseir import load_data\n",
    "from datetime import datetime, timedelta\n",
    "import seaborn as sns\n",
    "import matplotlib.pyplot as plt\n",
    "import numpy as np\n",
    "\n",
    "\n",
    "compare_date = datetime.today() - timedelta(days=1)\n",
    "# Counties must have greater than or equal to this number of current ICU visits to include in the comparison.\n",
    "min_current_ICU = 5\n",
    "\n",
    "\n",
    "\n",
    "# Load data from CA hospital dashboard.\n",
    "df = pd.read_csv('https://data.chhs.ca.gov/dataset/6882c390-b2d7-4b9a-aefa-2068cee63e47/resource/6cd8d424-dfaa-4bdd-9410-a3d656e1176e/download/covid19data.csv')\n",
    "df = df[df['Most Recent Date'] == compare_date.strftime('%m/%d/%Y')].sort_values('County Name')\n",
    "\n",
    "\n",
    "df_metadata = load_data.load_county_metadata()\n",
    "df_metadata['raw_county'] = df_metadata[df_metadata.state == 'California'].county.apply(lambda x: x.split(' County')[0])\n",
    "df_merged = df_metadata[['fips', 'state', 'raw_county']].merge(df, left_on='raw_county', right_on='County Name')\\\n",
    "            .drop(['Total Count Confirmed', 'Total Count Deaths', 'raw_county'], axis=1)\n",
    "\n",
    "\n",
    "\n",
    "def load_hgen(fips):\n",
    "    try: \n",
    "        return load_data.get_compartment_value_on_date(fips, 'HGen', date=compare_date)\n",
    "    except: \n",
    "        return None\n",
    "\n",
    "def load_hicu(fips):\n",
    "    try: \n",
    "        return load_data.get_compartment_value_on_date(fips, 'HICU', date=compare_date)\n",
    "    except: \n",
    "        return None\n",
    "    \n",
    "\n",
    "\n",
    "df_merged['predicted_HGen'] = df_merged.fips.apply(load_hgen)\n",
    "df_merged['predicted_HICU'] = df_merged.fips.apply(load_hicu)\n",
    "df_merged['predicted_total_hosp'] = df_merged['predicted_HGen'] + df_merged['predicted_HICU']\n",
    "df_merged['observed_total_hosp'] = df_merged['COVID-19 Positive Patients'] + df_merged['Suspected COVID-19 Positive Patients']\n",
    "df_merged['observed_HICU'] = df_merged['ICU COVID-19 Positive Patients'] + df_merged['ICU COVID-19 Suspected Patients']\n"
   ]
  },
  {
   "cell_type": "code",
   "execution_count": null,
   "metadata": {},
   "outputs": [],
   "source": [
    "\n",
    "\n",
    "df_merged['fractional_error_total_hosp'] = (df_merged['predicted_total_hosp'] - df_merged['observed_total_hosp']) / df_merged['observed_total_hosp'] \n",
    "df_merged['fractional_error_HICU'] = (df_merged['predicted_HICU'] - df_merged['observed_HICU']) / (df_merged['observed_HICU'])\n",
    "\n",
    "df_all = df_merged[(df_merged['observed_HICU'] >= min_current_ICU)]\n",
    "\n",
    "sns.distplot(df_all['fractional_error_HICU'], bins=np.linspace(-4, 4, 51), label='Total ICU (No Normalization)')\n",
    "sns.distplot(df_all['fractional_error_total_hosp'], bins=np.linspace(-4, 4, 51), label='Total Hospitalizations (No Normalization)')\n",
    "plt.grid()\n",
    "plt.legend()\n",
    "plt.xlabel('Fractional Error (predicted - observed) / observed')\n",
    "plt.xlim(-1, 2)\n",
    "\n",
    "\n",
    "print('ICU Fractional Error Mean', np.mean(df_all['fractional_error_HICU']))\n",
    "print('Hosp Fractional Error Mean', np.mean(df_all['fractional_error_total_hosp']))"
   ]
  },
  {
   "cell_type": "code",
   "execution_count": null,
   "metadata": {},
   "outputs": [],
   "source": [
    "df_all['renormalized_total_hosp'] = df_all['predicted_total_hosp'] * df_all['observed_total_hosp'] / df_all['predicted_total_hosp']\n",
    "df_all['renormalized_ICU'] = df_all['predicted_HICU'] * df_all['observed_total_hosp'] / df_all['predicted_total_hosp']\n",
    "\n",
    "\n",
    "sns.distplot((df_all['renormalized_ICU'] -  df_all['observed_HICU']) /  df_all['observed_HICU'], bins=np.linspace(-4, 4, 51), label='ICU (Normalized to Total Hosp)')\n",
    "plt.grid()\n",
    "plt.legend()\n",
    "plt.xlabel('Fractional Error (predicted - observed) / observed')\n",
    "plt.xlim(-1, 3)"
   ]
  },
  {
   "cell_type": "code",
   "execution_count": null,
   "metadata": {},
   "outputs": [],
   "source": [
    "df_all"
   ]
  },
  {
   "cell_type": "code",
   "execution_count": null,
   "metadata": {},
   "outputs": [],
   "source": []
  }
 ],
 "metadata": {
  "kernelspec": {
   "display_name": "Python 3",
   "language": "python",
   "name": "python3"
  },
  "language_info": {
   "codemirror_mode": {
    "name": "ipython",
    "version": 3
   },
   "file_extension": ".py",
   "mimetype": "text/x-python",
   "name": "python",
   "nbconvert_exporter": "python",
   "pygments_lexer": "ipython3",
   "version": "3.7.3"
  }
 },
 "nbformat": 4,
 "nbformat_minor": 4
}
