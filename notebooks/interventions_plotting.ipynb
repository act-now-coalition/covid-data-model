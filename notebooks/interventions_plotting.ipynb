{
 "cells": [
  {
   "cell_type": "code",
   "execution_count": null,
   "metadata": {},
   "outputs": [],
   "source": [
    "from pyseir.models.suppression_policies import generate_covidactnow_scenarios\n",
    "import matplotlib.pyplot as plt\n",
    "import numpy as np\n",
    "import datetime\n",
    "\n",
    "scenario_to_name_map = {\n",
    "    'no_intervention': 'Limited Action',\n",
    "    'flatten_the_curve': 'Stay at Home (Strict)',\n",
    "    'social_distancing': 'Stay at Home (Lax)',\n",
    "    'full_containment': 'Full Containment'\n",
    "}\n",
    "t_list = np.linspace(0, 100, 101)\n",
    "for scenario in ['no_intervention', 'flatten_the_curve', 'full_containment', 'social_distancing']:\n",
    "    vals = generate_covidactnow_scenarios(t_list, R0=3.6, t0=datetime.datetime.today(), scenario=scenario)\n",
    "    plt.plot(t_list, 3.6*vals(t_list), label=scenario_to_name_map[scenario], linewidth=2)\n",
    "\n",
    "plt.hlines(1, 0, 100, linestyle='--', label='Containment Threshold')\n",
    "plt.legend(loc=(1.1, 0))\n",
    "plt.ylabel('Reff')\n",
    "plt.xlabel('Days From Today')\n",
    "plt.grid()"
   ]
  },
  {
   "cell_type": "code",
   "execution_count": null,
   "metadata": {},
   "outputs": [],
   "source": []
  }
 ],
 "metadata": {
  "kernelspec": {
   "display_name": "Python 3",
   "language": "python",
   "name": "python3"
  },
  "language_info": {
   "codemirror_mode": {
    "name": "ipython",
    "version": 3
   },
   "file_extension": ".py",
   "mimetype": "text/x-python",
   "name": "python",
   "nbconvert_exporter": "python",
   "pygments_lexer": "ipython3",
   "version": "3.7.3"
  }
 },
 "nbformat": 4,
 "nbformat_minor": 4
}
