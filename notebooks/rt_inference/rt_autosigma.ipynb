{
 "cells": [
  {
   "cell_type": "code",
   "execution_count": null,
   "metadata": {},
   "outputs": [],
   "source": [
    "import pandas as pd\n",
    "import matplotlib.pyplot as plt\n",
    "import seaborn as sns\n",
    "\n",
    "import us\n",
    "import logging\n",
    "logger = logging.getLogger()\n",
    "logger.setLevel(logging.INFO)\n",
    "\n",
    "import warnings\n",
    "warnings.filterwarnings('ignore')\n",
    "warnings.simplefilter('ignore')\n",
    "\n",
    "from pyseir.rt import infer_rt, constants\n",
    "\n",
    "%matplotlib widget"
   ]
  },
  {
   "cell_type": "code",
   "execution_count": null,
   "metadata": {},
   "outputs": [],
   "source": [
    "cd '~/PycharmProjects/covid-data-model'"
   ]
  },
  {
   "cell_type": "code",
   "execution_count": null,
   "metadata": {},
   "outputs": [],
   "source": [
    "plt.ioff()"
   ]
  },
  {
   "cell_type": "markdown",
   "metadata": {},
   "source": [
    "# To Look at AutoSigma"
   ]
  },
  {
   "cell_type": "code",
   "execution_count": null,
   "metadata": {},
   "outputs": [],
   "source": [
    "fips = \"33\"  # New Hampshire"
   ]
  },
  {
   "cell_type": "code",
   "execution_count": null,
   "metadata": {},
   "outputs": [],
   "source": [
    "input_df = infer_rt._generate_input_data(\n",
    "    fips=fips,\n",
    "    include_testing_correction=True,\n",
    "    include_deaths=False,\n",
    "    figure_collector=None,\n",
    ")"
   ]
  },
  {
   "cell_type": "code",
   "execution_count": null,
   "metadata": {},
   "outputs": [],
   "source": [
    "# Save a reference to instantiated engine (eventually I want to pull out the figure\n",
    "# generation and saving so that I don't have to pass a display_name and fips into the class\n",
    "engine = infer_rt.RtInferenceEngine(\n",
    "    data=input_df,\n",
    "    display_name=infer_rt._get_display_name(fips),\n",
    "    fips=fips,\n",
    "    include_deaths=False,\n",
    ")"
   ]
  },
  {
   "cell_type": "code",
   "execution_count": null,
   "metadata": {},
   "outputs": [],
   "source": [
    "dfs = []\n",
    "for auto_sigma in [1, 3, 5, 10, 15, 20, 25, 30]:\n",
    "    engine.max_scaling_sigma = auto_sigma\n",
    "    tmp = engine.infer_all(plot=False)\n",
    "    tmp['auto_sigma'] = auto_sigma\n",
    "    dfs.append(tmp)\n",
    "df = pd.concat(dfs)"
   ]
  },
  {
   "cell_type": "code",
   "execution_count": null,
   "metadata": {},
   "outputs": [],
   "source": [
    "df.head()"
   ]
  },
  {
   "cell_type": "code",
   "execution_count": null,
   "metadata": {},
   "outputs": [],
   "source": [
    "fig, ax = plt.subplots(nrows=2,\n",
    "                       sharex=True,\n",
    "                       figsize=(8,6))\n",
    "sns.lineplot(x=df.index, y=\"Rt_MAP_composite\", hue=\"auto_sigma\", data=df, ax=ax[0], legend='full')\n",
    "ax[0].set_title(f\"Infer Rt with Varying AutoSigma for FIPS = {fips}\")\n",
    "ax[0].legend(loc=\"lower left\", fontsize=8)\n",
    "ax[0].axvline(pd.Timestamp.today() - pd.Timedelta(days=7), linestyle=\":\")\n",
    "\n",
    "ax[1].plot(input_df.index, input_df['cases'])\n",
    "ax[1].set(ylabel='New Cases')\n",
    "\n",
    "fig.autofmt_xdate()\n",
    "fig.show()"
   ]
  }
 ],
 "metadata": {
  "kernelspec": {
   "display_name": "Python 3",
   "language": "python",
   "name": "python3"
  },
  "language_info": {
   "codemirror_mode": {
    "name": "ipython",
    "version": 3
   },
   "file_extension": ".py",
   "mimetype": "text/x-python",
   "name": "python",
   "nbconvert_exporter": "python",
   "pygments_lexer": "ipython3",
   "version": "3.7.7"
  }
 },
 "nbformat": 4,
 "nbformat_minor": 4
}
