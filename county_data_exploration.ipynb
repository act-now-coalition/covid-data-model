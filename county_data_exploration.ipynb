{
 "cells": [
  {
   "cell_type": "code",
   "execution_count": null,
   "metadata": {},
   "outputs": [],
   "source": [
    "%load_ext autoreload\n",
    "%autoreload 2\n",
    "import pandas as pd\n",
    "from libs.CovidDatasets import JHUDataset as LegacyJHUDataset\n",
    "from libs.datasets import jhu_dataset\n",
    "from libs.datasets import cds_dataset\n",
    "from libs.datasets import nytimes_dataset\n",
    "from libs.datasets import timeseries\n",
    "from libs.datasets import AggregationLevel\n",
    "from libs.datasets import dataset_utils\n",
    "from libs import build_params\n",
    "from matplotlib import pyplot\n",
    "import run\n",
    "import matplotlib.dates\n",
    "pd.set_option('display.max_rows', 4000)"
   ]
  },
  {
   "cell_type": "code",
   "execution_count": null,
   "metadata": {
    "scrolled": false
   },
   "outputs": [],
   "source": [
    "jhu_data = jhu_timeseries_dataset.JHUTimeseriesData.build_from_local_github()\n",
    "timeseries_data = timeseries.TimeseriesDataset.from_source(jhu_data)\n",
    "jhu_usa_data = timeseries_data.get_subset(country='USA', after='2020-03-01')\n"
   ]
  },
  {
   "cell_type": "code",
   "execution_count": null,
   "metadata": {},
   "outputs": [],
   "source": [
    "jhu_usa_data.get_aggregation_level(AggregationLevel.COUNTY).get_subset(state='MA')"
   ]
  },
  {
   "cell_type": "code",
   "execution_count": null,
   "metadata": {},
   "outputs": [],
   "source": [
    "nyt_data = nytimes_dataset.NYTimesTimeseriesData.build_from_url()\n",
    "data = nyt_data.to_common(county_only=True)\n",
    "nyt_usa_data = data.get_country('USA').get_date(after='2020-03-01').data\n"
   ]
  },
  {
   "cell_type": "code",
   "execution_count": null,
   "metadata": {},
   "outputs": [],
   "source": [
    "cds_data = cds_dataset.CDSTimeseriesData.build_from_local_github()\n",
    "data = cds_data.to_common(county_only=True)\n",
    "cds_usa_data = data.get_country('USA').get_date(after='2020-03-01').data\n"
   ]
  },
  {
   "cell_type": "code",
   "execution_count": null,
   "metadata": {
    "scrolled": false
   },
   "outputs": [],
   "source": [
    "def get_cds_ny_data(data):\n",
    "    ny_data = data[data.state == 'NY']\n",
    "    ny_data = ny_data[(data.county == 'New York') | (data.city == 'New York City')]\n",
    "    return ny_data\n",
    "\n",
    "get_cds_ny_data(cds_data.data)[['date', 'city', 'county', 'cases']].sort_values('date')"
   ]
  },
  {
   "cell_type": "code",
   "execution_count": null,
   "metadata": {},
   "outputs": [],
   "source": [
    "cds_data = cds_dataset.CDSTimeseriesData.build_from_local_github()   \n",
    "jhu_data = jhu_timeseries_dataset.JHUTimeseriesData.build_from_local_github()\n",
    "aggregate_county_data = dataset_utils.build_aggregate_county_data_frame(jhu_data, cds_data)"
   ]
  },
  {
   "cell_type": "code",
   "execution_count": null,
   "metadata": {
    "scrolled": false
   },
   "outputs": [],
   "source": [
    "# Plot all data\n",
    "all_data = pd.concat([cds_usa_data, jhu_usa_data, nyt_usa_data])\n",
    "dataset_utils.plot_grouped_data(aggregate_data, ['date', 'source', 'aggregate_level'], series=['source', 'aggregate_level'], values='cases')"
   ]
  },
  {
   "cell_type": "code",
   "execution_count": null,
   "metadata": {},
   "outputs": [],
   "source": [
    "def get_jhu_post_321_data_without_county():\n",
    "    jhu_data = jhu_timeseries_dataset.JHUTimeseriesData.build_from_local_github()\n",
    "    data = jhu_data.to_common()\n",
    "    jhu_usa_data = data.get_country('USA').get_date(after='2020-03-21').data\n",
    "    jhu_usa_data[jhu_usa_data.county.isnull()].groupby('state').sum()['cases'].plot()\n",
    "    \n",
    "    \n",
    "def get_county_name_intersection_summary(jhu_usa_data, cds_usa_data):\n",
    "    jhu_counties = set(jhu_usa_data.county.unique().tolist())\n",
    "    cds_counties = set(cds_usa_data.county.dropna().unique().tolist())\n",
    "\n",
    "    num_intersect = len(cds_counties.intersection(jhu_counties))\n",
    "    num_jhu_counties = len(jhu_counties)\n",
    "    num_cds_counties = len(cds_counties)\n",
    "    missing_cds_counties = cds_counties.difference(jhu_counties)\n",
    "    total_cases_missing = cds_usa_data.set_index('county').loc[list(missing_cds_counties)].cases.sum())\n",
    "    total_cases = cds_usa_data.cases.sum())\n",
    "    \n",
    "    num_missing_cds = len(missing_cds_counties)\n",
    "    print(f\"Total JHU: {len(jhu_counties)}\")\n",
    "    print(f\"Total CDS: {len(cds_counties)}\")\n",
    "    print(f\"Intersection: {num_intersect}\")\n",
    "    print(f\"Num Missing CDS in JHU: {num_missing_cds}\")"
   ]
  },
  {
   "cell_type": "code",
   "execution_count": null,
   "metadata": {
    "scrolled": false
   },
   "outputs": [],
   "source": [
    "get_county_name_intersection_summary(jhu_usa_data, cds_usa_data)\n"
   ]
  },
  {
   "cell_type": "code",
   "execution_count": null,
   "metadata": {
    "scrolled": false
   },
   "outputs": [],
   "source": [
    "\n",
    "def get_aggregate_county_data(data, by_state=False, by_date=False):\n",
    "    group_fields = [data.county.isnull()]\n",
    "    if by_date:\n",
    "        group_fields.append('date')\n",
    "    if by_state:\n",
    "        group_fields.append('state')\n",
    "\n",
    "    return data.groupby(group_fields).sum().reset_index()\n",
    "    \n",
    "def get_county_delta(\n",
    "    data, \n",
    "    metric='cases', \n",
    "    by_state=False, \n",
    "    by_date=False\n",
    "):\n",
    "    results = get_aggregate_county_data(data, by_state=by_state, by_date=by_date)\n",
    "    index = ['county']\n",
    "    if by_state:\n",
    "        index.append('state')\n",
    "    if by_date:\n",
    "        index.append('date')\n",
    "    if index:\n",
    "        results = results.set_index(index)\n",
    "    \n",
    "    return results\n",
    "    # no_county = results.loc[[:, :, True]]\n",
    "    county = results[results.county == True]\n",
    "    delta = (no_county[metric] - county[metric])\n",
    "    results['delta'] = delta\n",
    "    return results\n",
    "\n",
    "def plot_deltas(data, non_zero=False):\n",
    "    if non_zero:\n",
    "        data = data[data.delta != 0]\n",
    "    data[data.county==False].delta.plot(kind='bar', figsize=(15, 15))\n",
    "        \n",
    "\n",
    "results = get_county_delta(jhu_usa_data, by_date=True, by_state=False)\n",
    "results\n",
    "# plot_deltas(results, non_zero=True)\n",
    "# results['delta'] = (results.loc[True] - results.loc[False])['cases']\n"
   ]
  },
  {
   "cell_type": "code",
   "execution_count": null,
   "metadata": {},
   "outputs": [],
   "source": [
    "cds_data = cds_dataset.CDSTimeseriesData.build_from_local_github()\n",
    "data = cds_data.to_common()\n",
    "cds_usa_data = data.get_country('USA').get_date(after='2020-03-01').data\n",
    "\n",
    "cds_usa_data = cds_usa_data.set_index(['date', 'country', 'state', 'county', 'aggregate_level', 'source'])\n",
    "dataset_utils.check_index_values_are_unique(cds_usa_data)"
   ]
  },
  {
   "cell_type": "code",
   "execution_count": null,
   "metadata": {
    "scrolled": false
   },
   "outputs": [],
   "source": [
    "state = cds_usa_data.query('aggregate_level == \"state\"')\n",
    "county = cds_usa_data.query('aggregate_level == \"county\"')\n",
    "\n",
    "all_data, matching, not_matching = dataset_utils.compare_datasets(\n",
    "    state, county, ['date', 'state'], values='cases'\n",
    ")\n",
    "not_matching.groupby(['state']).plot(kind='bar', y='delta_ratio', figsize=(10, 7))\n",
    "\n",
    "\n",
    "# county_level = state_aggregated[state_aggregated.aggregate_level == 'county']\n",
    "# state_level = state_aggregated[state_aggregated.aggregate_level == 'county']"
   ]
  },
  {
   "cell_type": "code",
   "execution_count": null,
   "metadata": {},
   "outputs": [],
   "source": [
    "jhu_data = jhu_dataset.JHUDataset.build_from_local_github()\n",
    "existing, new = jhu_data._fill_missing_state_with_county()\n",
    "state_groupby_fields = ['date', 'Country_Region', 'Province_State']\n",
    "existing_ma = existing[existing['Country_Region'] == 'USA'].query(\"Province_State == 'MA'\")\n",
    "new_ma = new.query(\"Province_State == 'MA'\")\n",
    "# new\n",
    "existing_ma = existing_ma.set_index(state_groupby_fields)\n",
    "new_ma = new_ma.set_index(state_groupby_fields)\n",
    "new_ma.index.isin(existing_ma.index)\n",
    "\n",
    "\n",
    "\n"
   ]
  }
 ],
 "metadata": {
  "kernelspec": {
   "display_name": "Python 3",
   "language": "python",
   "name": "python3"
  },
  "language_info": {
   "codemirror_mode": {
    "name": "ipython",
    "version": 3
   },
   "file_extension": ".py",
   "mimetype": "text/x-python",
   "name": "python",
   "nbconvert_exporter": "python",
   "pygments_lexer": "ipython3",
   "version": "3.7.7"
  }
 },
 "nbformat": 4,
 "nbformat_minor": 4
}
